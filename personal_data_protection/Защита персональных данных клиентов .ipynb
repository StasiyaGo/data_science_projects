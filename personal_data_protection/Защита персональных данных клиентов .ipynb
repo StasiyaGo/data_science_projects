{
 "cells": [
  {
   "cell_type": "markdown",
   "metadata": {
    "toc": true
   },
   "source": [
    "<h1>Содержание<span class=\"tocSkip\"></span></h1>\n",
    "<div class=\"toc\"><ul class=\"toc-item\"><li><span><a href=\"#Загрузка-данных\" data-toc-modified-id=\"Загрузка-данных-1\"><span class=\"toc-item-num\">1&nbsp;&nbsp;</span>Загрузка данных</a></span></li><li><span><a href=\"#Умножение-матриц\" data-toc-modified-id=\"Умножение-матриц-2\"><span class=\"toc-item-num\">2&nbsp;&nbsp;</span>Умножение матриц</a></span></li><li><span><a href=\"#Алгоритм-преобразования\" data-toc-modified-id=\"Алгоритм-преобразования-3\"><span class=\"toc-item-num\">3&nbsp;&nbsp;</span>Алгоритм преобразования</a></span></li><li><span><a href=\"#Проверка-алгоритма\" data-toc-modified-id=\"Проверка-алгоритма-4\"><span class=\"toc-item-num\">4&nbsp;&nbsp;</span>Проверка алгоритма</a></span></li><li><span><a href=\"#Общий-вывод\" data-toc-modified-id=\"Общий-вывод-5\"><span class=\"toc-item-num\">5&nbsp;&nbsp;</span>Общий вывод</a></span></li><li><span><a href=\"#Чек-лист-проверки\" data-toc-modified-id=\"Чек-лист-проверки-6\"><span class=\"toc-item-num\">6&nbsp;&nbsp;</span>Чек-лист проверки</a></span></li></ul></div>"
   ]
  },
  {
   "cell_type": "markdown",
   "metadata": {},
   "source": [
    "# Защита персональных данных клиентов"
   ]
  },
  {
   "cell_type": "markdown",
   "metadata": {},
   "source": [
    "В проекте стоит задача защитить данные клиентов страховой компании «Хоть потоп». Необходимо разработать такой метод преобразования данных, чтобы по ним было сложно восстановить персональную информацию. Корректность его работы надо обосновать.\n",
    "\n",
    "Нужно защитить данные, чтобы при преобразовании качество моделей машинного обучения не ухудшилось. "
   ]
  },
  {
   "cell_type": "markdown",
   "metadata": {},
   "source": [
    "## Загрузка данных"
   ]
  },
  {
   "cell_type": "markdown",
   "metadata": {},
   "source": [
    "Загружаем необходимые библиотеки и модули."
   ]
  },
  {
   "cell_type": "code",
   "execution_count": 1,
   "metadata": {},
   "outputs": [],
   "source": [
    "import pandas as pd\n",
    "import numpy as np\n",
    "import matplotlib.pyplot as plt\n",
    "import seaborn as sns\n",
    "from sklearn.linear_model import LinearRegression\n",
    "from sklearn.model_selection import train_test_split\n",
    "from sklearn.metrics import r2_score"
   ]
  },
  {
   "cell_type": "markdown",
   "metadata": {},
   "source": [
    "Загрузим и изучим данные."
   ]
  },
  {
   "cell_type": "code",
   "execution_count": 2,
   "metadata": {},
   "outputs": [
    {
     "data": {
      "text/html": [
       "<div>\n",
       "<style scoped>\n",
       "    .dataframe tbody tr th:only-of-type {\n",
       "        vertical-align: middle;\n",
       "    }\n",
       "\n",
       "    .dataframe tbody tr th {\n",
       "        vertical-align: top;\n",
       "    }\n",
       "\n",
       "    .dataframe thead th {\n",
       "        text-align: right;\n",
       "    }\n",
       "</style>\n",
       "<table border=\"1\" class=\"dataframe\">\n",
       "  <thead>\n",
       "    <tr style=\"text-align: right;\">\n",
       "      <th></th>\n",
       "      <th>Пол</th>\n",
       "      <th>Возраст</th>\n",
       "      <th>Зарплата</th>\n",
       "      <th>Члены семьи</th>\n",
       "      <th>Страховые выплаты</th>\n",
       "    </tr>\n",
       "  </thead>\n",
       "  <tbody>\n",
       "    <tr>\n",
       "      <th>0</th>\n",
       "      <td>1</td>\n",
       "      <td>41.0</td>\n",
       "      <td>49600.0</td>\n",
       "      <td>1</td>\n",
       "      <td>0</td>\n",
       "    </tr>\n",
       "    <tr>\n",
       "      <th>1</th>\n",
       "      <td>0</td>\n",
       "      <td>46.0</td>\n",
       "      <td>38000.0</td>\n",
       "      <td>1</td>\n",
       "      <td>1</td>\n",
       "    </tr>\n",
       "    <tr>\n",
       "      <th>2</th>\n",
       "      <td>0</td>\n",
       "      <td>29.0</td>\n",
       "      <td>21000.0</td>\n",
       "      <td>0</td>\n",
       "      <td>0</td>\n",
       "    </tr>\n",
       "    <tr>\n",
       "      <th>3</th>\n",
       "      <td>0</td>\n",
       "      <td>21.0</td>\n",
       "      <td>41700.0</td>\n",
       "      <td>2</td>\n",
       "      <td>0</td>\n",
       "    </tr>\n",
       "    <tr>\n",
       "      <th>4</th>\n",
       "      <td>1</td>\n",
       "      <td>28.0</td>\n",
       "      <td>26100.0</td>\n",
       "      <td>0</td>\n",
       "      <td>0</td>\n",
       "    </tr>\n",
       "  </tbody>\n",
       "</table>\n",
       "</div>"
      ],
      "text/plain": [
       "   Пол  Возраст  Зарплата  Члены семьи  Страховые выплаты\n",
       "0    1     41.0   49600.0            1                  0\n",
       "1    0     46.0   38000.0            1                  1\n",
       "2    0     29.0   21000.0            0                  0\n",
       "3    0     21.0   41700.0            2                  0\n",
       "4    1     28.0   26100.0            0                  0"
      ]
     },
     "execution_count": 2,
     "metadata": {},
     "output_type": "execute_result"
    }
   ],
   "source": [
    "data = pd.read_csv('/datasets/insurance.csv')\n",
    "data.head()"
   ]
  },
  {
   "cell_type": "code",
   "execution_count": 3,
   "metadata": {},
   "outputs": [
    {
     "name": "stdout",
     "output_type": "stream",
     "text": [
      "<class 'pandas.core.frame.DataFrame'>\n",
      "RangeIndex: 5000 entries, 0 to 4999\n",
      "Data columns (total 5 columns):\n",
      " #   Column             Non-Null Count  Dtype  \n",
      "---  ------             --------------  -----  \n",
      " 0   Пол                5000 non-null   int64  \n",
      " 1   Возраст            5000 non-null   float64\n",
      " 2   Зарплата           5000 non-null   float64\n",
      " 3   Члены семьи        5000 non-null   int64  \n",
      " 4   Страховые выплаты  5000 non-null   int64  \n",
      "dtypes: float64(2), int64(3)\n",
      "memory usage: 195.4 KB\n"
     ]
    }
   ],
   "source": [
    "data.info()"
   ]
  },
  {
   "cell_type": "code",
   "execution_count": 4,
   "metadata": {},
   "outputs": [
    {
     "data": {
      "text/plain": [
       "153"
      ]
     },
     "execution_count": 4,
     "metadata": {},
     "output_type": "execute_result"
    }
   ],
   "source": [
    "data.duplicated().sum()"
   ]
  },
  {
   "cell_type": "markdown",
   "metadata": {},
   "source": [
    "Пропусков нет. Удалим дубликаты и приведем столбец 'Возраст' к целочисленному типу."
   ]
  },
  {
   "cell_type": "code",
   "execution_count": 5,
   "metadata": {},
   "outputs": [
    {
     "data": {
      "text/plain": [
       "0"
      ]
     },
     "execution_count": 5,
     "metadata": {},
     "output_type": "execute_result"
    }
   ],
   "source": [
    "data = data.drop_duplicates().reset_index(drop=True)\n",
    "data['Возраст'] = data['Возраст'].astype('int')\n",
    "data.duplicated().sum()"
   ]
  },
  {
   "cell_type": "code",
   "execution_count": 6,
   "metadata": {},
   "outputs": [
    {
     "data": {
      "image/png": "[encoded data removed]",
      "text/plain": [
       "<Figure size 1080x360 with 3 Axes>"
      ]
     },
     "metadata": {
      "needs_background": "light"
     },
     "output_type": "display_data"
    }
   ],
   "source": [
    "# посмотрим на распределения признаков\n",
    "plt.figure(figsize=(15,5))\n",
    "plt.subplot(1, 3, 1)\n",
    "sns.histplot(data['Зарплата'])\n",
    "plt.xlabel('Зарплата')\n",
    "plt.subplot(1, 3, 2)\n",
    "sns.histplot(data['Возраст']);\n",
    "plt.xlabel('Возраст')\n",
    "plt.subplot(1, 3, 3)\n",
    "sns.histplot(data['Члены семьи']);\n",
    "plt.xlabel('Члены семьи');"
   ]
  },
  {
   "cell_type": "code",
   "execution_count": 7,
   "metadata": {},
   "outputs": [
    {
     "data": {
      "image/png": "[encoded data removed]",
      "text/plain": [
       "<Figure size 1080x576 with 3 Axes>"
      ]
     },
     "metadata": {
      "needs_background": "light"
     },
     "output_type": "display_data"
    }
   ],
   "source": [
    "# посмотрим на диаграммы размаха\n",
    "plt.figure(figsize=(15,8))\n",
    "plt.subplot(1, 3, 1)\n",
    "sns.boxplot(data=data['Зарплата'])\n",
    "plt.xlabel('Зарплата')\n",
    "plt.subplot(1, 3, 2)\n",
    "sns.boxplot(data=data['Возраст']);\n",
    "plt.xlabel('Возраст')\n",
    "plt.subplot(1, 3, 3)\n",
    "sns.boxplot(data=data['Члены семьи']);\n",
    "plt.xlabel('Члены семьи');"
   ]
  },
  {
   "cell_type": "code",
   "execution_count": 8,
   "metadata": {},
   "outputs": [
    {
     "data": {
      "image/png": "[encoded data removed]",
      "text/plain": [
       "<Figure size 576x432 with 2 Axes>"
      ]
     },
     "metadata": {
      "needs_background": "light"
     },
     "output_type": "display_data"
    }
   ],
   "source": [
    "plt.figure(figsize=(8,6))\n",
    "plt.title('Матрица корреляции признаков')\n",
    "sns.heatmap(data.corr());"
   ]
  },
  {
   "cell_type": "markdown",
   "metadata": {},
   "source": [
    "Итак, в датасете 5000 строк. 4 обучающих признака (1 категориальный и 3 числовых). \n",
    "- пропусков нет, дубликаты были удалены\n",
    "- значения признака 'Возраст' имеют распределение, похожее на гребенку. Вероятно, к значениям был применен определенный метод округления;\n",
    "- в данных есть небольшие выбросы, но на аномалии они не похожи, удалять не будем;\n",
    "- матрица корреляции показала взаимосвязь целевого признака с возрастом, остальные признаки линейной зависимости не имеют."
   ]
  },
  {
   "cell_type": "markdown",
   "metadata": {},
   "source": [
    "## Умножение матриц"
   ]
  },
  {
   "cell_type": "markdown",
   "metadata": {},
   "source": [
    "Для защиты персональных данных клиентов признаки (то есть сами данные) нужно умножить на обратимую матрицу. При этом не должно пострадать качество модели. В нашей задаче используется модель линейной регрессии. С помощью формул ответим на вопрос, изменятся ли предсказания после умножения признаков на обратимую матрицу."
   ]
  },
  {
   "cell_type": "markdown",
   "metadata": {},
   "source": [
    "Обозначения:\n",
    "\n",
    "- $X$ — матрица признаков (нулевой столбец состоит из единиц)\n",
    "\n",
    "- $y$ — вектор целевого признака\n",
    "\n",
    "- $P$ — матрица, на которую умножаются признаки\n",
    "\n",
    "- $w$ — вектор весов линейной регрессии (нулевой элемент равен сдвигу)"
   ]
  },
  {
   "cell_type": "markdown",
   "metadata": {},
   "source": [
    "Предсказания:\n",
    "\n",
    "$$\n",
    "a = Xw\n",
    "$$\n",
    "\n",
    "Задача обучения:\n",
    "\n",
    "$$\n",
    "w = \\arg\\min_w MSE(Xw, y)\n",
    "$$\n",
    "\n",
    "Формула обучения:\n",
    "\n",
    "$$\n",
    "w = (X^T X)^{-1} X^T y\n",
    "$$"
   ]
  },
  {
   "cell_type": "markdown",
   "metadata": {},
   "source": [
    "Обозначим предсказания с учетом умножения на обратимую матрицу как b.Тогда формула предсказаний:\n",
    "\n",
    "  $ b = XPw $\n",
    "  \n",
    "Если a=b, то:\n",
    "\n",
    "$Xw = XPw$\n",
    "\n",
    "$X(X^T X)^{-1} X^T y = XP(XP^T XP)^{-1} (XP)^T y$\n",
    "\n",
    "В правой части уравнения вынесем за скобки $P^{-1}$ и $ P.T^{-1} $\n",
    "\n",
    "$X(X^T X)^{-1} X^T y = XPP^{-1}(X^T X)^{-1}(P^T)^{-1} (XP)^T y$\n",
    "\n",
    "Убираем из уравнения $ y$ и $(X^T X)^{-1}$, разделив на них обе части уравнения\n",
    "\n",
    "$XX^T  = XPP^{-1}(P^T)^{-1}(XP)^T $\n",
    "\n",
    "Раскроем скобки под транспонированием $(XP)^T$\n",
    "\n",
    "$XX^T  = XPP^{-1}(P^T)^{-1}P^TX^T $\n",
    "\n",
    "\n",
    "$P$ на $P^{-1}$ дает единичную матрицу, $(P^T)^{-1}$ на $P^T$ тоже\n",
    "\n",
    "$XX^T  = XX^T$\n",
    "\n",
    "Уже видно, что равенство соблюдено. Делим на X\n",
    "\n",
    "$X^T  = X^T$\n",
    "\n",
    "То есть a = b. "
   ]
  },
  {
   "cell_type": "markdown",
   "metadata": {},
   "source": [
    "**Ответ:** После умножения признаков на обратимую матрицу качество линейной регрессии не поменяется.\n",
    "\n",
    "**Обоснование:** Предсказания до и после преобразования совпадают, значит, совпадут и метрики. Преобразуются не только признаки, но и веса за счет этой же матрицы. В процессе преобразования уравнения матрица P умножается на свою обратную матрицу, и равенство нивелируется."
   ]
  },
  {
   "cell_type": "markdown",
   "metadata": {},
   "source": [
    "Рассморим в дополнение соотношение параметров w и w_p, где:\n",
    "    \n",
    "$$\n",
    "w = (X^T X)^{-1} X^T y\n",
    "$$\n",
    "    \n",
    "    \n",
    "$$\n",
    "w_P = (XP^T XP)^{-1} (XP)^T y\n",
    "$$   \n",
    "\n",
    "Преобразуем равенство: \n",
    "    \n",
    "$w_P = (XP^T XP)^{-1} (XP)^T y$\n",
    "    \n",
    "$w_P = P^{-1}(X^T X)^{-1}(P^T)^{-1} P^T X^T y$\n",
    "    \n",
    "$(P^T)^{-1}$ на $P^T$ дает единицу\n",
    "    \n",
    "$w_p = P^{-1}(X^T X)^{-1}X^T y$\n",
    "    \n",
    "$(X^T X)^{-1}X^T y$ это w, подставим его в уравнение, получим:\n",
    "    \n",
    "$w_p = P^{-1}w$\n",
    "    \n",
    "Таким образом, вектор весов в преобразованной задаче это произведение вектора весов исходной задачи на матрицу, обратную матрице-ключу.  \n",
    "\n"
   ]
  },
  {
   "cell_type": "markdown",
   "metadata": {},
   "source": [
    "Запись $ w = \\arg\\min_w MSE(Xw, y)$ означает, что задача обучения сводится к поиску параметров, при которых значение метрики MSE будет минимальным.\n",
    "\n",
    "Делая  замену    w_p на $wP^{-1}$, видим что задача  \n",
    "    \n",
    "$$\n",
    "\\arg\\min_w MSE(XPw_p, y)\n",
    "$$\n",
    "сводится к:\n",
    "$$\n",
    "\\arg\\min_w MSE(Xw, y)\n",
    "$$    \n",
    "\n",
    "(так как $Р$ умножается на $P^{-1}$)"
   ]
  },
  {
   "cell_type": "markdown",
   "metadata": {},
   "source": [
    "## Алгоритм преобразования"
   ]
  },
  {
   "cell_type": "markdown",
   "metadata": {},
   "source": [
    "**Алгоритм**\n",
    "\n",
    "Создадим алгоритм преобразования данных путем умножения признаков на рандомную обратимую квадратную матрицу. \n",
    "\n",
    "1. Создаем класс преобразования.\n",
    "2. Создаем функцию fit, принимающую на вход признаки и целевой признак.\n",
    "3. Генерируем рандомную матрицу-ключ, которая будет умножаться на матрицу исходных признаков. Число ее строк должно совпадать с числом столбцов исходной матрицы. В качестве размера задаем число столбцов исходной матрицы.\n",
    "4. Проверяем матрицу на обратимость с помощью конструкции try / except. Если матрица необратима, выйдет ошибка.\n",
    "5. Умножаем сгенерированную матрицу на исходную.\n",
    "6. Для сокращенной записи предсказаний линейной регрессии добавляем к преобразованной матрице столбец из единиц.\n",
    "7. Получаем пробразованную матрицу."
   ]
  },
  {
   "cell_type": "code",
   "execution_count": 9,
   "metadata": {},
   "outputs": [],
   "source": [
    "class FeaturesTransformed:\n",
    "    \n",
    "    def fit(self, features_train, target_train):\n",
    "        X = features_train\n",
    "        y = target_train\n",
    "        self.P = np.random.normal(size=(features_train.shape[1], features_train.shape[1]))\n",
    "        try:\n",
    "            check_inv = np.linalg.inv(self.P)\n",
    "            A = X @ self.P \n",
    "            A = np.concatenate((np.ones((features_train.shape[0], 1)), features_train), axis=1)\n",
    "        except:\n",
    "            print('Матрица необратима')   \n",
    "        return A"
   ]
  },
  {
   "cell_type": "markdown",
   "metadata": {},
   "source": [
    "**Обоснование**\n",
    "\n",
    "Качество модели линейной регрессии не поменяется, так как признаки умножаются на обратимую квадратную матрицу. Как мы выяснили ранее, это не влияет на качество модели. Поскольку мы применили np.random.normal(size=(features_train.shape[1], features_train.shape[1]), алгоритм будет работать для любой исходной матрицы признаков."
   ]
  },
  {
   "cell_type": "markdown",
   "metadata": {},
   "source": [
    "## Проверка алгоритма"
   ]
  },
  {
   "cell_type": "markdown",
   "metadata": {},
   "source": [
    "Для проверки алгоритма воспользуемся сравнением значений метрик R2 модели линейной регрессии до преобразования и после.\n",
    "\n",
    "Обучим модель на исходных, затем на преобразованных данных при помощи LinearRegression из sklearn и сравним метрики."
   ]
  },
  {
   "cell_type": "code",
   "execution_count": 10,
   "metadata": {},
   "outputs": [],
   "source": [
    "# выделим features и target из датасета\n",
    "\n",
    "features = data.drop('Страховые выплаты', axis=1)\n",
    "target = data['Страховые выплаты']\n",
    "\n",
    "# разделим на обучающую и тестовую\n",
    "features_train, features_test, target_train, target_test = train_test_split(\\\n",
    "                                                                            features, target, test_size=0.25, random_state=123)"
   ]
  },
  {
   "cell_type": "code",
   "execution_count": 11,
   "metadata": {},
   "outputs": [
    {
     "data": {
      "text/plain": [
       "((3635, 4), (1212, 4), (3635,), (1212,))"
      ]
     },
     "execution_count": 11,
     "metadata": {},
     "output_type": "execute_result"
    }
   ],
   "source": [
    "features_train.shape, features_test.shape, target_train.shape, target_test.shape"
   ]
  },
  {
   "cell_type": "code",
   "execution_count": 12,
   "metadata": {},
   "outputs": [
    {
     "name": "stdout",
     "output_type": "stream",
     "text": [
      "Предсказания модели линейной регрессии на тестовой выборке исходных данных: [-0.15560888 -0.13079143  0.2952292  ...  0.09649265 -0.17041008\n",
      " -0.13879448]\n",
      "Значение метрики R2 на тестовой выборке до преобразования: 0.4098\n"
     ]
    }
   ],
   "source": [
    "# обучим модель на обучаюшей и сделаем предсказания на тестовой выборке (для исходных данных)\n",
    "\n",
    "model = LinearRegression()\n",
    "model.fit(features_train, target_train)\n",
    "pred = model.predict(features_test)\n",
    "\n",
    "print('Предсказания модели линейной регрессии на тестовой выборке исходных данных:', pred)\n",
    "print('Значение метрики R2 на тестовой выборке до преобразования:', r2_score(target_test, pred).round(4))"
   ]
  },
  {
   "cell_type": "code",
   "execution_count": 13,
   "metadata": {},
   "outputs": [
    {
     "name": "stdout",
     "output_type": "stream",
     "text": [
      "Предсказания модели линейной регрессии на тестовой выборке после преобразования: [-0.15560888 -0.13079143  0.2952292  ...  0.09649265 -0.17041008\n",
      " -0.13879448]\n",
      "Значение метрики R2 на тестовой выборке после преобразования: 0.4098\n"
     ]
    }
   ],
   "source": [
    "# применим алгоритм преобразования признаков и сделаем предсказания модели\n",
    "\n",
    "features_transformed = FeaturesTransformed()\n",
    "features_transformed_train = features_transformed.fit(features_train, target_train)\n",
    "features_transformed_test = features_transformed.fit(features_test, target_test)\n",
    "\n",
    "model = LinearRegression()\n",
    "model.fit(features_transformed_train, target_train)\n",
    "pred_transformed = model.predict(features_transformed_test)\n",
    "\n",
    "print('Предсказания модели линейной регрессии на тестовой выборке после преобразования:', pred_transformed)\n",
    "print('Значение метрики R2 на тестовой выборке после преобразования:', r2_score(target_test, pred_transformed).round(4))"
   ]
  },
  {
   "cell_type": "markdown",
   "metadata": {},
   "source": [
    "Значения метрик совпали."
   ]
  },
  {
   "cell_type": "markdown",
   "metadata": {},
   "source": [
    "## Общий вывод"
   ]
  },
  {
   "cell_type": "markdown",
   "metadata": {},
   "source": [
    "В ходе работы над проектом были подготовлены исходные данные.\n",
    "\n",
    "Выяснили, что умножение признаков на обратимую матрицу не влияет на качество модели линейной регрессии.\n",
    "\n",
    "Создан алгоритм для зашифрования данных клиентов (признаков) путем их умножения на рандомную обратимую матрицу.\n",
    "\n",
    "Проверка алгоритма показала, что качество линейной регрессии из sklearn не отличается до и после преобразования (значения метрик R2 совпали)."
   ]
  }
 ],
 "metadata": {
  "ExecuteTimeLog": [
   {
    "duration": 442,
    "start_time": "2023-09-07T09:00:24.123Z"
   },
   {
    "duration": 87,
    "start_time": "2023-09-07T09:01:21.323Z"
   },
   {
    "duration": 47,
    "start_time": "2023-09-07T09:01:27.116Z"
   },
   {
    "duration": 83,
    "start_time": "2023-09-07T09:01:37.238Z"
   },
   {
    "duration": 45,
    "start_time": "2023-09-07T09:01:43.948Z"
   },
   {
    "duration": 45,
    "start_time": "2023-09-07T09:02:15.008Z"
   },
   {
    "duration": 45,
    "start_time": "2023-09-07T16:15:51.467Z"
   },
   {
    "duration": 369,
    "start_time": "2023-09-07T16:16:01.570Z"
   },
   {
    "duration": 109,
    "start_time": "2023-09-07T16:16:02.038Z"
   },
   {
    "duration": 24,
    "start_time": "2023-09-07T16:16:02.730Z"
   },
   {
    "duration": 27,
    "start_time": "2023-09-07T16:16:18.346Z"
   },
   {
    "duration": 910,
    "start_time": "2023-09-07T16:17:26.538Z"
   },
   {
    "duration": 484,
    "start_time": "2023-09-07T16:17:32.328Z"
   },
   {
    "duration": 7,
    "start_time": "2023-09-07T16:18:46.334Z"
   },
   {
    "duration": 13,
    "start_time": "2023-09-07T16:27:01.837Z"
   },
   {
    "duration": 34,
    "start_time": "2023-09-07T16:27:34.956Z"
   },
   {
    "duration": 415,
    "start_time": "2023-09-08T17:19:43.619Z"
   },
   {
    "duration": 950,
    "start_time": "2023-09-08T17:22:41.275Z"
   },
   {
    "duration": 103,
    "start_time": "2023-09-08T17:22:42.512Z"
   },
   {
    "duration": 26,
    "start_time": "2023-09-08T17:22:42.998Z"
   },
   {
    "duration": 15,
    "start_time": "2023-09-08T17:23:13.954Z"
   },
   {
    "duration": 5,
    "start_time": "2023-09-08T17:25:12.997Z"
   },
   {
    "duration": 1122,
    "start_time": "2023-09-08T17:29:10.510Z"
   },
   {
    "duration": 40,
    "start_time": "2023-09-08T17:29:11.634Z"
   },
   {
    "duration": 11,
    "start_time": "2023-09-08T17:29:11.676Z"
   },
   {
    "duration": 34,
    "start_time": "2023-09-08T17:29:11.689Z"
   },
   {
    "duration": 214,
    "start_time": "2023-09-08T17:29:11.725Z"
   },
   {
    "duration": 263127,
    "start_time": "2023-09-08T17:29:32.512Z"
   },
   {
    "duration": 152,
    "start_time": "2023-09-08T17:33:55.644Z"
   },
   {
    "duration": 136,
    "start_time": "2023-09-08T17:40:02.084Z"
   },
   {
    "duration": 142,
    "start_time": "2023-09-08T17:40:38.702Z"
   },
   {
    "duration": 128,
    "start_time": "2023-09-08T17:42:04.398Z"
   },
   {
    "duration": 90,
    "start_time": "2023-09-08T17:42:39.981Z"
   },
   {
    "duration": 148,
    "start_time": "2023-09-08T17:43:08.429Z"
   },
   {
    "duration": 265,
    "start_time": "2023-09-08T17:44:09.539Z"
   },
   {
    "duration": 237,
    "start_time": "2023-09-08T17:44:32.695Z"
   },
   {
    "duration": 251,
    "start_time": "2023-09-08T17:44:48.416Z"
   },
   {
    "duration": 233,
    "start_time": "2023-09-08T17:45:45.577Z"
   },
   {
    "duration": 184,
    "start_time": "2023-09-08T17:46:05.389Z"
   },
   {
    "duration": 308,
    "start_time": "2023-09-08T17:46:14.557Z"
   },
   {
    "duration": 232,
    "start_time": "2023-09-08T17:46:21.338Z"
   },
   {
    "duration": 239,
    "start_time": "2023-09-08T17:46:30.280Z"
   },
   {
    "duration": 228,
    "start_time": "2023-09-08T17:46:36.518Z"
   },
   {
    "duration": 265,
    "start_time": "2023-09-08T17:47:25.286Z"
   },
   {
    "duration": 273,
    "start_time": "2023-09-08T17:48:13.197Z"
   },
   {
    "duration": 45,
    "start_time": "2023-09-08T17:48:53.847Z"
   },
   {
    "duration": 27,
    "start_time": "2023-09-08T17:49:11.565Z"
   },
   {
    "duration": 14,
    "start_time": "2023-09-08T17:49:38.211Z"
   },
   {
    "duration": 10,
    "start_time": "2023-09-08T17:49:52.110Z"
   },
   {
    "duration": 6,
    "start_time": "2023-09-08T17:50:13.025Z"
   },
   {
    "duration": 7,
    "start_time": "2023-09-08T17:50:45.032Z"
   },
   {
    "duration": 8,
    "start_time": "2023-09-08T17:51:07.398Z"
   },
   {
    "duration": 255,
    "start_time": "2023-09-08T17:51:44.269Z"
   },
   {
    "duration": 528,
    "start_time": "2023-09-08T17:57:18.677Z"
   },
   {
    "duration": 464,
    "start_time": "2023-09-08T18:08:07.802Z"
   },
   {
    "duration": 539,
    "start_time": "2023-09-08T18:08:18.998Z"
   },
   {
    "duration": 6,
    "start_time": "2023-09-08T18:11:26.275Z"
   },
   {
    "duration": 7,
    "start_time": "2023-09-08T18:11:41.558Z"
   },
   {
    "duration": 9,
    "start_time": "2023-09-08T18:13:23.960Z"
   },
   {
    "duration": 75,
    "start_time": "2023-09-08T18:22:55.129Z"
   },
   {
    "duration": 7,
    "start_time": "2023-09-08T18:22:59.183Z"
   },
   {
    "duration": 136,
    "start_time": "2023-09-08T18:23:06.848Z"
   },
   {
    "duration": 148,
    "start_time": "2023-09-08T18:23:55.845Z"
   },
   {
    "duration": 427,
    "start_time": "2023-09-08T18:24:16.267Z"
   },
   {
    "duration": 380,
    "start_time": "2023-09-08T18:24:34.121Z"
   },
   {
    "duration": 327,
    "start_time": "2023-09-08T18:24:42.970Z"
   },
   {
    "duration": 428,
    "start_time": "2023-09-08T18:25:17.613Z"
   },
   {
    "duration": 69,
    "start_time": "2023-09-08T18:26:14.473Z"
   },
   {
    "duration": 9,
    "start_time": "2023-09-08T18:26:14.603Z"
   },
   {
    "duration": 1210,
    "start_time": "2023-09-08T18:26:19.941Z"
   },
   {
    "duration": 45,
    "start_time": "2023-09-08T18:26:21.154Z"
   },
   {
    "duration": 14,
    "start_time": "2023-09-08T18:26:21.201Z"
   },
   {
    "duration": 7,
    "start_time": "2023-09-08T18:26:21.217Z"
   },
   {
    "duration": 478,
    "start_time": "2023-09-08T18:26:21.226Z"
   },
   {
    "duration": 353,
    "start_time": "2023-09-08T18:26:21.705Z"
   },
   {
    "duration": 9,
    "start_time": "2023-09-08T18:26:22.060Z"
   },
   {
    "duration": 213,
    "start_time": "2023-09-08T18:26:22.071Z"
   },
   {
    "duration": 81,
    "start_time": "2023-09-08T18:26:22.286Z"
   },
   {
    "duration": 8,
    "start_time": "2023-09-08T18:29:27.845Z"
   },
   {
    "duration": 554,
    "start_time": "2023-09-08T18:30:13.012Z"
   },
   {
    "duration": 48,
    "start_time": "2023-09-09T13:00:52.416Z"
   },
   {
    "duration": 1310,
    "start_time": "2023-09-09T13:01:03.567Z"
   },
   {
    "duration": 84,
    "start_time": "2023-09-09T13:01:05.254Z"
   },
   {
    "duration": 13,
    "start_time": "2023-09-09T13:01:05.799Z"
   },
   {
    "duration": 5,
    "start_time": "2023-09-09T13:01:06.216Z"
   },
   {
    "duration": 7,
    "start_time": "2023-09-09T13:01:07.227Z"
   },
   {
    "duration": 449,
    "start_time": "2023-09-09T13:01:07.647Z"
   },
   {
    "duration": 246,
    "start_time": "2023-09-09T13:01:19.370Z"
   },
   {
    "duration": 11,
    "start_time": "2023-09-09T13:03:40.703Z"
   },
   {
    "duration": 368,
    "start_time": "2023-09-09T13:05:50.409Z"
   },
   {
    "duration": 282,
    "start_time": "2023-09-09T13:06:41.947Z"
   },
   {
    "duration": 285,
    "start_time": "2023-09-09T13:09:17.897Z"
   },
   {
    "duration": 363,
    "start_time": "2023-09-09T13:09:59.386Z"
   },
   {
    "duration": 316,
    "start_time": "2023-09-09T13:10:14.730Z"
   },
   {
    "duration": 8,
    "start_time": "2023-09-09T13:20:07.373Z"
   },
   {
    "duration": 13,
    "start_time": "2023-09-09T13:20:13.717Z"
   },
   {
    "duration": 120,
    "start_time": "2023-09-09T17:40:55.265Z"
   },
   {
    "duration": 3,
    "start_time": "2023-09-09T17:41:01.319Z"
   },
   {
    "duration": 4,
    "start_time": "2023-09-09T17:42:54.774Z"
   },
   {
    "duration": 4,
    "start_time": "2023-09-09T17:49:51.106Z"
   },
   {
    "duration": 1300,
    "start_time": "2023-09-09T19:25:03.454Z"
   },
   {
    "duration": 98,
    "start_time": "2023-09-09T19:25:04.756Z"
   },
   {
    "duration": 11,
    "start_time": "2023-09-09T19:25:04.855Z"
   },
   {
    "duration": 7,
    "start_time": "2023-09-09T19:25:04.867Z"
   },
   {
    "duration": 5,
    "start_time": "2023-09-09T19:25:04.876Z"
   },
   {
    "duration": 447,
    "start_time": "2023-09-09T19:25:04.882Z"
   },
   {
    "duration": 256,
    "start_time": "2023-09-09T19:25:05.330Z"
   },
   {
    "duration": 357,
    "start_time": "2023-09-09T19:25:05.587Z"
   },
   {
    "duration": 75,
    "start_time": "2023-09-09T19:25:05.945Z"
   },
   {
    "duration": 3,
    "start_time": "2023-09-09T19:25:20.340Z"
   },
   {
    "duration": 91,
    "start_time": "2023-09-09T20:00:20.920Z"
   },
   {
    "duration": 17,
    "start_time": "2023-09-09T20:00:25.838Z"
   },
   {
    "duration": 1075,
    "start_time": "2023-09-09T20:00:44.560Z"
   },
   {
    "duration": 39,
    "start_time": "2023-09-09T20:00:45.637Z"
   },
   {
    "duration": 10,
    "start_time": "2023-09-09T20:00:45.677Z"
   },
   {
    "duration": 27,
    "start_time": "2023-09-09T20:00:45.689Z"
   },
   {
    "duration": 7,
    "start_time": "2023-09-09T20:00:45.718Z"
   },
   {
    "duration": 528,
    "start_time": "2023-09-09T20:00:45.726Z"
   },
   {
    "duration": 260,
    "start_time": "2023-09-09T20:00:46.256Z"
   },
   {
    "duration": 319,
    "start_time": "2023-09-09T20:00:46.517Z"
   },
   {
    "duration": 11,
    "start_time": "2023-09-09T20:00:46.838Z"
   },
   {
    "duration": 104,
    "start_time": "2023-09-09T20:00:46.851Z"
   },
   {
    "duration": 0,
    "start_time": "2023-09-09T20:00:46.957Z"
   },
   {
    "duration": 14,
    "start_time": "2023-09-09T20:01:25.136Z"
   },
   {
    "duration": 10,
    "start_time": "2023-09-09T20:02:10.189Z"
   },
   {
    "duration": 17,
    "start_time": "2023-09-09T20:02:12.385Z"
   },
   {
    "duration": 12,
    "start_time": "2023-09-09T20:02:34.083Z"
   },
   {
    "duration": 14,
    "start_time": "2023-09-09T20:02:48.560Z"
   },
   {
    "duration": 13,
    "start_time": "2023-09-09T20:03:31.059Z"
   },
   {
    "duration": 12,
    "start_time": "2023-09-09T20:03:41.264Z"
   },
   {
    "duration": 6,
    "start_time": "2023-09-09T20:04:06.463Z"
   },
   {
    "duration": 11,
    "start_time": "2023-09-09T20:04:10.402Z"
   },
   {
    "duration": 13,
    "start_time": "2023-09-09T20:04:17.670Z"
   },
   {
    "duration": 5,
    "start_time": "2023-09-09T20:04:45.995Z"
   },
   {
    "duration": 4,
    "start_time": "2023-09-09T20:04:52.705Z"
   },
   {
    "duration": 8,
    "start_time": "2023-09-09T20:04:59.694Z"
   },
   {
    "duration": 13,
    "start_time": "2023-09-09T20:05:47.065Z"
   },
   {
    "duration": 6,
    "start_time": "2023-09-09T20:09:05.324Z"
   },
   {
    "duration": 4,
    "start_time": "2023-09-09T20:09:18.236Z"
   },
   {
    "duration": 12,
    "start_time": "2023-09-09T20:09:19.671Z"
   },
   {
    "duration": 7,
    "start_time": "2023-09-09T20:10:35.258Z"
   },
   {
    "duration": 4,
    "start_time": "2023-09-09T20:10:37.164Z"
   },
   {
    "duration": 84,
    "start_time": "2023-09-09T20:10:37.784Z"
   },
   {
    "duration": 1337,
    "start_time": "2023-09-10T10:11:07.126Z"
   },
   {
    "duration": 84,
    "start_time": "2023-09-10T10:11:08.465Z"
   },
   {
    "duration": 11,
    "start_time": "2023-09-10T10:11:08.551Z"
   },
   {
    "duration": 19,
    "start_time": "2023-09-10T10:11:08.564Z"
   },
   {
    "duration": 7,
    "start_time": "2023-09-10T10:11:08.585Z"
   },
   {
    "duration": 495,
    "start_time": "2023-09-10T10:11:08.593Z"
   },
   {
    "duration": 269,
    "start_time": "2023-09-10T10:11:09.090Z"
   },
   {
    "duration": 340,
    "start_time": "2023-09-10T10:11:09.361Z"
   },
   {
    "duration": 144,
    "start_time": "2023-09-10T10:11:09.703Z"
   },
   {
    "duration": 0,
    "start_time": "2023-09-10T10:11:09.849Z"
   },
   {
    "duration": 0,
    "start_time": "2023-09-10T10:11:09.850Z"
   },
   {
    "duration": 7,
    "start_time": "2023-09-10T10:15:09.441Z"
   },
   {
    "duration": 7,
    "start_time": "2023-09-10T10:15:18.683Z"
   },
   {
    "duration": 5,
    "start_time": "2023-09-10T10:15:19.963Z"
   },
   {
    "duration": 270,
    "start_time": "2023-09-10T10:15:21.035Z"
   },
   {
    "duration": 64,
    "start_time": "2023-09-10T10:16:15.281Z"
   },
   {
    "duration": 15,
    "start_time": "2023-09-10T10:16:24.569Z"
   },
   {
    "duration": 9,
    "start_time": "2023-09-10T10:16:37.180Z"
   },
   {
    "duration": 5,
    "start_time": "2023-09-10T10:18:54.117Z"
   },
   {
    "duration": 2,
    "start_time": "2023-09-10T10:19:07.095Z"
   },
   {
    "duration": 5,
    "start_time": "2023-09-10T10:19:10.829Z"
   },
   {
    "duration": 5,
    "start_time": "2023-09-10T10:19:11.597Z"
   },
   {
    "duration": 3,
    "start_time": "2023-09-10T10:19:12.776Z"
   },
   {
    "duration": 3,
    "start_time": "2023-09-10T10:19:14.295Z"
   },
   {
    "duration": 8,
    "start_time": "2023-09-10T10:19:21.376Z"
   },
   {
    "duration": 5,
    "start_time": "2023-09-10T10:19:44.135Z"
   },
   {
    "duration": 4,
    "start_time": "2023-09-10T10:19:44.529Z"
   },
   {
    "duration": 4,
    "start_time": "2023-09-10T10:19:45.737Z"
   },
   {
    "duration": 16,
    "start_time": "2023-09-10T10:19:46.108Z"
   },
   {
    "duration": 5,
    "start_time": "2023-09-10T10:47:46.784Z"
   },
   {
    "duration": 4,
    "start_time": "2023-09-10T10:47:47.170Z"
   },
   {
    "duration": 4,
    "start_time": "2023-09-10T10:47:48.434Z"
   },
   {
    "duration": 13,
    "start_time": "2023-09-10T10:47:48.999Z"
   },
   {
    "duration": 6,
    "start_time": "2023-09-10T10:48:55.736Z"
   },
   {
    "duration": 5,
    "start_time": "2023-09-10T10:48:56.263Z"
   },
   {
    "duration": 4,
    "start_time": "2023-09-10T10:48:57.656Z"
   },
   {
    "duration": 108,
    "start_time": "2023-09-10T10:48:58.100Z"
   },
   {
    "duration": 6,
    "start_time": "2023-09-10T10:57:17.009Z"
   },
   {
    "duration": 4,
    "start_time": "2023-09-10T10:57:17.329Z"
   },
   {
    "duration": 5,
    "start_time": "2023-09-10T10:57:18.358Z"
   },
   {
    "duration": 91,
    "start_time": "2023-09-10T10:57:18.813Z"
   },
   {
    "duration": 6,
    "start_time": "2023-09-10T10:57:50.283Z"
   },
   {
    "duration": 4,
    "start_time": "2023-09-10T10:57:50.622Z"
   },
   {
    "duration": 4,
    "start_time": "2023-09-10T10:57:51.670Z"
   },
   {
    "duration": 29,
    "start_time": "2023-09-10T10:57:52.044Z"
   },
   {
    "duration": 7,
    "start_time": "2023-09-10T10:58:34.459Z"
   },
   {
    "duration": 4,
    "start_time": "2023-09-10T10:58:34.832Z"
   },
   {
    "duration": 5,
    "start_time": "2023-09-10T10:58:35.921Z"
   },
   {
    "duration": 29,
    "start_time": "2023-09-10T10:58:36.336Z"
   },
   {
    "duration": 5,
    "start_time": "2023-09-10T10:59:10.183Z"
   },
   {
    "duration": 4,
    "start_time": "2023-09-10T10:59:10.532Z"
   },
   {
    "duration": 4,
    "start_time": "2023-09-10T10:59:11.568Z"
   },
   {
    "duration": 17,
    "start_time": "2023-09-10T10:59:11.923Z"
   },
   {
    "duration": 74,
    "start_time": "2023-09-10T10:59:40.287Z"
   },
   {
    "duration": 1153,
    "start_time": "2023-09-10T10:59:48.904Z"
   },
   {
    "duration": 37,
    "start_time": "2023-09-10T10:59:50.059Z"
   },
   {
    "duration": 10,
    "start_time": "2023-09-10T10:59:50.098Z"
   },
   {
    "duration": 13,
    "start_time": "2023-09-10T10:59:50.109Z"
   },
   {
    "duration": 12,
    "start_time": "2023-09-10T10:59:50.123Z"
   },
   {
    "duration": 472,
    "start_time": "2023-09-10T10:59:50.136Z"
   },
   {
    "duration": 258,
    "start_time": "2023-09-10T10:59:50.610Z"
   },
   {
    "duration": 321,
    "start_time": "2023-09-10T10:59:50.870Z"
   },
   {
    "duration": 85,
    "start_time": "2023-09-10T10:59:51.192Z"
   },
   {
    "duration": 0,
    "start_time": "2023-09-10T10:59:51.279Z"
   },
   {
    "duration": 0,
    "start_time": "2023-09-10T10:59:51.281Z"
   },
   {
    "duration": 0,
    "start_time": "2023-09-10T10:59:51.281Z"
   },
   {
    "duration": 6,
    "start_time": "2023-09-10T11:00:26.067Z"
   },
   {
    "duration": 5,
    "start_time": "2023-09-10T11:00:27.292Z"
   },
   {
    "duration": 5,
    "start_time": "2023-09-10T11:00:28.565Z"
   },
   {
    "duration": 234,
    "start_time": "2023-09-10T11:00:29.067Z"
   },
   {
    "duration": 6,
    "start_time": "2023-09-10T11:01:17.224Z"
   },
   {
    "duration": 4,
    "start_time": "2023-09-10T11:01:17.579Z"
   },
   {
    "duration": 4,
    "start_time": "2023-09-10T11:01:18.732Z"
   },
   {
    "duration": 15,
    "start_time": "2023-09-10T11:01:19.150Z"
   },
   {
    "duration": 171,
    "start_time": "2023-09-10T11:04:45.893Z"
   },
   {
    "duration": 5,
    "start_time": "2023-09-10T11:04:46.257Z"
   },
   {
    "duration": 4,
    "start_time": "2023-09-10T11:04:47.451Z"
   },
   {
    "duration": 15,
    "start_time": "2023-09-10T11:04:47.893Z"
   },
   {
    "duration": 6,
    "start_time": "2023-09-10T11:05:57.988Z"
   },
   {
    "duration": 4,
    "start_time": "2023-09-10T11:05:58.900Z"
   },
   {
    "duration": 5,
    "start_time": "2023-09-10T11:06:00.199Z"
   },
   {
    "duration": 15,
    "start_time": "2023-09-10T11:06:00.630Z"
   },
   {
    "duration": 7,
    "start_time": "2023-09-10T11:06:43.264Z"
   },
   {
    "duration": 4,
    "start_time": "2023-09-10T11:06:43.619Z"
   },
   {
    "duration": 4,
    "start_time": "2023-09-10T11:06:44.867Z"
   },
   {
    "duration": 10,
    "start_time": "2023-09-10T11:06:45.406Z"
   },
   {
    "duration": 6,
    "start_time": "2023-09-10T11:10:14.421Z"
   },
   {
    "duration": 4,
    "start_time": "2023-09-10T11:10:14.847Z"
   },
   {
    "duration": 4,
    "start_time": "2023-09-10T11:10:16.243Z"
   },
   {
    "duration": 61,
    "start_time": "2023-09-10T11:10:16.683Z"
   },
   {
    "duration": 5,
    "start_time": "2023-09-10T11:12:31.337Z"
   },
   {
    "duration": 5,
    "start_time": "2023-09-10T11:12:31.927Z"
   },
   {
    "duration": 5,
    "start_time": "2023-09-10T11:12:33.260Z"
   },
   {
    "duration": 12,
    "start_time": "2023-09-10T11:12:33.705Z"
   },
   {
    "duration": 7,
    "start_time": "2023-09-10T11:13:35.909Z"
   },
   {
    "duration": 5,
    "start_time": "2023-09-10T11:13:36.230Z"
   },
   {
    "duration": 5,
    "start_time": "2023-09-10T11:13:37.337Z"
   },
   {
    "duration": 11,
    "start_time": "2023-09-10T11:13:37.720Z"
   },
   {
    "duration": 6,
    "start_time": "2023-09-10T11:22:04.237Z"
   },
   {
    "duration": 5,
    "start_time": "2023-09-10T11:22:04.916Z"
   },
   {
    "duration": 4,
    "start_time": "2023-09-10T11:22:06.052Z"
   },
   {
    "duration": 16,
    "start_time": "2023-09-10T11:22:06.444Z"
   },
   {
    "duration": 6,
    "start_time": "2023-09-10T11:22:35.172Z"
   },
   {
    "duration": 5,
    "start_time": "2023-09-10T11:22:35.923Z"
   },
   {
    "duration": 4,
    "start_time": "2023-09-10T11:22:37.166Z"
   },
   {
    "duration": 16,
    "start_time": "2023-09-10T11:22:37.566Z"
   },
   {
    "duration": 4,
    "start_time": "2023-09-10T11:47:53.472Z"
   },
   {
    "duration": 12,
    "start_time": "2023-09-10T11:59:42.220Z"
   },
   {
    "duration": 10,
    "start_time": "2023-09-10T12:04:22.487Z"
   },
   {
    "duration": 7,
    "start_time": "2023-09-10T12:04:26.182Z"
   },
   {
    "duration": 332,
    "start_time": "2023-09-10T12:07:06.026Z"
   },
   {
    "duration": 37,
    "start_time": "2023-09-10T12:08:24.807Z"
   },
   {
    "duration": 92,
    "start_time": "2023-09-10T12:08:42.710Z"
   },
   {
    "duration": 189,
    "start_time": "2023-09-10T12:09:01.957Z"
   },
   {
    "duration": 88,
    "start_time": "2023-09-10T12:09:08.190Z"
   },
   {
    "duration": 146,
    "start_time": "2023-09-10T12:09:22.027Z"
   },
   {
    "duration": 89,
    "start_time": "2023-09-10T12:09:40.682Z"
   },
   {
    "duration": 16,
    "start_time": "2023-09-10T12:10:08.198Z"
   },
   {
    "duration": 101,
    "start_time": "2023-09-10T12:10:15.324Z"
   },
   {
    "duration": 78,
    "start_time": "2023-09-10T12:10:18.263Z"
   },
   {
    "duration": 98,
    "start_time": "2023-09-10T12:10:22.681Z"
   },
   {
    "duration": 102,
    "start_time": "2023-09-10T12:10:42.158Z"
   },
   {
    "duration": 30,
    "start_time": "2023-09-10T12:11:15.829Z"
   },
   {
    "duration": 15,
    "start_time": "2023-09-10T12:11:59.508Z"
   },
   {
    "duration": 12,
    "start_time": "2023-09-10T12:12:07.771Z"
   },
   {
    "duration": 10,
    "start_time": "2023-09-10T12:12:16.141Z"
   },
   {
    "duration": 14,
    "start_time": "2023-09-10T12:12:32.508Z"
   },
   {
    "duration": 9,
    "start_time": "2023-09-10T12:12:37.996Z"
   },
   {
    "duration": 8,
    "start_time": "2023-09-10T12:12:41.609Z"
   },
   {
    "duration": 11,
    "start_time": "2023-09-10T12:12:50.190Z"
   },
   {
    "duration": 24,
    "start_time": "2023-09-10T12:14:18.276Z"
   },
   {
    "duration": 21,
    "start_time": "2023-09-10T12:16:06.829Z"
   },
   {
    "duration": 11,
    "start_time": "2023-09-10T12:16:07.817Z"
   },
   {
    "duration": 1384,
    "start_time": "2023-09-10T12:16:16.499Z"
   },
   {
    "duration": 38,
    "start_time": "2023-09-10T12:16:17.885Z"
   },
   {
    "duration": 10,
    "start_time": "2023-09-10T12:16:17.925Z"
   },
   {
    "duration": 25,
    "start_time": "2023-09-10T12:16:17.937Z"
   },
   {
    "duration": 32,
    "start_time": "2023-09-10T12:16:17.963Z"
   },
   {
    "duration": 464,
    "start_time": "2023-09-10T12:16:17.997Z"
   },
   {
    "duration": 260,
    "start_time": "2023-09-10T12:16:18.463Z"
   },
   {
    "duration": 457,
    "start_time": "2023-09-10T12:16:18.724Z"
   },
   {
    "duration": 6,
    "start_time": "2023-09-10T12:16:19.183Z"
   },
   {
    "duration": 13,
    "start_time": "2023-09-10T12:16:19.192Z"
   },
   {
    "duration": 27,
    "start_time": "2023-09-10T12:16:19.207Z"
   },
   {
    "duration": 47,
    "start_time": "2023-09-10T12:16:19.236Z"
   },
   {
    "duration": 163,
    "start_time": "2023-09-10T12:16:19.285Z"
   },
   {
    "duration": 88,
    "start_time": "2023-09-10T12:26:16.496Z"
   },
   {
    "duration": 4,
    "start_time": "2023-09-10T12:28:16.195Z"
   },
   {
    "duration": 9,
    "start_time": "2023-09-10T12:29:41.315Z"
   },
   {
    "duration": 112,
    "start_time": "2023-09-10T12:30:10.271Z"
   },
   {
    "duration": 3,
    "start_time": "2023-09-10T12:30:45.156Z"
   },
   {
    "duration": 8,
    "start_time": "2023-09-10T12:30:57.356Z"
   },
   {
    "duration": 72,
    "start_time": "2023-09-10T12:32:23.372Z"
   },
   {
    "duration": 6,
    "start_time": "2023-09-10T12:32:57.115Z"
   },
   {
    "duration": 4,
    "start_time": "2023-09-10T12:32:58.427Z"
   },
   {
    "duration": 15,
    "start_time": "2023-09-10T12:32:58.757Z"
   },
   {
    "duration": 8,
    "start_time": "2023-09-10T12:32:59.463Z"
   },
   {
    "duration": 9,
    "start_time": "2023-09-10T12:33:45.365Z"
   },
   {
    "duration": 9,
    "start_time": "2023-09-10T12:34:07.283Z"
   },
   {
    "duration": 13,
    "start_time": "2023-09-10T12:35:11.756Z"
   },
   {
    "duration": 11,
    "start_time": "2023-09-10T12:36:33.509Z"
   },
   {
    "duration": 17,
    "start_time": "2023-09-10T12:39:39.323Z"
   },
   {
    "duration": 4,
    "start_time": "2023-09-10T12:40:54.335Z"
   },
   {
    "duration": 20,
    "start_time": "2023-09-10T12:41:30.130Z"
   },
   {
    "duration": 82,
    "start_time": "2023-09-10T12:44:31.041Z"
   },
   {
    "duration": 17,
    "start_time": "2023-09-10T12:44:43.311Z"
   },
   {
    "duration": 11,
    "start_time": "2023-09-10T12:44:51.304Z"
   },
   {
    "duration": 10,
    "start_time": "2023-09-10T12:44:54.986Z"
   },
   {
    "duration": 3,
    "start_time": "2023-09-10T12:49:25.479Z"
   },
   {
    "duration": 32,
    "start_time": "2023-09-10T12:49:35.609Z"
   },
   {
    "duration": 10,
    "start_time": "2023-09-10T12:49:56.539Z"
   },
   {
    "duration": 6,
    "start_time": "2023-09-10T12:49:57.468Z"
   },
   {
    "duration": 6,
    "start_time": "2023-09-10T12:50:03.911Z"
   },
   {
    "duration": 9,
    "start_time": "2023-09-10T12:50:21.782Z"
   },
   {
    "duration": 5,
    "start_time": "2023-09-10T12:59:34.835Z"
   },
   {
    "duration": 3,
    "start_time": "2023-09-10T12:59:36.443Z"
   },
   {
    "duration": 11,
    "start_time": "2023-09-10T12:59:37.046Z"
   },
   {
    "duration": 11,
    "start_time": "2023-09-10T12:59:38.156Z"
   },
   {
    "duration": 70,
    "start_time": "2023-09-10T13:02:16.793Z"
   },
   {
    "duration": 195,
    "start_time": "2023-09-10T13:02:25.656Z"
   },
   {
    "duration": 226,
    "start_time": "2023-09-10T13:49:43.010Z"
   },
   {
    "duration": 212,
    "start_time": "2023-09-10T13:49:52.368Z"
   },
   {
    "duration": 124,
    "start_time": "2023-09-10T13:50:45.562Z"
   },
   {
    "duration": 202,
    "start_time": "2023-09-10T13:50:52.062Z"
   },
   {
    "duration": 272,
    "start_time": "2023-09-10T13:50:58.368Z"
   },
   {
    "duration": 275,
    "start_time": "2023-09-10T13:51:11.117Z"
   },
   {
    "duration": 286,
    "start_time": "2023-09-10T13:51:16.681Z"
   },
   {
    "duration": 120,
    "start_time": "2023-09-10T13:52:50.385Z"
   },
   {
    "duration": 205,
    "start_time": "2023-09-10T13:53:04.840Z"
   },
   {
    "duration": 217,
    "start_time": "2023-09-10T13:53:29.983Z"
   },
   {
    "duration": 201,
    "start_time": "2023-09-10T13:54:09.495Z"
   },
   {
    "duration": 281,
    "start_time": "2023-09-10T13:54:16.567Z"
   },
   {
    "duration": 1418,
    "start_time": "2023-09-10T13:57:30.158Z"
   },
   {
    "duration": 39,
    "start_time": "2023-09-10T13:57:31.578Z"
   },
   {
    "duration": 13,
    "start_time": "2023-09-10T13:57:31.618Z"
   },
   {
    "duration": 52,
    "start_time": "2023-09-10T13:57:31.632Z"
   },
   {
    "duration": 91,
    "start_time": "2023-09-10T13:57:31.686Z"
   },
   {
    "duration": 529,
    "start_time": "2023-09-10T13:57:31.779Z"
   },
   {
    "duration": 280,
    "start_time": "2023-09-10T13:57:32.310Z"
   },
   {
    "duration": 360,
    "start_time": "2023-09-10T13:57:32.592Z"
   },
   {
    "duration": 4,
    "start_time": "2023-09-10T13:57:32.953Z"
   },
   {
    "duration": 44,
    "start_time": "2023-09-10T13:57:32.959Z"
   },
   {
    "duration": 39,
    "start_time": "2023-09-10T13:57:33.005Z"
   },
   {
    "duration": 104,
    "start_time": "2023-09-10T13:57:33.046Z"
   },
   {
    "duration": 2937,
    "start_time": "2023-09-10T14:27:03.166Z"
   },
   {
    "duration": 85,
    "start_time": "2023-09-10T14:27:06.105Z"
   },
   {
    "duration": 10,
    "start_time": "2023-09-10T14:27:06.191Z"
   },
   {
    "duration": 5,
    "start_time": "2023-09-10T14:27:06.203Z"
   },
   {
    "duration": 8,
    "start_time": "2023-09-10T14:27:06.209Z"
   },
   {
    "duration": 445,
    "start_time": "2023-09-10T14:27:06.219Z"
   },
   {
    "duration": 250,
    "start_time": "2023-09-10T14:27:06.666Z"
   },
   {
    "duration": 464,
    "start_time": "2023-09-10T14:27:06.918Z"
   },
   {
    "duration": 4,
    "start_time": "2023-09-10T14:27:07.383Z"
   },
   {
    "duration": 22,
    "start_time": "2023-09-10T14:27:07.389Z"
   },
   {
    "duration": 31,
    "start_time": "2023-09-10T14:27:07.413Z"
   },
   {
    "duration": 102,
    "start_time": "2023-09-10T14:27:07.448Z"
   },
   {
    "duration": 99,
    "start_time": "2023-09-10T17:51:02.086Z"
   },
   {
    "duration": 73,
    "start_time": "2023-09-10T18:04:20.124Z"
   },
   {
    "duration": 2105,
    "start_time": "2023-09-11T09:51:18.947Z"
   },
   {
    "duration": 89,
    "start_time": "2023-09-11T09:51:21.055Z"
   },
   {
    "duration": 138,
    "start_time": "2023-09-11T09:51:21.145Z"
   },
   {
    "duration": 180,
    "start_time": "2023-09-11T09:51:21.286Z"
   },
   {
    "duration": 11,
    "start_time": "2023-09-11T09:51:26.056Z"
   },
   {
    "duration": 551,
    "start_time": "2023-09-11T09:51:26.632Z"
   },
   {
    "duration": 278,
    "start_time": "2023-09-11T09:51:47.197Z"
   },
   {
    "duration": 433,
    "start_time": "2023-09-11T09:54:39.353Z"
   },
   {
    "duration": 183,
    "start_time": "2023-09-11T09:54:54.184Z"
   },
   {
    "duration": 122,
    "start_time": "2023-09-11T09:55:36.072Z"
   },
   {
    "duration": 372,
    "start_time": "2023-09-11T09:55:44.853Z"
   },
   {
    "duration": 314,
    "start_time": "2023-09-11T09:56:20.665Z"
   },
   {
    "duration": 1577,
    "start_time": "2023-09-11T10:34:57.869Z"
   },
   {
    "duration": 40,
    "start_time": "2023-09-11T10:34:59.448Z"
   },
   {
    "duration": 14,
    "start_time": "2023-09-11T10:34:59.490Z"
   },
   {
    "duration": 36,
    "start_time": "2023-09-11T10:34:59.506Z"
   },
   {
    "duration": 43,
    "start_time": "2023-09-11T10:34:59.544Z"
   },
   {
    "duration": 575,
    "start_time": "2023-09-11T10:34:59.589Z"
   },
   {
    "duration": 315,
    "start_time": "2023-09-11T10:35:00.166Z"
   },
   {
    "duration": 473,
    "start_time": "2023-09-11T10:35:00.483Z"
   },
   {
    "duration": 5,
    "start_time": "2023-09-11T10:35:00.958Z"
   },
   {
    "duration": 119,
    "start_time": "2023-09-11T10:35:00.965Z"
   },
   {
    "duration": 436,
    "start_time": "2023-09-11T10:35:01.086Z"
   },
   {
    "duration": 265,
    "start_time": "2023-09-11T10:35:01.528Z"
   },
   {
    "duration": 6,
    "start_time": "2023-09-11T11:17:38.044Z"
   },
   {
    "duration": 95,
    "start_time": "2023-09-11T11:25:29.597Z"
   },
   {
    "duration": 5,
    "start_time": "2023-09-11T11:25:40.882Z"
   },
   {
    "duration": 1517,
    "start_time": "2023-09-11T11:25:52.411Z"
   },
   {
    "duration": 41,
    "start_time": "2023-09-11T11:25:53.930Z"
   },
   {
    "duration": 12,
    "start_time": "2023-09-11T11:25:53.973Z"
   },
   {
    "duration": 27,
    "start_time": "2023-09-11T11:25:53.987Z"
   },
   {
    "duration": 31,
    "start_time": "2023-09-11T11:25:54.017Z"
   },
   {
    "duration": 604,
    "start_time": "2023-09-11T11:25:54.050Z"
   },
   {
    "duration": 337,
    "start_time": "2023-09-11T11:25:54.656Z"
   },
   {
    "duration": 459,
    "start_time": "2023-09-11T11:25:54.995Z"
   },
   {
    "duration": 3,
    "start_time": "2023-09-11T11:25:55.456Z"
   },
   {
    "duration": 45,
    "start_time": "2023-09-11T11:25:55.461Z"
   },
   {
    "duration": 89,
    "start_time": "2023-09-11T11:25:55.509Z"
   },
   {
    "duration": 50,
    "start_time": "2023-09-11T11:25:55.600Z"
   },
   {
    "duration": 267,
    "start_time": "2023-09-11T11:25:55.653Z"
   },
   {
    "duration": 85,
    "start_time": "2023-09-11T11:26:32.302Z"
   },
   {
    "duration": 5,
    "start_time": "2023-09-11T11:31:30.087Z"
   },
   {
    "duration": 4,
    "start_time": "2023-09-11T11:34:05.607Z"
   },
   {
    "duration": 8,
    "start_time": "2023-09-11T11:36:00.783Z"
   },
   {
    "duration": 6,
    "start_time": "2023-09-11T11:36:08.925Z"
   },
   {
    "duration": 4,
    "start_time": "2023-09-11T11:37:30.746Z"
   },
   {
    "duration": 11,
    "start_time": "2023-09-11T11:38:02.625Z"
   },
   {
    "duration": 83,
    "start_time": "2023-09-11T11:38:56.922Z"
   },
   {
    "duration": 54,
    "start_time": "2023-09-11T11:39:34.849Z"
   },
   {
    "duration": 12,
    "start_time": "2023-09-11T11:40:00.773Z"
   },
   {
    "duration": 12,
    "start_time": "2023-09-11T11:41:36.694Z"
   },
   {
    "duration": 15,
    "start_time": "2023-09-11T11:42:30.294Z"
   },
   {
    "duration": 11,
    "start_time": "2023-09-11T11:43:36.316Z"
   },
   {
    "duration": 23,
    "start_time": "2023-09-11T11:44:03.025Z"
   },
   {
    "duration": 11,
    "start_time": "2023-09-11T11:45:44.566Z"
   },
   {
    "duration": 9,
    "start_time": "2023-09-11T11:46:42.179Z"
   },
   {
    "duration": 10,
    "start_time": "2023-09-11T11:47:11.326Z"
   },
   {
    "duration": 1483,
    "start_time": "2023-09-11T11:47:36.230Z"
   },
   {
    "duration": 40,
    "start_time": "2023-09-11T11:47:37.715Z"
   },
   {
    "duration": 12,
    "start_time": "2023-09-11T11:47:37.757Z"
   },
   {
    "duration": 37,
    "start_time": "2023-09-11T11:47:37.771Z"
   },
   {
    "duration": 23,
    "start_time": "2023-09-11T11:47:37.811Z"
   },
   {
    "duration": 548,
    "start_time": "2023-09-11T11:47:37.836Z"
   },
   {
    "duration": 304,
    "start_time": "2023-09-11T11:47:38.386Z"
   },
   {
    "duration": 444,
    "start_time": "2023-09-11T11:47:38.692Z"
   },
   {
    "duration": 4,
    "start_time": "2023-09-11T11:47:39.138Z"
   },
   {
    "duration": 27,
    "start_time": "2023-09-11T11:47:39.144Z"
   },
   {
    "duration": 34,
    "start_time": "2023-09-11T11:47:39.173Z"
   },
   {
    "duration": 43,
    "start_time": "2023-09-11T11:47:39.208Z"
   },
   {
    "duration": 13,
    "start_time": "2023-09-11T11:47:39.252Z"
   }
  ],
  "kernelspec": {
   "display_name": "Python 3 (ipykernel)",
   "language": "python",
   "name": "python3"
  },
  "language_info": {
   "codemirror_mode": {
    "name": "ipython",
    "version": 3
   },
   "file_extension": ".py",
   "mimetype": "text/x-python",
   "name": "python",
   "nbconvert_exporter": "python",
   "pygments_lexer": "ipython3",
   "version": "3.11.3"
  },
  "toc": {
   "base_numbering": 1,
   "nav_menu": {},
   "number_sections": true,
   "sideBar": true,
   "skip_h1_title": true,
   "title_cell": "Содержание",
   "title_sidebar": "Contents",
   "toc_cell": true,
   "toc_position": {},
   "toc_section_display": true,
   "toc_window_display": false
  }
 },
 "nbformat": 4,
 "nbformat_minor": 2
}
