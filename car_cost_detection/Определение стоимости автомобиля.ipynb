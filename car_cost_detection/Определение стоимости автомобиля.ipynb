{
 "cells": [
  {
   "cell_type": "markdown",
   "metadata": {},
   "source": [
    "# Определение стоимости автомобилей"
   ]
  },
  {
   "cell_type": "markdown",
   "metadata": {},
   "source": [
    "В данной работе стоит задача построения модели для определения рыночной стоимости автомобиля для сервиса по продаже автомобилей с пробегом «Не бит, не крашен». Сервис разрабатывает приложение для привлечения новых клиентов, в котором клиент может быстро узнать рыночную стоимость своего автомобиля. В распоряжении имеются исторические данные: технические характеристики, комплектации и цены автомобилей. \n",
    "\n",
    "Заказчику важны:\n",
    "\n",
    "- качество предсказания;\n",
    "- скорость предсказания;\n",
    "- время обучения.\n",
    "\n",
    "Для оценки качества моделей будет применяться метрика RMSE. Значение метрики RMSE должно быть меньше 2500.\n",
    "\n",
    "\n",
    "Признаки\n",
    "- DateCrawled — дата скачивания анкеты из базы\n",
    "- VehicleType — тип автомобильного кузова\n",
    "- RegistrationYear — год регистрации автомобиля\n",
    "- Gearbox — тип коробки передач\n",
    "- Power — мощность (л. с.)\n",
    "- Model — модель автомобиля\n",
    "- Kilometer — пробег (км)\n",
    "- RegistrationMonth — месяц регистрации автомобиля\n",
    "- FuelType — тип топлива\n",
    "- Brand — марка автомобиля\n",
    "- Repaired — была машина в ремонте или нет\n",
    "- DateCreated — дата создания анкеты\n",
    "- NumberOfPictures — количество фотографий автомобиля\n",
    "- PostalCode — почтовый индекс владельца анкеты (пользователя)\n",
    "- LastSeen — дата последней активности пользователя\n",
    "\n",
    "  Целевой признак\n",
    "\n",
    "- Price — цена (евро)\n"
   ]
  },
  {
   "cell_type": "markdown",
   "metadata": {},
   "source": [
    "## Подготовка данных"
   ]
  },
  {
   "cell_type": "markdown",
   "metadata": {},
   "source": [
    "Загрузим библиотеки и модули."
   ]
  },
  {
   "cell_type": "code",
   "execution_count": 1,
   "metadata": {},
   "outputs": [],
   "source": [
    "!pip install -U scikit-learn -q"
   ]
  },
  {
   "cell_type": "code",
   "execution_count": 2,
   "metadata": {},
   "outputs": [],
   "source": [
    "import pandas as pd\n",
    "import numpy as np\n",
    "import matplotlib.pyplot as plt\n",
    "import seaborn as sns\n",
    "from sklearn.preprocessing import StandardScaler, OrdinalEncoder, OneHotEncoder\n",
    "from sklearn.model_selection import train_test_split, cross_val_score, GridSearchCV\n",
    "from sklearn.compose import ColumnTransformer\n",
    "from sklearn.pipeline import Pipeline\n",
    "from sklearn.linear_model import LinearRegression\n",
    "from sklearn.metrics import mean_squared_error\n",
    "from lightgbm import LGBMRegressor\n",
    "from sklearn.tree import DecisionTreeRegressor\n",
    "from sklearn.dummy import DummyRegressor\n",
    "import warnings\n",
    "warnings.filterwarnings('ignore')"
   ]
  },
  {
   "cell_type": "markdown",
   "metadata": {},
   "source": [
    "### Предобработка данных"
   ]
  },
  {
   "cell_type": "markdown",
   "metadata": {},
   "source": [
    "Откроем файл и изучим."
   ]
  },
  {
   "cell_type": "code",
   "execution_count": 3,
   "metadata": {},
   "outputs": [
    {
     "data": {
      "text/html": [
       "<div>\n",
       "<style scoped>\n",
       "    .dataframe tbody tr th:only-of-type {\n",
       "        vertical-align: middle;\n",
       "    }\n",
       "\n",
       "    .dataframe tbody tr th {\n",
       "        vertical-align: top;\n",
       "    }\n",
       "\n",
       "    .dataframe thead th {\n",
       "        text-align: right;\n",
       "    }\n",
       "</style>\n",
       "<table border=\"1\" class=\"dataframe\">\n",
       "  <thead>\n",
       "    <tr style=\"text-align: right;\">\n",
       "      <th></th>\n",
       "      <th>DateCrawled</th>\n",
       "      <th>Price</th>\n",
       "      <th>VehicleType</th>\n",
       "      <th>RegistrationYear</th>\n",
       "      <th>Gearbox</th>\n",
       "      <th>Power</th>\n",
       "      <th>Model</th>\n",
       "      <th>Kilometer</th>\n",
       "      <th>RegistrationMonth</th>\n",
       "      <th>FuelType</th>\n",
       "      <th>Brand</th>\n",
       "      <th>Repaired</th>\n",
       "      <th>DateCreated</th>\n",
       "      <th>NumberOfPictures</th>\n",
       "      <th>PostalCode</th>\n",
       "      <th>LastSeen</th>\n",
       "    </tr>\n",
       "  </thead>\n",
       "  <tbody>\n",
       "    <tr>\n",
       "      <th>0</th>\n",
       "      <td>2016-03-24 11:52:17</td>\n",
       "      <td>480</td>\n",
       "      <td>NaN</td>\n",
       "      <td>1993</td>\n",
       "      <td>manual</td>\n",
       "      <td>0</td>\n",
       "      <td>golf</td>\n",
       "      <td>150000</td>\n",
       "      <td>0</td>\n",
       "      <td>petrol</td>\n",
       "      <td>volkswagen</td>\n",
       "      <td>NaN</td>\n",
       "      <td>2016-03-24 00:00:00</td>\n",
       "      <td>0</td>\n",
       "      <td>70435</td>\n",
       "      <td>2016-04-07 03:16:57</td>\n",
       "    </tr>\n",
       "    <tr>\n",
       "      <th>1</th>\n",
       "      <td>2016-03-24 10:58:45</td>\n",
       "      <td>18300</td>\n",
       "      <td>coupe</td>\n",
       "      <td>2011</td>\n",
       "      <td>manual</td>\n",
       "      <td>190</td>\n",
       "      <td>NaN</td>\n",
       "      <td>125000</td>\n",
       "      <td>5</td>\n",
       "      <td>gasoline</td>\n",
       "      <td>audi</td>\n",
       "      <td>yes</td>\n",
       "      <td>2016-03-24 00:00:00</td>\n",
       "      <td>0</td>\n",
       "      <td>66954</td>\n",
       "      <td>2016-04-07 01:46:50</td>\n",
       "    </tr>\n",
       "    <tr>\n",
       "      <th>2</th>\n",
       "      <td>2016-03-14 12:52:21</td>\n",
       "      <td>9800</td>\n",
       "      <td>suv</td>\n",
       "      <td>2004</td>\n",
       "      <td>auto</td>\n",
       "      <td>163</td>\n",
       "      <td>grand</td>\n",
       "      <td>125000</td>\n",
       "      <td>8</td>\n",
       "      <td>gasoline</td>\n",
       "      <td>jeep</td>\n",
       "      <td>NaN</td>\n",
       "      <td>2016-03-14 00:00:00</td>\n",
       "      <td>0</td>\n",
       "      <td>90480</td>\n",
       "      <td>2016-04-05 12:47:46</td>\n",
       "    </tr>\n",
       "    <tr>\n",
       "      <th>3</th>\n",
       "      <td>2016-03-17 16:54:04</td>\n",
       "      <td>1500</td>\n",
       "      <td>small</td>\n",
       "      <td>2001</td>\n",
       "      <td>manual</td>\n",
       "      <td>75</td>\n",
       "      <td>golf</td>\n",
       "      <td>150000</td>\n",
       "      <td>6</td>\n",
       "      <td>petrol</td>\n",
       "      <td>volkswagen</td>\n",
       "      <td>no</td>\n",
       "      <td>2016-03-17 00:00:00</td>\n",
       "      <td>0</td>\n",
       "      <td>91074</td>\n",
       "      <td>2016-03-17 17:40:17</td>\n",
       "    </tr>\n",
       "    <tr>\n",
       "      <th>4</th>\n",
       "      <td>2016-03-31 17:25:20</td>\n",
       "      <td>3600</td>\n",
       "      <td>small</td>\n",
       "      <td>2008</td>\n",
       "      <td>manual</td>\n",
       "      <td>69</td>\n",
       "      <td>fabia</td>\n",
       "      <td>90000</td>\n",
       "      <td>7</td>\n",
       "      <td>gasoline</td>\n",
       "      <td>skoda</td>\n",
       "      <td>no</td>\n",
       "      <td>2016-03-31 00:00:00</td>\n",
       "      <td>0</td>\n",
       "      <td>60437</td>\n",
       "      <td>2016-04-06 10:17:21</td>\n",
       "    </tr>\n",
       "  </tbody>\n",
       "</table>\n",
       "</div>"
      ],
      "text/plain": [
       "           DateCrawled  Price VehicleType  RegistrationYear Gearbox  Power  \\\n",
       "0  2016-03-24 11:52:17    480         NaN              1993  manual      0   \n",
       "1  2016-03-24 10:58:45  18300       coupe              2011  manual    190   \n",
       "2  2016-03-14 12:52:21   9800         suv              2004    auto    163   \n",
       "3  2016-03-17 16:54:04   1500       small              2001  manual     75   \n",
       "4  2016-03-31 17:25:20   3600       small              2008  manual     69   \n",
       "\n",
       "   Model  Kilometer  RegistrationMonth  FuelType       Brand Repaired  \\\n",
       "0   golf     150000                  0    petrol  volkswagen      NaN   \n",
       "1    NaN     125000                  5  gasoline        audi      yes   \n",
       "2  grand     125000                  8  gasoline        jeep      NaN   \n",
       "3   golf     150000                  6    petrol  volkswagen       no   \n",
       "4  fabia      90000                  7  gasoline       skoda       no   \n",
       "\n",
       "           DateCreated  NumberOfPictures  PostalCode             LastSeen  \n",
       "0  2016-03-24 00:00:00                 0       70435  2016-04-07 03:16:57  \n",
       "1  2016-03-24 00:00:00                 0       66954  2016-04-07 01:46:50  \n",
       "2  2016-03-14 00:00:00                 0       90480  2016-04-05 12:47:46  \n",
       "3  2016-03-17 00:00:00                 0       91074  2016-03-17 17:40:17  \n",
       "4  2016-03-31 00:00:00                 0       60437  2016-04-06 10:17:21  "
      ]
     },
     "execution_count": 3,
     "metadata": {},
     "output_type": "execute_result"
    }
   ],
   "source": [
    "data = pd.read_csv('/datasets/autos.csv')\n",
    "data.head()"
   ]
  },
  {
   "cell_type": "code",
   "execution_count": 4,
   "metadata": {},
   "outputs": [
    {
     "data": {
      "text/plain": [
       "((354369, 16),\n",
       " DateCrawled          object\n",
       " Price                 int64\n",
       " VehicleType          object\n",
       " RegistrationYear      int64\n",
       " Gearbox              object\n",
       " Power                 int64\n",
       " Model                object\n",
       " Kilometer             int64\n",
       " RegistrationMonth     int64\n",
       " FuelType             object\n",
       " Brand                object\n",
       " Repaired             object\n",
       " DateCreated          object\n",
       " NumberOfPictures      int64\n",
       " PostalCode            int64\n",
       " LastSeen             object\n",
       " dtype: object)"
      ]
     },
     "execution_count": 4,
     "metadata": {},
     "output_type": "execute_result"
    }
   ],
   "source": [
    "data.shape, data.dtypes"
   ]
  },
  {
   "cell_type": "markdown",
   "metadata": {},
   "source": [
    "Признаки дат не соответствуют типу, но в обучении модели они участвовать не будут, поэтому менять нет смысла."
   ]
  },
  {
   "cell_type": "code",
   "execution_count": 5,
   "metadata": {},
   "outputs": [
    {
     "data": {
      "image/png": "[encoded data removed]",
      "text/plain": [
       "<Figure size 720x504 with 1 Axes>"
      ]
     },
     "metadata": {
      "needs_background": "light"
     },
     "output_type": "display_data"
    }
   ],
   "source": [
    "(data.isna().mean() * 100).plot(kind='barh', figsize=(10,7))\n",
    "plt.grid()\n",
    "plt.title('Доля пропущенных значений в данных в %')\n",
    "plt.xlabel('% пропусков')\n",
    "plt.ylabel('признаки')\n",
    "plt.show()"
   ]
  },
  {
   "cell_type": "markdown",
   "metadata": {},
   "source": [
    "<div class=\"alert alert-success\">\n",
    "<h2> Комментарий ревьюера v.2 <a class=\"tocSkip\"> </h2>\n",
    "\n",
    "<b>Все отлично!👍:</b> Учтено."
   ]
  },
  {
   "cell_type": "markdown",
   "metadata": {},
   "source": [
    "Есть пропуски в категориальных признаках. Заполним их значением 'unknown'."
   ]
  },
  {
   "cell_type": "code",
   "execution_count": 6,
   "metadata": {},
   "outputs": [
    {
     "data": {
      "text/plain": [
       "DateCrawled          0\n",
       "Price                0\n",
       "VehicleType          0\n",
       "RegistrationYear     0\n",
       "Gearbox              0\n",
       "Power                0\n",
       "Model                0\n",
       "Kilometer            0\n",
       "RegistrationMonth    0\n",
       "FuelType             0\n",
       "Brand                0\n",
       "Repaired             0\n",
       "DateCreated          0\n",
       "NumberOfPictures     0\n",
       "PostalCode           0\n",
       "LastSeen             0\n",
       "dtype: int64"
      ]
     },
     "execution_count": 6,
     "metadata": {},
     "output_type": "execute_result"
    }
   ],
   "source": [
    "cat = ['FuelType', 'VehicleType', 'Gearbox', 'Model', 'Repaired']\n",
    "data[cat] = data[cat].fillna('unknown')\n",
    "data.isna().sum()"
   ]
  },
  {
   "cell_type": "markdown",
   "metadata": {},
   "source": [
    "Посмотрим на численное описание признаков."
   ]
  },
  {
   "cell_type": "code",
   "execution_count": 7,
   "metadata": {},
   "outputs": [
    {
     "data": {
      "text/html": [
       "<style  type=\"text/css\" >\n",
       "#T_7b8ae_row0_col0,#T_7b8ae_row0_col1,#T_7b8ae_row0_col2,#T_7b8ae_row0_col3,#T_7b8ae_row0_col4,#T_7b8ae_row0_col5,#T_7b8ae_row0_col6{\n",
       "            background-color:  #023858;\n",
       "            color:  #f1f1f1;\n",
       "        }#T_7b8ae_row1_col0,#T_7b8ae_row2_col0,#T_7b8ae_row6_col0{\n",
       "            background-color:  #fdf5fa;\n",
       "            color:  #000000;\n",
       "        }#T_7b8ae_row1_col1,#T_7b8ae_row4_col1,#T_7b8ae_row5_col0,#T_7b8ae_row5_col1,#T_7b8ae_row6_col1{\n",
       "            background-color:  #fef6fb;\n",
       "            color:  #000000;\n",
       "        }#T_7b8ae_row1_col2,#T_7b8ae_row1_col4,#T_7b8ae_row1_col5,#T_7b8ae_row2_col1,#T_7b8ae_row2_col2,#T_7b8ae_row2_col4,#T_7b8ae_row2_col5,#T_7b8ae_row3_col0,#T_7b8ae_row3_col1,#T_7b8ae_row3_col2,#T_7b8ae_row3_col3,#T_7b8ae_row3_col4,#T_7b8ae_row3_col5,#T_7b8ae_row3_col6,#T_7b8ae_row4_col0,#T_7b8ae_row4_col2,#T_7b8ae_row4_col4,#T_7b8ae_row4_col5,#T_7b8ae_row5_col2,#T_7b8ae_row5_col4,#T_7b8ae_row5_col5,#T_7b8ae_row6_col2,#T_7b8ae_row6_col4,#T_7b8ae_row6_col5,#T_7b8ae_row7_col4,#T_7b8ae_row7_col5{\n",
       "            background-color:  #fff7fb;\n",
       "            color:  #000000;\n",
       "        }#T_7b8ae_row1_col3{\n",
       "            background-color:  #adc1dd;\n",
       "            color:  #000000;\n",
       "        }#T_7b8ae_row1_col6,#T_7b8ae_row5_col6{\n",
       "            background-color:  #e9e5f1;\n",
       "            color:  #000000;\n",
       "        }#T_7b8ae_row2_col3{\n",
       "            background-color:  #f1ebf4;\n",
       "            color:  #000000;\n",
       "        }#T_7b8ae_row2_col6{\n",
       "            background-color:  #f5eef6;\n",
       "            color:  #000000;\n",
       "        }#T_7b8ae_row4_col3{\n",
       "            background-color:  #b1c2de;\n",
       "            color:  #000000;\n",
       "        }#T_7b8ae_row4_col6{\n",
       "            background-color:  #f2ecf5;\n",
       "            color:  #000000;\n",
       "        }#T_7b8ae_row5_col3,#T_7b8ae_row6_col3,#T_7b8ae_row7_col3{\n",
       "            background-color:  #96b6d7;\n",
       "            color:  #000000;\n",
       "        }#T_7b8ae_row6_col6{\n",
       "            background-color:  #dcdaeb;\n",
       "            color:  #000000;\n",
       "        }#T_7b8ae_row7_col0,#T_7b8ae_row7_col2{\n",
       "            background-color:  #f7f0f7;\n",
       "            color:  #000000;\n",
       "        }#T_7b8ae_row7_col1{\n",
       "            background-color:  #fbf3f9;\n",
       "            color:  #000000;\n",
       "        }#T_7b8ae_row7_col6{\n",
       "            background-color:  #c6cce3;\n",
       "            color:  #000000;\n",
       "        }</style><table id=\"T_7b8ae_\" ><thead>    <tr>        <th class=\"blank level0\" ></th>        <th class=\"col_heading level0 col0\" >Price</th>        <th class=\"col_heading level0 col1\" >RegistrationYear</th>        <th class=\"col_heading level0 col2\" >Power</th>        <th class=\"col_heading level0 col3\" >Kilometer</th>        <th class=\"col_heading level0 col4\" >RegistrationMonth</th>        <th class=\"col_heading level0 col5\" >NumberOfPictures</th>        <th class=\"col_heading level0 col6\" >PostalCode</th>    </tr></thead><tbody>\n",
       "                <tr>\n",
       "                        <th id=\"T_7b8ae_level0_row0\" class=\"row_heading level0 row0\" >count</th>\n",
       "                        <td id=\"T_7b8ae_row0_col0\" class=\"data row0 col0\" >354369.000000</td>\n",
       "                        <td id=\"T_7b8ae_row0_col1\" class=\"data row0 col1\" >354369.000000</td>\n",
       "                        <td id=\"T_7b8ae_row0_col2\" class=\"data row0 col2\" >354369.000000</td>\n",
       "                        <td id=\"T_7b8ae_row0_col3\" class=\"data row0 col3\" >354369.000000</td>\n",
       "                        <td id=\"T_7b8ae_row0_col4\" class=\"data row0 col4\" >354369.000000</td>\n",
       "                        <td id=\"T_7b8ae_row0_col5\" class=\"data row0 col5\" >354369.000000</td>\n",
       "                        <td id=\"T_7b8ae_row0_col6\" class=\"data row0 col6\" >354369.000000</td>\n",
       "            </tr>\n",
       "            <tr>\n",
       "                        <th id=\"T_7b8ae_level0_row1\" class=\"row_heading level0 row1\" >mean</th>\n",
       "                        <td id=\"T_7b8ae_row1_col0\" class=\"data row1 col0\" >4416.656776</td>\n",
       "                        <td id=\"T_7b8ae_row1_col1\" class=\"data row1 col1\" >2004.234448</td>\n",
       "                        <td id=\"T_7b8ae_row1_col2\" class=\"data row1 col2\" >110.094337</td>\n",
       "                        <td id=\"T_7b8ae_row1_col3\" class=\"data row1 col3\" >128211.172535</td>\n",
       "                        <td id=\"T_7b8ae_row1_col4\" class=\"data row1 col4\" >5.714645</td>\n",
       "                        <td id=\"T_7b8ae_row1_col5\" class=\"data row1 col5\" >0.000000</td>\n",
       "                        <td id=\"T_7b8ae_row1_col6\" class=\"data row1 col6\" >50508.689087</td>\n",
       "            </tr>\n",
       "            <tr>\n",
       "                        <th id=\"T_7b8ae_level0_row2\" class=\"row_heading level0 row2\" >std</th>\n",
       "                        <td id=\"T_7b8ae_row2_col0\" class=\"data row2 col0\" >4514.158514</td>\n",
       "                        <td id=\"T_7b8ae_row2_col1\" class=\"data row2 col1\" >90.227958</td>\n",
       "                        <td id=\"T_7b8ae_row2_col2\" class=\"data row2 col2\" >189.850405</td>\n",
       "                        <td id=\"T_7b8ae_row2_col3\" class=\"data row2 col3\" >37905.341530</td>\n",
       "                        <td id=\"T_7b8ae_row2_col4\" class=\"data row2 col4\" >3.726421</td>\n",
       "                        <td id=\"T_7b8ae_row2_col5\" class=\"data row2 col5\" >0.000000</td>\n",
       "                        <td id=\"T_7b8ae_row2_col6\" class=\"data row2 col6\" >25783.096248</td>\n",
       "            </tr>\n",
       "            <tr>\n",
       "                        <th id=\"T_7b8ae_level0_row3\" class=\"row_heading level0 row3\" >min</th>\n",
       "                        <td id=\"T_7b8ae_row3_col0\" class=\"data row3 col0\" >0.000000</td>\n",
       "                        <td id=\"T_7b8ae_row3_col1\" class=\"data row3 col1\" >1000.000000</td>\n",
       "                        <td id=\"T_7b8ae_row3_col2\" class=\"data row3 col2\" >0.000000</td>\n",
       "                        <td id=\"T_7b8ae_row3_col3\" class=\"data row3 col3\" >5000.000000</td>\n",
       "                        <td id=\"T_7b8ae_row3_col4\" class=\"data row3 col4\" >0.000000</td>\n",
       "                        <td id=\"T_7b8ae_row3_col5\" class=\"data row3 col5\" >0.000000</td>\n",
       "                        <td id=\"T_7b8ae_row3_col6\" class=\"data row3 col6\" >1067.000000</td>\n",
       "            </tr>\n",
       "            <tr>\n",
       "                        <th id=\"T_7b8ae_level0_row4\" class=\"row_heading level0 row4\" >25%</th>\n",
       "                        <td id=\"T_7b8ae_row4_col0\" class=\"data row4 col0\" >1050.000000</td>\n",
       "                        <td id=\"T_7b8ae_row4_col1\" class=\"data row4 col1\" >1999.000000</td>\n",
       "                        <td id=\"T_7b8ae_row4_col2\" class=\"data row4 col2\" >69.000000</td>\n",
       "                        <td id=\"T_7b8ae_row4_col3\" class=\"data row4 col3\" >125000.000000</td>\n",
       "                        <td id=\"T_7b8ae_row4_col4\" class=\"data row4 col4\" >3.000000</td>\n",
       "                        <td id=\"T_7b8ae_row4_col5\" class=\"data row4 col5\" >0.000000</td>\n",
       "                        <td id=\"T_7b8ae_row4_col6\" class=\"data row4 col6\" >30165.000000</td>\n",
       "            </tr>\n",
       "            <tr>\n",
       "                        <th id=\"T_7b8ae_level0_row5\" class=\"row_heading level0 row5\" >50%</th>\n",
       "                        <td id=\"T_7b8ae_row5_col0\" class=\"data row5 col0\" >2700.000000</td>\n",
       "                        <td id=\"T_7b8ae_row5_col1\" class=\"data row5 col1\" >2003.000000</td>\n",
       "                        <td id=\"T_7b8ae_row5_col2\" class=\"data row5 col2\" >105.000000</td>\n",
       "                        <td id=\"T_7b8ae_row5_col3\" class=\"data row5 col3\" >150000.000000</td>\n",
       "                        <td id=\"T_7b8ae_row5_col4\" class=\"data row5 col4\" >6.000000</td>\n",
       "                        <td id=\"T_7b8ae_row5_col5\" class=\"data row5 col5\" >0.000000</td>\n",
       "                        <td id=\"T_7b8ae_row5_col6\" class=\"data row5 col6\" >49413.000000</td>\n",
       "            </tr>\n",
       "            <tr>\n",
       "                        <th id=\"T_7b8ae_level0_row6\" class=\"row_heading level0 row6\" >75%</th>\n",
       "                        <td id=\"T_7b8ae_row6_col0\" class=\"data row6 col0\" >6400.000000</td>\n",
       "                        <td id=\"T_7b8ae_row6_col1\" class=\"data row6 col1\" >2008.000000</td>\n",
       "                        <td id=\"T_7b8ae_row6_col2\" class=\"data row6 col2\" >143.000000</td>\n",
       "                        <td id=\"T_7b8ae_row6_col3\" class=\"data row6 col3\" >150000.000000</td>\n",
       "                        <td id=\"T_7b8ae_row6_col4\" class=\"data row6 col4\" >9.000000</td>\n",
       "                        <td id=\"T_7b8ae_row6_col5\" class=\"data row6 col5\" >0.000000</td>\n",
       "                        <td id=\"T_7b8ae_row6_col6\" class=\"data row6 col6\" >71083.000000</td>\n",
       "            </tr>\n",
       "            <tr>\n",
       "                        <th id=\"T_7b8ae_level0_row7\" class=\"row_heading level0 row7\" >max</th>\n",
       "                        <td id=\"T_7b8ae_row7_col0\" class=\"data row7 col0\" >20000.000000</td>\n",
       "                        <td id=\"T_7b8ae_row7_col1\" class=\"data row7 col1\" >9999.000000</td>\n",
       "                        <td id=\"T_7b8ae_row7_col2\" class=\"data row7 col2\" >20000.000000</td>\n",
       "                        <td id=\"T_7b8ae_row7_col3\" class=\"data row7 col3\" >150000.000000</td>\n",
       "                        <td id=\"T_7b8ae_row7_col4\" class=\"data row7 col4\" >12.000000</td>\n",
       "                        <td id=\"T_7b8ae_row7_col5\" class=\"data row7 col5\" >0.000000</td>\n",
       "                        <td id=\"T_7b8ae_row7_col6\" class=\"data row7 col6\" >99998.000000</td>\n",
       "            </tr>\n",
       "    </tbody></table>"
      ],
      "text/plain": [
       "<pandas.io.formats.style.Styler at 0x7f145adb1d00>"
      ]
     },
     "execution_count": 7,
     "metadata": {},
     "output_type": "execute_result"
    }
   ],
   "source": [
    "data.describe().style.background_gradient()"
   ]
  },
  {
   "cell_type": "markdown",
   "metadata": {},
   "source": [
    "И на диаграмму размаха."
   ]
  },
  {
   "cell_type": "code",
   "execution_count": 8,
   "metadata": {},
   "outputs": [
    {
     "data": {
      "image/png": "[encoded data removed]",
      "text/plain": [
       "<Figure size 1440x1080 with 4 Axes>"
      ]
     },
     "metadata": {
      "needs_background": "light"
     },
     "output_type": "display_data"
    }
   ],
   "source": [
    "plt.figure(figsize=(20, 15))\n",
    "plt.title('Диаграмма размаха признаков')\n",
    "plt.subplot(2,2,1)\n",
    "sns.boxplot(y=data['Price'])\n",
    "plt.subplot(2,2,2)\n",
    "sns.boxplot(y=data['RegistrationYear'])\n",
    "plt.subplot(2,2,3)\n",
    "sns.boxplot(y=data['Power'])\n",
    "plt.subplot(2,2,4)\n",
    "sns.boxplot(y=data['Kilometer'])\n",
    "plt.suptitle('Диаграмма размаха значений признаков', fontsize=20)\n",
    "\n",
    "plt.show()"
   ]
  },
  {
   "cell_type": "markdown",
   "metadata": {},
   "source": [
    "Есть аномальные значения, которые нужно убрать."
   ]
  },
  {
   "cell_type": "markdown",
   "metadata": {},
   "source": [
    "Чтобы синхронизировать верхнюю границу года регистрации с датой выгрузки данных из базы, приведем признак DateCrawled к формату datetime."
   ]
  },
  {
   "cell_type": "code",
   "execution_count": 9,
   "metadata": {},
   "outputs": [],
   "source": [
    "data['DateCrawled'] = pd.to_datetime(data['DateCrawled'])"
   ]
  },
  {
   "cell_type": "code",
   "execution_count": 10,
   "metadata": {},
   "outputs": [],
   "source": [
    "# год регистрации автомобиля зададим в разумных пределах\n",
    "data = data.loc[(data['RegistrationYear'] <= data['DateCrawled'].dt.year.max()) & (data['RegistrationYear'] > 1990)]"
   ]
  },
  {
   "cell_type": "code",
   "execution_count": 11,
   "metadata": {},
   "outputs": [],
   "source": [
    "# также мощность автомобиля\n",
    "data = data.loc[(data['Power'] >= 10) & (data['Power'] < 1300)]"
   ]
  },
  {
   "cell_type": "code",
   "execution_count": 12,
   "metadata": {},
   "outputs": [],
   "source": [
    "# цена не должна быть равна нулю\n",
    "data = data.loc[data['Price'] >= 500]"
   ]
  },
  {
   "cell_type": "markdown",
   "metadata": {},
   "source": [
    "Месяц регистрации трогать не будем, поскольку удаление нулевых значений месяца приведет к значительной потере данных."
   ]
  },
  {
   "cell_type": "code",
   "execution_count": 13,
   "metadata": {},
   "outputs": [
    {
     "data": {
      "text/plain": [
       "4"
      ]
     },
     "execution_count": 13,
     "metadata": {},
     "output_type": "execute_result"
    }
   ],
   "source": [
    "# проверим на дубликаты\n",
    "data.duplicated().sum()"
   ]
  },
  {
   "cell_type": "code",
   "execution_count": 14,
   "metadata": {},
   "outputs": [],
   "source": [
    "# удалим дубликат\n",
    "data = data.drop_duplicates().reset_index(drop=True)"
   ]
  },
  {
   "cell_type": "markdown",
   "metadata": {},
   "source": [
    "Удалим неинформативные признаки, не влияющие на стоимость автомобиля."
   ]
  },
  {
   "cell_type": "code",
   "execution_count": 15,
   "metadata": {},
   "outputs": [
    {
     "data": {
      "text/plain": [
       "(271133, 11)"
      ]
     },
     "execution_count": 15,
     "metadata": {},
     "output_type": "execute_result"
    }
   ],
   "source": [
    "data = data.drop(['DateCrawled', 'DateCreated',  'PostalCode', 'LastSeen', 'NumberOfPictures'], axis=1)\n",
    "data.shape"
   ]
  },
  {
   "cell_type": "code",
   "execution_count": 16,
   "metadata": {},
   "outputs": [
    {
     "data": {
      "text/plain": [
       "22025"
      ]
     },
     "execution_count": 16,
     "metadata": {},
     "output_type": "execute_result"
    }
   ],
   "source": [
    "data.duplicated().sum()"
   ]
  },
  {
   "cell_type": "code",
   "execution_count": 17,
   "metadata": {},
   "outputs": [],
   "source": [
    "# удалим\n",
    "data = data.drop_duplicates().reset_index(drop=True)"
   ]
  },
  {
   "cell_type": "code",
   "execution_count": 18,
   "metadata": {},
   "outputs": [
    {
     "name": "stdout",
     "output_type": "stream",
     "text": [
      "Данные предобработаны. Было удалено: 29.7% данных\n"
     ]
    }
   ],
   "source": [
    "# посмотрим, сколько данных было удалено\n",
    "df_first = pd.read_csv('/datasets/autos.csv')\n",
    "rows_before = df_first.shape[0]\n",
    "rows_after = data.shape[0]\n",
    "print(f'Данные предобработаны. Было удалено: {round(100 - (rows_after / rows_before * 100), 2)}% данных')"
   ]
  },
  {
   "cell_type": "markdown",
   "metadata": {},
   "source": [
    "### Подготовка выборок."
   ]
  },
  {
   "cell_type": "code",
   "execution_count": 19,
   "metadata": {},
   "outputs": [
    {
     "data": {
      "text/plain": [
       "((186831, 10), (62277, 10), (186831,), (62277,))"
      ]
     },
     "execution_count": 19,
     "metadata": {},
     "output_type": "execute_result"
    }
   ],
   "source": [
    "# разделим данные на обучающую и тестовую выборки\n",
    "\n",
    "features = data.drop('Price', axis=1)\n",
    "target = data['Price']\n",
    "\n",
    "features_train, features_test, target_train, target_test = train_test_split(\n",
    "    features, target, test_size=0.25, random_state=123)\n",
    "# проверим размерности\n",
    "features_train.shape, features_test.shape, target_train.shape, target_test.shape"
   ]
  },
  {
   "cell_type": "code",
   "execution_count": 20,
   "metadata": {},
   "outputs": [],
   "source": [
    "# создадим пайплайны с StandardScaler и OneHotEncoder для преобразования категориальных и численных признаков,\n",
    "# загрузив их в ColumnTransformer\n",
    "\n",
    "# для численных признаков\n",
    "std_scaler = StandardScaler()\n",
    "pipe_num = Pipeline([('scaler', std_scaler)])\n",
    "\n",
    "# для категориальных\n",
    "encoder = OrdinalEncoder(handle_unknown='use_encoded_value', unknown_value=-99) \n",
    "pipe_cat = Pipeline([('encoder', encoder)])\n",
    "\n",
    "# для линейной регрессии будем использовать OneHotEncoder\n",
    "encoder_ohe = OneHotEncoder(drop='first', handle_unknown='ignore')\n",
    "pipe_cat_ohe = Pipeline([('encoder', encoder_ohe)])\n",
    "\n",
    "# получаем два варианта ColumnTransformer\n",
    "# для регрессии\n",
    "col_transformer_for_lin_model = ColumnTransformer(\n",
    "    [('num_preproc', pipe_num, [x for x in features.columns if features[x].dtype!='object']),\n",
    "    ('cat_preproc', pipe_cat_ohe, [x for x in features.columns if features[x].dtype=='object'])])\n",
    "\n",
    "# для деревьев и бустинга\n",
    "col_transformer = ColumnTransformer(\n",
    "    [('num_preproc', pipe_num, [x for x in features.columns if features[x].dtype!='object']),\n",
    "    ('cat_preproc', pipe_cat, [x for x in features.columns if features[x].dtype=='object'])])"
   ]
  },
  {
   "cell_type": "markdown",
   "metadata": {},
   "source": [
    "Выборки подготовлены."
   ]
  },
  {
   "cell_type": "markdown",
   "metadata": {},
   "source": [
    "## Обучение моделей"
   ]
  },
  {
   "cell_type": "markdown",
   "metadata": {},
   "source": [
    "Обучим разные модели и подберем наилучшую модель, соответствующую критериям заказчика. Измерим время обучения и предсказания и найдем значение метрики RMSE.\n",
    "\n",
    "  ### Линейная регрессия."
   ]
  },
  {
   "cell_type": "code",
   "execution_count": 21,
   "metadata": {},
   "outputs": [
    {
     "name": "stdout",
     "output_type": "stream",
     "text": [
      "Время обучения линейной регрессии:\n",
      "CPU times: user 19.2 s, sys: 21.9 s, total: 41.1 s\n",
      "Wall time: 41.1 s\n"
     ]
    }
   ],
   "source": [
    "%%time\n",
    "model_lr = LinearRegression()\n",
    "# создадим final_pipe и загрузим в него col_transformer и модель, обучим модель и выведем время обучения\n",
    "final_pipe_for_lin_model = Pipeline([('preproc', col_transformer_for_lin_model),\n",
    "                       ('model', model_lr)])\n",
    "final_pipe_for_lin_model.fit(features_train, target_train)\n",
    "print('Время обучения линейной регрессии:')"
   ]
  },
  {
   "cell_type": "code",
   "execution_count": 22,
   "metadata": {},
   "outputs": [
    {
     "name": "stdout",
     "output_type": "stream",
     "text": [
      "Время предсказания линейной регрессии на обучающей выборке: \n",
      "\n",
      "CPU times: user 373 ms, sys: 36.6 ms, total: 410 ms\n",
      "Wall time: 418 ms\n"
     ]
    }
   ],
   "source": [
    "%%time\n",
    "# выведем время предсказания на обучающей выборке и значение метрики\n",
    "predictions = final_pipe_for_lin_model.predict(features_train)\n",
    "\n",
    "print('Время предсказания линейной регрессии на обучающей выборке: \\n')"
   ]
  },
  {
   "cell_type": "code",
   "execution_count": 23,
   "metadata": {},
   "outputs": [
    {
     "name": "stdout",
     "output_type": "stream",
     "text": [
      "RMSE модели линейной регрессии с кросс-валидации: 2287.63\n"
     ]
    }
   ],
   "source": [
    "rmse_lr = cross_val_score(final_pipe_for_lin_model, features_train, target_train, scoring='neg_root_mean_squared_error', cv=5).mean()\n",
    "\n",
    "print('RMSE модели линейной регрессии с кросс-валидации:', round(rmse_lr * (-1), 2))"
   ]
  },
  {
   "cell_type": "markdown",
   "metadata": {},
   "source": [
    "### Решающее дерево. \n",
    "\n",
    "  Подберем оптимальную глубину решающего дерева, при которой значение RMSE минимально. Используем GridSearchCV."
   ]
  },
  {
   "cell_type": "code",
   "execution_count": 24,
   "metadata": {},
   "outputs": [
    {
     "data": {
      "text/plain": [
       "{'memory': None,\n",
       " 'steps': [('preproc',\n",
       "   ColumnTransformer(transformers=[('num_preproc',\n",
       "                                    Pipeline(steps=[('scaler', StandardScaler())]),\n",
       "                                    ['RegistrationYear', 'Power', 'Kilometer',\n",
       "                                     'RegistrationMonth']),\n",
       "                                   ('cat_preproc',\n",
       "                                    Pipeline(steps=[('encoder',\n",
       "                                                     OrdinalEncoder(handle_unknown='use_encoded_value',\n",
       "                                                                    unknown_value=-99))]),\n",
       "                                    ['VehicleType', 'Gearbox', 'Model', 'FuelType',\n",
       "                                     'Brand', 'Repaired'])])),\n",
       "  ('model', DecisionTreeRegressor())],\n",
       " 'verbose': False,\n",
       " 'preproc': ColumnTransformer(transformers=[('num_preproc',\n",
       "                                  Pipeline(steps=[('scaler', StandardScaler())]),\n",
       "                                  ['RegistrationYear', 'Power', 'Kilometer',\n",
       "                                   'RegistrationMonth']),\n",
       "                                 ('cat_preproc',\n",
       "                                  Pipeline(steps=[('encoder',\n",
       "                                                   OrdinalEncoder(handle_unknown='use_encoded_value',\n",
       "                                                                  unknown_value=-99))]),\n",
       "                                  ['VehicleType', 'Gearbox', 'Model', 'FuelType',\n",
       "                                   'Brand', 'Repaired'])]),\n",
       " 'model': DecisionTreeRegressor(),\n",
       " 'preproc__n_jobs': None,\n",
       " 'preproc__remainder': 'drop',\n",
       " 'preproc__sparse_threshold': 0.3,\n",
       " 'preproc__transformer_weights': None,\n",
       " 'preproc__transformers': [('num_preproc',\n",
       "   Pipeline(steps=[('scaler', StandardScaler())]),\n",
       "   ['RegistrationYear', 'Power', 'Kilometer', 'RegistrationMonth']),\n",
       "  ('cat_preproc',\n",
       "   Pipeline(steps=[('encoder',\n",
       "                    OrdinalEncoder(handle_unknown='use_encoded_value',\n",
       "                                   unknown_value=-99))]),\n",
       "   ['VehicleType', 'Gearbox', 'Model', 'FuelType', 'Brand', 'Repaired'])],\n",
       " 'preproc__verbose': False,\n",
       " 'preproc__verbose_feature_names_out': True,\n",
       " 'preproc__num_preproc': Pipeline(steps=[('scaler', StandardScaler())]),\n",
       " 'preproc__cat_preproc': Pipeline(steps=[('encoder',\n",
       "                  OrdinalEncoder(handle_unknown='use_encoded_value',\n",
       "                                 unknown_value=-99))]),\n",
       " 'preproc__num_preproc__memory': None,\n",
       " 'preproc__num_preproc__steps': [('scaler', StandardScaler())],\n",
       " 'preproc__num_preproc__verbose': False,\n",
       " 'preproc__num_preproc__scaler': StandardScaler(),\n",
       " 'preproc__num_preproc__scaler__copy': True,\n",
       " 'preproc__num_preproc__scaler__with_mean': True,\n",
       " 'preproc__num_preproc__scaler__with_std': True,\n",
       " 'preproc__cat_preproc__memory': None,\n",
       " 'preproc__cat_preproc__steps': [('encoder',\n",
       "   OrdinalEncoder(handle_unknown='use_encoded_value', unknown_value=-99))],\n",
       " 'preproc__cat_preproc__verbose': False,\n",
       " 'preproc__cat_preproc__encoder': OrdinalEncoder(handle_unknown='use_encoded_value', unknown_value=-99),\n",
       " 'preproc__cat_preproc__encoder__categories': 'auto',\n",
       " 'preproc__cat_preproc__encoder__dtype': numpy.float64,\n",
       " 'preproc__cat_preproc__encoder__encoded_missing_value': nan,\n",
       " 'preproc__cat_preproc__encoder__handle_unknown': 'use_encoded_value',\n",
       " 'preproc__cat_preproc__encoder__max_categories': None,\n",
       " 'preproc__cat_preproc__encoder__min_frequency': None,\n",
       " 'preproc__cat_preproc__encoder__unknown_value': -99,\n",
       " 'model__ccp_alpha': 0.0,\n",
       " 'model__criterion': 'squared_error',\n",
       " 'model__max_depth': None,\n",
       " 'model__max_features': None,\n",
       " 'model__max_leaf_nodes': None,\n",
       " 'model__min_impurity_decrease': 0.0,\n",
       " 'model__min_samples_leaf': 1,\n",
       " 'model__min_samples_split': 2,\n",
       " 'model__min_weight_fraction_leaf': 0.0,\n",
       " 'model__random_state': None,\n",
       " 'model__splitter': 'best'}"
      ]
     },
     "execution_count": 24,
     "metadata": {},
     "output_type": "execute_result"
    }
   ],
   "source": [
    "model_tree = DecisionTreeRegressor()\n",
    "\n",
    "final_pipe = Pipeline([('preproc', col_transformer),\n",
    "                       ('model', model_tree)])\n",
    "# посмотрим на доступные параметры\n",
    "final_pipe.get_params()"
   ]
  },
  {
   "cell_type": "code",
   "execution_count": 25,
   "metadata": {},
   "outputs": [
    {
     "name": "stdout",
     "output_type": "stream",
     "text": [
      "{'model__max_depth': 7, 'model__random_state': 123}\n",
      "2089.572\n"
     ]
    }
   ],
   "source": [
    "params = {'model__max_depth': [2, 7],\n",
    "         'model__random_state': [123]}\n",
    "grid_search = GridSearchCV(estimator=final_pipe, param_grid=params, cv=5, scoring='neg_root_mean_squared_error')\n",
    "\n",
    "grid_search.fit(features_train, target_train)\n",
    "\n",
    "print(grid_search.best_params_)\n",
    "print(round(grid_search.best_score_ * (-1), 3))"
   ]
  },
  {
   "cell_type": "markdown",
   "metadata": {},
   "source": [
    "Наилучшая модель решающего дерева с глубиной 7, значение RMSE на обучающей выборке составляет 2089.572."
   ]
  },
  {
   "cell_type": "code",
   "execution_count": 26,
   "metadata": {},
   "outputs": [
    {
     "name": "stdout",
     "output_type": "stream",
     "text": [
      "Время обучения лучшей модели решающего дерева:\n",
      "\n",
      "CPU times: user 581 ms, sys: 4.38 ms, total: 585 ms\n",
      "Wall time: 591 ms\n"
     ]
    }
   ],
   "source": [
    "%%time\n",
    "# измерим скорость обучения лучшей модели решающего дерева \n",
    "model_tree_best = DecisionTreeRegressor(max_depth=7, random_state=123)\n",
    "final_pipe = Pipeline([('preproc', col_transformer),\n",
    "                       ('model', model_tree_best)])\n",
    "final_pipe.fit(features_train, target_train)\n",
    "print('Время обучения лучшей модели решающего дерева:\\n')"
   ]
  },
  {
   "cell_type": "code",
   "execution_count": 27,
   "metadata": {},
   "outputs": [
    {
     "name": "stdout",
     "output_type": "stream",
     "text": [
      "Время предсказания лучшей модели решающего дерева на обучающей выборке:\n",
      "\n",
      "CPU times: user 238 ms, sys: 1.13 ms, total: 239 ms\n",
      "Wall time: 247 ms\n"
     ]
    }
   ],
   "source": [
    "%%time\n",
    "# измерим скорость предсказания лучшей модели решающего дерева\n",
    "predictions = final_pipe.predict(features_train)\n",
    "print('Время предсказания лучшей модели решающего дерева на обучающей выборке:\\n')"
   ]
  },
  {
   "cell_type": "markdown",
   "metadata": {},
   "source": [
    "Значение метрики RMSE для этой модели мы уже нашли."
   ]
  },
  {
   "cell_type": "markdown",
   "metadata": {},
   "source": [
    "### Градиентный бустинг LightGBM."
   ]
  },
  {
   "cell_type": "markdown",
   "metadata": {},
   "source": [
    "Аналогично найдем наилучшие гиперпараметры модели с помощью GridSearchCV."
   ]
  },
  {
   "cell_type": "code",
   "execution_count": 29,
   "metadata": {},
   "outputs": [
    {
     "data": {
      "text/plain": [
       "{'memory': None,\n",
       " 'steps': [('preproc',\n",
       "   ColumnTransformer(transformers=[('num_preproc',\n",
       "                                    Pipeline(steps=[('scaler', StandardScaler())]),\n",
       "                                    ['RegistrationYear', 'Power', 'Kilometer',\n",
       "                                     'RegistrationMonth']),\n",
       "                                   ('cat_preproc',\n",
       "                                    Pipeline(steps=[('encoder',\n",
       "                                                     OrdinalEncoder(handle_unknown='use_encoded_value',\n",
       "                                                                    unknown_value=-99))]),\n",
       "                                    ['VehicleType', 'Gearbox', 'Model', 'FuelType',\n",
       "                                     'Brand', 'Repaired'])])),\n",
       "  ('model', LGBMRegressor())],\n",
       " 'verbose': False,\n",
       " 'preproc': ColumnTransformer(transformers=[('num_preproc',\n",
       "                                  Pipeline(steps=[('scaler', StandardScaler())]),\n",
       "                                  ['RegistrationYear', 'Power', 'Kilometer',\n",
       "                                   'RegistrationMonth']),\n",
       "                                 ('cat_preproc',\n",
       "                                  Pipeline(steps=[('encoder',\n",
       "                                                   OrdinalEncoder(handle_unknown='use_encoded_value',\n",
       "                                                                  unknown_value=-99))]),\n",
       "                                  ['VehicleType', 'Gearbox', 'Model', 'FuelType',\n",
       "                                   'Brand', 'Repaired'])]),\n",
       " 'model': LGBMRegressor(),\n",
       " 'preproc__n_jobs': None,\n",
       " 'preproc__remainder': 'drop',\n",
       " 'preproc__sparse_threshold': 0.3,\n",
       " 'preproc__transformer_weights': None,\n",
       " 'preproc__transformers': [('num_preproc',\n",
       "   Pipeline(steps=[('scaler', StandardScaler())]),\n",
       "   ['RegistrationYear', 'Power', 'Kilometer', 'RegistrationMonth']),\n",
       "  ('cat_preproc',\n",
       "   Pipeline(steps=[('encoder',\n",
       "                    OrdinalEncoder(handle_unknown='use_encoded_value',\n",
       "                                   unknown_value=-99))]),\n",
       "   ['VehicleType', 'Gearbox', 'Model', 'FuelType', 'Brand', 'Repaired'])],\n",
       " 'preproc__verbose': False,\n",
       " 'preproc__verbose_feature_names_out': True,\n",
       " 'preproc__num_preproc': Pipeline(steps=[('scaler', StandardScaler())]),\n",
       " 'preproc__cat_preproc': Pipeline(steps=[('encoder',\n",
       "                  OrdinalEncoder(handle_unknown='use_encoded_value',\n",
       "                                 unknown_value=-99))]),\n",
       " 'preproc__num_preproc__memory': None,\n",
       " 'preproc__num_preproc__steps': [('scaler', StandardScaler())],\n",
       " 'preproc__num_preproc__verbose': False,\n",
       " 'preproc__num_preproc__scaler': StandardScaler(),\n",
       " 'preproc__num_preproc__scaler__copy': True,\n",
       " 'preproc__num_preproc__scaler__with_mean': True,\n",
       " 'preproc__num_preproc__scaler__with_std': True,\n",
       " 'preproc__cat_preproc__memory': None,\n",
       " 'preproc__cat_preproc__steps': [('encoder',\n",
       "   OrdinalEncoder(handle_unknown='use_encoded_value', unknown_value=-99))],\n",
       " 'preproc__cat_preproc__verbose': False,\n",
       " 'preproc__cat_preproc__encoder': OrdinalEncoder(handle_unknown='use_encoded_value', unknown_value=-99),\n",
       " 'preproc__cat_preproc__encoder__categories': 'auto',\n",
       " 'preproc__cat_preproc__encoder__dtype': numpy.float64,\n",
       " 'preproc__cat_preproc__encoder__encoded_missing_value': nan,\n",
       " 'preproc__cat_preproc__encoder__handle_unknown': 'use_encoded_value',\n",
       " 'preproc__cat_preproc__encoder__max_categories': None,\n",
       " 'preproc__cat_preproc__encoder__min_frequency': None,\n",
       " 'preproc__cat_preproc__encoder__unknown_value': -99,\n",
       " 'model__boosting_type': 'gbdt',\n",
       " 'model__class_weight': None,\n",
       " 'model__colsample_bytree': 1.0,\n",
       " 'model__importance_type': 'split',\n",
       " 'model__learning_rate': 0.1,\n",
       " 'model__max_depth': -1,\n",
       " 'model__min_child_samples': 20,\n",
       " 'model__min_child_weight': 0.001,\n",
       " 'model__min_split_gain': 0.0,\n",
       " 'model__n_estimators': 100,\n",
       " 'model__n_jobs': -1,\n",
       " 'model__num_leaves': 31,\n",
       " 'model__objective': None,\n",
       " 'model__random_state': None,\n",
       " 'model__reg_alpha': 0.0,\n",
       " 'model__reg_lambda': 0.0,\n",
       " 'model__silent': 'warn',\n",
       " 'model__subsample': 1.0,\n",
       " 'model__subsample_for_bin': 200000,\n",
       " 'model__subsample_freq': 0}"
      ]
     },
     "execution_count": 29,
     "metadata": {},
     "output_type": "execute_result"
    }
   ],
   "source": [
    "model_lgbm = LGBMRegressor()\n",
    "\n",
    "final_pipe = Pipeline([('preproc', col_transformer),\n",
    "                       ('model', model_lgbm)])\n",
    "# посмотрим на доступные параметры\n",
    "final_pipe.get_params()"
   ]
  },
  {
   "cell_type": "code",
   "execution_count": 30,
   "metadata": {},
   "outputs": [
    {
     "name": "stdout",
     "output_type": "stream",
     "text": [
      "{'model__boosting_type': 'gbdt', 'model__num_leaves': 36, 'model__random_state': 123}\n",
      "1576.129\n"
     ]
    }
   ],
   "source": [
    "params = {'model__num_leaves': [31, 36],\n",
    "         'model__boosting_type': ['gbdt', 'dart'],\n",
    "         'model__random_state': [123]}\n",
    "grid_search = GridSearchCV(estimator=final_pipe, param_grid=params, cv=5, scoring='neg_root_mean_squared_error')\n",
    "\n",
    "grid_search.fit(features_train, target_train)\n",
    "\n",
    "print(grid_search.best_params_)\n",
    "print(round(grid_search.best_score_ * (-1), 3))"
   ]
  },
  {
   "cell_type": "markdown",
   "metadata": {},
   "source": [
    "Лучшая модель LightGBM с типом бустинга gbdt и числом листьев 36. Значение RMSE 1576.129. Измерим скорость обучения и предсказания модели."
   ]
  },
  {
   "cell_type": "code",
   "execution_count": 31,
   "metadata": {},
   "outputs": [
    {
     "name": "stdout",
     "output_type": "stream",
     "text": [
      "Время обучения лучшей модели LightGBM:\n",
      "\n",
      "\n",
      "\n",
      "CPU times: user 37.3 s, sys: 343 ms, total: 37.7 s\n",
      "Wall time: 37.9 s\n"
     ]
    }
   ],
   "source": [
    "%%time\n",
    "# время обучения. Параметр boosting_type='gbdt' это параметр по умолчанию, поэтому можно его не указывать\n",
    "model_lgbm_best = LGBMRegressor(num_leaves=36, random_state=123)\n",
    "final_pipe = Pipeline([('preproc', col_transformer),\n",
    "                       ('model', model_lgbm_best)])\n",
    "final_pipe.fit(features_train, target_train)\n",
    "print('Время обучения лучшей модели LightGBM:\\n')\n",
    "print('\\n')        "
   ]
  },
  {
   "cell_type": "code",
   "execution_count": 32,
   "metadata": {},
   "outputs": [
    {
     "name": "stdout",
     "output_type": "stream",
     "text": [
      "Время предсказания лучшей модели LightGBM на обучающей выборке:\n",
      "\n",
      "CPU times: user 1.7 s, sys: 1 ms, total: 1.71 s\n",
      "Wall time: 1.71 s\n"
     ]
    }
   ],
   "source": [
    "%%time\n",
    "# время предсказания\n",
    "predictions = final_pipe.predict(features_train)\n",
    "print('Время предсказания лучшей модели LightGBM на обучающей выборке:\\n')"
   ]
  },
  {
   "cell_type": "markdown",
   "metadata": {},
   "source": [
    "## Анализ моделей"
   ]
  },
  {
   "cell_type": "markdown",
   "metadata": {},
   "source": [
    "Было обучено три модели с измерением времени обучения и предсказания.\n",
    "\n",
    "- время обучения линейной регрессии 41.1 секунды, предсказания - 418 милисекунд. Значение RMSE, полученное с кросс-валидации: 2287.63.\n",
    "\n",
    "-  лучшую модель решающего дерева получили, выбрав наименьшее RMSE на кросс-валидации. Это модель с глубиной 7, значение RMSE на обучающей выборке составило 2089.572. Время обучения - 591 милисекунда, предсказания - 247 милисекунд. Модель показала себя лучше модели линейной регрессии. \n",
    "  \n",
    "- лучшую модель LightGBM аналогично искали наименьшим RMSE на кросс-валидации. Это модель с числом листьtd 36 и boosting_type = 'gbdt'. Значение RMSE составило 1576.129. Время обучения - 37.9 секунды, предсказания - 1.71 секунды. Значение метрики существенно лучше предыдущих моделей. \n",
    "\n",
    "Таким образом, модель, соответствующая критериям заказчика - это LightGBM."
   ]
  },
  {
   "cell_type": "markdown",
   "metadata": {},
   "source": [
    "### Проверка модели на тестовой выборке."
   ]
  },
  {
   "cell_type": "markdown",
   "metadata": {},
   "source": [
    "Лучшая модель определена. Проверим ее качество на тестовой выборке."
   ]
  },
  {
   "cell_type": "code",
   "execution_count": 33,
   "metadata": {},
   "outputs": [
    {
     "name": "stdout",
     "output_type": "stream",
     "text": [
      "RMSE лучшей модели LightGBM на тестовой выборке: 1575.49\n"
     ]
    }
   ],
   "source": [
    "# параметр boosting_type='gbdt' можно не указывать\n",
    "model_lgbm_best = LGBMRegressor(num_leaves=36, random_state=123)\n",
    "\n",
    "final_pipe = Pipeline([('preproc', col_transformer),\n",
    "                       ('model', model_lgbm_best)])\n",
    "final_pipe.fit(features_train, target_train)\n",
    "predictions = final_pipe.predict(features_test)\n",
    "predictions\n",
    "rmse_lgbm_best = mean_squared_error(target_test, predictions, squared=False)\n",
    "print('RMSE лучшей модели LightGBM на тестовой выборке:', round(rmse_lgbm_best, 2))"
   ]
  },
  {
   "cell_type": "markdown",
   "metadata": {},
   "source": [
    "Также проверим модель на адекватность с помощью DummyRegressor, сравнив значения метрик."
   ]
  },
  {
   "cell_type": "code",
   "execution_count": 34,
   "metadata": {},
   "outputs": [
    {
     "name": "stdout",
     "output_type": "stream",
     "text": [
      "Значение rmse dummy-модели с кросс-валидации: 4618.175\n"
     ]
    }
   ],
   "source": [
    "dummy_model = DummyRegressor()\n",
    "final_pipe = Pipeline([('preproc', col_transformer),\n",
    "                       ('model', dummy_model)])\n",
    "# найдем rmse dummy-модели с кросс-валидации\n",
    "rmse_dummy = cross_val_score(\n",
    "        final_pipe, features_train, target_train, scoring='neg_root_mean_squared_error', cv=5).mean()        \n",
    "print(f'Значение rmse dummy-модели с кросс-валидации: {round(rmse_dummy * (-1), 3)}')"
   ]
  },
  {
   "cell_type": "markdown",
   "metadata": {},
   "source": [
    "Сравнение метрик показало, что модель LightGBM однозначно прошла проверку на адекватность. "
   ]
  },
  {
   "cell_type": "markdown",
   "metadata": {},
   "source": [
    "## Общий вывод."
   ]
  },
  {
   "cell_type": "markdown",
   "metadata": {},
   "source": [
    "В ходе работы над проектом исходные данные были изучены и предобработаны.\n",
    "\n",
    "  Были подготовлены выборки для обучения. C помощью пайплайнов преобразовали категориальные признаки и масштабировали численные. \n",
    "  \n",
    "  Лучшие гиперпараметры искали с помощью GridSearchCV и наименьим значением метрики RMSE.\n",
    "    \n",
    "  Критериям заказчика (качество предсказания, скорость обучения и предсказания) в данном случае удовлетворяет модель LightGBM (с num_leaves=33). Время обучения - 37.9 секунды, предсказания - 1.71 секунды. Значение RMSE на тестовой выборке составило 1575.49.\n",
    "  Модель также прошла проверку на адекватность с помощью dummy-модели."
   ]
  }
 ],
 "metadata": {
  "ExecuteTimeLog": [
   {
    "duration": 51,
    "start_time": "2023-09-22T08:19:36.910Z"
   },
   {
    "duration": 367,
    "start_time": "2023-09-22T08:19:39.870Z"
   },
   {
    "duration": 1234,
    "start_time": "2023-09-22T08:19:40.275Z"
   },
   {
    "duration": 998,
    "start_time": "2023-09-22T08:19:51.667Z"
   },
   {
    "duration": 151,
    "start_time": "2023-09-22T08:20:46.367Z"
   },
   {
    "duration": 844,
    "start_time": "2023-09-22T08:21:20.285Z"
   },
   {
    "duration": 405,
    "start_time": "2023-09-22T08:21:30.843Z"
   },
   {
    "duration": 338,
    "start_time": "2023-09-22T08:21:50.092Z"
   },
   {
    "duration": 335,
    "start_time": "2023-09-22T08:21:58.131Z"
   },
   {
    "duration": 399,
    "start_time": "2023-09-22T08:22:03.534Z"
   },
   {
    "duration": 233,
    "start_time": "2023-09-22T08:22:11.478Z"
   },
   {
    "duration": 193,
    "start_time": "2023-09-22T08:22:14.903Z"
   },
   {
    "duration": 366,
    "start_time": "2023-09-22T08:22:25.404Z"
   },
   {
    "duration": 383,
    "start_time": "2023-09-22T08:22:45.510Z"
   },
   {
    "duration": 44,
    "start_time": "2023-09-22T15:59:20.889Z"
   },
   {
    "duration": 389,
    "start_time": "2023-09-22T15:59:30.276Z"
   },
   {
    "duration": 3093,
    "start_time": "2023-09-22T15:59:30.881Z"
   },
   {
    "duration": 66,
    "start_time": "2023-09-22T15:59:33.976Z"
   },
   {
    "duration": 0,
    "start_time": "2023-09-22T15:59:34.044Z"
   },
   {
    "duration": 4,
    "start_time": "2023-09-22T15:59:40.126Z"
   },
   {
    "duration": 838,
    "start_time": "2023-09-22T16:00:01.559Z"
   },
   {
    "duration": 363,
    "start_time": "2023-09-22T16:00:51.134Z"
   },
   {
    "duration": 161,
    "start_time": "2023-09-22T16:01:49.468Z"
   },
   {
    "duration": 166,
    "start_time": "2023-09-22T16:02:04.271Z"
   },
   {
    "duration": 197,
    "start_time": "2023-09-22T16:02:08.367Z"
   },
   {
    "duration": 172,
    "start_time": "2023-09-22T16:03:41.947Z"
   },
   {
    "duration": 183,
    "start_time": "2023-09-22T16:04:24.720Z"
   },
   {
    "duration": 513,
    "start_time": "2023-09-22T16:05:18.750Z"
   },
   {
    "duration": 497,
    "start_time": "2023-09-22T16:05:28.007Z"
   },
   {
    "duration": 475,
    "start_time": "2023-09-22T16:05:40.163Z"
   },
   {
    "duration": 10,
    "start_time": "2023-09-22T16:09:11.985Z"
   },
   {
    "duration": 9,
    "start_time": "2023-09-22T16:11:57.002Z"
   },
   {
    "duration": 449,
    "start_time": "2023-09-22T16:12:03.161Z"
   },
   {
    "duration": 40,
    "start_time": "2023-09-22T16:13:13.683Z"
   },
   {
    "duration": 55,
    "start_time": "2023-09-22T16:13:40.936Z"
   },
   {
    "duration": 47,
    "start_time": "2023-09-22T16:15:00.119Z"
   },
   {
    "duration": 45,
    "start_time": "2023-09-22T16:15:42.223Z"
   },
   {
    "duration": 6,
    "start_time": "2023-09-22T16:19:21.618Z"
   },
   {
    "duration": 43,
    "start_time": "2023-09-22T16:20:06.970Z"
   },
   {
    "duration": 49,
    "start_time": "2023-09-22T16:21:00.930Z"
   },
   {
    "duration": 9,
    "start_time": "2023-09-22T16:22:18.219Z"
   },
   {
    "duration": 5,
    "start_time": "2023-09-22T16:22:45.159Z"
   },
   {
    "duration": 20,
    "start_time": "2023-09-22T16:22:50.320Z"
   },
   {
    "duration": 670,
    "start_time": "2023-09-22T18:21:22.763Z"
   },
   {
    "duration": 3722,
    "start_time": "2023-09-22T18:21:23.435Z"
   },
   {
    "duration": 13,
    "start_time": "2023-09-22T18:21:27.163Z"
   },
   {
    "duration": 1623,
    "start_time": "2023-09-22T18:21:27.179Z"
   },
   {
    "duration": 399,
    "start_time": "2023-09-22T18:21:28.804Z"
   },
   {
    "duration": 92,
    "start_time": "2023-09-22T18:21:29.205Z"
   },
   {
    "duration": 91,
    "start_time": "2023-09-22T18:21:29.301Z"
   },
   {
    "duration": 99,
    "start_time": "2023-09-22T18:21:29.394Z"
   },
   {
    "duration": 95,
    "start_time": "2023-09-22T18:21:29.509Z"
   },
   {
    "duration": 85,
    "start_time": "2023-09-22T18:21:33.548Z"
   },
   {
    "duration": 49,
    "start_time": "2023-09-22T18:21:34.283Z"
   },
   {
    "duration": 137,
    "start_time": "2023-09-22T18:22:10.596Z"
   },
   {
    "duration": 5,
    "start_time": "2023-09-22T18:23:02.231Z"
   },
   {
    "duration": 26,
    "start_time": "2023-09-22T18:23:11.870Z"
   },
   {
    "duration": 717,
    "start_time": "2023-09-22T18:26:21.351Z"
   },
   {
    "duration": 22,
    "start_time": "2023-09-22T18:27:19.039Z"
   },
   {
    "duration": 21,
    "start_time": "2023-09-22T18:27:34.704Z"
   },
   {
    "duration": 17,
    "start_time": "2023-09-22T18:27:38.729Z"
   },
   {
    "duration": 862,
    "start_time": "2023-09-22T18:27:58.831Z"
   },
   {
    "duration": 18,
    "start_time": "2023-09-22T18:28:11.886Z"
   },
   {
    "duration": 20,
    "start_time": "2023-09-22T18:31:26.009Z"
   },
   {
    "duration": 4,
    "start_time": "2023-09-22T18:34:46.087Z"
   },
   {
    "duration": 1686,
    "start_time": "2023-09-22T18:34:46.407Z"
   },
   {
    "duration": 7,
    "start_time": "2023-09-22T18:34:48.096Z"
   },
   {
    "duration": 809,
    "start_time": "2023-09-22T18:34:48.105Z"
   },
   {
    "duration": 328,
    "start_time": "2023-09-22T18:34:48.917Z"
   },
   {
    "duration": 103,
    "start_time": "2023-09-22T18:34:49.247Z"
   },
   {
    "duration": 96,
    "start_time": "2023-09-22T18:34:49.357Z"
   },
   {
    "duration": 101,
    "start_time": "2023-09-22T18:34:49.460Z"
   },
   {
    "duration": 86,
    "start_time": "2023-09-22T18:34:49.567Z"
   },
   {
    "duration": 84,
    "start_time": "2023-09-22T18:34:49.660Z"
   },
   {
    "duration": 29,
    "start_time": "2023-09-22T18:34:49.752Z"
   },
   {
    "duration": 40,
    "start_time": "2023-09-22T18:35:43.567Z"
   },
   {
    "duration": 21,
    "start_time": "2023-09-22T18:36:31.051Z"
   },
   {
    "duration": 25,
    "start_time": "2023-09-22T18:36:41.809Z"
   },
   {
    "duration": 63,
    "start_time": "2023-09-22T18:36:45.444Z"
   },
   {
    "duration": 3141,
    "start_time": "2023-09-22T18:37:52.898Z"
   },
   {
    "duration": 0,
    "start_time": "2023-09-22T18:37:56.045Z"
   },
   {
    "duration": 578,
    "start_time": "2023-09-22T18:38:18.398Z"
   },
   {
    "duration": 1565,
    "start_time": "2023-09-22T18:38:18.978Z"
   },
   {
    "duration": 7,
    "start_time": "2023-09-22T18:38:20.548Z"
   },
   {
    "duration": 1031,
    "start_time": "2023-09-22T18:38:20.560Z"
   },
   {
    "duration": 339,
    "start_time": "2023-09-22T18:38:21.593Z"
   },
   {
    "duration": 58,
    "start_time": "2023-09-22T18:38:21.948Z"
   },
   {
    "duration": 76,
    "start_time": "2023-09-22T18:38:22.012Z"
   },
   {
    "duration": 76,
    "start_time": "2023-09-22T18:38:22.090Z"
   },
   {
    "duration": 65,
    "start_time": "2023-09-22T18:38:22.169Z"
   },
   {
    "duration": 63,
    "start_time": "2023-09-22T18:38:22.240Z"
   },
   {
    "duration": 35,
    "start_time": "2023-09-22T18:38:22.314Z"
   },
   {
    "duration": 174,
    "start_time": "2023-09-22T18:43:07.802Z"
   },
   {
    "duration": 28,
    "start_time": "2023-09-22T18:43:16.690Z"
   },
   {
    "duration": 18,
    "start_time": "2023-09-22T18:43:25.188Z"
   },
   {
    "duration": 21,
    "start_time": "2023-09-22T18:43:36.681Z"
   },
   {
    "duration": 665,
    "start_time": "2023-09-22T18:43:59.131Z"
   },
   {
    "duration": 869,
    "start_time": "2023-09-22T18:44:26.591Z"
   },
   {
    "duration": 646,
    "start_time": "2023-09-22T18:45:38.657Z"
   },
   {
    "duration": 15,
    "start_time": "2023-09-22T18:45:57.592Z"
   },
   {
    "duration": 13,
    "start_time": "2023-09-22T18:51:24.576Z"
   },
   {
    "duration": 740,
    "start_time": "2023-09-22T18:51:31.710Z"
   },
   {
    "duration": 182,
    "start_time": "2023-09-22T18:54:11.983Z"
   },
   {
    "duration": 16,
    "start_time": "2023-09-22T18:54:18.953Z"
   },
   {
    "duration": 26,
    "start_time": "2023-09-22T18:54:29.412Z"
   },
   {
    "duration": 13,
    "start_time": "2023-09-22T18:54:59.882Z"
   },
   {
    "duration": 28,
    "start_time": "2023-09-22T18:55:16.828Z"
   },
   {
    "duration": 555,
    "start_time": "2023-09-22T18:58:51.089Z"
   },
   {
    "duration": 25,
    "start_time": "2023-09-22T18:59:02.430Z"
   },
   {
    "duration": 17,
    "start_time": "2023-09-22T18:59:18.140Z"
   },
   {
    "duration": 19,
    "start_time": "2023-09-22T18:59:25.637Z"
   },
   {
    "duration": 2,
    "start_time": "2023-09-22T19:16:10.137Z"
   },
   {
    "duration": 14,
    "start_time": "2023-09-22T19:19:11.171Z"
   },
   {
    "duration": 492,
    "start_time": "2023-09-22T19:19:31.677Z"
   },
   {
    "duration": 1212,
    "start_time": "2023-09-22T19:19:32.171Z"
   },
   {
    "duration": 5,
    "start_time": "2023-09-22T19:19:33.386Z"
   },
   {
    "duration": 733,
    "start_time": "2023-09-22T19:19:33.393Z"
   },
   {
    "duration": 223,
    "start_time": "2023-09-22T19:19:34.129Z"
   },
   {
    "duration": 41,
    "start_time": "2023-09-22T19:19:34.354Z"
   },
   {
    "duration": 60,
    "start_time": "2023-09-22T19:19:34.396Z"
   },
   {
    "duration": 67,
    "start_time": "2023-09-22T19:19:34.458Z"
   },
   {
    "duration": 60,
    "start_time": "2023-09-22T19:19:34.527Z"
   },
   {
    "duration": 59,
    "start_time": "2023-09-22T19:19:34.589Z"
   },
   {
    "duration": 3,
    "start_time": "2023-09-22T19:19:34.650Z"
   },
   {
    "duration": 170,
    "start_time": "2023-09-22T19:19:34.655Z"
   },
   {
    "duration": 370,
    "start_time": "2023-09-22T19:20:00.662Z"
   },
   {
    "duration": 2789,
    "start_time": "2023-09-22T19:20:43.292Z"
   },
   {
    "duration": 579,
    "start_time": "2023-09-22T19:21:28.885Z"
   },
   {
    "duration": 1061,
    "start_time": "2023-09-22T19:21:29.466Z"
   },
   {
    "duration": 4,
    "start_time": "2023-09-22T19:21:30.529Z"
   },
   {
    "duration": 422,
    "start_time": "2023-09-22T19:21:30.535Z"
   },
   {
    "duration": 188,
    "start_time": "2023-09-22T19:21:30.960Z"
   },
   {
    "duration": 84,
    "start_time": "2023-09-22T19:21:31.150Z"
   },
   {
    "duration": 90,
    "start_time": "2023-09-22T19:21:31.236Z"
   },
   {
    "duration": 60,
    "start_time": "2023-09-22T19:21:31.396Z"
   },
   {
    "duration": 53,
    "start_time": "2023-09-22T19:21:31.693Z"
   },
   {
    "duration": 49,
    "start_time": "2023-09-22T19:21:31.992Z"
   },
   {
    "duration": 3,
    "start_time": "2023-09-22T19:21:32.334Z"
   },
   {
    "duration": 310,
    "start_time": "2023-09-22T19:21:32.682Z"
   },
   {
    "duration": 112,
    "start_time": "2023-09-22T19:22:18.156Z"
   },
   {
    "duration": 10,
    "start_time": "2023-09-22T19:22:45.242Z"
   },
   {
    "duration": 3,
    "start_time": "2023-09-22T19:23:02.436Z"
   },
   {
    "duration": 194,
    "start_time": "2023-09-22T19:23:06.651Z"
   },
   {
    "duration": 1332,
    "start_time": "2023-09-22T19:26:02.602Z"
   },
   {
    "duration": 1054,
    "start_time": "2023-09-22T19:26:03.935Z"
   },
   {
    "duration": 4,
    "start_time": "2023-09-22T19:26:04.991Z"
   },
   {
    "duration": 469,
    "start_time": "2023-09-22T19:26:04.998Z"
   },
   {
    "duration": 233,
    "start_time": "2023-09-22T19:26:05.469Z"
   },
   {
    "duration": 53,
    "start_time": "2023-09-22T19:26:05.704Z"
   },
   {
    "duration": 57,
    "start_time": "2023-09-22T19:26:05.758Z"
   },
   {
    "duration": 57,
    "start_time": "2023-09-22T19:26:05.820Z"
   },
   {
    "duration": 53,
    "start_time": "2023-09-22T19:26:05.879Z"
   },
   {
    "duration": 74,
    "start_time": "2023-09-22T19:26:05.935Z"
   },
   {
    "duration": 23,
    "start_time": "2023-09-22T19:26:06.011Z"
   },
   {
    "duration": 381,
    "start_time": "2023-09-22T19:26:06.036Z"
   },
   {
    "duration": 292,
    "start_time": "2023-09-22T19:26:06.419Z"
   },
   {
    "duration": 60,
    "start_time": "2023-09-22T19:28:38.023Z"
   },
   {
    "duration": 200,
    "start_time": "2023-09-22T19:28:59.546Z"
   },
   {
    "duration": 17,
    "start_time": "2023-09-22T19:29:49.054Z"
   },
   {
    "duration": 185,
    "start_time": "2023-09-22T19:30:06.282Z"
   },
   {
    "duration": 285,
    "start_time": "2023-09-22T19:32:08.250Z"
   },
   {
    "duration": 194,
    "start_time": "2023-09-22T19:32:08.537Z"
   },
   {
    "duration": 6,
    "start_time": "2023-09-22T19:53:16.098Z"
   },
   {
    "duration": 71,
    "start_time": "2023-09-22T19:53:51.947Z"
   },
   {
    "duration": 7,
    "start_time": "2023-09-22T19:54:13.123Z"
   },
   {
    "duration": 11,
    "start_time": "2023-09-22T19:55:07.961Z"
   },
   {
    "duration": 12,
    "start_time": "2023-09-22T19:55:16.440Z"
   },
   {
    "duration": 12,
    "start_time": "2023-09-22T19:55:32.331Z"
   },
   {
    "duration": 15,
    "start_time": "2023-09-22T19:56:45.081Z"
   },
   {
    "duration": 67,
    "start_time": "2023-09-23T13:45:12.319Z"
   },
   {
    "duration": 1745,
    "start_time": "2023-09-23T13:45:22.832Z"
   },
   {
    "duration": 3650,
    "start_time": "2023-09-23T13:45:24.586Z"
   },
   {
    "duration": 3,
    "start_time": "2023-09-23T13:45:28.238Z"
   },
   {
    "duration": 387,
    "start_time": "2023-09-23T13:45:28.244Z"
   },
   {
    "duration": 376,
    "start_time": "2023-09-23T13:45:49.259Z"
   },
   {
    "duration": 7,
    "start_time": "2023-09-23T13:46:56.436Z"
   },
   {
    "duration": 107,
    "start_time": "2023-09-23T13:59:33.099Z"
   },
   {
    "duration": 24,
    "start_time": "2023-09-23T13:59:46.349Z"
   },
   {
    "duration": 168,
    "start_time": "2023-09-23T14:00:09.669Z"
   },
   {
    "duration": 32,
    "start_time": "2023-09-23T14:00:27.320Z"
   },
   {
    "duration": 17,
    "start_time": "2023-09-23T14:01:17.502Z"
   },
   {
    "duration": 4710,
    "start_time": "2023-09-23T14:01:28.253Z"
   },
   {
    "duration": 3548,
    "start_time": "2023-09-23T14:01:32.966Z"
   },
   {
    "duration": 5,
    "start_time": "2023-09-23T14:01:36.516Z"
   },
   {
    "duration": 416,
    "start_time": "2023-09-23T14:01:36.522Z"
   },
   {
    "duration": 7,
    "start_time": "2023-09-23T14:01:36.939Z"
   },
   {
    "duration": 291,
    "start_time": "2023-09-23T14:01:36.949Z"
   },
   {
    "duration": 119,
    "start_time": "2023-09-23T14:01:37.244Z"
   },
   {
    "duration": 14,
    "start_time": "2023-09-23T14:02:02.102Z"
   },
   {
    "duration": 14,
    "start_time": "2023-09-23T14:02:33.627Z"
   },
   {
    "duration": 4,
    "start_time": "2023-09-23T14:03:37.928Z"
   },
   {
    "duration": 20,
    "start_time": "2023-09-23T14:04:23.455Z"
   },
   {
    "duration": 12,
    "start_time": "2023-09-23T14:04:48.608Z"
   },
   {
    "duration": 14,
    "start_time": "2023-09-23T14:04:58.987Z"
   },
   {
    "duration": 10,
    "start_time": "2023-09-23T14:05:55.496Z"
   },
   {
    "duration": 7,
    "start_time": "2023-09-23T14:06:45.018Z"
   },
   {
    "duration": 25,
    "start_time": "2023-09-23T14:07:10.967Z"
   },
   {
    "duration": 15,
    "start_time": "2023-09-23T14:07:26.203Z"
   },
   {
    "duration": 14,
    "start_time": "2023-09-23T14:07:36.502Z"
   },
   {
    "duration": 36,
    "start_time": "2023-09-23T14:07:58.240Z"
   },
   {
    "duration": 20,
    "start_time": "2023-09-23T14:08:11.861Z"
   },
   {
    "duration": 19,
    "start_time": "2023-09-23T14:09:25.990Z"
   },
   {
    "duration": 147,
    "start_time": "2023-09-23T14:09:50.066Z"
   },
   {
    "duration": 15,
    "start_time": "2023-09-23T14:10:01.897Z"
   },
   {
    "duration": 35,
    "start_time": "2023-09-23T14:10:42.867Z"
   },
   {
    "duration": 59,
    "start_time": "2023-09-23T14:11:06.271Z"
   },
   {
    "duration": 10,
    "start_time": "2023-09-23T14:11:33.772Z"
   },
   {
    "duration": 54,
    "start_time": "2023-09-23T14:11:39.626Z"
   },
   {
    "duration": 57,
    "start_time": "2023-09-23T14:12:03.026Z"
   },
   {
    "duration": 47,
    "start_time": "2023-09-23T14:12:13.857Z"
   },
   {
    "duration": 1347,
    "start_time": "2023-09-23T14:12:25.372Z"
   },
   {
    "duration": 3476,
    "start_time": "2023-09-23T14:12:26.721Z"
   },
   {
    "duration": 5,
    "start_time": "2023-09-23T14:12:30.198Z"
   },
   {
    "duration": 532,
    "start_time": "2023-09-23T14:12:30.205Z"
   },
   {
    "duration": 5,
    "start_time": "2023-09-23T14:12:30.739Z"
   },
   {
    "duration": 439,
    "start_time": "2023-09-23T14:12:30.745Z"
   },
   {
    "duration": 145,
    "start_time": "2023-09-23T14:12:31.195Z"
   },
   {
    "duration": 38,
    "start_time": "2023-09-23T14:12:43.838Z"
   },
   {
    "duration": 28,
    "start_time": "2023-09-23T14:13:14.577Z"
   },
   {
    "duration": 399,
    "start_time": "2023-09-23T14:13:19.005Z"
   },
   {
    "duration": 23,
    "start_time": "2023-09-23T14:13:44.785Z"
   },
   {
    "duration": 29,
    "start_time": "2023-09-23T14:13:53.990Z"
   },
   {
    "duration": 82,
    "start_time": "2023-09-23T14:14:48.236Z"
   },
   {
    "duration": 15,
    "start_time": "2023-09-23T14:15:15.473Z"
   },
   {
    "duration": 28,
    "start_time": "2023-09-23T14:16:09.995Z"
   },
   {
    "duration": 302,
    "start_time": "2023-09-23T14:16:20.526Z"
   },
   {
    "duration": 19,
    "start_time": "2023-09-23T14:16:54.570Z"
   },
   {
    "duration": 409,
    "start_time": "2023-09-23T14:17:08.739Z"
   },
   {
    "duration": 23,
    "start_time": "2023-09-23T14:17:55.926Z"
   },
   {
    "duration": 152,
    "start_time": "2023-09-23T14:18:15.436Z"
   },
   {
    "duration": 758,
    "start_time": "2023-09-23T14:18:26.052Z"
   },
   {
    "duration": 2,
    "start_time": "2023-09-23T14:19:22.358Z"
   },
   {
    "duration": 14,
    "start_time": "2023-09-23T14:25:33.506Z"
   },
   {
    "duration": 250,
    "start_time": "2023-09-23T14:25:35.456Z"
   },
   {
    "duration": 1044,
    "start_time": "2023-09-23T14:25:52.117Z"
   },
   {
    "duration": 820,
    "start_time": "2023-09-23T14:25:53.163Z"
   },
   {
    "duration": 4,
    "start_time": "2023-09-23T14:25:53.984Z"
   },
   {
    "duration": 30,
    "start_time": "2023-09-23T14:25:53.990Z"
   },
   {
    "duration": 332,
    "start_time": "2023-09-23T14:25:54.155Z"
   },
   {
    "duration": 3,
    "start_time": "2023-09-23T14:25:58.195Z"
   },
   {
    "duration": 2,
    "start_time": "2023-09-23T14:25:58.508Z"
   },
   {
    "duration": 84,
    "start_time": "2023-09-23T14:25:59.182Z"
   },
   {
    "duration": 694,
    "start_time": "2023-09-23T14:26:00.881Z"
   },
   {
    "duration": 685,
    "start_time": "2023-09-23T14:26:05.760Z"
   },
   {
    "duration": 644,
    "start_time": "2023-09-23T14:26:44.655Z"
   },
   {
    "duration": 600,
    "start_time": "2023-09-23T14:26:51.163Z"
   },
   {
    "duration": 636,
    "start_time": "2023-09-23T14:26:57.189Z"
   },
   {
    "duration": 629,
    "start_time": "2023-09-23T14:27:05.461Z"
   },
   {
    "duration": 104,
    "start_time": "2023-09-23T14:28:05.283Z"
   },
   {
    "duration": 398,
    "start_time": "2023-09-23T14:28:15.504Z"
   },
   {
    "duration": 24,
    "start_time": "2023-09-23T14:29:08.056Z"
   },
   {
    "duration": 12,
    "start_time": "2023-09-23T14:30:01.438Z"
   },
   {
    "duration": 11,
    "start_time": "2023-09-23T14:30:10.412Z"
   },
   {
    "duration": 32,
    "start_time": "2023-09-23T14:30:17.232Z"
   },
   {
    "duration": 86,
    "start_time": "2023-09-23T14:31:06.390Z"
   },
   {
    "duration": 129,
    "start_time": "2023-09-23T14:31:31.833Z"
   },
   {
    "duration": 22,
    "start_time": "2023-09-23T14:33:33.476Z"
   },
   {
    "duration": 18,
    "start_time": "2023-09-23T14:33:41.803Z"
   },
   {
    "duration": 17,
    "start_time": "2023-09-23T14:35:58.225Z"
   },
   {
    "duration": 23,
    "start_time": "2023-09-23T14:36:16.858Z"
   },
   {
    "duration": 12,
    "start_time": "2023-09-23T14:37:32.590Z"
   },
   {
    "duration": 8,
    "start_time": "2023-09-23T14:38:09.676Z"
   },
   {
    "duration": 25,
    "start_time": "2023-09-23T14:38:35.919Z"
   },
   {
    "duration": 125,
    "start_time": "2023-09-23T14:38:53.678Z"
   },
   {
    "duration": 7,
    "start_time": "2023-09-23T14:39:02.339Z"
   },
   {
    "duration": 12,
    "start_time": "2023-09-23T14:39:23.970Z"
   },
   {
    "duration": 7,
    "start_time": "2023-09-23T14:40:16.132Z"
   },
   {
    "duration": 7,
    "start_time": "2023-09-23T14:40:27.308Z"
   },
   {
    "duration": 6,
    "start_time": "2023-09-23T14:40:32.917Z"
   },
   {
    "duration": 440,
    "start_time": "2023-09-23T14:41:14.670Z"
   },
   {
    "duration": 8,
    "start_time": "2023-09-23T14:41:24.186Z"
   },
   {
    "duration": 8,
    "start_time": "2023-09-23T14:41:27.904Z"
   },
   {
    "duration": 7,
    "start_time": "2023-09-23T14:41:34.950Z"
   },
   {
    "duration": 8,
    "start_time": "2023-09-23T14:43:25.552Z"
   },
   {
    "duration": 9,
    "start_time": "2023-09-23T14:43:39.337Z"
   },
   {
    "duration": 8,
    "start_time": "2023-09-23T14:43:47.026Z"
   },
   {
    "duration": 836,
    "start_time": "2023-09-23T14:44:14.967Z"
   },
   {
    "duration": 286,
    "start_time": "2023-09-23T14:44:32.899Z"
   },
   {
    "duration": 113,
    "start_time": "2023-09-23T14:44:48.233Z"
   },
   {
    "duration": 55,
    "start_time": "2023-09-23T14:45:02.167Z"
   },
   {
    "duration": 4,
    "start_time": "2023-09-23T14:46:14.655Z"
   },
   {
    "duration": 52,
    "start_time": "2023-09-23T14:46:51.698Z"
   },
   {
    "duration": 81,
    "start_time": "2023-09-23T14:48:55.142Z"
   },
   {
    "duration": 13,
    "start_time": "2023-09-23T14:49:05.626Z"
   },
   {
    "duration": 18,
    "start_time": "2023-09-23T14:49:24.330Z"
   },
   {
    "duration": 1136,
    "start_time": "2023-09-23T14:49:38.435Z"
   },
   {
    "duration": 876,
    "start_time": "2023-09-23T14:49:39.573Z"
   },
   {
    "duration": 4,
    "start_time": "2023-09-23T14:49:40.451Z"
   },
   {
    "duration": 37,
    "start_time": "2023-09-23T14:49:40.457Z"
   },
   {
    "duration": 324,
    "start_time": "2023-09-23T14:49:40.496Z"
   },
   {
    "duration": 3,
    "start_time": "2023-09-23T14:49:40.822Z"
   },
   {
    "duration": 6,
    "start_time": "2023-09-23T14:49:40.827Z"
   },
   {
    "duration": 689,
    "start_time": "2023-09-23T14:49:40.845Z"
   },
   {
    "duration": 133,
    "start_time": "2023-09-23T14:49:41.535Z"
   },
   {
    "duration": 122,
    "start_time": "2023-09-23T14:49:41.670Z"
   },
   {
    "duration": 0,
    "start_time": "2023-09-23T14:49:41.794Z"
   },
   {
    "duration": 29,
    "start_time": "2023-09-23T14:49:51.909Z"
   },
   {
    "duration": 43,
    "start_time": "2023-09-23T14:50:24.069Z"
   },
   {
    "duration": 1127,
    "start_time": "2023-09-23T14:51:28.646Z"
   },
   {
    "duration": 1091,
    "start_time": "2023-09-23T14:51:46.626Z"
   },
   {
    "duration": 796,
    "start_time": "2023-09-23T14:51:47.719Z"
   },
   {
    "duration": 4,
    "start_time": "2023-09-23T14:51:48.517Z"
   },
   {
    "duration": 34,
    "start_time": "2023-09-23T14:51:48.523Z"
   },
   {
    "duration": 265,
    "start_time": "2023-09-23T14:51:48.560Z"
   },
   {
    "duration": 2,
    "start_time": "2023-09-23T14:51:48.826Z"
   },
   {
    "duration": 4,
    "start_time": "2023-09-23T14:51:48.830Z"
   },
   {
    "duration": 623,
    "start_time": "2023-09-23T14:51:48.844Z"
   },
   {
    "duration": 128,
    "start_time": "2023-09-23T14:51:49.469Z"
   },
   {
    "duration": 1121,
    "start_time": "2023-09-23T14:51:49.598Z"
   },
   {
    "duration": 0,
    "start_time": "2023-09-23T14:51:50.720Z"
   },
   {
    "duration": 1129,
    "start_time": "2023-09-23T14:52:02.171Z"
   },
   {
    "duration": 1096,
    "start_time": "2023-09-23T14:52:27.034Z"
   },
   {
    "duration": 166,
    "start_time": "2023-09-23T14:53:06.622Z"
   },
   {
    "duration": 13,
    "start_time": "2023-09-23T14:53:16.092Z"
   },
   {
    "duration": 15,
    "start_time": "2023-09-23T14:54:28.203Z"
   },
   {
    "duration": 15,
    "start_time": "2023-09-23T14:55:36.718Z"
   },
   {
    "duration": 15,
    "start_time": "2023-09-23T14:56:09.273Z"
   },
   {
    "duration": 12,
    "start_time": "2023-09-23T14:56:22.730Z"
   },
   {
    "duration": 15,
    "start_time": "2023-09-23T14:56:38.428Z"
   },
   {
    "duration": 1042,
    "start_time": "2023-09-23T14:56:49.677Z"
   },
   {
    "duration": 807,
    "start_time": "2023-09-23T14:56:50.721Z"
   },
   {
    "duration": 4,
    "start_time": "2023-09-23T14:56:51.529Z"
   },
   {
    "duration": 30,
    "start_time": "2023-09-23T14:56:51.534Z"
   },
   {
    "duration": 265,
    "start_time": "2023-09-23T14:56:51.566Z"
   },
   {
    "duration": 2,
    "start_time": "2023-09-23T14:56:51.832Z"
   },
   {
    "duration": 9,
    "start_time": "2023-09-23T14:56:51.836Z"
   },
   {
    "duration": 612,
    "start_time": "2023-09-23T14:56:51.847Z"
   },
   {
    "duration": 123,
    "start_time": "2023-09-23T14:56:52.460Z"
   },
   {
    "duration": 111,
    "start_time": "2023-09-23T14:56:52.585Z"
   },
   {
    "duration": 0,
    "start_time": "2023-09-23T14:56:52.697Z"
   },
   {
    "duration": 15,
    "start_time": "2023-09-23T14:57:20.992Z"
   },
   {
    "duration": 12,
    "start_time": "2023-09-23T14:57:28.266Z"
   },
   {
    "duration": 23,
    "start_time": "2023-09-23T14:57:44.217Z"
   },
   {
    "duration": 463,
    "start_time": "2023-09-23T14:57:48.668Z"
   },
   {
    "duration": 32,
    "start_time": "2023-09-23T14:59:28.190Z"
   },
   {
    "duration": 31,
    "start_time": "2023-09-23T14:59:55.997Z"
   },
   {
    "duration": 30,
    "start_time": "2023-09-23T15:00:19.854Z"
   },
   {
    "duration": 31,
    "start_time": "2023-09-23T15:00:26.006Z"
   },
   {
    "duration": 51,
    "start_time": "2023-09-23T15:00:52.122Z"
   },
   {
    "duration": 1586,
    "start_time": "2023-09-23T17:38:06.075Z"
   },
   {
    "duration": 3548,
    "start_time": "2023-09-23T17:38:07.671Z"
   },
   {
    "duration": 6,
    "start_time": "2023-09-23T17:38:11.221Z"
   },
   {
    "duration": 110,
    "start_time": "2023-09-23T17:38:11.228Z"
   },
   {
    "duration": 342,
    "start_time": "2023-09-23T17:38:11.341Z"
   },
   {
    "duration": 2,
    "start_time": "2023-09-23T17:38:11.685Z"
   },
   {
    "duration": 8,
    "start_time": "2023-09-23T17:38:11.689Z"
   },
   {
    "duration": 750,
    "start_time": "2023-09-23T17:38:11.699Z"
   },
   {
    "duration": 153,
    "start_time": "2023-09-23T17:38:12.451Z"
   },
   {
    "duration": 189,
    "start_time": "2023-09-23T17:38:12.606Z"
   },
   {
    "duration": 129,
    "start_time": "2023-09-23T17:40:43.942Z"
   },
   {
    "duration": 207,
    "start_time": "2023-09-23T17:41:05.478Z"
   },
   {
    "duration": 92,
    "start_time": "2023-09-23T17:45:40.038Z"
   },
   {
    "duration": 168,
    "start_time": "2023-09-23T17:45:49.657Z"
   },
   {
    "duration": 117,
    "start_time": "2023-09-23T17:46:58.637Z"
   },
   {
    "duration": 125,
    "start_time": "2023-09-23T17:47:30.330Z"
   },
   {
    "duration": 130,
    "start_time": "2023-09-23T17:48:46.495Z"
   },
   {
    "duration": 1238,
    "start_time": "2023-09-23T17:48:54.279Z"
   },
   {
    "duration": 1068,
    "start_time": "2023-09-23T17:48:55.519Z"
   },
   {
    "duration": 6,
    "start_time": "2023-09-23T17:48:56.589Z"
   },
   {
    "duration": 44,
    "start_time": "2023-09-23T17:48:56.597Z"
   },
   {
    "duration": 361,
    "start_time": "2023-09-23T17:48:56.643Z"
   },
   {
    "duration": 3,
    "start_time": "2023-09-23T17:48:57.007Z"
   },
   {
    "duration": 14,
    "start_time": "2023-09-23T17:48:57.012Z"
   },
   {
    "duration": 767,
    "start_time": "2023-09-23T17:48:57.028Z"
   },
   {
    "duration": 156,
    "start_time": "2023-09-23T17:48:57.797Z"
   },
   {
    "duration": 84,
    "start_time": "2023-09-23T17:48:57.956Z"
   },
   {
    "duration": 89,
    "start_time": "2023-09-23T17:49:06.021Z"
   },
   {
    "duration": 190,
    "start_time": "2023-09-23T17:49:45.952Z"
   },
   {
    "duration": 89,
    "start_time": "2023-09-23T17:50:01.838Z"
   },
   {
    "duration": 78,
    "start_time": "2023-09-23T17:50:06.574Z"
   },
   {
    "duration": 88,
    "start_time": "2023-09-23T17:50:25.994Z"
   },
   {
    "duration": 1300,
    "start_time": "2023-09-23T17:50:35.623Z"
   },
   {
    "duration": 1051,
    "start_time": "2023-09-23T17:50:36.925Z"
   },
   {
    "duration": 6,
    "start_time": "2023-09-23T17:50:37.979Z"
   },
   {
    "duration": 46,
    "start_time": "2023-09-23T17:50:37.986Z"
   },
   {
    "duration": 441,
    "start_time": "2023-09-23T17:50:38.036Z"
   },
   {
    "duration": 3,
    "start_time": "2023-09-23T17:50:38.479Z"
   },
   {
    "duration": 17,
    "start_time": "2023-09-23T17:50:38.484Z"
   },
   {
    "duration": 830,
    "start_time": "2023-09-23T17:50:38.502Z"
   },
   {
    "duration": 162,
    "start_time": "2023-09-23T17:50:39.334Z"
   },
   {
    "duration": 201,
    "start_time": "2023-09-23T17:50:39.498Z"
   },
   {
    "duration": 85,
    "start_time": "2023-09-23T17:51:02.556Z"
   },
   {
    "duration": 83,
    "start_time": "2023-09-23T17:51:50.692Z"
   },
   {
    "duration": 87,
    "start_time": "2023-09-23T17:52:03.342Z"
   },
   {
    "duration": 60,
    "start_time": "2023-09-23T17:52:17.545Z"
   },
   {
    "duration": 95,
    "start_time": "2023-09-23T17:52:42.475Z"
   },
   {
    "duration": 112,
    "start_time": "2023-09-23T17:52:52.043Z"
   },
   {
    "duration": 125,
    "start_time": "2023-09-23T17:52:58.983Z"
   },
   {
    "duration": 109,
    "start_time": "2023-09-23T17:53:24.312Z"
   },
   {
    "duration": 129,
    "start_time": "2023-09-23T17:55:13.311Z"
   },
   {
    "duration": 105,
    "start_time": "2023-09-23T17:55:30.916Z"
   },
   {
    "duration": 100,
    "start_time": "2023-09-23T17:56:13.357Z"
   },
   {
    "duration": 117,
    "start_time": "2023-09-23T17:56:36.563Z"
   },
   {
    "duration": 123,
    "start_time": "2023-09-23T17:57:56.577Z"
   },
   {
    "duration": 108,
    "start_time": "2023-09-23T17:58:10.668Z"
   },
   {
    "duration": 139,
    "start_time": "2023-09-23T18:00:25.878Z"
   },
   {
    "duration": 1384,
    "start_time": "2023-09-23T18:00:37.877Z"
   },
   {
    "duration": 1041,
    "start_time": "2023-09-23T18:00:39.265Z"
   },
   {
    "duration": 6,
    "start_time": "2023-09-23T18:00:40.307Z"
   },
   {
    "duration": 53,
    "start_time": "2023-09-23T18:00:40.314Z"
   },
   {
    "duration": 330,
    "start_time": "2023-09-23T18:00:40.374Z"
   },
   {
    "duration": 3,
    "start_time": "2023-09-23T18:00:40.707Z"
   },
   {
    "duration": 74,
    "start_time": "2023-09-23T18:00:40.712Z"
   },
   {
    "duration": 815,
    "start_time": "2023-09-23T18:00:40.787Z"
   },
   {
    "duration": 171,
    "start_time": "2023-09-23T18:00:41.603Z"
   },
   {
    "duration": 241,
    "start_time": "2023-09-23T18:00:41.776Z"
   },
   {
    "duration": 73,
    "start_time": "2023-09-23T18:03:36.145Z"
   },
   {
    "duration": 1590,
    "start_time": "2023-09-23T18:03:42.782Z"
   },
   {
    "duration": 3463,
    "start_time": "2023-09-23T18:03:44.375Z"
   },
   {
    "duration": 7,
    "start_time": "2023-09-23T18:03:47.840Z"
   },
   {
    "duration": 36,
    "start_time": "2023-09-23T18:03:47.849Z"
   },
   {
    "duration": 376,
    "start_time": "2023-09-23T18:03:47.887Z"
   },
   {
    "duration": 6,
    "start_time": "2023-09-23T18:03:48.269Z"
   },
   {
    "duration": 4,
    "start_time": "2023-09-23T18:03:48.280Z"
   },
   {
    "duration": 877,
    "start_time": "2023-09-23T18:03:48.286Z"
   },
   {
    "duration": 245,
    "start_time": "2023-09-23T18:03:49.166Z"
   },
   {
    "duration": 1617,
    "start_time": "2023-09-23T18:11:18.226Z"
   },
   {
    "duration": 120,
    "start_time": "2023-09-23T18:11:32.987Z"
   },
   {
    "duration": 1266,
    "start_time": "2023-09-23T18:11:41.672Z"
   },
   {
    "duration": 3434,
    "start_time": "2023-09-23T18:11:42.940Z"
   },
   {
    "duration": 6,
    "start_time": "2023-09-23T18:11:46.376Z"
   },
   {
    "duration": 65,
    "start_time": "2023-09-23T18:11:46.384Z"
   },
   {
    "duration": 342,
    "start_time": "2023-09-23T18:11:46.451Z"
   },
   {
    "duration": 2,
    "start_time": "2023-09-23T18:11:46.795Z"
   },
   {
    "duration": 42,
    "start_time": "2023-09-23T18:11:46.799Z"
   },
   {
    "duration": 825,
    "start_time": "2023-09-23T18:11:46.843Z"
   },
   {
    "duration": 200,
    "start_time": "2023-09-23T18:11:47.673Z"
   },
   {
    "duration": 122,
    "start_time": "2023-09-23T18:11:47.875Z"
   },
   {
    "duration": 227,
    "start_time": "2023-09-23T18:12:09.286Z"
   },
   {
    "duration": 122,
    "start_time": "2023-09-23T18:12:32.405Z"
   },
   {
    "duration": 120,
    "start_time": "2023-09-23T18:12:59.953Z"
   },
   {
    "duration": 307,
    "start_time": "2023-09-23T18:13:07.237Z"
   },
   {
    "duration": 334,
    "start_time": "2023-09-23T18:13:18.145Z"
   },
   {
    "duration": 328,
    "start_time": "2023-09-23T18:13:22.073Z"
   },
   {
    "duration": 1305,
    "start_time": "2023-09-23T18:13:37.622Z"
   },
   {
    "duration": 1120,
    "start_time": "2023-09-23T18:13:38.930Z"
   },
   {
    "duration": 12,
    "start_time": "2023-09-23T18:13:40.052Z"
   },
   {
    "duration": 34,
    "start_time": "2023-09-23T18:13:40.066Z"
   },
   {
    "duration": 343,
    "start_time": "2023-09-23T18:13:40.103Z"
   },
   {
    "duration": 13,
    "start_time": "2023-09-23T18:13:40.449Z"
   },
   {
    "duration": 11,
    "start_time": "2023-09-23T18:13:40.464Z"
   },
   {
    "duration": 733,
    "start_time": "2023-09-23T18:13:40.478Z"
   },
   {
    "duration": 162,
    "start_time": "2023-09-23T18:13:41.213Z"
   },
   {
    "duration": 450,
    "start_time": "2023-09-23T18:13:41.377Z"
   },
   {
    "duration": 328,
    "start_time": "2023-09-23T18:14:25.697Z"
   },
   {
    "duration": 124,
    "start_time": "2023-09-23T18:14:53.114Z"
   },
   {
    "duration": 133,
    "start_time": "2023-09-23T18:20:34.209Z"
   },
   {
    "duration": 140,
    "start_time": "2023-09-23T18:20:44.514Z"
   },
   {
    "duration": 54,
    "start_time": "2023-09-23T18:21:17.282Z"
   },
   {
    "duration": 1604,
    "start_time": "2023-09-23T18:21:24.484Z"
   },
   {
    "duration": 3500,
    "start_time": "2023-09-23T18:21:26.090Z"
   },
   {
    "duration": 6,
    "start_time": "2023-09-23T18:21:29.593Z"
   },
   {
    "duration": 36,
    "start_time": "2023-09-23T18:21:29.602Z"
   },
   {
    "duration": 377,
    "start_time": "2023-09-23T18:21:29.640Z"
   },
   {
    "duration": 3,
    "start_time": "2023-09-23T18:21:30.020Z"
   },
   {
    "duration": 74,
    "start_time": "2023-09-23T18:21:30.025Z"
   },
   {
    "duration": 865,
    "start_time": "2023-09-23T18:21:30.102Z"
   },
   {
    "duration": 247,
    "start_time": "2023-09-23T18:21:30.975Z"
   },
   {
    "duration": 120,
    "start_time": "2023-09-23T18:21:31.225Z"
   },
   {
    "duration": 100,
    "start_time": "2023-09-23T18:21:54.972Z"
   },
   {
    "duration": 100,
    "start_time": "2023-09-23T18:21:59.483Z"
   },
   {
    "duration": 125,
    "start_time": "2023-09-23T18:23:26.977Z"
   },
   {
    "duration": 15,
    "start_time": "2023-09-23T18:23:34.771Z"
   },
   {
    "duration": 21,
    "start_time": "2023-09-23T18:23:42.699Z"
   },
   {
    "duration": 26,
    "start_time": "2023-09-23T18:23:50.351Z"
   },
   {
    "duration": 17,
    "start_time": "2023-09-23T18:24:01.984Z"
   },
   {
    "duration": 24,
    "start_time": "2023-09-23T18:24:05.529Z"
   },
   {
    "duration": 103,
    "start_time": "2023-09-23T18:25:18.612Z"
   },
   {
    "duration": 101,
    "start_time": "2023-09-23T18:25:47.011Z"
   },
   {
    "duration": 1207,
    "start_time": "2023-09-23T18:27:09.656Z"
   },
   {
    "duration": 100,
    "start_time": "2023-09-23T18:28:18.394Z"
   },
   {
    "duration": 1545,
    "start_time": "2023-09-23T18:28:25.474Z"
   },
   {
    "duration": 276,
    "start_time": "2023-09-23T18:29:41.015Z"
   },
   {
    "duration": 1007,
    "start_time": "2023-09-23T18:29:55.192Z"
   },
   {
    "duration": 1013,
    "start_time": "2023-09-23T18:30:30.062Z"
   },
   {
    "duration": 1104,
    "start_time": "2023-09-23T18:30:46.317Z"
   },
   {
    "duration": 907,
    "start_time": "2023-09-23T18:31:06.773Z"
   },
   {
    "duration": 574,
    "start_time": "2023-09-23T18:31:23.888Z"
   },
   {
    "duration": 1359,
    "start_time": "2023-09-23T18:31:32.577Z"
   },
   {
    "duration": 1133,
    "start_time": "2023-09-23T18:31:33.938Z"
   },
   {
    "duration": 13,
    "start_time": "2023-09-23T18:31:35.076Z"
   },
   {
    "duration": 46,
    "start_time": "2023-09-23T18:31:35.092Z"
   },
   {
    "duration": 389,
    "start_time": "2023-09-23T18:31:35.141Z"
   },
   {
    "duration": 2,
    "start_time": "2023-09-23T18:31:35.533Z"
   },
   {
    "duration": 31,
    "start_time": "2023-09-23T18:31:35.537Z"
   },
   {
    "duration": 847,
    "start_time": "2023-09-23T18:31:35.571Z"
   },
   {
    "duration": 186,
    "start_time": "2023-09-23T18:31:36.421Z"
   },
   {
    "duration": 32,
    "start_time": "2023-09-23T18:31:36.609Z"
   },
   {
    "duration": 19,
    "start_time": "2023-09-23T18:32:28.135Z"
   },
   {
    "duration": 19,
    "start_time": "2023-09-23T18:32:49.428Z"
   },
   {
    "duration": 22,
    "start_time": "2023-09-23T18:33:07.353Z"
   },
   {
    "duration": 17,
    "start_time": "2023-09-23T18:34:14.088Z"
   },
   {
    "duration": 33,
    "start_time": "2023-09-23T18:34:26.420Z"
   },
   {
    "duration": 111,
    "start_time": "2023-09-23T18:35:38.284Z"
   },
   {
    "duration": 217,
    "start_time": "2023-09-23T18:37:29.578Z"
   },
   {
    "duration": 111,
    "start_time": "2023-09-23T18:38:11.488Z"
   },
   {
    "duration": 1547,
    "start_time": "2023-09-23T18:41:44.794Z"
   },
   {
    "duration": 50,
    "start_time": "2023-09-23T18:42:51.987Z"
   },
   {
    "duration": 2333,
    "start_time": "2023-09-23T18:42:59.302Z"
   },
   {
    "duration": 3475,
    "start_time": "2023-09-23T18:43:01.637Z"
   },
   {
    "duration": 7,
    "start_time": "2023-09-23T18:43:05.113Z"
   },
   {
    "duration": 55,
    "start_time": "2023-09-23T18:43:05.122Z"
   },
   {
    "duration": 351,
    "start_time": "2023-09-23T18:43:05.180Z"
   },
   {
    "duration": 2,
    "start_time": "2023-09-23T18:43:05.533Z"
   },
   {
    "duration": 21,
    "start_time": "2023-09-23T18:43:05.537Z"
   },
   {
    "duration": 826,
    "start_time": "2023-09-23T18:43:05.560Z"
   },
   {
    "duration": 223,
    "start_time": "2023-09-23T18:43:06.389Z"
   },
   {
    "duration": 9,
    "start_time": "2023-09-23T18:46:25.982Z"
   },
   {
    "duration": 1425,
    "start_time": "2023-09-23T18:46:32.652Z"
   },
   {
    "duration": 3520,
    "start_time": "2023-09-23T18:46:34.080Z"
   },
   {
    "duration": 5,
    "start_time": "2023-09-23T18:46:37.602Z"
   },
   {
    "duration": 36,
    "start_time": "2023-09-23T18:46:37.609Z"
   },
   {
    "duration": 354,
    "start_time": "2023-09-23T18:46:37.648Z"
   },
   {
    "duration": 4,
    "start_time": "2023-09-23T18:46:38.004Z"
   },
   {
    "duration": 15,
    "start_time": "2023-09-23T18:46:38.010Z"
   },
   {
    "duration": 777,
    "start_time": "2023-09-23T18:46:38.027Z"
   },
   {
    "duration": 204,
    "start_time": "2023-09-23T18:46:38.807Z"
   },
   {
    "duration": 4,
    "start_time": "2023-09-23T18:46:39.013Z"
   },
   {
    "duration": 220,
    "start_time": "2023-09-23T18:46:57.580Z"
   },
   {
    "duration": 96,
    "start_time": "2023-09-23T18:48:14.591Z"
   },
   {
    "duration": 106,
    "start_time": "2023-09-23T18:49:41.917Z"
   },
   {
    "duration": 1462,
    "start_time": "2023-09-24T09:01:35.845Z"
   },
   {
    "duration": 1296,
    "start_time": "2023-09-24T09:01:37.309Z"
   },
   {
    "duration": 6,
    "start_time": "2023-09-24T09:01:38.606Z"
   },
   {
    "duration": 36,
    "start_time": "2023-09-24T09:01:40.082Z"
   },
   {
    "duration": 328,
    "start_time": "2023-09-24T09:01:40.794Z"
   },
   {
    "duration": 3,
    "start_time": "2023-09-24T09:01:42.333Z"
   },
   {
    "duration": 3,
    "start_time": "2023-09-24T09:01:43.076Z"
   },
   {
    "duration": 779,
    "start_time": "2023-09-24T09:01:43.847Z"
   },
   {
    "duration": 147,
    "start_time": "2023-09-24T09:01:45.080Z"
   },
   {
    "duration": 208,
    "start_time": "2023-09-24T09:01:46.287Z"
   },
   {
    "duration": 404,
    "start_time": "2023-09-24T09:23:36.185Z"
   },
   {
    "duration": 1541,
    "start_time": "2023-09-24T09:24:48.219Z"
   },
   {
    "duration": 1062,
    "start_time": "2023-09-24T09:24:49.763Z"
   },
   {
    "duration": 6,
    "start_time": "2023-09-24T09:24:50.827Z"
   },
   {
    "duration": 55,
    "start_time": "2023-09-24T09:24:50.835Z"
   },
   {
    "duration": 382,
    "start_time": "2023-09-24T09:24:50.893Z"
   },
   {
    "duration": 3,
    "start_time": "2023-09-24T09:24:51.277Z"
   },
   {
    "duration": 35,
    "start_time": "2023-09-24T09:24:51.281Z"
   },
   {
    "duration": 822,
    "start_time": "2023-09-24T09:24:51.318Z"
   },
   {
    "duration": 163,
    "start_time": "2023-09-24T09:24:52.145Z"
   },
   {
    "duration": 318,
    "start_time": "2023-09-24T09:24:52.309Z"
   },
   {
    "duration": 61378,
    "start_time": "2023-09-24T09:25:10.855Z"
   },
   {
    "duration": 67001,
    "start_time": "2023-09-24T09:29:43.570Z"
   },
   {
    "duration": 65527,
    "start_time": "2023-09-24T09:31:18.706Z"
   },
   {
    "duration": 66212,
    "start_time": "2023-09-24T10:03:16.497Z"
   },
   {
    "duration": 65813,
    "start_time": "2023-09-24T10:06:03.183Z"
   },
   {
    "duration": 233,
    "start_time": "2023-09-24T10:23:58.744Z"
   },
   {
    "duration": 16,
    "start_time": "2023-09-24T10:24:09.228Z"
   },
   {
    "duration": 21,
    "start_time": "2023-09-24T10:24:14.990Z"
   },
   {
    "duration": 24,
    "start_time": "2023-09-24T10:24:21.765Z"
   },
   {
    "duration": 5,
    "start_time": "2023-09-24T10:25:57.211Z"
   },
   {
    "duration": 1591,
    "start_time": "2023-09-24T10:25:57.938Z"
   },
   {
    "duration": 1581,
    "start_time": "2023-09-24T10:26:15.469Z"
   },
   {
    "duration": 941,
    "start_time": "2023-09-24T10:26:17.052Z"
   },
   {
    "duration": 5,
    "start_time": "2023-09-24T10:26:17.995Z"
   },
   {
    "duration": 44,
    "start_time": "2023-09-24T10:26:18.002Z"
   },
   {
    "duration": 324,
    "start_time": "2023-09-24T10:26:18.048Z"
   },
   {
    "duration": 2,
    "start_time": "2023-09-24T10:26:18.374Z"
   },
   {
    "duration": 26,
    "start_time": "2023-09-24T10:26:18.378Z"
   },
   {
    "duration": 741,
    "start_time": "2023-09-24T10:26:18.406Z"
   },
   {
    "duration": 160,
    "start_time": "2023-09-24T10:26:19.148Z"
   },
   {
    "duration": 41,
    "start_time": "2023-09-24T10:26:19.311Z"
   },
   {
    "duration": 2581,
    "start_time": "2023-09-24T10:26:19.354Z"
   },
   {
    "duration": 4,
    "start_time": "2023-09-24T10:27:29.704Z"
   },
   {
    "duration": 68,
    "start_time": "2023-09-24T10:29:05.767Z"
   },
   {
    "duration": 1549,
    "start_time": "2023-09-24T10:30:11.819Z"
   },
   {
    "duration": 919,
    "start_time": "2023-09-24T10:30:13.370Z"
   },
   {
    "duration": 5,
    "start_time": "2023-09-24T10:30:14.291Z"
   },
   {
    "duration": 28,
    "start_time": "2023-09-24T10:30:14.928Z"
   },
   {
    "duration": 377,
    "start_time": "2023-09-24T10:40:10.119Z"
   },
   {
    "duration": 342,
    "start_time": "2023-09-24T10:40:15.861Z"
   },
   {
    "duration": 261,
    "start_time": "2023-09-24T10:41:21.697Z"
   },
   {
    "duration": 157,
    "start_time": "2023-09-24T10:42:05.652Z"
   },
   {
    "duration": 740,
    "start_time": "2023-09-24T10:42:11.046Z"
   },
   {
    "duration": 108,
    "start_time": "2023-09-24T10:44:57.978Z"
   },
   {
    "duration": 161,
    "start_time": "2023-09-24T10:45:35.510Z"
   },
   {
    "duration": 21,
    "start_time": "2023-09-24T10:48:19.187Z"
   },
   {
    "duration": 20,
    "start_time": "2023-09-24T10:48:39.244Z"
   },
   {
    "duration": 65969,
    "start_time": "2023-09-24T11:05:53.066Z"
   },
   {
    "duration": 64072,
    "start_time": "2023-09-24T11:13:33.102Z"
   },
   {
    "duration": 64220,
    "start_time": "2023-09-24T11:17:45.144Z"
   },
   {
    "duration": 942,
    "start_time": "2023-09-24T11:18:59.967Z"
   },
   {
    "duration": 30,
    "start_time": "2023-09-24T11:19:09.006Z"
   },
   {
    "duration": 11,
    "start_time": "2023-09-24T11:19:14.873Z"
   },
   {
    "duration": 673,
    "start_time": "2023-09-24T11:19:32.697Z"
   },
   {
    "duration": 4,
    "start_time": "2023-09-24T11:20:30.882Z"
   },
   {
    "duration": 861,
    "start_time": "2023-09-24T11:20:59.652Z"
   },
   {
    "duration": 605,
    "start_time": "2023-09-24T11:21:13.158Z"
   },
   {
    "duration": 11,
    "start_time": "2023-09-24T11:21:26.200Z"
   },
   {
    "duration": 745,
    "start_time": "2023-09-24T11:22:11.059Z"
   },
   {
    "duration": 216,
    "start_time": "2023-09-24T11:22:11.806Z"
   },
   {
    "duration": 16,
    "start_time": "2023-09-24T11:22:12.321Z"
   },
   {
    "duration": 19,
    "start_time": "2023-09-24T11:22:12.758Z"
   },
   {
    "duration": 695,
    "start_time": "2023-09-24T11:22:36.288Z"
   },
   {
    "duration": 78,
    "start_time": "2023-09-24T11:22:43.416Z"
   },
   {
    "duration": 121,
    "start_time": "2023-09-24T11:22:51.484Z"
   },
   {
    "duration": 57601,
    "start_time": "2023-09-24T11:24:07.265Z"
   },
   {
    "duration": 1038,
    "start_time": "2023-09-24T11:27:45.265Z"
   },
   {
    "duration": 942,
    "start_time": "2023-09-24T11:29:52.345Z"
   },
   {
    "duration": 1651,
    "start_time": "2023-09-24T11:30:13.755Z"
   },
   {
    "duration": 1055,
    "start_time": "2023-09-24T11:30:15.409Z"
   },
   {
    "duration": 6,
    "start_time": "2023-09-24T11:30:16.465Z"
   },
   {
    "duration": 45,
    "start_time": "2023-09-24T11:30:16.472Z"
   },
   {
    "duration": 355,
    "start_time": "2023-09-24T11:30:16.518Z"
   },
   {
    "duration": 267,
    "start_time": "2023-09-24T11:30:16.874Z"
   },
   {
    "duration": 801,
    "start_time": "2023-09-24T11:30:17.143Z"
   },
   {
    "duration": 151,
    "start_time": "2023-09-24T11:30:17.947Z"
   },
   {
    "duration": 28,
    "start_time": "2023-09-24T11:30:18.100Z"
   },
   {
    "duration": 62773,
    "start_time": "2023-09-24T11:30:18.130Z"
   },
   {
    "duration": 790,
    "start_time": "2023-09-24T11:31:20.904Z"
   },
   {
    "duration": 1330,
    "start_time": "2023-09-24T12:01:49.008Z"
   },
   {
    "duration": 885,
    "start_time": "2023-09-24T12:01:54.745Z"
   },
   {
    "duration": 4,
    "start_time": "2023-09-24T12:03:20.185Z"
   },
   {
    "duration": 4,
    "start_time": "2023-09-24T12:03:29.106Z"
   },
   {
    "duration": 1179,
    "start_time": "2023-09-24T12:04:14.041Z"
   },
   {
    "duration": 1769,
    "start_time": "2023-09-24T16:58:49.998Z"
   },
   {
    "duration": 1193,
    "start_time": "2023-09-24T16:58:51.769Z"
   },
   {
    "duration": 6,
    "start_time": "2023-09-24T16:58:52.963Z"
   },
   {
    "duration": 32,
    "start_time": "2023-09-24T16:58:52.971Z"
   },
   {
    "duration": 326,
    "start_time": "2023-09-24T16:58:53.005Z"
   },
   {
    "duration": 244,
    "start_time": "2023-09-24T16:58:53.333Z"
   },
   {
    "duration": 740,
    "start_time": "2023-09-24T16:58:53.578Z"
   },
   {
    "duration": 134,
    "start_time": "2023-09-24T16:58:54.320Z"
   },
   {
    "duration": 24,
    "start_time": "2023-09-24T16:58:54.455Z"
   },
   {
    "duration": 930,
    "start_time": "2023-09-24T16:59:53.711Z"
   },
   {
    "duration": 0,
    "start_time": "2023-09-24T16:59:54.643Z"
   },
   {
    "duration": 59982,
    "start_time": "2023-09-24T17:00:01.837Z"
   },
   {
    "duration": 57633,
    "start_time": "2023-09-24T17:04:33.084Z"
   },
   {
    "duration": 4,
    "start_time": "2023-09-24T17:06:02.363Z"
   },
   {
    "duration": 15,
    "start_time": "2023-09-24T17:06:54.866Z"
   },
   {
    "duration": 6,
    "start_time": "2023-09-24T17:07:15.280Z"
   },
   {
    "duration": 11,
    "start_time": "2023-09-24T17:08:27.586Z"
   },
   {
    "duration": 10,
    "start_time": "2023-09-24T17:09:58.446Z"
   },
   {
    "duration": 11,
    "start_time": "2023-09-24T17:10:27.861Z"
   },
   {
    "duration": 10,
    "start_time": "2023-09-24T17:10:35.636Z"
   },
   {
    "duration": 13,
    "start_time": "2023-09-24T17:11:20.014Z"
   },
   {
    "duration": 6,
    "start_time": "2023-09-24T17:11:33.454Z"
   },
   {
    "duration": 10,
    "start_time": "2023-09-24T17:12:19.835Z"
   },
   {
    "duration": 10,
    "start_time": "2023-09-24T17:12:27.170Z"
   },
   {
    "duration": 10,
    "start_time": "2023-09-24T17:12:42.952Z"
   },
   {
    "duration": 6,
    "start_time": "2023-09-24T17:12:53.488Z"
   },
   {
    "duration": 5,
    "start_time": "2023-09-24T17:13:06.925Z"
   },
   {
    "duration": 12,
    "start_time": "2023-09-24T17:13:15.391Z"
   },
   {
    "duration": 1526,
    "start_time": "2023-09-24T17:13:23.655Z"
   },
   {
    "duration": 981,
    "start_time": "2023-09-24T17:13:25.184Z"
   },
   {
    "duration": 5,
    "start_time": "2023-09-24T17:13:26.167Z"
   },
   {
    "duration": 31,
    "start_time": "2023-09-24T17:13:26.174Z"
   },
   {
    "duration": 326,
    "start_time": "2023-09-24T17:13:26.208Z"
   },
   {
    "duration": 265,
    "start_time": "2023-09-24T17:13:26.536Z"
   },
   {
    "duration": 740,
    "start_time": "2023-09-24T17:13:26.803Z"
   },
   {
    "duration": 131,
    "start_time": "2023-09-24T17:13:27.547Z"
   },
   {
    "duration": 27,
    "start_time": "2023-09-24T17:13:27.680Z"
   },
   {
    "duration": 59169,
    "start_time": "2023-09-24T17:13:27.709Z"
   },
   {
    "duration": 5,
    "start_time": "2023-09-24T17:14:26.880Z"
   },
   {
    "duration": 121,
    "start_time": "2023-09-24T17:15:04.489Z"
   },
   {
    "duration": 45,
    "start_time": "2023-09-24T17:15:32.196Z"
   },
   {
    "duration": 46,
    "start_time": "2023-09-24T17:16:51.485Z"
   },
   {
    "duration": 34,
    "start_time": "2023-09-24T17:16:59.181Z"
   },
   {
    "duration": 14,
    "start_time": "2023-09-24T17:17:39.106Z"
   },
   {
    "duration": 1498,
    "start_time": "2023-09-24T17:18:00.983Z"
   },
   {
    "duration": 966,
    "start_time": "2023-09-24T17:18:02.483Z"
   },
   {
    "duration": 5,
    "start_time": "2023-09-24T17:18:03.451Z"
   },
   {
    "duration": 128,
    "start_time": "2023-09-24T17:18:03.458Z"
   },
   {
    "duration": 379,
    "start_time": "2023-09-24T17:18:03.588Z"
   },
   {
    "duration": 286,
    "start_time": "2023-09-24T17:18:03.968Z"
   },
   {
    "duration": 744,
    "start_time": "2023-09-24T17:18:04.256Z"
   },
   {
    "duration": 133,
    "start_time": "2023-09-24T17:18:05.002Z"
   },
   {
    "duration": 34,
    "start_time": "2023-09-24T17:18:05.137Z"
   },
   {
    "duration": 58803,
    "start_time": "2023-09-24T17:18:05.173Z"
   },
   {
    "duration": 39,
    "start_time": "2023-09-24T17:19:03.979Z"
   },
   {
    "duration": 72,
    "start_time": "2023-09-24T17:19:19.635Z"
   },
   {
    "duration": 137,
    "start_time": "2023-09-24T17:20:36.603Z"
   },
   {
    "duration": 1569,
    "start_time": "2023-09-24T17:20:46.244Z"
   },
   {
    "duration": 970,
    "start_time": "2023-09-24T17:20:47.815Z"
   },
   {
    "duration": 6,
    "start_time": "2023-09-24T17:20:48.787Z"
   },
   {
    "duration": 36,
    "start_time": "2023-09-24T17:20:48.795Z"
   },
   {
    "duration": 330,
    "start_time": "2023-09-24T17:20:48.833Z"
   },
   {
    "duration": 257,
    "start_time": "2023-09-24T17:20:49.165Z"
   },
   {
    "duration": 804,
    "start_time": "2023-09-24T17:20:49.425Z"
   },
   {
    "duration": 156,
    "start_time": "2023-09-24T17:20:50.230Z"
   },
   {
    "duration": 31,
    "start_time": "2023-09-24T17:20:50.388Z"
   },
   {
    "duration": 58510,
    "start_time": "2023-09-24T17:20:50.422Z"
   },
   {
    "duration": 48,
    "start_time": "2023-09-24T17:21:48.934Z"
   },
   {
    "duration": 74,
    "start_time": "2023-09-24T17:21:48.983Z"
   },
   {
    "duration": 4,
    "start_time": "2023-09-24T17:23:00.544Z"
   },
   {
    "duration": 32365,
    "start_time": "2023-09-24T17:26:07.727Z"
   },
   {
    "duration": 142,
    "start_time": "2023-09-24T17:26:40.094Z"
   },
   {
    "duration": 0,
    "start_time": "2023-09-24T17:26:40.246Z"
   },
   {
    "duration": 1524,
    "start_time": "2023-09-24T17:27:07.002Z"
   },
   {
    "duration": 960,
    "start_time": "2023-09-24T17:27:08.529Z"
   },
   {
    "duration": 5,
    "start_time": "2023-09-24T17:27:09.491Z"
   },
   {
    "duration": 64,
    "start_time": "2023-09-24T17:27:09.498Z"
   },
   {
    "duration": 352,
    "start_time": "2023-09-24T17:27:09.565Z"
   },
   {
    "duration": 265,
    "start_time": "2023-09-24T17:27:09.918Z"
   },
   {
    "duration": 740,
    "start_time": "2023-09-24T17:27:10.185Z"
   },
   {
    "duration": 138,
    "start_time": "2023-09-24T17:27:10.927Z"
   },
   {
    "duration": 26,
    "start_time": "2023-09-24T17:27:11.067Z"
   },
   {
    "duration": 33729,
    "start_time": "2023-09-24T17:27:11.095Z"
   },
   {
    "duration": 43,
    "start_time": "2023-09-24T17:27:44.825Z"
   },
   {
    "duration": 82,
    "start_time": "2023-09-24T17:27:44.870Z"
   },
   {
    "duration": 20,
    "start_time": "2023-09-24T17:28:43.848Z"
   },
   {
    "duration": 33226,
    "start_time": "2023-09-24T17:29:28.945Z"
   },
   {
    "duration": 153,
    "start_time": "2023-09-24T17:30:02.173Z"
   },
   {
    "duration": 0,
    "start_time": "2023-09-24T17:30:02.329Z"
   },
   {
    "duration": 1612,
    "start_time": "2023-09-24T17:30:18.979Z"
   },
   {
    "duration": 940,
    "start_time": "2023-09-24T17:30:20.593Z"
   },
   {
    "duration": 13,
    "start_time": "2023-09-24T17:30:21.535Z"
   },
   {
    "duration": 44,
    "start_time": "2023-09-24T17:30:21.551Z"
   },
   {
    "duration": 342,
    "start_time": "2023-09-24T17:30:21.597Z"
   },
   {
    "duration": 254,
    "start_time": "2023-09-24T17:30:21.946Z"
   },
   {
    "duration": 748,
    "start_time": "2023-09-24T17:30:22.202Z"
   },
   {
    "duration": 129,
    "start_time": "2023-09-24T17:30:22.952Z"
   },
   {
    "duration": 26,
    "start_time": "2023-09-24T17:30:23.083Z"
   },
   {
    "duration": 34076,
    "start_time": "2023-09-24T17:30:23.111Z"
   },
   {
    "duration": 40,
    "start_time": "2023-09-24T17:30:57.189Z"
   },
   {
    "duration": 30,
    "start_time": "2023-09-24T17:30:57.231Z"
   },
   {
    "duration": 70,
    "start_time": "2023-09-24T17:31:11.401Z"
   },
   {
    "duration": 30292,
    "start_time": "2023-09-24T17:31:27.561Z"
   },
   {
    "duration": 145,
    "start_time": "2023-09-24T17:31:57.855Z"
   },
   {
    "duration": 0,
    "start_time": "2023-09-24T17:31:58.002Z"
   },
   {
    "duration": 0,
    "start_time": "2023-09-24T17:33:07.068Z"
   },
   {
    "duration": 0,
    "start_time": "2023-09-24T17:33:07.069Z"
   },
   {
    "duration": 0,
    "start_time": "2023-09-24T17:33:07.070Z"
   },
   {
    "duration": 54664,
    "start_time": "2023-09-24T17:33:15.214Z"
   },
   {
    "duration": 16,
    "start_time": "2023-09-24T17:34:09.881Z"
   },
   {
    "duration": 0,
    "start_time": "2023-09-24T17:34:09.899Z"
   },
   {
    "duration": 4,
    "start_time": "2023-09-24T17:47:56.479Z"
   },
   {
    "duration": 87,
    "start_time": "2023-09-24T17:48:48.310Z"
   },
   {
    "duration": 1550,
    "start_time": "2023-09-24T17:49:18.910Z"
   },
   {
    "duration": 944,
    "start_time": "2023-09-24T17:49:20.462Z"
   },
   {
    "duration": 6,
    "start_time": "2023-09-24T17:49:21.407Z"
   },
   {
    "duration": 42,
    "start_time": "2023-09-24T17:49:21.415Z"
   },
   {
    "duration": 316,
    "start_time": "2023-09-24T17:49:21.458Z"
   },
   {
    "duration": 264,
    "start_time": "2023-09-24T17:49:21.776Z"
   },
   {
    "duration": 776,
    "start_time": "2023-09-24T17:49:22.042Z"
   },
   {
    "duration": 141,
    "start_time": "2023-09-24T17:49:22.819Z"
   },
   {
    "duration": 26,
    "start_time": "2023-09-24T17:49:22.962Z"
   },
   {
    "duration": 222,
    "start_time": "2023-09-24T17:49:22.991Z"
   },
   {
    "duration": 0,
    "start_time": "2023-09-24T17:49:23.215Z"
   },
   {
    "duration": 77,
    "start_time": "2023-09-24T17:50:02.788Z"
   },
   {
    "duration": 106,
    "start_time": "2023-09-24T17:50:45.857Z"
   },
   {
    "duration": 70,
    "start_time": "2023-09-24T17:50:48.008Z"
   },
   {
    "duration": 96,
    "start_time": "2023-09-24T17:52:45.610Z"
   },
   {
    "duration": 65,
    "start_time": "2023-09-24T17:52:47.978Z"
   },
   {
    "duration": 1534,
    "start_time": "2023-09-24T17:52:56.405Z"
   },
   {
    "duration": 969,
    "start_time": "2023-09-24T17:52:57.941Z"
   },
   {
    "duration": 6,
    "start_time": "2023-09-24T17:52:58.911Z"
   },
   {
    "duration": 77,
    "start_time": "2023-09-24T17:52:58.919Z"
   },
   {
    "duration": 327,
    "start_time": "2023-09-24T17:52:58.997Z"
   },
   {
    "duration": 253,
    "start_time": "2023-09-24T17:52:59.326Z"
   },
   {
    "duration": 766,
    "start_time": "2023-09-24T17:52:59.580Z"
   },
   {
    "duration": 141,
    "start_time": "2023-09-24T17:53:00.349Z"
   },
   {
    "duration": 28,
    "start_time": "2023-09-24T17:53:00.492Z"
   },
   {
    "duration": 136,
    "start_time": "2023-09-24T17:53:00.523Z"
   },
   {
    "duration": 87,
    "start_time": "2023-09-24T17:53:00.661Z"
   },
   {
    "duration": 467,
    "start_time": "2023-09-24T17:54:28.459Z"
   },
   {
    "duration": 759,
    "start_time": "2023-09-24T17:57:07.210Z"
   },
   {
    "duration": 174,
    "start_time": "2023-09-24T17:57:33.179Z"
   },
   {
    "duration": 276,
    "start_time": "2023-09-24T17:58:09.258Z"
   },
   {
    "duration": 430,
    "start_time": "2023-09-24T17:58:56.294Z"
   },
   {
    "duration": 549,
    "start_time": "2023-09-24T17:59:46.163Z"
   },
   {
    "duration": 588,
    "start_time": "2023-09-24T17:59:51.664Z"
   },
   {
    "duration": 254,
    "start_time": "2023-09-24T18:00:15.810Z"
   },
   {
    "duration": 127,
    "start_time": "2023-09-24T18:00:29.296Z"
   },
   {
    "duration": 238,
    "start_time": "2023-09-24T18:00:49.251Z"
   },
   {
    "duration": 580,
    "start_time": "2023-09-24T18:00:56.562Z"
   },
   {
    "duration": 583,
    "start_time": "2023-09-24T18:01:11.313Z"
   },
   {
    "duration": 585,
    "start_time": "2023-09-24T18:01:31.480Z"
   },
   {
    "duration": 682,
    "start_time": "2023-09-24T18:01:44.984Z"
   },
   {
    "duration": 659,
    "start_time": "2023-09-24T18:01:50.032Z"
   },
   {
    "duration": 784,
    "start_time": "2023-09-24T18:01:54.835Z"
   },
   {
    "duration": 632,
    "start_time": "2023-09-24T18:02:13.904Z"
   },
   {
    "duration": 625,
    "start_time": "2023-09-24T18:02:23.464Z"
   },
   {
    "duration": 73,
    "start_time": "2023-09-24T18:06:33.529Z"
   },
   {
    "duration": 220,
    "start_time": "2023-09-24T18:06:37.770Z"
   },
   {
    "duration": 323,
    "start_time": "2023-09-24T18:06:56.962Z"
   },
   {
    "duration": 218,
    "start_time": "2023-09-24T18:07:11.347Z"
   },
   {
    "duration": 232,
    "start_time": "2023-09-24T18:07:14.902Z"
   },
   {
    "duration": 211,
    "start_time": "2023-09-24T18:08:14.968Z"
   },
   {
    "duration": 433,
    "start_time": "2023-09-24T18:09:49.837Z"
   },
   {
    "duration": 460,
    "start_time": "2023-09-24T18:10:55.122Z"
   },
   {
    "duration": 1525,
    "start_time": "2023-09-24T18:11:23.270Z"
   },
   {
    "duration": 989,
    "start_time": "2023-09-24T18:11:24.797Z"
   },
   {
    "duration": 9,
    "start_time": "2023-09-24T18:11:25.788Z"
   },
   {
    "duration": 34,
    "start_time": "2023-09-24T18:11:25.799Z"
   },
   {
    "duration": 334,
    "start_time": "2023-09-24T18:11:25.835Z"
   },
   {
    "duration": 257,
    "start_time": "2023-09-24T18:11:26.171Z"
   },
   {
    "duration": 138,
    "start_time": "2023-09-24T18:11:26.431Z"
   },
   {
    "duration": 31,
    "start_time": "2023-09-24T18:11:26.571Z"
   },
   {
    "duration": 646,
    "start_time": "2023-09-24T18:11:26.604Z"
   },
   {
    "duration": 699,
    "start_time": "2023-09-24T18:11:27.251Z"
   },
   {
    "duration": 448,
    "start_time": "2023-09-24T18:11:56.787Z"
   },
   {
    "duration": 337,
    "start_time": "2023-09-24T18:12:19.953Z"
   },
   {
    "duration": 5,
    "start_time": "2023-09-24T18:13:32.187Z"
   },
   {
    "duration": 339,
    "start_time": "2023-09-24T18:13:40.988Z"
   },
   {
    "duration": 473,
    "start_time": "2023-09-24T18:13:54.882Z"
   },
   {
    "duration": 338,
    "start_time": "2023-09-24T18:14:00.624Z"
   },
   {
    "duration": 1508,
    "start_time": "2023-09-24T18:14:28.309Z"
   },
   {
    "duration": 978,
    "start_time": "2023-09-24T18:14:29.819Z"
   },
   {
    "duration": 6,
    "start_time": "2023-09-24T18:14:30.799Z"
   },
   {
    "duration": 67,
    "start_time": "2023-09-24T18:14:30.806Z"
   },
   {
    "duration": 352,
    "start_time": "2023-09-24T18:14:30.875Z"
   },
   {
    "duration": 252,
    "start_time": "2023-09-24T18:14:31.229Z"
   },
   {
    "duration": 147,
    "start_time": "2023-09-24T18:14:31.483Z"
   },
   {
    "duration": 41,
    "start_time": "2023-09-24T18:14:31.632Z"
   },
   {
    "duration": 709,
    "start_time": "2023-09-24T18:14:31.674Z"
   },
   {
    "duration": 528,
    "start_time": "2023-09-24T18:14:32.385Z"
   },
   {
    "duration": 126,
    "start_time": "2023-09-24T18:15:04.671Z"
   },
   {
    "duration": 360,
    "start_time": "2023-09-24T18:15:13.054Z"
   },
   {
    "duration": 1544,
    "start_time": "2023-09-24T18:16:24.967Z"
   },
   {
    "duration": 974,
    "start_time": "2023-09-24T18:16:26.513Z"
   },
   {
    "duration": 6,
    "start_time": "2023-09-24T18:16:27.489Z"
   },
   {
    "duration": 39,
    "start_time": "2023-09-24T18:16:27.497Z"
   },
   {
    "duration": 333,
    "start_time": "2023-09-24T18:16:27.539Z"
   },
   {
    "duration": 272,
    "start_time": "2023-09-24T18:16:27.874Z"
   },
   {
    "duration": 145,
    "start_time": "2023-09-24T18:16:28.148Z"
   },
   {
    "duration": 31,
    "start_time": "2023-09-24T18:16:28.295Z"
   },
   {
    "duration": 661,
    "start_time": "2023-09-24T18:16:28.328Z"
   },
   {
    "duration": 535,
    "start_time": "2023-09-24T18:16:28.991Z"
   },
   {
    "duration": 360,
    "start_time": "2023-09-24T18:16:29.528Z"
   },
   {
    "duration": 272,
    "start_time": "2023-09-24T18:18:36.986Z"
   },
   {
    "duration": 1547,
    "start_time": "2023-09-24T18:18:44.748Z"
   },
   {
    "duration": 954,
    "start_time": "2023-09-24T18:18:46.297Z"
   },
   {
    "duration": 6,
    "start_time": "2023-09-24T18:18:47.253Z"
   },
   {
    "duration": 30,
    "start_time": "2023-09-24T18:18:47.260Z"
   },
   {
    "duration": 322,
    "start_time": "2023-09-24T18:18:47.292Z"
   },
   {
    "duration": 255,
    "start_time": "2023-09-24T18:18:47.616Z"
   },
   {
    "duration": 134,
    "start_time": "2023-09-24T18:18:47.872Z"
   },
   {
    "duration": 39,
    "start_time": "2023-09-24T18:18:48.008Z"
   },
   {
    "duration": 639,
    "start_time": "2023-09-24T18:18:48.049Z"
   },
   {
    "duration": 253,
    "start_time": "2023-09-24T18:18:48.690Z"
   },
   {
    "duration": 110,
    "start_time": "2023-09-24T18:20:19.647Z"
   },
   {
    "duration": 30,
    "start_time": "2023-09-24T18:20:31.131Z"
   },
   {
    "duration": 22,
    "start_time": "2023-09-24T18:20:41.312Z"
   },
   {
    "duration": 26,
    "start_time": "2023-09-24T18:21:52.988Z"
   },
   {
    "duration": 22,
    "start_time": "2023-09-24T18:21:57.637Z"
   },
   {
    "duration": 218,
    "start_time": "2023-09-24T18:22:43.829Z"
   },
   {
    "duration": 1498,
    "start_time": "2023-09-24T18:23:51.640Z"
   },
   {
    "duration": 935,
    "start_time": "2023-09-24T18:23:53.140Z"
   },
   {
    "duration": 6,
    "start_time": "2023-09-24T18:23:54.077Z"
   },
   {
    "duration": 74,
    "start_time": "2023-09-24T18:23:54.085Z"
   },
   {
    "duration": 308,
    "start_time": "2023-09-24T18:23:54.161Z"
   },
   {
    "duration": 253,
    "start_time": "2023-09-24T18:23:54.471Z"
   },
   {
    "duration": 141,
    "start_time": "2023-09-24T18:23:54.726Z"
   },
   {
    "duration": 32,
    "start_time": "2023-09-24T18:23:54.869Z"
   },
   {
    "duration": 670,
    "start_time": "2023-09-24T18:23:54.903Z"
   },
   {
    "duration": 3,
    "start_time": "2023-09-24T18:23:55.575Z"
   },
   {
    "duration": 269,
    "start_time": "2023-09-24T18:23:55.579Z"
   },
   {
    "duration": 1489,
    "start_time": "2023-09-24T18:24:11.076Z"
   },
   {
    "duration": 974,
    "start_time": "2023-09-24T18:24:12.567Z"
   },
   {
    "duration": 7,
    "start_time": "2023-09-24T18:24:13.542Z"
   },
   {
    "duration": 36,
    "start_time": "2023-09-24T18:24:13.551Z"
   },
   {
    "duration": 336,
    "start_time": "2023-09-24T18:24:13.589Z"
   },
   {
    "duration": 263,
    "start_time": "2023-09-24T18:24:13.927Z"
   },
   {
    "duration": 135,
    "start_time": "2023-09-24T18:24:14.191Z"
   },
   {
    "duration": 38,
    "start_time": "2023-09-24T18:24:14.328Z"
   },
   {
    "duration": 639,
    "start_time": "2023-09-24T18:24:14.368Z"
   },
   {
    "duration": 3,
    "start_time": "2023-09-24T18:24:15.009Z"
   },
   {
    "duration": 319,
    "start_time": "2023-09-24T18:24:15.013Z"
   },
   {
    "duration": 1898,
    "start_time": "2023-09-25T07:23:33.737Z"
   },
   {
    "duration": 1438,
    "start_time": "2023-09-25T07:23:35.638Z"
   },
   {
    "duration": 8,
    "start_time": "2023-09-25T07:23:37.078Z"
   },
   {
    "duration": 58,
    "start_time": "2023-09-25T07:23:37.088Z"
   },
   {
    "duration": 358,
    "start_time": "2023-09-25T07:23:37.148Z"
   },
   {
    "duration": 289,
    "start_time": "2023-09-25T07:23:37.509Z"
   },
   {
    "duration": 158,
    "start_time": "2023-09-25T07:23:37.800Z"
   },
   {
    "duration": 50,
    "start_time": "2023-09-25T07:23:37.960Z"
   },
   {
    "duration": 739,
    "start_time": "2023-09-25T07:23:38.013Z"
   },
   {
    "duration": 3,
    "start_time": "2023-09-25T07:23:38.755Z"
   },
   {
    "duration": 290,
    "start_time": "2023-09-25T07:23:38.760Z"
   },
   {
    "duration": 276,
    "start_time": "2023-09-25T07:24:15.156Z"
   },
   {
    "duration": 296,
    "start_time": "2023-09-25T07:24:45.876Z"
   },
   {
    "duration": 192,
    "start_time": "2023-09-25T07:25:38.605Z"
   },
   {
    "duration": 8,
    "start_time": "2023-09-25T07:26:20.932Z"
   },
   {
    "duration": 1649,
    "start_time": "2023-09-25T07:26:27.930Z"
   },
   {
    "duration": 1093,
    "start_time": "2023-09-25T07:26:29.581Z"
   },
   {
    "duration": 7,
    "start_time": "2023-09-25T07:26:30.676Z"
   },
   {
    "duration": 50,
    "start_time": "2023-09-25T07:26:30.684Z"
   },
   {
    "duration": 415,
    "start_time": "2023-09-25T07:26:30.737Z"
   },
   {
    "duration": 289,
    "start_time": "2023-09-25T07:26:31.154Z"
   },
   {
    "duration": 150,
    "start_time": "2023-09-25T07:26:31.445Z"
   },
   {
    "duration": 43,
    "start_time": "2023-09-25T07:26:31.597Z"
   },
   {
    "duration": 819,
    "start_time": "2023-09-25T07:26:31.642Z"
   },
   {
    "duration": 11,
    "start_time": "2023-09-25T07:26:32.464Z"
   },
   {
    "duration": 266,
    "start_time": "2023-09-25T07:27:08.484Z"
   },
   {
    "duration": 369,
    "start_time": "2023-09-25T07:27:20.119Z"
   },
   {
    "duration": 265,
    "start_time": "2023-09-25T07:28:58.929Z"
   },
   {
    "duration": 221,
    "start_time": "2023-09-25T07:29:16.395Z"
   },
   {
    "duration": 1632,
    "start_time": "2023-09-25T07:29:50.319Z"
   },
   {
    "duration": 1127,
    "start_time": "2023-09-25T07:29:51.953Z"
   },
   {
    "duration": 5,
    "start_time": "2023-09-25T07:29:53.082Z"
   },
   {
    "duration": 63,
    "start_time": "2023-09-25T07:29:53.089Z"
   },
   {
    "duration": 332,
    "start_time": "2023-09-25T07:29:53.155Z"
   },
   {
    "duration": 292,
    "start_time": "2023-09-25T07:29:53.489Z"
   },
   {
    "duration": 163,
    "start_time": "2023-09-25T07:29:53.783Z"
   },
   {
    "duration": 35,
    "start_time": "2023-09-25T07:29:53.949Z"
   },
   {
    "duration": 737,
    "start_time": "2023-09-25T07:29:53.987Z"
   },
   {
    "duration": 265,
    "start_time": "2023-09-25T07:29:54.726Z"
   },
   {
    "duration": 288,
    "start_time": "2023-09-25T07:30:32.218Z"
   },
   {
    "duration": 1724,
    "start_time": "2023-09-25T07:30:39.170Z"
   },
   {
    "duration": 1022,
    "start_time": "2023-09-25T07:30:40.896Z"
   },
   {
    "duration": 7,
    "start_time": "2023-09-25T07:30:41.920Z"
   },
   {
    "duration": 34,
    "start_time": "2023-09-25T07:30:41.929Z"
   },
   {
    "duration": 398,
    "start_time": "2023-09-25T07:30:41.966Z"
   },
   {
    "duration": 348,
    "start_time": "2023-09-25T07:30:42.366Z"
   },
   {
    "duration": 160,
    "start_time": "2023-09-25T07:30:42.716Z"
   },
   {
    "duration": 46,
    "start_time": "2023-09-25T07:30:42.877Z"
   },
   {
    "duration": 722,
    "start_time": "2023-09-25T07:30:42.927Z"
   },
   {
    "duration": 278,
    "start_time": "2023-09-25T07:30:43.651Z"
   },
   {
    "duration": 520,
    "start_time": "2023-09-25T07:31:23.632Z"
   },
   {
    "duration": 212,
    "start_time": "2023-09-25T07:31:37.739Z"
   },
   {
    "duration": 219,
    "start_time": "2023-09-25T07:32:17.766Z"
   },
   {
    "duration": 182,
    "start_time": "2023-09-25T07:32:40.866Z"
   },
   {
    "duration": 335,
    "start_time": "2023-09-25T07:33:02.681Z"
   },
   {
    "duration": 2783,
    "start_time": "2023-09-25T07:33:28.827Z"
   },
   {
    "duration": 490,
    "start_time": "2023-09-25T07:34:04.862Z"
   },
   {
    "duration": 473,
    "start_time": "2023-09-25T07:34:24.023Z"
   },
   {
    "duration": 491,
    "start_time": "2023-09-25T07:34:47.831Z"
   },
   {
    "duration": 488,
    "start_time": "2023-09-25T07:35:12.616Z"
   },
   {
    "duration": 27,
    "start_time": "2023-09-25T07:37:59.010Z"
   },
   {
    "duration": 1771,
    "start_time": "2023-09-25T07:39:03.507Z"
   },
   {
    "duration": 1211,
    "start_time": "2023-09-25T07:39:05.281Z"
   },
   {
    "duration": 16,
    "start_time": "2023-09-25T07:39:06.494Z"
   },
   {
    "duration": 46,
    "start_time": "2023-09-25T07:39:06.522Z"
   },
   {
    "duration": 464,
    "start_time": "2023-09-25T07:39:06.571Z"
   },
   {
    "duration": 419,
    "start_time": "2023-09-25T07:39:07.041Z"
   },
   {
    "duration": 202,
    "start_time": "2023-09-25T07:39:07.462Z"
   },
   {
    "duration": 32,
    "start_time": "2023-09-25T07:39:07.666Z"
   },
   {
    "duration": 737,
    "start_time": "2023-09-25T07:39:07.710Z"
   },
   {
    "duration": 106,
    "start_time": "2023-09-25T07:39:08.450Z"
   },
   {
    "duration": 0,
    "start_time": "2023-09-25T07:39:08.559Z"
   },
   {
    "duration": 297,
    "start_time": "2023-09-25T07:39:22.676Z"
   },
   {
    "duration": 113,
    "start_time": "2023-09-25T07:39:23.823Z"
   },
   {
    "duration": 84,
    "start_time": "2023-09-25T07:42:12.674Z"
   },
   {
    "duration": 1676,
    "start_time": "2023-09-25T07:42:25.409Z"
   },
   {
    "duration": 1081,
    "start_time": "2023-09-25T07:42:27.088Z"
   },
   {
    "duration": 6,
    "start_time": "2023-09-25T07:42:28.171Z"
   },
   {
    "duration": 46,
    "start_time": "2023-09-25T07:42:28.179Z"
   },
   {
    "duration": 341,
    "start_time": "2023-09-25T07:42:28.229Z"
   },
   {
    "duration": 259,
    "start_time": "2023-09-25T07:42:28.572Z"
   },
   {
    "duration": 160,
    "start_time": "2023-09-25T07:42:28.833Z"
   },
   {
    "duration": 42,
    "start_time": "2023-09-25T07:42:28.996Z"
   },
   {
    "duration": 734,
    "start_time": "2023-09-25T07:42:29.043Z"
   },
   {
    "duration": 50,
    "start_time": "2023-09-25T07:42:29.779Z"
   },
   {
    "duration": 23,
    "start_time": "2023-09-25T07:42:29.831Z"
   },
   {
    "duration": 66,
    "start_time": "2023-09-25T07:44:41.998Z"
   },
   {
    "duration": 13,
    "start_time": "2023-09-25T07:44:42.635Z"
   },
   {
    "duration": 71,
    "start_time": "2023-09-25T07:45:35.576Z"
   },
   {
    "duration": 19,
    "start_time": "2023-09-25T07:45:40.974Z"
   },
   {
    "duration": 5,
    "start_time": "2023-09-25T07:46:13.056Z"
   },
   {
    "duration": 4,
    "start_time": "2023-09-25T07:46:29.633Z"
   },
   {
    "duration": 4,
    "start_time": "2023-09-25T07:46:39.883Z"
   },
   {
    "duration": 50,
    "start_time": "2023-09-25T07:47:49.405Z"
   },
   {
    "duration": 10,
    "start_time": "2023-09-25T07:47:50.093Z"
   },
   {
    "duration": 1638,
    "start_time": "2023-09-25T07:47:56.671Z"
   },
   {
    "duration": 1095,
    "start_time": "2023-09-25T07:47:58.313Z"
   },
   {
    "duration": 10,
    "start_time": "2023-09-25T07:47:59.411Z"
   },
   {
    "duration": 31,
    "start_time": "2023-09-25T07:47:59.425Z"
   },
   {
    "duration": 385,
    "start_time": "2023-09-25T07:47:59.459Z"
   },
   {
    "duration": 282,
    "start_time": "2023-09-25T07:47:59.846Z"
   },
   {
    "duration": 157,
    "start_time": "2023-09-25T07:48:00.131Z"
   },
   {
    "duration": 40,
    "start_time": "2023-09-25T07:48:00.290Z"
   },
   {
    "duration": 733,
    "start_time": "2023-09-25T07:48:00.333Z"
   },
   {
    "duration": 58,
    "start_time": "2023-09-25T07:48:01.068Z"
   },
   {
    "duration": 31,
    "start_time": "2023-09-25T07:48:01.128Z"
   },
   {
    "duration": 265,
    "start_time": "2023-09-25T07:49:40.725Z"
   },
   {
    "duration": 185,
    "start_time": "2023-09-25T07:50:29.884Z"
   },
   {
    "duration": 18404,
    "start_time": "2023-09-25T07:52:14.346Z"
   },
   {
    "duration": 155,
    "start_time": "2023-09-25T07:53:22.280Z"
   },
   {
    "duration": 388,
    "start_time": "2023-09-25T07:53:33.524Z"
   },
   {
    "duration": 524,
    "start_time": "2023-09-25T07:54:28.314Z"
   },
   {
    "duration": 243,
    "start_time": "2023-09-25T07:54:38.892Z"
   },
   {
    "duration": 54,
    "start_time": "2023-09-25T07:55:09.817Z"
   },
   {
    "duration": 36,
    "start_time": "2023-09-25T07:55:10.198Z"
   },
   {
    "duration": 4,
    "start_time": "2023-09-25T07:55:20.767Z"
   },
   {
    "duration": 7,
    "start_time": "2023-09-25T07:55:36.818Z"
   },
   {
    "duration": 53,
    "start_time": "2023-09-25T07:56:03.885Z"
   },
   {
    "duration": 24,
    "start_time": "2023-09-25T07:56:04.347Z"
   },
   {
    "duration": 5,
    "start_time": "2023-09-25T07:56:13.046Z"
   },
   {
    "duration": 144,
    "start_time": "2023-09-25T07:58:33.265Z"
   },
   {
    "duration": 1722,
    "start_time": "2023-09-25T07:58:46.195Z"
   },
   {
    "duration": 1097,
    "start_time": "2023-09-25T07:58:47.920Z"
   },
   {
    "duration": 7,
    "start_time": "2023-09-25T07:58:49.020Z"
   },
   {
    "duration": 28,
    "start_time": "2023-09-25T07:58:49.780Z"
   },
   {
    "duration": 317,
    "start_time": "2023-09-25T07:58:54.707Z"
   },
   {
    "duration": 313,
    "start_time": "2023-09-25T07:58:56.014Z"
   },
   {
    "duration": 210,
    "start_time": "2023-09-25T07:58:58.747Z"
   },
   {
    "duration": 758,
    "start_time": "2023-09-25T07:59:05.217Z"
   },
   {
    "duration": 5,
    "start_time": "2023-09-25T08:01:40.636Z"
   },
   {
    "duration": 1837,
    "start_time": "2023-09-25T08:01:51.393Z"
   },
   {
    "duration": 1118,
    "start_time": "2023-09-25T08:01:53.234Z"
   },
   {
    "duration": 5,
    "start_time": "2023-09-25T08:01:54.354Z"
   },
   {
    "duration": 52,
    "start_time": "2023-09-25T08:01:54.361Z"
   },
   {
    "duration": 379,
    "start_time": "2023-09-25T08:01:54.416Z"
   },
   {
    "duration": 289,
    "start_time": "2023-09-25T08:01:54.798Z"
   },
   {
    "duration": 161,
    "start_time": "2023-09-25T08:01:55.089Z"
   },
   {
    "duration": 746,
    "start_time": "2023-09-25T08:01:55.252Z"
   },
   {
    "duration": 79,
    "start_time": "2023-09-25T08:01:56.000Z"
   },
   {
    "duration": 37,
    "start_time": "2023-09-25T08:01:56.081Z"
   },
   {
    "duration": 6,
    "start_time": "2023-09-25T08:02:36.883Z"
   },
   {
    "duration": 130,
    "start_time": "2023-09-25T08:03:03.374Z"
   },
   {
    "duration": 189,
    "start_time": "2023-09-25T08:03:08.849Z"
   },
   {
    "duration": 179,
    "start_time": "2023-09-25T08:03:14.886Z"
   },
   {
    "duration": 153,
    "start_time": "2023-09-25T08:03:29.630Z"
   },
   {
    "duration": 252,
    "start_time": "2023-09-25T08:03:34.432Z"
   },
   {
    "duration": 301,
    "start_time": "2023-09-25T08:03:47.944Z"
   },
   {
    "duration": 158,
    "start_time": "2023-09-25T08:04:18.395Z"
   },
   {
    "duration": 164,
    "start_time": "2023-09-25T08:04:35.954Z"
   },
   {
    "duration": 72,
    "start_time": "2023-09-25T08:06:05.335Z"
   },
   {
    "duration": 5,
    "start_time": "2023-09-25T08:06:06.323Z"
   },
   {
    "duration": 164,
    "start_time": "2023-09-25T08:06:07.285Z"
   },
   {
    "duration": 175,
    "start_time": "2023-09-25T08:06:08.052Z"
   },
   {
    "duration": 79,
    "start_time": "2023-09-25T08:06:36.943Z"
   },
   {
    "duration": 3,
    "start_time": "2023-09-25T08:19:21.951Z"
   },
   {
    "duration": 170,
    "start_time": "2023-09-25T08:21:16.316Z"
   },
   {
    "duration": 151,
    "start_time": "2023-09-25T08:21:33.534Z"
   },
   {
    "duration": 182,
    "start_time": "2023-09-25T08:21:39.470Z"
   },
   {
    "duration": 224,
    "start_time": "2023-09-25T08:21:45.724Z"
   },
   {
    "duration": 184,
    "start_time": "2023-09-25T08:22:31.686Z"
   },
   {
    "duration": 173,
    "start_time": "2023-09-25T08:22:57.934Z"
   },
   {
    "duration": 1633,
    "start_time": "2023-09-25T08:23:39.725Z"
   },
   {
    "duration": 1135,
    "start_time": "2023-09-25T08:23:41.361Z"
   },
   {
    "duration": 15,
    "start_time": "2023-09-25T08:23:42.498Z"
   },
   {
    "duration": 4,
    "start_time": "2023-09-25T08:23:42.532Z"
   },
   {
    "duration": 511,
    "start_time": "2023-09-25T08:23:42.540Z"
   },
   {
    "duration": 332,
    "start_time": "2023-09-25T08:23:43.054Z"
   },
   {
    "duration": 172,
    "start_time": "2023-09-25T08:23:43.388Z"
   },
   {
    "duration": 679,
    "start_time": "2023-09-25T08:23:43.562Z"
   },
   {
    "duration": 154,
    "start_time": "2023-09-25T08:23:44.243Z"
   },
   {
    "duration": 5,
    "start_time": "2023-09-25T08:23:44.399Z"
   },
   {
    "duration": 427,
    "start_time": "2023-09-25T08:23:44.409Z"
   },
   {
    "duration": 139,
    "start_time": "2023-09-25T08:23:44.838Z"
   },
   {
    "duration": 436,
    "start_time": "2023-09-25T08:24:33.916Z"
   },
   {
    "duration": 407,
    "start_time": "2023-09-25T08:24:50.248Z"
   },
   {
    "duration": 371,
    "start_time": "2023-09-25T08:25:00.527Z"
   },
   {
    "duration": 456,
    "start_time": "2023-09-25T08:25:12.436Z"
   },
   {
    "duration": 380,
    "start_time": "2023-09-25T08:25:26.643Z"
   },
   {
    "duration": 352,
    "start_time": "2023-09-25T08:26:06.676Z"
   },
   {
    "duration": 410,
    "start_time": "2023-09-25T08:26:20.427Z"
   },
   {
    "duration": 476,
    "start_time": "2023-09-25T08:26:34.323Z"
   },
   {
    "duration": 419,
    "start_time": "2023-09-25T08:26:53.669Z"
   },
   {
    "duration": 451,
    "start_time": "2023-09-25T08:27:59.438Z"
   },
   {
    "duration": 510,
    "start_time": "2023-09-25T08:28:30.828Z"
   },
   {
    "duration": 436,
    "start_time": "2023-09-25T08:28:36.644Z"
   },
   {
    "duration": 42,
    "start_time": "2023-09-25T08:29:42.491Z"
   },
   {
    "duration": 1669,
    "start_time": "2023-09-25T08:29:48.492Z"
   },
   {
    "duration": 1202,
    "start_time": "2023-09-25T08:29:50.164Z"
   },
   {
    "duration": 8,
    "start_time": "2023-09-25T08:29:51.368Z"
   },
   {
    "duration": 416,
    "start_time": "2023-09-25T08:29:51.379Z"
   },
   {
    "duration": 360,
    "start_time": "2023-09-25T08:29:51.797Z"
   },
   {
    "duration": 229,
    "start_time": "2023-09-25T08:29:52.160Z"
   },
   {
    "duration": 896,
    "start_time": "2023-09-25T08:29:52.391Z"
   },
   {
    "duration": 199,
    "start_time": "2023-09-25T08:29:53.289Z"
   },
   {
    "duration": 5,
    "start_time": "2023-09-25T08:29:53.490Z"
   },
   {
    "duration": 534,
    "start_time": "2023-09-25T08:29:53.510Z"
   },
   {
    "duration": 512,
    "start_time": "2023-09-25T08:29:54.046Z"
   },
   {
    "duration": 582,
    "start_time": "2023-09-25T08:29:54.561Z"
   },
   {
    "duration": 84,
    "start_time": "2023-09-25T08:29:55.144Z"
   },
   {
    "duration": 0,
    "start_time": "2023-09-25T08:29:55.230Z"
   },
   {
    "duration": 48,
    "start_time": "2023-09-25T08:30:12.700Z"
   },
   {
    "duration": 5,
    "start_time": "2023-09-25T08:30:46.292Z"
   },
   {
    "duration": 4,
    "start_time": "2023-09-25T08:30:54.850Z"
   },
   {
    "duration": 6,
    "start_time": "2023-09-25T08:31:01.560Z"
   },
   {
    "duration": 5,
    "start_time": "2023-09-25T08:31:35.939Z"
   },
   {
    "duration": 118,
    "start_time": "2023-09-25T08:35:14.180Z"
   },
   {
    "duration": 84,
    "start_time": "2023-09-25T08:35:32.069Z"
   },
   {
    "duration": 5,
    "start_time": "2023-09-25T08:35:35.781Z"
   },
   {
    "duration": 4,
    "start_time": "2023-09-25T08:35:41.561Z"
   },
   {
    "duration": 5,
    "start_time": "2023-09-25T08:35:50.559Z"
   },
   {
    "duration": 4,
    "start_time": "2023-09-25T08:36:18.788Z"
   },
   {
    "duration": 152,
    "start_time": "2023-09-25T08:36:26.836Z"
   },
   {
    "duration": 8,
    "start_time": "2023-09-25T08:37:05.926Z"
   },
   {
    "duration": 4,
    "start_time": "2023-09-25T08:37:25.889Z"
   },
   {
    "duration": 3,
    "start_time": "2023-09-25T08:37:38.995Z"
   },
   {
    "duration": 10,
    "start_time": "2023-09-25T08:38:42.624Z"
   },
   {
    "duration": 11,
    "start_time": "2023-09-25T08:38:45.493Z"
   },
   {
    "duration": 5,
    "start_time": "2023-09-25T08:38:55.736Z"
   },
   {
    "duration": 4,
    "start_time": "2023-09-25T08:39:05.347Z"
   },
   {
    "duration": 4,
    "start_time": "2023-09-25T08:39:35.705Z"
   },
   {
    "duration": 5,
    "start_time": "2023-09-25T08:39:47.786Z"
   },
   {
    "duration": 3,
    "start_time": "2023-09-25T08:40:01.095Z"
   },
   {
    "duration": 1736,
    "start_time": "2023-09-25T08:40:17.901Z"
   },
   {
    "duration": 1171,
    "start_time": "2023-09-25T08:40:19.639Z"
   },
   {
    "duration": 7,
    "start_time": "2023-09-25T08:40:20.812Z"
   },
   {
    "duration": 512,
    "start_time": "2023-09-25T08:40:20.822Z"
   },
   {
    "duration": 327,
    "start_time": "2023-09-25T08:40:21.336Z"
   },
   {
    "duration": 174,
    "start_time": "2023-09-25T08:40:21.665Z"
   },
   {
    "duration": 755,
    "start_time": "2023-09-25T08:40:21.841Z"
   },
   {
    "duration": 196,
    "start_time": "2023-09-25T08:40:22.598Z"
   },
   {
    "duration": 5,
    "start_time": "2023-09-25T08:40:22.796Z"
   },
   {
    "duration": 496,
    "start_time": "2023-09-25T08:40:22.813Z"
   },
   {
    "duration": 483,
    "start_time": "2023-09-25T08:40:23.311Z"
   },
   {
    "duration": 596,
    "start_time": "2023-09-25T08:40:23.796Z"
   },
   {
    "duration": 45,
    "start_time": "2023-09-25T08:40:24.394Z"
   },
   {
    "duration": 4,
    "start_time": "2023-09-25T08:40:24.443Z"
   },
   {
    "duration": 108,
    "start_time": "2023-09-25T08:42:32.043Z"
   },
   {
    "duration": 4,
    "start_time": "2023-09-25T08:43:33.351Z"
   },
   {
    "duration": 102,
    "start_time": "2023-09-25T08:47:32.249Z"
   },
   {
    "duration": 545,
    "start_time": "2023-09-25T08:48:02.843Z"
   },
   {
    "duration": 518,
    "start_time": "2023-09-25T08:49:27.641Z"
   },
   {
    "duration": 715,
    "start_time": "2023-09-25T08:49:50.136Z"
   },
   {
    "duration": 577,
    "start_time": "2023-09-25T08:49:59.184Z"
   },
   {
    "duration": 677,
    "start_time": "2023-09-25T08:50:30.728Z"
   },
   {
    "duration": 1859,
    "start_time": "2023-09-25T08:51:10.014Z"
   },
   {
    "duration": 1264,
    "start_time": "2023-09-25T08:51:11.875Z"
   },
   {
    "duration": 6,
    "start_time": "2023-09-25T08:51:13.141Z"
   },
   {
    "duration": 493,
    "start_time": "2023-09-25T08:51:13.148Z"
   },
   {
    "duration": 360,
    "start_time": "2023-09-25T08:51:13.643Z"
   },
   {
    "duration": 225,
    "start_time": "2023-09-25T08:51:14.005Z"
   },
   {
    "duration": 748,
    "start_time": "2023-09-25T08:51:14.234Z"
   },
   {
    "duration": 187,
    "start_time": "2023-09-25T08:51:14.984Z"
   },
   {
    "duration": 5,
    "start_time": "2023-09-25T08:51:15.173Z"
   },
   {
    "duration": 505,
    "start_time": "2023-09-25T08:51:15.179Z"
   },
   {
    "duration": 445,
    "start_time": "2023-09-25T08:51:15.686Z"
   },
   {
    "duration": 524,
    "start_time": "2023-09-25T08:51:16.134Z"
   },
   {
    "duration": 31,
    "start_time": "2023-09-25T08:51:16.660Z"
   },
   {
    "duration": 18,
    "start_time": "2023-09-25T08:51:16.694Z"
   },
   {
    "duration": 221,
    "start_time": "2023-09-25T08:51:16.715Z"
   },
   {
    "duration": 11515,
    "start_time": "2023-09-25T08:51:16.938Z"
   },
   {
    "duration": 11394,
    "start_time": "2023-09-25T08:53:31.575Z"
   },
   {
    "duration": 1885,
    "start_time": "2023-09-25T08:54:10.219Z"
   },
   {
    "duration": 1361,
    "start_time": "2023-09-25T08:54:12.107Z"
   },
   {
    "duration": 6,
    "start_time": "2023-09-25T08:54:13.470Z"
   },
   {
    "duration": 474,
    "start_time": "2023-09-25T08:54:13.479Z"
   },
   {
    "duration": 361,
    "start_time": "2023-09-25T08:54:13.956Z"
   },
   {
    "duration": 194,
    "start_time": "2023-09-25T08:54:14.319Z"
   },
   {
    "duration": 805,
    "start_time": "2023-09-25T08:54:14.523Z"
   },
   {
    "duration": 199,
    "start_time": "2023-09-25T08:54:15.333Z"
   },
   {
    "duration": 6,
    "start_time": "2023-09-25T08:54:15.535Z"
   },
   {
    "duration": 514,
    "start_time": "2023-09-25T08:54:15.543Z"
   },
   {
    "duration": 481,
    "start_time": "2023-09-25T08:54:16.060Z"
   },
   {
    "duration": 613,
    "start_time": "2023-09-25T08:54:16.543Z"
   },
   {
    "duration": 39,
    "start_time": "2023-09-25T08:54:17.158Z"
   },
   {
    "duration": 8,
    "start_time": "2023-09-25T08:54:17.217Z"
   },
   {
    "duration": 141,
    "start_time": "2023-09-25T08:54:17.228Z"
   },
   {
    "duration": 11829,
    "start_time": "2023-09-25T08:54:17.371Z"
   },
   {
    "duration": 0,
    "start_time": "2023-09-25T08:55:06.553Z"
   },
   {
    "duration": 11219,
    "start_time": "2023-09-25T08:56:20.864Z"
   },
   {
    "duration": 10523,
    "start_time": "2023-09-25T08:57:59.616Z"
   },
   {
    "duration": 28,
    "start_time": "2023-09-25T08:58:37.360Z"
   },
   {
    "duration": 10542,
    "start_time": "2023-09-25T08:58:51.051Z"
   },
   {
    "duration": 10817,
    "start_time": "2023-09-25T08:59:17.371Z"
   },
   {
    "duration": 18,
    "start_time": "2023-09-25T08:59:53.042Z"
   },
   {
    "duration": 10540,
    "start_time": "2023-09-25T09:00:12.665Z"
   },
   {
    "duration": 10700,
    "start_time": "2023-09-25T09:00:33.300Z"
   },
   {
    "duration": 10695,
    "start_time": "2023-09-25T09:01:27.880Z"
   },
   {
    "duration": 10669,
    "start_time": "2023-09-25T09:03:57.897Z"
   },
   {
    "duration": 11293,
    "start_time": "2023-09-25T09:05:19.980Z"
   },
   {
    "duration": 10771,
    "start_time": "2023-09-25T09:07:57.263Z"
   },
   {
    "duration": 10864,
    "start_time": "2023-09-25T09:10:21.632Z"
   },
   {
    "duration": 1750,
    "start_time": "2023-09-25T09:10:58.872Z"
   },
   {
    "duration": 1167,
    "start_time": "2023-09-25T09:11:00.625Z"
   },
   {
    "duration": 7,
    "start_time": "2023-09-25T09:11:01.794Z"
   },
   {
    "duration": 683,
    "start_time": "2023-09-25T09:11:01.811Z"
   },
   {
    "duration": 479,
    "start_time": "2023-09-25T09:11:02.497Z"
   },
   {
    "duration": 205,
    "start_time": "2023-09-25T09:11:02.978Z"
   },
   {
    "duration": 774,
    "start_time": "2023-09-25T09:11:03.185Z"
   },
   {
    "duration": 176,
    "start_time": "2023-09-25T09:11:03.962Z"
   },
   {
    "duration": 8,
    "start_time": "2023-09-25T09:11:04.141Z"
   },
   {
    "duration": 489,
    "start_time": "2023-09-25T09:11:04.151Z"
   },
   {
    "duration": 413,
    "start_time": "2023-09-25T09:11:04.642Z"
   },
   {
    "duration": 691,
    "start_time": "2023-09-25T09:11:05.056Z"
   },
   {
    "duration": 33,
    "start_time": "2023-09-25T09:11:05.749Z"
   },
   {
    "duration": 52,
    "start_time": "2023-09-25T09:11:05.786Z"
   },
   {
    "duration": 151,
    "start_time": "2023-09-25T09:11:05.840Z"
   },
   {
    "duration": 27,
    "start_time": "2023-09-25T09:11:05.993Z"
   },
   {
    "duration": 11026,
    "start_time": "2023-09-25T09:11:06.022Z"
   },
   {
    "duration": 25,
    "start_time": "2023-09-25T09:11:42.636Z"
   },
   {
    "duration": 475,
    "start_time": "2023-09-25T09:15:31.291Z"
   },
   {
    "duration": 37,
    "start_time": "2023-09-25T09:15:40.206Z"
   },
   {
    "duration": 20,
    "start_time": "2023-09-25T09:17:00.009Z"
   },
   {
    "duration": 18,
    "start_time": "2023-09-25T09:17:10.042Z"
   },
   {
    "duration": 24,
    "start_time": "2023-09-25T09:17:18.799Z"
   },
   {
    "duration": 1708,
    "start_time": "2023-09-25T09:17:28.211Z"
   },
   {
    "duration": 1201,
    "start_time": "2023-09-25T09:17:29.922Z"
   },
   {
    "duration": 9,
    "start_time": "2023-09-25T09:17:31.125Z"
   },
   {
    "duration": 477,
    "start_time": "2023-09-25T09:17:31.138Z"
   },
   {
    "duration": 405,
    "start_time": "2023-09-25T09:17:31.620Z"
   },
   {
    "duration": 178,
    "start_time": "2023-09-25T09:17:32.027Z"
   },
   {
    "duration": 918,
    "start_time": "2023-09-25T09:17:32.207Z"
   },
   {
    "duration": 206,
    "start_time": "2023-09-25T09:17:33.128Z"
   },
   {
    "duration": 5,
    "start_time": "2023-09-25T09:17:33.336Z"
   },
   {
    "duration": 500,
    "start_time": "2023-09-25T09:17:33.343Z"
   },
   {
    "duration": 504,
    "start_time": "2023-09-25T09:17:33.844Z"
   },
   {
    "duration": 703,
    "start_time": "2023-09-25T09:17:34.350Z"
   },
   {
    "duration": 33,
    "start_time": "2023-09-25T09:17:35.055Z"
   },
   {
    "duration": 29,
    "start_time": "2023-09-25T09:17:35.091Z"
   },
   {
    "duration": 148,
    "start_time": "2023-09-25T09:17:35.124Z"
   },
   {
    "duration": 47,
    "start_time": "2023-09-25T09:17:35.275Z"
   },
   {
    "duration": 2689,
    "start_time": "2023-09-25T09:17:35.332Z"
   },
   {
    "duration": 165,
    "start_time": "2023-09-25T09:17:52.655Z"
   },
   {
    "duration": 12,
    "start_time": "2023-09-25T09:18:21.025Z"
   },
   {
    "duration": 1753,
    "start_time": "2023-09-25T09:18:27.522Z"
   },
   {
    "duration": 1214,
    "start_time": "2023-09-25T09:18:29.278Z"
   },
   {
    "duration": 6,
    "start_time": "2023-09-25T09:18:30.494Z"
   },
   {
    "duration": 486,
    "start_time": "2023-09-25T09:18:30.502Z"
   },
   {
    "duration": 348,
    "start_time": "2023-09-25T09:18:30.991Z"
   },
   {
    "duration": 182,
    "start_time": "2023-09-25T09:18:31.340Z"
   },
   {
    "duration": 781,
    "start_time": "2023-09-25T09:18:31.524Z"
   },
   {
    "duration": 209,
    "start_time": "2023-09-25T09:18:32.310Z"
   },
   {
    "duration": 9,
    "start_time": "2023-09-25T09:18:32.521Z"
   },
   {
    "duration": 586,
    "start_time": "2023-09-25T09:18:32.533Z"
   },
   {
    "duration": 389,
    "start_time": "2023-09-25T09:18:33.121Z"
   },
   {
    "duration": 616,
    "start_time": "2023-09-25T09:18:33.513Z"
   },
   {
    "duration": 35,
    "start_time": "2023-09-25T09:18:34.132Z"
   },
   {
    "duration": 5,
    "start_time": "2023-09-25T09:18:34.169Z"
   },
   {
    "duration": 132,
    "start_time": "2023-09-25T09:18:34.175Z"
   },
   {
    "duration": 28,
    "start_time": "2023-09-25T09:18:34.310Z"
   },
   {
    "duration": 1152,
    "start_time": "2023-09-25T09:18:34.340Z"
   },
   {
    "duration": 158,
    "start_time": "2023-09-25T09:18:35.494Z"
   },
   {
    "duration": 11,
    "start_time": "2023-09-25T09:18:48.877Z"
   },
   {
    "duration": 13,
    "start_time": "2023-09-25T09:19:27.546Z"
   },
   {
    "duration": 1894,
    "start_time": "2023-09-25T09:19:33.685Z"
   },
   {
    "duration": 1129,
    "start_time": "2023-09-25T09:19:35.582Z"
   },
   {
    "duration": 10,
    "start_time": "2023-09-25T09:19:36.714Z"
   },
   {
    "duration": 517,
    "start_time": "2023-09-25T09:19:36.727Z"
   },
   {
    "duration": 322,
    "start_time": "2023-09-25T09:19:37.247Z"
   },
   {
    "duration": 181,
    "start_time": "2023-09-25T09:19:37.571Z"
   },
   {
    "duration": 714,
    "start_time": "2023-09-25T09:19:37.754Z"
   },
   {
    "duration": 195,
    "start_time": "2023-09-25T09:19:38.469Z"
   },
   {
    "duration": 4,
    "start_time": "2023-09-25T09:19:38.666Z"
   },
   {
    "duration": 523,
    "start_time": "2023-09-25T09:19:38.672Z"
   },
   {
    "duration": 535,
    "start_time": "2023-09-25T09:19:39.198Z"
   },
   {
    "duration": 676,
    "start_time": "2023-09-25T09:19:39.735Z"
   },
   {
    "duration": 38,
    "start_time": "2023-09-25T09:19:40.414Z"
   },
   {
    "duration": 4,
    "start_time": "2023-09-25T09:19:40.457Z"
   },
   {
    "duration": 156,
    "start_time": "2023-09-25T09:19:40.463Z"
   },
   {
    "duration": 30,
    "start_time": "2023-09-25T09:19:40.623Z"
   },
   {
    "duration": 1083,
    "start_time": "2023-09-25T09:19:40.655Z"
   },
   {
    "duration": 144,
    "start_time": "2023-09-25T09:19:41.741Z"
   },
   {
    "duration": 13,
    "start_time": "2023-09-25T09:20:15.092Z"
   },
   {
    "duration": 13,
    "start_time": "2023-09-25T09:20:19.980Z"
   },
   {
    "duration": 1736,
    "start_time": "2023-09-25T09:20:27.030Z"
   },
   {
    "duration": 1181,
    "start_time": "2023-09-25T09:20:28.768Z"
   },
   {
    "duration": 6,
    "start_time": "2023-09-25T09:20:29.951Z"
   },
   {
    "duration": 474,
    "start_time": "2023-09-25T09:20:29.959Z"
   },
   {
    "duration": 349,
    "start_time": "2023-09-25T09:20:30.436Z"
   },
   {
    "duration": 170,
    "start_time": "2023-09-25T09:20:30.787Z"
   },
   {
    "duration": 759,
    "start_time": "2023-09-25T09:20:30.959Z"
   },
   {
    "duration": 180,
    "start_time": "2023-09-25T09:20:31.722Z"
   },
   {
    "duration": 19,
    "start_time": "2023-09-25T09:20:31.904Z"
   },
   {
    "duration": 564,
    "start_time": "2023-09-25T09:20:31.924Z"
   },
   {
    "duration": 614,
    "start_time": "2023-09-25T09:20:32.490Z"
   },
   {
    "duration": 620,
    "start_time": "2023-09-25T09:20:33.107Z"
   },
   {
    "duration": 34,
    "start_time": "2023-09-25T09:20:33.734Z"
   },
   {
    "duration": 5,
    "start_time": "2023-09-25T09:20:33.772Z"
   },
   {
    "duration": 153,
    "start_time": "2023-09-25T09:20:33.779Z"
   },
   {
    "duration": 32,
    "start_time": "2023-09-25T09:20:33.934Z"
   },
   {
    "duration": 10744,
    "start_time": "2023-09-25T09:20:33.968Z"
   },
   {
    "duration": 190,
    "start_time": "2023-09-25T09:21:00.076Z"
   },
   {
    "duration": 16,
    "start_time": "2023-09-25T09:21:20.881Z"
   },
   {
    "duration": 17,
    "start_time": "2023-09-25T09:21:33.063Z"
   },
   {
    "duration": 16,
    "start_time": "2023-09-25T09:21:43.755Z"
   },
   {
    "duration": 1707,
    "start_time": "2023-09-25T09:21:52.977Z"
   },
   {
    "duration": 1153,
    "start_time": "2023-09-25T09:21:54.687Z"
   },
   {
    "duration": 7,
    "start_time": "2023-09-25T09:21:55.842Z"
   },
   {
    "duration": 494,
    "start_time": "2023-09-25T09:21:55.851Z"
   },
   {
    "duration": 370,
    "start_time": "2023-09-25T09:21:56.349Z"
   },
   {
    "duration": 163,
    "start_time": "2023-09-25T09:21:56.722Z"
   },
   {
    "duration": 701,
    "start_time": "2023-09-25T09:21:56.887Z"
   },
   {
    "duration": 164,
    "start_time": "2023-09-25T09:21:57.590Z"
   },
   {
    "duration": 4,
    "start_time": "2023-09-25T09:21:57.756Z"
   },
   {
    "duration": 486,
    "start_time": "2023-09-25T09:21:57.762Z"
   },
   {
    "duration": 460,
    "start_time": "2023-09-25T09:21:58.250Z"
   },
   {
    "duration": 631,
    "start_time": "2023-09-25T09:21:58.713Z"
   },
   {
    "duration": 31,
    "start_time": "2023-09-25T09:21:59.345Z"
   },
   {
    "duration": 4,
    "start_time": "2023-09-25T09:21:59.379Z"
   },
   {
    "duration": 155,
    "start_time": "2023-09-25T09:21:59.384Z"
   },
   {
    "duration": 1752,
    "start_time": "2023-09-25T09:21:59.540Z"
   },
   {
    "duration": 0,
    "start_time": "2023-09-25T09:22:01.295Z"
   },
   {
    "duration": 39,
    "start_time": "2023-09-25T09:22:07.795Z"
   },
   {
    "duration": 10642,
    "start_time": "2023-09-25T09:22:13.400Z"
   },
   {
    "duration": 10616,
    "start_time": "2023-09-25T09:22:46.321Z"
   },
   {
    "duration": 10347,
    "start_time": "2023-09-25T09:24:24.174Z"
   },
   {
    "duration": 10677,
    "start_time": "2023-09-25T09:24:51.446Z"
   },
   {
    "duration": 34,
    "start_time": "2023-09-25T09:30:29.042Z"
   },
   {
    "duration": 10701,
    "start_time": "2023-09-25T09:30:32.634Z"
   },
   {
    "duration": 21,
    "start_time": "2023-09-25T09:33:01.636Z"
   },
   {
    "duration": 15077,
    "start_time": "2023-09-25T09:33:11.579Z"
   },
   {
    "duration": 10999,
    "start_time": "2023-09-25T09:34:28.644Z"
   },
   {
    "duration": 0,
    "start_time": "2023-09-25T09:34:39.644Z"
   },
   {
    "duration": 5,
    "start_time": "2023-09-25T09:34:52.684Z"
   },
   {
    "duration": 11470,
    "start_time": "2023-09-25T09:36:45.824Z"
   },
   {
    "duration": 25,
    "start_time": "2023-09-25T09:37:21.424Z"
   },
   {
    "duration": 1915,
    "start_time": "2023-09-25T10:21:19.080Z"
   },
   {
    "duration": 1218,
    "start_time": "2023-09-25T10:21:20.997Z"
   },
   {
    "duration": 11,
    "start_time": "2023-09-25T10:21:22.225Z"
   },
   {
    "duration": 632,
    "start_time": "2023-09-25T10:21:22.239Z"
   },
   {
    "duration": 430,
    "start_time": "2023-09-25T10:21:22.876Z"
   },
   {
    "duration": 215,
    "start_time": "2023-09-25T10:21:23.309Z"
   },
   {
    "duration": 750,
    "start_time": "2023-09-25T10:21:23.526Z"
   },
   {
    "duration": 192,
    "start_time": "2023-09-25T10:21:24.278Z"
   },
   {
    "duration": 5,
    "start_time": "2023-09-25T10:21:24.472Z"
   },
   {
    "duration": 513,
    "start_time": "2023-09-25T10:21:24.479Z"
   },
   {
    "duration": 565,
    "start_time": "2023-09-25T10:21:24.995Z"
   },
   {
    "duration": 715,
    "start_time": "2023-09-25T10:21:25.562Z"
   },
   {
    "duration": 63,
    "start_time": "2023-09-25T10:21:26.279Z"
   },
   {
    "duration": 5,
    "start_time": "2023-09-25T10:21:26.346Z"
   },
   {
    "duration": 142,
    "start_time": "2023-09-25T10:21:26.353Z"
   },
   {
    "duration": 168,
    "start_time": "2023-09-25T10:21:26.497Z"
   },
   {
    "duration": 0,
    "start_time": "2023-09-25T10:21:26.667Z"
   },
   {
    "duration": 12002,
    "start_time": "2023-09-25T10:21:36.081Z"
   },
   {
    "duration": 14,
    "start_time": "2023-09-25T11:55:29.327Z"
   },
   {
    "duration": 1428,
    "start_time": "2023-09-25T11:55:47.187Z"
   },
   {
    "duration": 1852,
    "start_time": "2023-09-25T11:56:01.322Z"
   },
   {
    "duration": 1106,
    "start_time": "2023-09-25T11:56:03.176Z"
   },
   {
    "duration": 8,
    "start_time": "2023-09-25T11:56:04.284Z"
   },
   {
    "duration": 569,
    "start_time": "2023-09-25T11:56:04.294Z"
   },
   {
    "duration": 329,
    "start_time": "2023-09-25T11:56:04.866Z"
   },
   {
    "duration": 205,
    "start_time": "2023-09-25T11:56:05.198Z"
   },
   {
    "duration": 740,
    "start_time": "2023-09-25T11:56:05.405Z"
   },
   {
    "duration": 204,
    "start_time": "2023-09-25T11:56:06.147Z"
   },
   {
    "duration": 4,
    "start_time": "2023-09-25T11:56:06.352Z"
   },
   {
    "duration": 475,
    "start_time": "2023-09-25T11:56:06.358Z"
   },
   {
    "duration": 455,
    "start_time": "2023-09-25T11:56:06.835Z"
   },
   {
    "duration": 594,
    "start_time": "2023-09-25T11:56:07.292Z"
   },
   {
    "duration": 53,
    "start_time": "2023-09-25T11:56:07.888Z"
   },
   {
    "duration": 4,
    "start_time": "2023-09-25T11:56:07.943Z"
   },
   {
    "duration": 131,
    "start_time": "2023-09-25T11:56:07.949Z"
   },
   {
    "duration": 1499,
    "start_time": "2023-09-25T11:56:08.083Z"
   },
   {
    "duration": 14,
    "start_time": "2023-09-25T11:57:30.065Z"
   },
   {
    "duration": 1446,
    "start_time": "2023-09-25T11:57:42.487Z"
   },
   {
    "duration": 1885,
    "start_time": "2023-09-25T11:58:37.389Z"
   },
   {
    "duration": 1608,
    "start_time": "2023-09-25T11:58:39.277Z"
   },
   {
    "duration": 1197,
    "start_time": "2023-09-25T11:58:40.888Z"
   },
   {
    "duration": 6,
    "start_time": "2023-09-25T11:58:42.088Z"
   },
   {
    "duration": 504,
    "start_time": "2023-09-25T11:58:42.095Z"
   },
   {
    "duration": 449,
    "start_time": "2023-09-25T11:58:42.614Z"
   },
   {
    "duration": 198,
    "start_time": "2023-09-25T11:58:43.065Z"
   },
   {
    "duration": 730,
    "start_time": "2023-09-25T11:58:43.266Z"
   },
   {
    "duration": 197,
    "start_time": "2023-09-25T11:58:43.998Z"
   },
   {
    "duration": 5,
    "start_time": "2023-09-25T11:58:44.198Z"
   },
   {
    "duration": 472,
    "start_time": "2023-09-25T11:58:44.204Z"
   },
   {
    "duration": 451,
    "start_time": "2023-09-25T11:58:44.677Z"
   },
   {
    "duration": 558,
    "start_time": "2023-09-25T11:58:45.131Z"
   },
   {
    "duration": 50,
    "start_time": "2023-09-25T11:58:45.691Z"
   },
   {
    "duration": 4,
    "start_time": "2023-09-25T11:58:45.743Z"
   },
   {
    "duration": 221,
    "start_time": "2023-09-25T11:58:45.749Z"
   },
   {
    "duration": 1421,
    "start_time": "2023-09-25T11:58:45.972Z"
   },
   {
    "duration": 1533,
    "start_time": "2023-09-25T11:59:18.696Z"
   },
   {
    "duration": 2733,
    "start_time": "2023-09-25T12:02:48.806Z"
   },
   {
    "duration": 632,
    "start_time": "2023-09-25T12:02:51.542Z"
   },
   {
    "duration": 1244,
    "start_time": "2023-09-25T12:02:52.176Z"
   },
   {
    "duration": 8,
    "start_time": "2023-09-25T12:02:53.423Z"
   },
   {
    "duration": 445,
    "start_time": "2023-09-25T12:02:53.433Z"
   },
   {
    "duration": 329,
    "start_time": "2023-09-25T12:02:53.879Z"
   },
   {
    "duration": 173,
    "start_time": "2023-09-25T12:02:54.217Z"
   },
   {
    "duration": 759,
    "start_time": "2023-09-25T12:02:54.392Z"
   },
   {
    "duration": 177,
    "start_time": "2023-09-25T12:02:55.153Z"
   },
   {
    "duration": 5,
    "start_time": "2023-09-25T12:02:55.333Z"
   },
   {
    "duration": 535,
    "start_time": "2023-09-25T12:02:55.343Z"
   },
   {
    "duration": 436,
    "start_time": "2023-09-25T12:02:55.882Z"
   },
   {
    "duration": 602,
    "start_time": "2023-09-25T12:02:56.320Z"
   },
   {
    "duration": 34,
    "start_time": "2023-09-25T12:02:56.927Z"
   },
   {
    "duration": 5,
    "start_time": "2023-09-25T12:02:56.963Z"
   },
   {
    "duration": 119,
    "start_time": "2023-09-25T12:02:56.970Z"
   },
   {
    "duration": 1392,
    "start_time": "2023-09-25T12:02:57.092Z"
   },
   {
    "duration": 93,
    "start_time": "2023-09-25T13:17:01.280Z"
   },
   {
    "duration": 2743,
    "start_time": "2023-09-26T06:50:22.637Z"
   },
   {
    "duration": 758,
    "start_time": "2023-09-26T06:50:25.382Z"
   },
   {
    "duration": 1262,
    "start_time": "2023-09-26T06:50:26.142Z"
   },
   {
    "duration": 5,
    "start_time": "2023-09-26T06:50:27.407Z"
   },
   {
    "duration": 382,
    "start_time": "2023-09-26T06:50:27.414Z"
   },
   {
    "duration": 305,
    "start_time": "2023-09-26T06:50:27.798Z"
   },
   {
    "duration": 150,
    "start_time": "2023-09-26T06:50:28.105Z"
   },
   {
    "duration": 707,
    "start_time": "2023-09-26T06:50:28.256Z"
   },
   {
    "duration": 159,
    "start_time": "2023-09-26T06:50:28.964Z"
   },
   {
    "duration": 4,
    "start_time": "2023-09-26T06:50:29.126Z"
   },
   {
    "duration": 489,
    "start_time": "2023-09-26T06:50:29.132Z"
   },
   {
    "duration": 352,
    "start_time": "2023-09-26T06:50:29.623Z"
   },
   {
    "duration": 439,
    "start_time": "2023-09-26T06:50:29.976Z"
   },
   {
    "duration": 30,
    "start_time": "2023-09-26T06:50:30.417Z"
   },
   {
    "duration": 4,
    "start_time": "2023-09-26T06:50:30.450Z"
   },
   {
    "duration": 121,
    "start_time": "2023-09-26T06:50:30.456Z"
   },
   {
    "duration": 1255,
    "start_time": "2023-09-26T06:50:30.579Z"
   },
   {
    "duration": 2256,
    "start_time": "2023-09-26T06:52:28.113Z"
   },
   {
    "duration": 573,
    "start_time": "2023-09-26T06:52:30.372Z"
   },
   {
    "duration": 1034,
    "start_time": "2023-09-26T06:52:30.947Z"
   },
   {
    "duration": 6,
    "start_time": "2023-09-26T06:52:31.982Z"
   },
   {
    "duration": 712,
    "start_time": "2023-09-26T06:52:31.991Z"
   },
   {
    "duration": 305,
    "start_time": "2023-09-26T06:52:32.705Z"
   },
   {
    "duration": 153,
    "start_time": "2023-09-26T06:52:33.012Z"
   },
   {
    "duration": 658,
    "start_time": "2023-09-26T06:52:33.167Z"
   },
   {
    "duration": 151,
    "start_time": "2023-09-26T06:52:33.826Z"
   },
   {
    "duration": 4,
    "start_time": "2023-09-26T06:52:33.979Z"
   },
   {
    "duration": 394,
    "start_time": "2023-09-26T06:52:33.984Z"
   },
   {
    "duration": 380,
    "start_time": "2023-09-26T06:52:34.379Z"
   },
   {
    "duration": 528,
    "start_time": "2023-09-26T06:52:34.762Z"
   },
   {
    "duration": 37,
    "start_time": "2023-09-26T06:52:35.293Z"
   },
   {
    "duration": 52,
    "start_time": "2023-09-26T06:52:35.332Z"
   },
   {
    "duration": 150,
    "start_time": "2023-09-26T06:52:35.385Z"
   },
   {
    "duration": 1279,
    "start_time": "2023-09-26T06:52:35.536Z"
   },
   {
    "duration": 2445,
    "start_time": "2023-09-26T07:06:39.459Z"
   },
   {
    "duration": 633,
    "start_time": "2023-09-26T07:06:41.906Z"
   },
   {
    "duration": 1018,
    "start_time": "2023-09-26T07:06:42.541Z"
   },
   {
    "duration": 6,
    "start_time": "2023-09-26T07:06:43.561Z"
   },
   {
    "duration": 421,
    "start_time": "2023-09-26T07:06:43.569Z"
   },
   {
    "duration": 314,
    "start_time": "2023-09-26T07:06:43.992Z"
   },
   {
    "duration": 164,
    "start_time": "2023-09-26T07:06:44.308Z"
   },
   {
    "duration": 673,
    "start_time": "2023-09-26T07:06:44.474Z"
   },
   {
    "duration": 160,
    "start_time": "2023-09-26T07:06:45.149Z"
   },
   {
    "duration": 11,
    "start_time": "2023-09-26T07:06:45.311Z"
   },
   {
    "duration": 430,
    "start_time": "2023-09-26T07:06:45.325Z"
   },
   {
    "duration": 406,
    "start_time": "2023-09-26T07:06:45.756Z"
   },
   {
    "duration": 558,
    "start_time": "2023-09-26T07:06:46.164Z"
   },
   {
    "duration": 29,
    "start_time": "2023-09-26T07:06:46.726Z"
   },
   {
    "duration": 3,
    "start_time": "2023-09-26T07:06:46.756Z"
   },
   {
    "duration": 111,
    "start_time": "2023-09-26T07:06:46.761Z"
   },
   {
    "duration": 1325,
    "start_time": "2023-09-26T07:06:46.874Z"
   },
   {
    "duration": 2372,
    "start_time": "2023-09-26T07:22:49.359Z"
   },
   {
    "duration": 585,
    "start_time": "2023-09-26T07:22:51.733Z"
   },
   {
    "duration": 1034,
    "start_time": "2023-09-26T07:22:52.320Z"
   },
   {
    "duration": 6,
    "start_time": "2023-09-26T07:22:53.355Z"
   },
   {
    "duration": 400,
    "start_time": "2023-09-26T07:22:53.363Z"
   },
   {
    "duration": 295,
    "start_time": "2023-09-26T07:22:53.765Z"
   },
   {
    "duration": 155,
    "start_time": "2023-09-26T07:22:54.062Z"
   },
   {
    "duration": 666,
    "start_time": "2023-09-26T07:22:54.219Z"
   },
   {
    "duration": 157,
    "start_time": "2023-09-26T07:22:54.887Z"
   },
   {
    "duration": 4,
    "start_time": "2023-09-26T07:22:55.046Z"
   },
   {
    "duration": 433,
    "start_time": "2023-09-26T07:22:55.051Z"
   },
   {
    "duration": 371,
    "start_time": "2023-09-26T07:22:55.486Z"
   },
   {
    "duration": 524,
    "start_time": "2023-09-26T07:22:55.859Z"
   },
   {
    "duration": 35,
    "start_time": "2023-09-26T07:22:56.386Z"
   },
   {
    "duration": 3,
    "start_time": "2023-09-26T07:22:56.423Z"
   },
   {
    "duration": 113,
    "start_time": "2023-09-26T07:22:56.428Z"
   },
   {
    "duration": 1327,
    "start_time": "2023-09-26T07:22:56.543Z"
   },
   {
    "duration": 3158,
    "start_time": "2023-09-26T08:15:27.046Z"
   },
   {
    "duration": 595,
    "start_time": "2023-09-26T08:15:30.206Z"
   },
   {
    "duration": 1007,
    "start_time": "2023-09-26T08:15:30.802Z"
   },
   {
    "duration": 5,
    "start_time": "2023-09-26T08:15:31.811Z"
   },
   {
    "duration": 416,
    "start_time": "2023-09-26T08:15:31.818Z"
   },
   {
    "duration": 364,
    "start_time": "2023-09-26T08:15:32.237Z"
   },
   {
    "duration": 169,
    "start_time": "2023-09-26T08:15:32.603Z"
   },
   {
    "duration": 635,
    "start_time": "2023-09-26T08:15:32.774Z"
   },
   {
    "duration": 167,
    "start_time": "2023-09-26T08:15:33.411Z"
   },
   {
    "duration": 4,
    "start_time": "2023-09-26T08:15:33.580Z"
   },
   {
    "duration": 467,
    "start_time": "2023-09-26T08:15:33.585Z"
   },
   {
    "duration": 384,
    "start_time": "2023-09-26T08:15:34.055Z"
   },
   {
    "duration": 528,
    "start_time": "2023-09-26T08:15:34.441Z"
   },
   {
    "duration": 41,
    "start_time": "2023-09-26T08:15:34.973Z"
   },
   {
    "duration": 15,
    "start_time": "2023-09-26T08:15:35.016Z"
   },
   {
    "duration": 130,
    "start_time": "2023-09-26T08:15:35.032Z"
   },
   {
    "duration": 1320,
    "start_time": "2023-09-26T08:15:35.164Z"
   },
   {
    "duration": 2510,
    "start_time": "2023-09-26T08:52:04.313Z"
   },
   {
    "duration": 598,
    "start_time": "2023-09-26T08:52:06.825Z"
   },
   {
    "duration": 1025,
    "start_time": "2023-09-26T08:52:07.425Z"
   },
   {
    "duration": 6,
    "start_time": "2023-09-26T08:52:08.452Z"
   },
   {
    "duration": 414,
    "start_time": "2023-09-26T08:52:08.460Z"
   },
   {
    "duration": 317,
    "start_time": "2023-09-26T08:52:08.876Z"
   },
   {
    "duration": 165,
    "start_time": "2023-09-26T08:52:09.195Z"
   },
   {
    "duration": 634,
    "start_time": "2023-09-26T08:52:09.362Z"
   },
   {
    "duration": 172,
    "start_time": "2023-09-26T08:52:09.998Z"
   },
   {
    "duration": 3,
    "start_time": "2023-09-26T08:52:10.172Z"
   },
   {
    "duration": 435,
    "start_time": "2023-09-26T08:52:10.177Z"
   },
   {
    "duration": 383,
    "start_time": "2023-09-26T08:52:10.614Z"
   },
   {
    "duration": 541,
    "start_time": "2023-09-26T08:52:11.000Z"
   },
   {
    "duration": 33,
    "start_time": "2023-09-26T08:52:11.544Z"
   },
   {
    "duration": 4,
    "start_time": "2023-09-26T08:52:11.579Z"
   },
   {
    "duration": 130,
    "start_time": "2023-09-26T08:52:11.584Z"
   },
   {
    "duration": 1343,
    "start_time": "2023-09-26T08:52:11.716Z"
   },
   {
    "duration": 1524,
    "start_time": "2023-09-26T09:45:29.267Z"
   },
   {
    "duration": 1016,
    "start_time": "2023-09-26T09:45:30.793Z"
   },
   {
    "duration": 6,
    "start_time": "2023-09-26T09:45:31.811Z"
   },
   {
    "duration": 436,
    "start_time": "2023-09-26T09:45:31.819Z"
   },
   {
    "duration": 374,
    "start_time": "2023-09-26T09:45:32.257Z"
   },
   {
    "duration": 180,
    "start_time": "2023-09-26T09:45:32.633Z"
   },
   {
    "duration": 638,
    "start_time": "2023-09-26T09:45:32.815Z"
   },
   {
    "duration": 173,
    "start_time": "2023-09-26T09:45:33.456Z"
   },
   {
    "duration": 4,
    "start_time": "2023-09-26T09:45:33.631Z"
   },
   {
    "duration": 429,
    "start_time": "2023-09-26T09:45:33.639Z"
   },
   {
    "duration": 428,
    "start_time": "2023-09-26T09:45:34.070Z"
   },
   {
    "duration": 510,
    "start_time": "2023-09-26T09:45:34.499Z"
   },
   {
    "duration": 30,
    "start_time": "2023-09-26T09:45:35.011Z"
   },
   {
    "duration": 4,
    "start_time": "2023-09-26T09:45:35.043Z"
   },
   {
    "duration": 206,
    "start_time": "2023-09-26T09:45:35.048Z"
   },
   {
    "duration": 1321,
    "start_time": "2023-09-26T09:45:35.255Z"
   },
   {
    "duration": 5,
    "start_time": "2023-09-26T09:47:35.015Z"
   },
   {
    "duration": 16,
    "start_time": "2023-09-26T09:50:39.815Z"
   },
   {
    "duration": 16,
    "start_time": "2023-09-26T09:51:09.031Z"
   },
   {
    "duration": 4,
    "start_time": "2023-09-26T09:52:40.066Z"
   },
   {
    "duration": 12,
    "start_time": "2023-09-26T09:52:46.491Z"
   },
   {
    "duration": 11,
    "start_time": "2023-09-26T09:53:10.551Z"
   },
   {
    "duration": 5,
    "start_time": "2023-09-26T09:53:38.305Z"
   },
   {
    "duration": 5,
    "start_time": "2023-09-26T09:54:11.972Z"
   },
   {
    "duration": 22,
    "start_time": "2023-09-26T09:54:35.422Z"
   },
   {
    "duration": 25579,
    "start_time": "2023-09-26T09:55:10.847Z"
   },
   {
    "duration": 5,
    "start_time": "2023-09-26T09:56:26.980Z"
   },
   {
    "duration": 30585,
    "start_time": "2023-09-26T09:57:41.842Z"
   },
   {
    "duration": 81,
    "start_time": "2023-09-26T09:59:28.638Z"
   },
   {
    "duration": 25373,
    "start_time": "2023-09-26T09:59:33.737Z"
   },
   {
    "duration": 12,
    "start_time": "2023-09-26T10:04:47.176Z"
   },
   {
    "duration": 4,
    "start_time": "2023-09-26T10:05:08.892Z"
   },
   {
    "duration": 554,
    "start_time": "2023-09-26T10:05:12.886Z"
   },
   {
    "duration": 1265483,
    "start_time": "2023-09-26T10:07:19.501Z"
   },
   {
    "duration": 45649,
    "start_time": "2023-09-26T10:30:46.266Z"
   },
   {
    "duration": 27,
    "start_time": "2023-09-26T10:35:35.047Z"
   },
   {
    "duration": 112,
    "start_time": "2023-09-26T10:38:04.026Z"
   },
   {
    "duration": 26557,
    "start_time": "2023-09-26T10:38:16.861Z"
   },
   {
    "duration": 38287,
    "start_time": "2023-09-26T10:38:54.831Z"
   },
   {
    "duration": 15,
    "start_time": "2023-09-26T11:04:53.151Z"
   },
   {
    "duration": 134,
    "start_time": "2023-09-26T11:05:10.422Z"
   },
   {
    "duration": 1558520,
    "start_time": "2023-09-26T12:24:29.325Z"
   },
   {
    "duration": 418,
    "start_time": "2023-09-26T12:50:27.847Z"
   },
   {
    "duration": 1574,
    "start_time": "2023-09-26T13:20:09.119Z"
   },
   {
    "duration": 1030,
    "start_time": "2023-09-26T13:20:10.695Z"
   },
   {
    "duration": 6,
    "start_time": "2023-09-26T13:20:11.727Z"
   },
   {
    "duration": 420,
    "start_time": "2023-09-26T13:20:11.735Z"
   },
   {
    "duration": 347,
    "start_time": "2023-09-26T13:20:12.157Z"
   },
   {
    "duration": 194,
    "start_time": "2023-09-26T13:20:12.506Z"
   },
   {
    "duration": 750,
    "start_time": "2023-09-26T13:20:12.703Z"
   },
   {
    "duration": 176,
    "start_time": "2023-09-26T13:20:13.455Z"
   },
   {
    "duration": 5,
    "start_time": "2023-09-26T13:20:13.633Z"
   },
   {
    "duration": 430,
    "start_time": "2023-09-26T13:20:13.641Z"
   },
   {
    "duration": 472,
    "start_time": "2023-09-26T13:20:14.073Z"
   },
   {
    "duration": 34,
    "start_time": "2023-09-26T13:20:14.547Z"
   },
   {
    "duration": 3,
    "start_time": "2023-09-26T13:20:14.583Z"
   },
   {
    "duration": 108,
    "start_time": "2023-09-26T13:20:14.588Z"
   },
   {
    "duration": 13,
    "start_time": "2023-09-26T13:20:14.698Z"
   },
   {
    "duration": 33500,
    "start_time": "2023-09-26T13:20:14.714Z"
   },
   {
    "duration": 6936745,
    "start_time": "2023-09-26T13:20:48.216Z"
   },
   {
    "duration": 1647423,
    "start_time": "2023-09-26T15:16:24.963Z"
   },
   {
    "duration": 131334,
    "start_time": "2023-09-26T15:54:51.882Z"
   },
   {
    "duration": 1767,
    "start_time": "2023-09-27T06:59:57.296Z"
   },
   {
    "duration": 1344,
    "start_time": "2023-09-27T06:59:59.065Z"
   },
   {
    "duration": 7,
    "start_time": "2023-09-27T07:00:00.411Z"
   },
   {
    "duration": 423,
    "start_time": "2023-09-27T07:00:00.420Z"
   },
   {
    "duration": 289,
    "start_time": "2023-09-27T07:00:00.846Z"
   },
   {
    "duration": 174,
    "start_time": "2023-09-27T07:00:01.137Z"
   },
   {
    "duration": 750,
    "start_time": "2023-09-27T07:00:01.312Z"
   },
   {
    "duration": 159,
    "start_time": "2023-09-27T07:00:02.064Z"
   },
   {
    "duration": 139,
    "start_time": "2023-09-27T07:00:02.225Z"
   },
   {
    "duration": 823,
    "start_time": "2023-09-27T07:00:02.366Z"
   },
   {
    "duration": 486,
    "start_time": "2023-09-27T07:00:03.191Z"
   },
   {
    "duration": 42,
    "start_time": "2023-09-27T07:00:03.679Z"
   },
   {
    "duration": 87,
    "start_time": "2023-09-27T07:00:03.723Z"
   },
   {
    "duration": 149,
    "start_time": "2023-09-27T07:00:03.813Z"
   },
   {
    "duration": 6,
    "start_time": "2023-09-27T07:00:03.963Z"
   },
   {
    "duration": 32853,
    "start_time": "2023-09-27T07:00:03.970Z"
   },
   {
    "duration": 1628,
    "start_time": "2023-09-27T07:39:52.464Z"
   },
   {
    "duration": 1010,
    "start_time": "2023-09-27T07:39:54.093Z"
   },
   {
    "duration": 12,
    "start_time": "2023-09-27T07:39:55.113Z"
   },
   {
    "duration": 434,
    "start_time": "2023-09-27T07:39:55.127Z"
   },
   {
    "duration": 311,
    "start_time": "2023-09-27T07:39:55.563Z"
   },
   {
    "duration": 165,
    "start_time": "2023-09-27T07:39:55.876Z"
   },
   {
    "duration": 750,
    "start_time": "2023-09-27T07:39:56.043Z"
   },
   {
    "duration": 158,
    "start_time": "2023-09-27T07:39:56.795Z"
   },
   {
    "duration": 410,
    "start_time": "2023-09-27T07:39:56.955Z"
   },
   {
    "duration": 455,
    "start_time": "2023-09-27T07:39:57.366Z"
   },
   {
    "duration": 30,
    "start_time": "2023-09-27T07:39:57.824Z"
   },
   {
    "duration": 82,
    "start_time": "2023-09-27T07:39:57.855Z"
   },
   {
    "duration": 123,
    "start_time": "2023-09-27T07:39:57.939Z"
   },
   {
    "duration": 5,
    "start_time": "2023-09-27T07:39:58.064Z"
   },
   {
    "duration": 47054,
    "start_time": "2023-09-27T07:39:58.071Z"
   },
   {
    "duration": 325,
    "start_time": "2023-09-27T07:40:45.128Z"
   },
   {
    "duration": 0,
    "start_time": "2023-09-27T07:40:45.456Z"
   },
   {
    "duration": 74057,
    "start_time": "2023-09-27T07:41:02.939Z"
   },
   {
    "duration": 75389,
    "start_time": "2023-09-27T07:42:50.260Z"
   },
   {
    "duration": 76312,
    "start_time": "2023-09-27T07:44:37.253Z"
   },
   {
    "duration": 4,
    "start_time": "2023-09-27T07:55:59.469Z"
   },
   {
    "duration": 34595,
    "start_time": "2023-09-27T07:55:59.475Z"
   },
   {
    "duration": 35120,
    "start_time": "2023-09-27T08:01:00.352Z"
   },
   {
    "duration": 180,
    "start_time": "2023-09-27T08:03:09.894Z"
   },
   {
    "duration": 78144,
    "start_time": "2023-09-27T08:03:31.935Z"
   },
   {
    "duration": 140535,
    "start_time": "2023-09-27T08:05:10.646Z"
   },
   {
    "duration": 1744,
    "start_time": "2023-09-27T08:24:11.836Z"
   },
   {
    "duration": 1074,
    "start_time": "2023-09-27T08:24:13.583Z"
   },
   {
    "duration": 6,
    "start_time": "2023-09-27T08:24:14.659Z"
   },
   {
    "duration": 489,
    "start_time": "2023-09-27T08:24:14.667Z"
   },
   {
    "duration": 347,
    "start_time": "2023-09-27T08:24:15.158Z"
   },
   {
    "duration": 168,
    "start_time": "2023-09-27T08:24:15.506Z"
   },
   {
    "duration": 763,
    "start_time": "2023-09-27T08:24:15.676Z"
   },
   {
    "duration": 159,
    "start_time": "2023-09-27T08:24:16.440Z"
   },
   {
    "duration": 428,
    "start_time": "2023-09-27T08:24:16.600Z"
   },
   {
    "duration": 469,
    "start_time": "2023-09-27T08:24:17.031Z"
   },
   {
    "duration": 40,
    "start_time": "2023-09-27T08:24:17.502Z"
   },
   {
    "duration": 3,
    "start_time": "2023-09-27T08:24:17.544Z"
   },
   {
    "duration": 124,
    "start_time": "2023-09-27T08:24:17.549Z"
   },
   {
    "duration": 25,
    "start_time": "2023-09-27T08:24:17.676Z"
   },
   {
    "duration": 76022,
    "start_time": "2023-09-27T08:24:17.703Z"
   },
   {
    "duration": 77728,
    "start_time": "2023-09-27T08:25:33.727Z"
   },
   {
    "duration": 188094,
    "start_time": "2023-09-27T08:26:51.456Z"
   },
   {
    "duration": 4,
    "start_time": "2023-09-27T08:29:59.553Z"
   },
   {
    "duration": 175225,
    "start_time": "2023-09-27T08:31:28.023Z"
   },
   {
    "duration": 219225,
    "start_time": "2023-09-27T08:39:00.624Z"
   },
   {
    "duration": 220,
    "start_time": "2023-09-27T08:53:26.242Z"
   },
   {
    "duration": 11809,
    "start_time": "2023-09-27T08:53:41.179Z"
   },
   {
    "duration": 11803,
    "start_time": "2023-09-27T08:54:28.402Z"
   },
   {
    "duration": 11541,
    "start_time": "2023-09-27T09:03:24.656Z"
   },
   {
    "duration": 8,
    "start_time": "2023-09-27T09:04:01.759Z"
   },
   {
    "duration": 1780,
    "start_time": "2023-09-27T09:04:13.198Z"
   },
   {
    "duration": 1159,
    "start_time": "2023-09-27T09:04:14.981Z"
   },
   {
    "duration": 6,
    "start_time": "2023-09-27T09:04:16.142Z"
   },
   {
    "duration": 463,
    "start_time": "2023-09-27T09:04:16.150Z"
   },
   {
    "duration": 326,
    "start_time": "2023-09-27T09:04:16.615Z"
   },
   {
    "duration": 167,
    "start_time": "2023-09-27T09:04:16.945Z"
   },
   {
    "duration": 793,
    "start_time": "2023-09-27T09:04:17.118Z"
   },
   {
    "duration": 158,
    "start_time": "2023-09-27T09:04:17.920Z"
   },
   {
    "duration": 452,
    "start_time": "2023-09-27T09:04:18.080Z"
   },
   {
    "duration": 494,
    "start_time": "2023-09-27T09:04:18.537Z"
   },
   {
    "duration": 35,
    "start_time": "2023-09-27T09:04:19.036Z"
   },
   {
    "duration": 16,
    "start_time": "2023-09-27T09:04:19.073Z"
   },
   {
    "duration": 110,
    "start_time": "2023-09-27T09:04:19.091Z"
   },
   {
    "duration": 18,
    "start_time": "2023-09-27T09:04:19.203Z"
   },
   {
    "duration": 15,
    "start_time": "2023-09-27T09:04:19.231Z"
   },
   {
    "duration": 0,
    "start_time": "2023-09-27T09:04:19.248Z"
   },
   {
    "duration": 0,
    "start_time": "2023-09-27T09:04:19.249Z"
   },
   {
    "duration": 0,
    "start_time": "2023-09-27T09:04:19.250Z"
   },
   {
    "duration": 74919,
    "start_time": "2023-09-27T09:04:43.998Z"
   },
   {
    "duration": 73697,
    "start_time": "2023-09-27T09:07:54.120Z"
   },
   {
    "duration": 1653,
    "start_time": "2023-09-27T09:09:34.361Z"
   },
   {
    "duration": 79803,
    "start_time": "2023-09-27T09:12:34.136Z"
   },
   {
    "duration": 140424,
    "start_time": "2023-09-27T09:14:13.782Z"
   },
   {
    "duration": 6,
    "start_time": "2023-09-27T09:18:10.332Z"
   },
   {
    "duration": 11300,
    "start_time": "2023-09-27T09:18:32.875Z"
   },
   {
    "duration": 4,
    "start_time": "2023-09-27T09:19:20.758Z"
   },
   {
    "duration": 1622,
    "start_time": "2023-09-27T09:19:27.482Z"
   },
   {
    "duration": 11423,
    "start_time": "2023-09-27T09:20:02.531Z"
   },
   {
    "duration": 1639,
    "start_time": "2023-09-27T09:20:13.956Z"
   },
   {
    "duration": 151796,
    "start_time": "2023-09-27T09:29:24.161Z"
   },
   {
    "duration": 60,
    "start_time": "2023-09-27T09:35:15.937Z"
   },
   {
    "duration": 99,
    "start_time": "2023-09-27T09:35:34.388Z"
   },
   {
    "duration": 578340,
    "start_time": "2023-09-27T09:35:42.104Z"
   },
   {
    "duration": 1690,
    "start_time": "2023-09-27T09:48:12.658Z"
   },
   {
    "duration": 1090,
    "start_time": "2023-09-27T09:48:14.350Z"
   },
   {
    "duration": 6,
    "start_time": "2023-09-27T09:48:15.442Z"
   },
   {
    "duration": 437,
    "start_time": "2023-09-27T09:48:15.450Z"
   },
   {
    "duration": 314,
    "start_time": "2023-09-27T09:48:15.889Z"
   },
   {
    "duration": 159,
    "start_time": "2023-09-27T09:48:16.210Z"
   },
   {
    "duration": 777,
    "start_time": "2023-09-27T09:48:16.371Z"
   },
   {
    "duration": 175,
    "start_time": "2023-09-27T09:48:17.151Z"
   },
   {
    "duration": 421,
    "start_time": "2023-09-27T09:48:17.327Z"
   },
   {
    "duration": 503,
    "start_time": "2023-09-27T09:48:17.751Z"
   },
   {
    "duration": 32,
    "start_time": "2023-09-27T09:48:18.256Z"
   },
   {
    "duration": 3,
    "start_time": "2023-09-27T09:48:18.290Z"
   },
   {
    "duration": 106,
    "start_time": "2023-09-27T09:48:19.382Z"
   },
   {
    "duration": 6,
    "start_time": "2023-09-27T09:48:20.353Z"
   },
   {
    "duration": 55754,
    "start_time": "2023-09-27T09:48:22.871Z"
   },
   {
    "duration": 1682,
    "start_time": "2023-09-27T09:49:18.627Z"
   },
   {
    "duration": 4960,
    "start_time": "2023-09-27T09:49:20.315Z"
   },
   {
    "duration": 11342,
    "start_time": "2023-09-27T09:49:25.278Z"
   },
   {
    "duration": 1640,
    "start_time": "2023-09-27T09:49:36.623Z"
   },
   {
    "duration": 5979,
    "start_time": "2023-09-27T09:52:31.992Z"
   },
   {
    "duration": 4602,
    "start_time": "2023-09-27T09:55:05.825Z"
   },
   {
    "duration": 1736,
    "start_time": "2023-09-27T10:13:41.321Z"
   },
   {
    "duration": 1058,
    "start_time": "2023-09-27T10:13:43.059Z"
   },
   {
    "duration": 7,
    "start_time": "2023-09-27T10:13:44.121Z"
   },
   {
    "duration": 435,
    "start_time": "2023-09-27T10:13:44.130Z"
   },
   {
    "duration": 346,
    "start_time": "2023-09-27T10:13:44.567Z"
   },
   {
    "duration": 165,
    "start_time": "2023-09-27T10:13:44.920Z"
   },
   {
    "duration": 806,
    "start_time": "2023-09-27T10:13:45.087Z"
   },
   {
    "duration": 173,
    "start_time": "2023-09-27T10:13:45.895Z"
   },
   {
    "duration": 446,
    "start_time": "2023-09-27T10:13:46.070Z"
   },
   {
    "duration": 479,
    "start_time": "2023-09-27T10:13:46.517Z"
   },
   {
    "duration": 43,
    "start_time": "2023-09-27T10:13:46.998Z"
   },
   {
    "duration": 4,
    "start_time": "2023-09-27T10:13:47.043Z"
   },
   {
    "duration": 144,
    "start_time": "2023-09-27T10:13:47.050Z"
   },
   {
    "duration": 17,
    "start_time": "2023-09-27T10:13:47.197Z"
   },
   {
    "duration": 91909,
    "start_time": "2023-09-27T10:13:47.220Z"
   },
   {
    "duration": 768,
    "start_time": "2023-09-27T10:15:19.132Z"
   },
   {
    "duration": 0,
    "start_time": "2023-09-27T10:15:19.902Z"
   },
   {
    "duration": 0,
    "start_time": "2023-09-27T10:15:19.903Z"
   },
   {
    "duration": 0,
    "start_time": "2023-09-27T10:15:19.905Z"
   },
   {
    "duration": 0,
    "start_time": "2023-09-27T10:15:19.907Z"
   },
   {
    "duration": 95,
    "start_time": "2023-09-27T10:16:12.563Z"
   },
   {
    "duration": 1623,
    "start_time": "2023-09-27T10:16:27.198Z"
   },
   {
    "duration": 119856,
    "start_time": "2023-09-27T10:16:39.040Z"
   },
   {
    "duration": 1627,
    "start_time": "2023-09-27T10:18:38.898Z"
   },
   {
    "duration": 2182716,
    "start_time": "2023-09-27T10:28:40.801Z"
   },
   {
    "duration": 3396,
    "start_time": "2023-09-27T11:05:06.939Z"
   },
   {
    "duration": 239,
    "start_time": "2023-09-27T11:28:22.546Z"
   },
   {
    "duration": 11831,
    "start_time": "2023-09-27T11:29:33.827Z"
   },
   {
    "duration": 11692,
    "start_time": "2023-09-27T11:30:11.078Z"
   },
   {
    "duration": 11841,
    "start_time": "2023-09-27T11:31:23.488Z"
   },
   {
    "duration": 11825,
    "start_time": "2023-09-27T11:32:37.745Z"
   },
   {
    "duration": 554,
    "start_time": "2023-09-27T11:34:15.795Z"
   },
   {
    "duration": 196,
    "start_time": "2023-09-27T11:56:34.084Z"
   },
   {
    "duration": 11847,
    "start_time": "2023-09-27T12:00:21.725Z"
   },
   {
    "duration": 570,
    "start_time": "2023-09-27T12:00:33.574Z"
   },
   {
    "duration": 1733,
    "start_time": "2023-09-27T12:05:45.808Z"
   },
   {
    "duration": 1099,
    "start_time": "2023-09-27T12:05:47.543Z"
   },
   {
    "duration": 6,
    "start_time": "2023-09-27T12:05:48.644Z"
   },
   {
    "duration": 491,
    "start_time": "2023-09-27T12:05:48.652Z"
   },
   {
    "duration": 387,
    "start_time": "2023-09-27T12:05:49.146Z"
   },
   {
    "duration": 154,
    "start_time": "2023-09-27T12:05:49.535Z"
   },
   {
    "duration": 875,
    "start_time": "2023-09-27T12:05:49.690Z"
   },
   {
    "duration": 177,
    "start_time": "2023-09-27T12:05:50.567Z"
   },
   {
    "duration": 430,
    "start_time": "2023-09-27T12:05:50.747Z"
   },
   {
    "duration": 506,
    "start_time": "2023-09-27T12:05:51.179Z"
   },
   {
    "duration": 49,
    "start_time": "2023-09-27T12:05:51.687Z"
   },
   {
    "duration": 4,
    "start_time": "2023-09-27T12:05:51.739Z"
   },
   {
    "duration": 122,
    "start_time": "2023-09-27T12:05:51.745Z"
   },
   {
    "duration": 6,
    "start_time": "2023-09-27T12:05:51.869Z"
   },
   {
    "duration": 78650,
    "start_time": "2023-09-27T12:05:51.877Z"
   },
   {
    "duration": 1594,
    "start_time": "2023-09-27T12:07:10.535Z"
   },
   {
    "duration": 119089,
    "start_time": "2023-09-27T12:07:12.213Z"
   },
   {
    "duration": 1639,
    "start_time": "2023-09-27T12:09:11.316Z"
   },
   {
    "duration": 2701788,
    "start_time": "2023-09-27T12:09:12.957Z"
   },
   {
    "duration": 3399,
    "start_time": "2023-09-27T12:54:14.747Z"
   },
   {
    "duration": 11529,
    "start_time": "2023-09-27T12:54:18.147Z"
   },
   {
    "duration": 586,
    "start_time": "2023-09-27T12:54:29.678Z"
   },
   {
    "duration": 2306,
    "start_time": "2023-09-27T14:51:56.293Z"
   },
   {
    "duration": 1209,
    "start_time": "2023-09-27T14:52:02.434Z"
   },
   {
    "duration": 6,
    "start_time": "2023-09-27T14:53:06.958Z"
   },
   {
    "duration": 423,
    "start_time": "2023-09-27T14:54:41.893Z"
   },
   {
    "duration": 411,
    "start_time": "2023-09-27T14:55:14.131Z"
   },
   {
    "duration": 415,
    "start_time": "2023-09-27T14:55:54.606Z"
   },
   {
    "duration": 475,
    "start_time": "2023-09-27T14:56:17.636Z"
   },
   {
    "duration": 415,
    "start_time": "2023-09-27T14:56:39.013Z"
   },
   {
    "duration": 391,
    "start_time": "2023-09-27T14:56:51.752Z"
   },
   {
    "duration": 393,
    "start_time": "2023-09-27T14:57:18.574Z"
   },
   {
    "duration": 399,
    "start_time": "2023-09-27T14:57:35.138Z"
   },
   {
    "duration": 292,
    "start_time": "2023-09-27T14:57:44.279Z"
   },
   {
    "duration": 144,
    "start_time": "2023-09-27T14:57:54.603Z"
   },
   {
    "duration": 656,
    "start_time": "2023-09-27T14:58:28.792Z"
   },
   {
    "duration": 50,
    "start_time": "2023-09-27T14:58:53.497Z"
   },
   {
    "duration": 1498,
    "start_time": "2023-09-27T14:59:01.615Z"
   },
   {
    "duration": 937,
    "start_time": "2023-09-27T14:59:04.075Z"
   },
   {
    "duration": 5,
    "start_time": "2023-09-27T14:59:05.351Z"
   },
   {
    "duration": 475,
    "start_time": "2023-09-27T14:59:06.621Z"
   },
   {
    "duration": 300,
    "start_time": "2023-09-27T14:59:22.002Z"
   },
   {
    "duration": 150,
    "start_time": "2023-09-27T14:59:23.976Z"
   },
   {
    "duration": 754,
    "start_time": "2023-09-27T14:59:25.254Z"
   },
   {
    "duration": 635,
    "start_time": "2023-09-27T14:59:50.676Z"
   },
   {
    "duration": 760,
    "start_time": "2023-09-27T14:59:56.538Z"
   },
   {
    "duration": 47,
    "start_time": "2023-09-27T15:00:24.192Z"
   },
   {
    "duration": 108,
    "start_time": "2023-09-27T15:04:27.824Z"
   },
   {
    "duration": 8,
    "start_time": "2023-09-27T15:05:25.941Z"
   },
   {
    "duration": 9,
    "start_time": "2023-09-27T15:05:35.304Z"
   },
   {
    "duration": 2575,
    "start_time": "2023-09-27T15:05:52.098Z"
   },
   {
    "duration": 1678,
    "start_time": "2023-09-27T15:06:09.612Z"
   },
   {
    "duration": 2290,
    "start_time": "2023-09-27T15:06:42.068Z"
   },
   {
    "duration": 981,
    "start_time": "2023-09-27T15:06:44.360Z"
   },
   {
    "duration": 6,
    "start_time": "2023-09-27T15:06:45.554Z"
   },
   {
    "duration": 541,
    "start_time": "2023-09-27T15:06:46.929Z"
   },
   {
    "duration": 327,
    "start_time": "2023-09-27T15:06:51.392Z"
   },
   {
    "duration": 159,
    "start_time": "2023-09-27T15:06:53.739Z"
   },
   {
    "duration": 747,
    "start_time": "2023-09-27T15:06:55.112Z"
   },
   {
    "duration": 114,
    "start_time": "2023-09-27T15:06:57.710Z"
   },
   {
    "duration": 15,
    "start_time": "2023-09-27T15:07:05.543Z"
   },
   {
    "duration": 4,
    "start_time": "2023-09-27T15:07:33.441Z"
   },
   {
    "duration": 136,
    "start_time": "2023-09-27T15:07:40.974Z"
   },
   {
    "duration": 42,
    "start_time": "2023-09-27T15:08:12.428Z"
   },
   {
    "duration": 93,
    "start_time": "2023-09-27T15:08:22.156Z"
   },
   {
    "duration": 86,
    "start_time": "2023-09-27T15:08:41.813Z"
   },
   {
    "duration": 12,
    "start_time": "2023-09-27T15:10:50.019Z"
   },
   {
    "duration": 72,
    "start_time": "2023-09-27T15:10:50.898Z"
   },
   {
    "duration": 13,
    "start_time": "2023-09-27T15:11:13.261Z"
   },
   {
    "duration": 73,
    "start_time": "2023-09-27T15:11:13.793Z"
   },
   {
    "duration": 48,
    "start_time": "2023-09-27T15:11:15.852Z"
   },
   {
    "duration": 1681,
    "start_time": "2023-09-27T17:03:00.702Z"
   },
   {
    "duration": 1182,
    "start_time": "2023-09-27T17:03:02.810Z"
   },
   {
    "duration": 6,
    "start_time": "2023-09-27T17:03:03.994Z"
   },
   {
    "duration": 389,
    "start_time": "2023-09-27T17:03:05.645Z"
   },
   {
    "duration": 104,
    "start_time": "2023-09-27T17:06:40.315Z"
   },
   {
    "duration": 260,
    "start_time": "2023-09-27T17:06:45.180Z"
   },
   {
    "duration": 303,
    "start_time": "2023-09-27T17:07:13.870Z"
   },
   {
    "duration": 351,
    "start_time": "2023-09-27T17:07:24.587Z"
   },
   {
    "duration": 148,
    "start_time": "2023-09-27T17:08:22.005Z"
   },
   {
    "duration": 317,
    "start_time": "2023-09-27T17:08:34.775Z"
   },
   {
    "duration": 340,
    "start_time": "2023-09-27T17:10:48.276Z"
   },
   {
    "duration": 336,
    "start_time": "2023-09-27T17:11:33.160Z"
   },
   {
    "duration": 414,
    "start_time": "2023-09-27T17:12:00.299Z"
   },
   {
    "duration": 318,
    "start_time": "2023-09-27T17:12:12.849Z"
   },
   {
    "duration": 451,
    "start_time": "2023-09-27T17:12:27.226Z"
   },
   {
    "duration": 413,
    "start_time": "2023-09-27T17:12:46.295Z"
   },
   {
    "duration": 246,
    "start_time": "2023-09-27T17:13:02.881Z"
   },
   {
    "duration": 127,
    "start_time": "2023-09-27T17:13:04.985Z"
   },
   {
    "duration": 622,
    "start_time": "2023-09-27T17:13:11.137Z"
   },
   {
    "duration": 16,
    "start_time": "2023-09-27T17:13:38.996Z"
   },
   {
    "duration": 566,
    "start_time": "2023-09-27T17:14:10.170Z"
   },
   {
    "duration": 16,
    "start_time": "2023-09-27T17:14:22.416Z"
   },
   {
    "duration": 15,
    "start_time": "2023-09-27T17:14:27.137Z"
   },
   {
    "duration": 13,
    "start_time": "2023-09-27T17:14:48.738Z"
   },
   {
    "duration": 554,
    "start_time": "2023-09-27T17:15:04.622Z"
   },
   {
    "duration": 581,
    "start_time": "2023-09-27T17:15:17.737Z"
   },
   {
    "duration": 1464,
    "start_time": "2023-09-27T17:16:12.101Z"
   },
   {
    "duration": 858,
    "start_time": "2023-09-27T17:16:13.658Z"
   },
   {
    "duration": 5,
    "start_time": "2023-09-27T17:16:14.619Z"
   },
   {
    "duration": 362,
    "start_time": "2023-09-27T17:16:15.791Z"
   },
   {
    "duration": 252,
    "start_time": "2023-09-27T17:16:17.969Z"
   },
   {
    "duration": 126,
    "start_time": "2023-09-27T17:16:19.820Z"
   },
   {
    "duration": 630,
    "start_time": "2023-09-27T17:16:21.221Z"
   },
   {
    "duration": 741,
    "start_time": "2023-09-27T17:16:36.102Z"
   },
   {
    "duration": 598,
    "start_time": "2023-09-27T17:16:53.944Z"
   },
   {
    "duration": 97,
    "start_time": "2023-09-27T17:17:04.418Z"
   },
   {
    "duration": 73,
    "start_time": "2023-09-27T17:17:05.289Z"
   },
   {
    "duration": 47,
    "start_time": "2023-09-27T17:17:16.395Z"
   },
   {
    "duration": 8,
    "start_time": "2023-09-27T17:19:33.027Z"
   },
   {
    "duration": 5,
    "start_time": "2023-09-27T17:19:49.006Z"
   },
   {
    "duration": 32,
    "start_time": "2023-09-27T17:20:04.004Z"
   },
   {
    "duration": 39,
    "start_time": "2023-09-27T17:21:16.714Z"
   },
   {
    "duration": 82,
    "start_time": "2023-09-27T17:22:01.886Z"
   },
   {
    "duration": 31,
    "start_time": "2023-09-27T17:22:10.357Z"
   },
   {
    "duration": 25,
    "start_time": "2023-09-27T17:22:33.606Z"
   },
   {
    "duration": 99,
    "start_time": "2023-09-27T17:23:00.820Z"
   },
   {
    "duration": 165,
    "start_time": "2023-09-27T17:23:09.735Z"
   },
   {
    "duration": 178,
    "start_time": "2023-09-27T17:23:10.222Z"
   },
   {
    "duration": 1390,
    "start_time": "2023-09-27T17:23:26.217Z"
   },
   {
    "duration": 904,
    "start_time": "2023-09-27T17:23:30.315Z"
   },
   {
    "duration": 5,
    "start_time": "2023-09-27T17:23:31.268Z"
   },
   {
    "duration": 382,
    "start_time": "2023-09-27T17:23:32.198Z"
   },
   {
    "duration": 279,
    "start_time": "2023-09-27T17:23:33.835Z"
   },
   {
    "duration": 134,
    "start_time": "2023-09-27T17:23:35.673Z"
   },
   {
    "duration": 656,
    "start_time": "2023-09-27T17:23:36.975Z"
   },
   {
    "duration": 94,
    "start_time": "2023-09-27T17:23:39.585Z"
   },
   {
    "duration": 74,
    "start_time": "2023-09-27T17:23:40.220Z"
   },
   {
    "duration": 47,
    "start_time": "2023-09-27T17:23:43.345Z"
   },
   {
    "duration": 25,
    "start_time": "2023-09-27T17:23:47.688Z"
   },
   {
    "duration": 167,
    "start_time": "2023-09-27T17:23:53.028Z"
   },
   {
    "duration": 204,
    "start_time": "2023-09-27T17:24:00.725Z"
   },
   {
    "duration": 22,
    "start_time": "2023-09-27T17:24:06.342Z"
   },
   {
    "duration": 23,
    "start_time": "2023-09-27T17:24:41.914Z"
   },
   {
    "duration": 137,
    "start_time": "2023-09-27T17:24:45.662Z"
   },
   {
    "duration": 47,
    "start_time": "2023-09-27T17:25:02.366Z"
   },
   {
    "duration": 1307,
    "start_time": "2023-09-27T17:25:09.485Z"
   },
   {
    "duration": 842,
    "start_time": "2023-09-27T17:25:12.163Z"
   },
   {
    "duration": 5,
    "start_time": "2023-09-27T17:25:15.278Z"
   },
   {
    "duration": 345,
    "start_time": "2023-09-27T17:25:15.695Z"
   },
   {
    "duration": 299,
    "start_time": "2023-09-27T17:25:16.317Z"
   },
   {
    "duration": 127,
    "start_time": "2023-09-27T17:25:17.002Z"
   },
   {
    "duration": 639,
    "start_time": "2023-09-27T17:25:17.744Z"
   },
   {
    "duration": 95,
    "start_time": "2023-09-27T17:25:19.600Z"
   },
   {
    "duration": 77,
    "start_time": "2023-09-27T17:25:20.287Z"
   },
   {
    "duration": 47,
    "start_time": "2023-09-27T17:25:23.142Z"
   },
   {
    "duration": 44,
    "start_time": "2023-09-27T17:25:26.245Z"
   },
   {
    "duration": 256,
    "start_time": "2023-09-27T17:25:29.706Z"
   },
   {
    "duration": 295,
    "start_time": "2023-09-27T17:25:30.645Z"
   },
   {
    "duration": 24,
    "start_time": "2023-09-27T17:25:33.074Z"
   },
   {
    "duration": 142,
    "start_time": "2023-09-27T17:27:11.410Z"
   },
   {
    "duration": 141,
    "start_time": "2023-09-27T17:27:12.184Z"
   },
   {
    "duration": 1382,
    "start_time": "2023-09-27T17:27:26.297Z"
   },
   {
    "duration": 861,
    "start_time": "2023-09-27T17:27:28.692Z"
   },
   {
    "duration": 6,
    "start_time": "2023-09-27T17:27:29.703Z"
   },
   {
    "duration": 374,
    "start_time": "2023-09-27T17:27:30.646Z"
   },
   {
    "duration": 322,
    "start_time": "2023-09-27T17:27:32.425Z"
   },
   {
    "duration": 136,
    "start_time": "2023-09-27T17:27:34.139Z"
   },
   {
    "duration": 666,
    "start_time": "2023-09-27T17:27:35.313Z"
   },
   {
    "duration": 102,
    "start_time": "2023-09-27T17:27:37.687Z"
   },
   {
    "duration": 76,
    "start_time": "2023-09-27T17:27:38.298Z"
   },
   {
    "duration": 62,
    "start_time": "2023-09-27T17:27:40.476Z"
   },
   {
    "duration": 50,
    "start_time": "2023-09-27T17:27:51.248Z"
   },
   {
    "duration": 32,
    "start_time": "2023-09-27T17:27:56.602Z"
   },
   {
    "duration": 339,
    "start_time": "2023-09-27T17:28:00.674Z"
   },
   {
    "duration": 301,
    "start_time": "2023-09-27T17:28:02.193Z"
   },
   {
    "duration": 25,
    "start_time": "2023-09-27T17:28:05.325Z"
   },
   {
    "duration": 303,
    "start_time": "2023-09-27T17:28:59.579Z"
   },
   {
    "duration": 135,
    "start_time": "2023-09-27T17:29:17.662Z"
   },
   {
    "duration": 1512,
    "start_time": "2023-09-27T17:29:33.926Z"
   },
   {
    "duration": 997,
    "start_time": "2023-09-27T17:29:35.440Z"
   },
   {
    "duration": 12,
    "start_time": "2023-09-27T17:29:36.439Z"
   },
   {
    "duration": 398,
    "start_time": "2023-09-27T17:29:36.453Z"
   },
   {
    "duration": 291,
    "start_time": "2023-09-27T17:29:36.854Z"
   },
   {
    "duration": 141,
    "start_time": "2023-09-27T17:29:37.146Z"
   },
   {
    "duration": 657,
    "start_time": "2023-09-27T17:29:37.334Z"
   },
   {
    "duration": 93,
    "start_time": "2023-09-27T17:29:39.612Z"
   },
   {
    "duration": 76,
    "start_time": "2023-09-27T17:29:40.197Z"
   },
   {
    "duration": 46,
    "start_time": "2023-09-27T17:29:41.912Z"
   },
   {
    "duration": 39,
    "start_time": "2023-09-27T17:29:44.812Z"
   },
   {
    "duration": 253,
    "start_time": "2023-09-27T17:29:47.930Z"
   },
   {
    "duration": 307,
    "start_time": "2023-09-27T17:29:48.932Z"
   },
   {
    "duration": 24,
    "start_time": "2023-09-27T17:29:51.164Z"
   },
   {
    "duration": 149,
    "start_time": "2023-09-27T17:29:52.414Z"
   },
   {
    "duration": 150,
    "start_time": "2023-09-27T17:30:44.152Z"
   },
   {
    "duration": 4,
    "start_time": "2023-09-27T17:30:48.437Z"
   },
   {
    "duration": 805,
    "start_time": "2023-09-27T17:33:20.923Z"
   },
   {
    "duration": 757,
    "start_time": "2023-09-27T17:33:52.496Z"
   },
   {
    "duration": 777,
    "start_time": "2023-09-27T17:35:01.441Z"
   },
   {
    "duration": 56,
    "start_time": "2023-09-27T17:36:08.880Z"
   },
   {
    "duration": 4,
    "start_time": "2023-09-27T17:36:18.293Z"
   },
   {
    "duration": 3,
    "start_time": "2023-09-27T17:37:50.725Z"
   },
   {
    "duration": 5,
    "start_time": "2023-09-27T17:37:57.262Z"
   },
   {
    "duration": 216,
    "start_time": "2023-09-27T17:38:52.262Z"
   },
   {
    "duration": 4,
    "start_time": "2023-09-27T17:40:11.280Z"
   },
   {
    "duration": 6,
    "start_time": "2023-09-27T17:43:09.312Z"
   },
   {
    "duration": 371,
    "start_time": "2023-09-27T17:43:24.281Z"
   },
   {
    "duration": 5,
    "start_time": "2023-09-27T17:46:09.990Z"
   },
   {
    "duration": 360,
    "start_time": "2023-09-27T17:46:13.896Z"
   },
   {
    "duration": 407,
    "start_time": "2023-09-27T17:46:17.244Z"
   },
   {
    "duration": 4,
    "start_time": "2023-09-27T17:48:35.878Z"
   },
   {
    "duration": 268,
    "start_time": "2023-09-27T17:56:04.199Z"
   },
   {
    "duration": 328,
    "start_time": "2023-09-27T17:59:22.062Z"
   },
   {
    "duration": 250,
    "start_time": "2023-09-27T17:59:26.417Z"
   },
   {
    "duration": 2988,
    "start_time": "2023-09-27T18:01:58.271Z"
   },
   {
    "duration": 3844,
    "start_time": "2023-09-27T18:02:10.708Z"
   },
   {
    "duration": 3777,
    "start_time": "2023-09-27T18:02:44.882Z"
   },
   {
    "duration": 2978,
    "start_time": "2023-09-27T18:03:57.278Z"
   },
   {
    "duration": 3173,
    "start_time": "2023-09-27T18:04:07.084Z"
   },
   {
    "duration": 3109,
    "start_time": "2023-09-27T18:04:28.051Z"
   },
   {
    "duration": 76,
    "start_time": "2023-09-27T18:04:44.855Z"
   },
   {
    "duration": 2863,
    "start_time": "2023-09-27T18:04:50.421Z"
   },
   {
    "duration": 1918,
    "start_time": "2023-09-27T18:06:30.079Z"
   },
   {
    "duration": 1839,
    "start_time": "2023-09-27T18:06:44.420Z"
   },
   {
    "duration": 1907,
    "start_time": "2023-09-27T18:06:58.028Z"
   },
   {
    "duration": 8748,
    "start_time": "2023-09-27T18:11:59.352Z"
   },
   {
    "duration": 8359,
    "start_time": "2023-09-27T18:13:04.726Z"
   },
   {
    "duration": 8319,
    "start_time": "2023-09-27T18:13:26.583Z"
   },
   {
    "duration": 10619,
    "start_time": "2023-09-27T18:13:45.022Z"
   },
   {
    "duration": 10974,
    "start_time": "2023-09-27T18:14:35.560Z"
   },
   {
    "duration": 93,
    "start_time": "2023-09-27T18:15:34.354Z"
   },
   {
    "duration": 80,
    "start_time": "2023-09-27T18:15:38.467Z"
   },
   {
    "duration": 10940,
    "start_time": "2023-09-27T18:15:45.890Z"
   },
   {
    "duration": 11376,
    "start_time": "2023-09-27T18:19:16.079Z"
   },
   {
    "duration": 10762,
    "start_time": "2023-09-27T18:24:34.636Z"
   },
   {
    "duration": 10683,
    "start_time": "2023-09-27T18:24:53.169Z"
   },
   {
    "duration": 2426,
    "start_time": "2023-09-27T18:26:29.246Z"
   },
   {
    "duration": 540,
    "start_time": "2023-09-27T18:28:24.525Z"
   },
   {
    "duration": 244,
    "start_time": "2023-09-27T18:29:44.234Z"
   },
   {
    "duration": 2492,
    "start_time": "2023-09-27T18:30:14.647Z"
   },
   {
    "duration": 1821,
    "start_time": "2023-09-28T06:21:59.826Z"
   },
   {
    "duration": 1361,
    "start_time": "2023-09-28T06:22:04.649Z"
   },
   {
    "duration": 7,
    "start_time": "2023-09-28T06:22:06.120Z"
   },
   {
    "duration": 451,
    "start_time": "2023-09-28T06:22:07.784Z"
   },
   {
    "duration": 323,
    "start_time": "2023-09-28T06:22:21.585Z"
   },
   {
    "duration": 174,
    "start_time": "2023-09-28T06:22:24.459Z"
   },
   {
    "duration": 751,
    "start_time": "2023-09-28T06:22:27.418Z"
   },
   {
    "duration": 105,
    "start_time": "2023-09-28T06:22:40.833Z"
   },
   {
    "duration": 88,
    "start_time": "2023-09-28T06:22:41.551Z"
   },
   {
    "duration": 53,
    "start_time": "2023-09-28T06:22:59.694Z"
   },
   {
    "duration": 42,
    "start_time": "2023-09-28T06:23:08.092Z"
   },
   {
    "duration": 303,
    "start_time": "2023-09-28T06:23:18.814Z"
   },
   {
    "duration": 336,
    "start_time": "2023-09-28T06:23:25.919Z"
   },
   {
    "duration": 28,
    "start_time": "2023-09-28T06:23:28.814Z"
   },
   {
    "duration": 164,
    "start_time": "2023-09-28T06:23:31.061Z"
   },
   {
    "duration": 182,
    "start_time": "2023-09-28T06:23:31.792Z"
   },
   {
    "duration": 974,
    "start_time": "2023-09-28T06:23:38.233Z"
   },
   {
    "duration": 63,
    "start_time": "2023-09-28T06:23:50.429Z"
   },
   {
    "duration": 6,
    "start_time": "2023-09-28T06:23:56.119Z"
   },
   {
    "duration": 431,
    "start_time": "2023-09-28T06:24:39.681Z"
   },
   {
    "duration": 337,
    "start_time": "2023-09-28T06:24:43.978Z"
   },
   {
    "duration": 3368,
    "start_time": "2023-09-28T06:24:54.568Z"
   },
   {
    "duration": 14038,
    "start_time": "2023-09-28T06:25:39.551Z"
   },
   {
    "duration": 726,
    "start_time": "2023-09-28T06:26:12.045Z"
   },
   {
    "duration": 319,
    "start_time": "2023-09-28T06:26:23.364Z"
   },
   {
    "duration": 744292,
    "start_time": "2023-09-28T10:43:53.022Z"
   },
   {
    "duration": 5384,
    "start_time": "2023-09-28T11:07:31.621Z"
   },
   {
    "duration": 1942,
    "start_time": "2023-09-28T11:08:37.060Z"
   },
   {
    "duration": 139,
    "start_time": "2023-09-28T11:25:51.859Z"
   },
   {
    "duration": 5536,
    "start_time": "2023-09-28T11:28:11.680Z"
   },
   {
    "duration": 5863,
    "start_time": "2023-09-28T11:29:29.942Z"
   },
   {
    "duration": 6032,
    "start_time": "2023-09-28T11:35:10.125Z"
   },
   {
    "duration": 5714,
    "start_time": "2023-09-28T11:35:47.543Z"
   },
   {
    "duration": 5842,
    "start_time": "2023-09-28T11:36:44.068Z"
   },
   {
    "duration": 1791,
    "start_time": "2023-09-28T11:37:42.575Z"
   },
   {
    "duration": 1032,
    "start_time": "2023-09-28T11:37:44.368Z"
   },
   {
    "duration": 6,
    "start_time": "2023-09-28T11:37:45.402Z"
   },
   {
    "duration": 403,
    "start_time": "2023-09-28T11:37:45.411Z"
   },
   {
    "duration": 293,
    "start_time": "2023-09-28T11:37:45.816Z"
   },
   {
    "duration": 152,
    "start_time": "2023-09-28T11:37:46.111Z"
   },
   {
    "duration": 727,
    "start_time": "2023-09-28T11:37:46.265Z"
   },
   {
    "duration": 109,
    "start_time": "2023-09-28T11:37:47.000Z"
   },
   {
    "duration": 82,
    "start_time": "2023-09-28T11:37:47.216Z"
   },
   {
    "duration": 55,
    "start_time": "2023-09-28T11:37:48.553Z"
   },
   {
    "duration": 39,
    "start_time": "2023-09-28T11:37:50.415Z"
   },
   {
    "duration": 288,
    "start_time": "2023-09-28T11:37:52.614Z"
   },
   {
    "duration": 323,
    "start_time": "2023-09-28T11:37:53.559Z"
   },
   {
    "duration": 26,
    "start_time": "2023-09-28T11:37:55.358Z"
   },
   {
    "duration": 153,
    "start_time": "2023-09-28T11:37:56.555Z"
   },
   {
    "duration": 158,
    "start_time": "2023-09-28T11:37:57.214Z"
   },
   {
    "duration": 893,
    "start_time": "2023-09-28T11:37:58.822Z"
   },
   {
    "duration": 66,
    "start_time": "2023-09-28T11:38:02.435Z"
   },
   {
    "duration": 6,
    "start_time": "2023-09-28T11:38:04.375Z"
   },
   {
    "duration": 392,
    "start_time": "2023-09-28T11:38:13.317Z"
   },
   {
    "duration": 325,
    "start_time": "2023-09-28T11:38:15.180Z"
   },
   {
    "duration": 3373,
    "start_time": "2023-09-28T11:38:21.729Z"
   },
   {
    "duration": 12336,
    "start_time": "2023-09-28T11:38:31.539Z"
   },
   {
    "duration": 7112,
    "start_time": "2023-09-28T11:38:59.110Z"
   },
   {
    "duration": 20,
    "start_time": "2023-09-28T11:39:36.916Z"
   },
   {
    "duration": 18,
    "start_time": "2023-09-28T11:39:45.259Z"
   },
   {
    "duration": 6132,
    "start_time": "2023-09-28T11:40:46.186Z"
   },
   {
    "duration": 5480,
    "start_time": "2023-09-28T11:42:34.738Z"
   },
   {
    "duration": 5675,
    "start_time": "2023-09-28T11:42:51.642Z"
   },
   {
    "duration": 5514,
    "start_time": "2023-09-28T11:43:13.503Z"
   },
   {
    "duration": 6379,
    "start_time": "2023-09-28T11:43:30.879Z"
   },
   {
    "duration": 6,
    "start_time": "2023-09-28T11:44:36.366Z"
   },
   {
    "duration": 5727,
    "start_time": "2023-09-28T11:46:17.776Z"
   },
   {
    "duration": 5800,
    "start_time": "2023-09-28T11:46:39.502Z"
   },
   {
    "duration": 92,
    "start_time": "2023-09-28T11:48:11.262Z"
   },
   {
    "duration": 5,
    "start_time": "2023-09-28T11:49:18.839Z"
   },
   {
    "duration": 186,
    "start_time": "2023-09-28T11:52:30.804Z"
   },
   {
    "duration": 1653,
    "start_time": "2023-09-28T11:52:35.829Z"
   },
   {
    "duration": 1682,
    "start_time": "2023-09-28T11:52:49.127Z"
   },
   {
    "duration": 1583,
    "start_time": "2023-09-28T11:59:08.687Z"
   },
   {
    "duration": 990,
    "start_time": "2023-09-28T11:59:10.272Z"
   },
   {
    "duration": 6,
    "start_time": "2023-09-28T11:59:11.263Z"
   },
   {
    "duration": 422,
    "start_time": "2023-09-28T11:59:11.270Z"
   },
   {
    "duration": 298,
    "start_time": "2023-09-28T11:59:11.693Z"
   },
   {
    "duration": 157,
    "start_time": "2023-09-28T11:59:11.992Z"
   },
   {
    "duration": 777,
    "start_time": "2023-09-28T11:59:12.151Z"
   },
   {
    "duration": 111,
    "start_time": "2023-09-28T11:59:12.930Z"
   },
   {
    "duration": 94,
    "start_time": "2023-09-28T11:59:13.043Z"
   },
   {
    "duration": 51,
    "start_time": "2023-09-28T11:59:13.140Z"
   },
   {
    "duration": 40,
    "start_time": "2023-09-28T11:59:13.200Z"
   },
   {
    "duration": 315,
    "start_time": "2023-09-28T11:59:13.242Z"
   },
   {
    "duration": 355,
    "start_time": "2023-09-28T11:59:13.559Z"
   },
   {
    "duration": 25,
    "start_time": "2023-09-28T11:59:13.915Z"
   },
   {
    "duration": 152,
    "start_time": "2023-09-28T11:59:13.941Z"
   },
   {
    "duration": 175,
    "start_time": "2023-09-28T11:59:14.095Z"
   },
   {
    "duration": 955,
    "start_time": "2023-09-28T11:59:14.272Z"
   },
   {
    "duration": 74,
    "start_time": "2023-09-28T11:59:15.229Z"
   },
   {
    "duration": 5,
    "start_time": "2023-09-28T11:59:15.305Z"
   },
   {
    "duration": 445,
    "start_time": "2023-09-28T11:59:15.312Z"
   },
   {
    "duration": 404,
    "start_time": "2023-09-28T11:59:15.802Z"
   },
   {
    "duration": 3193,
    "start_time": "2023-09-28T11:59:16.210Z"
   },
   {
    "duration": 12827,
    "start_time": "2023-09-28T11:59:19.406Z"
   },
   {
    "duration": 675,
    "start_time": "2023-09-28T11:59:32.236Z"
   },
   {
    "duration": 291,
    "start_time": "2023-09-28T11:59:32.912Z"
   },
   {
    "duration": 258614,
    "start_time": "2023-09-28T11:59:33.205Z"
   },
   {
    "duration": 4986,
    "start_time": "2023-09-28T12:03:51.821Z"
   },
   {
    "duration": 1814,
    "start_time": "2023-09-28T12:03:56.810Z"
   },
   {
    "duration": 6376,
    "start_time": "2023-09-28T12:03:58.627Z"
   },
   {
    "duration": 1669,
    "start_time": "2023-09-28T12:04:05.005Z"
   },
   {
    "duration": 1703,
    "start_time": "2023-09-30T08:52:07.000Z"
   },
   {
    "duration": 1203,
    "start_time": "2023-09-30T08:52:14.344Z"
   },
   {
    "duration": 6,
    "start_time": "2023-09-30T08:52:15.815Z"
   },
   {
    "duration": 376,
    "start_time": "2023-09-30T08:52:17.542Z"
   },
   {
    "duration": 261,
    "start_time": "2023-09-30T08:52:20.606Z"
   },
   {
    "duration": 160,
    "start_time": "2023-09-30T08:52:22.559Z"
   },
   {
    "duration": 644,
    "start_time": "2023-09-30T08:52:24.963Z"
   },
   {
    "duration": 97,
    "start_time": "2023-09-30T08:52:29.442Z"
   },
   {
    "duration": 75,
    "start_time": "2023-09-30T08:52:30.351Z"
   },
   {
    "duration": 45,
    "start_time": "2023-09-30T08:52:36.615Z"
   },
   {
    "duration": 34,
    "start_time": "2023-09-30T08:52:45.363Z"
   },
   {
    "duration": 252,
    "start_time": "2023-09-30T08:52:53.251Z"
   },
   {
    "duration": 280,
    "start_time": "2023-09-30T08:52:54.019Z"
   },
   {
    "duration": 26,
    "start_time": "2023-09-30T08:52:56.095Z"
   },
   {
    "duration": 170,
    "start_time": "2023-09-30T08:52:57.517Z"
   },
   {
    "duration": 150,
    "start_time": "2023-09-30T08:52:58.101Z"
   },
   {
    "duration": 873,
    "start_time": "2023-09-30T08:53:03.527Z"
   },
   {
    "duration": 65,
    "start_time": "2023-09-30T08:53:20.827Z"
   },
   {
    "duration": 7,
    "start_time": "2023-09-30T08:53:26.475Z"
   },
   {
    "duration": 8473,
    "start_time": "2023-09-30T08:53:58.538Z"
   },
   {
    "duration": 2928,
    "start_time": "2023-09-30T08:54:14.863Z"
   },
   {
    "duration": 6,
    "start_time": "2023-09-30T08:54:21.953Z"
   },
   {
    "duration": 7,
    "start_time": "2023-09-30T09:00:43.933Z"
   },
   {
    "duration": 9,
    "start_time": "2023-09-30T09:01:29.210Z"
   },
   {
    "duration": 273,
    "start_time": "2023-09-30T09:01:37.837Z"
   },
   {
    "duration": 3138,
    "start_time": "2023-09-30T09:02:11.935Z"
   },
   {
    "duration": 1859,
    "start_time": "2023-09-30T09:02:15.076Z"
   },
   {
    "duration": 976,
    "start_time": "2023-09-30T09:02:16.937Z"
   },
   {
    "duration": 6,
    "start_time": "2023-09-30T09:02:17.917Z"
   },
   {
    "duration": 413,
    "start_time": "2023-09-30T09:02:17.925Z"
   },
   {
    "duration": 278,
    "start_time": "2023-09-30T09:02:18.339Z"
   },
   {
    "duration": 138,
    "start_time": "2023-09-30T09:02:18.619Z"
   },
   {
    "duration": 723,
    "start_time": "2023-09-30T09:02:18.759Z"
   },
   {
    "duration": 120,
    "start_time": "2023-09-30T09:02:19.485Z"
   },
   {
    "duration": 106,
    "start_time": "2023-09-30T09:02:19.608Z"
   },
   {
    "duration": 72,
    "start_time": "2023-09-30T09:02:19.716Z"
   },
   {
    "duration": 43,
    "start_time": "2023-09-30T09:02:19.790Z"
   },
   {
    "duration": 511,
    "start_time": "2023-09-30T09:02:19.835Z"
   },
   {
    "duration": 409,
    "start_time": "2023-09-30T09:02:20.349Z"
   },
   {
    "duration": 23,
    "start_time": "2023-09-30T09:02:20.760Z"
   },
   {
    "duration": 156,
    "start_time": "2023-09-30T09:02:20.785Z"
   },
   {
    "duration": 249,
    "start_time": "2023-09-30T09:02:20.944Z"
   },
   {
    "duration": 945,
    "start_time": "2023-09-30T09:02:21.197Z"
   },
   {
    "duration": 62,
    "start_time": "2023-09-30T09:02:22.144Z"
   },
   {
    "duration": 6,
    "start_time": "2023-09-30T09:02:22.210Z"
   },
   {
    "duration": 712,
    "start_time": "2023-09-30T09:02:54.953Z"
   },
   {
    "duration": 2900,
    "start_time": "2023-09-30T09:03:43.928Z"
   },
   {
    "duration": 1370,
    "start_time": "2023-09-30T09:03:48.478Z"
   },
   {
    "duration": 907,
    "start_time": "2023-09-30T09:03:52.422Z"
   },
   {
    "duration": 6,
    "start_time": "2023-09-30T09:03:53.331Z"
   },
   {
    "duration": 447,
    "start_time": "2023-09-30T09:03:53.343Z"
   },
   {
    "duration": 310,
    "start_time": "2023-09-30T09:03:53.878Z"
   },
   {
    "duration": 180,
    "start_time": "2023-09-30T09:03:54.377Z"
   },
   {
    "duration": 634,
    "start_time": "2023-09-30T09:03:54.715Z"
   },
   {
    "duration": 108,
    "start_time": "2023-09-30T09:03:55.351Z"
   },
   {
    "duration": 86,
    "start_time": "2023-09-30T09:03:55.461Z"
   },
   {
    "duration": 45,
    "start_time": "2023-09-30T09:03:56.084Z"
   },
   {
    "duration": 36,
    "start_time": "2023-09-30T09:03:57.051Z"
   },
   {
    "duration": 270,
    "start_time": "2023-09-30T09:03:58.379Z"
   },
   {
    "duration": 321,
    "start_time": "2023-09-30T09:03:58.651Z"
   },
   {
    "duration": 26,
    "start_time": "2023-09-30T09:03:59.161Z"
   },
   {
    "duration": 146,
    "start_time": "2023-09-30T09:04:00.283Z"
   },
   {
    "duration": 153,
    "start_time": "2023-09-30T09:04:00.486Z"
   },
   {
    "duration": 870,
    "start_time": "2023-09-30T09:04:01.991Z"
   },
   {
    "duration": 148,
    "start_time": "2023-09-30T09:04:04.575Z"
   },
   {
    "duration": 6,
    "start_time": "2023-09-30T09:04:05.775Z"
   },
   {
    "duration": 31631,
    "start_time": "2023-09-30T09:04:12.022Z"
   },
   {
    "duration": 371,
    "start_time": "2023-09-30T09:04:49.438Z"
   },
   {
    "duration": 151008,
    "start_time": "2023-09-30T09:04:55.307Z"
   },
   {
    "duration": 33318,
    "start_time": "2023-09-30T09:10:28.238Z"
   },
   {
    "duration": 535,
    "start_time": "2023-09-30T09:11:01.558Z"
   },
   {
    "duration": 3074,
    "start_time": "2023-09-30T09:11:22.981Z"
   },
   {
    "duration": 1452,
    "start_time": "2023-09-30T09:11:26.057Z"
   },
   {
    "duration": 882,
    "start_time": "2023-09-30T09:11:27.510Z"
   },
   {
    "duration": 6,
    "start_time": "2023-09-30T09:11:30.697Z"
   },
   {
    "duration": 391,
    "start_time": "2023-09-30T09:11:31.036Z"
   },
   {
    "duration": 283,
    "start_time": "2023-09-30T09:11:33.360Z"
   },
   {
    "duration": 168,
    "start_time": "2023-09-30T09:11:33.644Z"
   },
   {
    "duration": 705,
    "start_time": "2023-09-30T09:11:33.815Z"
   },
   {
    "duration": 157,
    "start_time": "2023-09-30T09:11:34.522Z"
   },
   {
    "duration": 95,
    "start_time": "2023-09-30T09:11:34.682Z"
   },
   {
    "duration": 47,
    "start_time": "2023-09-30T09:11:34.779Z"
   },
   {
    "duration": 36,
    "start_time": "2023-09-30T09:11:34.991Z"
   },
   {
    "duration": 281,
    "start_time": "2023-09-30T09:11:36.300Z"
   },
   {
    "duration": 297,
    "start_time": "2023-09-30T09:11:36.716Z"
   },
   {
    "duration": 23,
    "start_time": "2023-09-30T09:11:37.949Z"
   },
   {
    "duration": 147,
    "start_time": "2023-09-30T09:11:38.553Z"
   },
   {
    "duration": 144,
    "start_time": "2023-09-30T09:11:38.849Z"
   },
   {
    "duration": 871,
    "start_time": "2023-09-30T09:11:40.025Z"
   },
   {
    "duration": 138,
    "start_time": "2023-09-30T09:11:43.032Z"
   },
   {
    "duration": 6,
    "start_time": "2023-09-30T09:11:44.270Z"
   },
   {
    "duration": 2,
    "start_time": "2023-09-30T09:15:30.006Z"
   },
   {
    "duration": 40837,
    "start_time": "2023-09-30T09:15:30.009Z"
   },
   {
    "duration": 471,
    "start_time": "2023-09-30T09:16:10.852Z"
   },
   {
    "duration": 176690,
    "start_time": "2023-09-30T09:16:11.325Z"
   },
   {
    "duration": 13,
    "start_time": "2023-09-30T09:22:38.274Z"
   },
   {
    "duration": 11,
    "start_time": "2023-09-30T09:23:05.040Z"
   },
   {
    "duration": 38,
    "start_time": "2023-09-30T09:24:20.198Z"
   },
   {
    "duration": 4,
    "start_time": "2023-09-30T09:31:16.476Z"
   },
   {
    "duration": 47,
    "start_time": "2023-09-30T09:33:59.192Z"
   },
   {
    "duration": 3,
    "start_time": "2023-09-30T09:38:41.239Z"
   },
   {
    "duration": 32,
    "start_time": "2023-09-30T09:46:40.500Z"
   },
   {
    "duration": 24,
    "start_time": "2023-09-30T09:54:25.485Z"
   },
   {
    "duration": 31,
    "start_time": "2023-09-30T09:54:40.613Z"
   },
   {
    "duration": 16,
    "start_time": "2023-09-30T09:56:39.228Z"
   },
   {
    "duration": 2934,
    "start_time": "2023-09-30T09:56:40.519Z"
   },
   {
    "duration": 4892,
    "start_time": "2023-09-30T09:57:51.511Z"
   },
   {
    "duration": 4748,
    "start_time": "2023-09-30T09:58:55.667Z"
   },
   {
    "duration": 590,
    "start_time": "2023-09-30T09:59:41.381Z"
   },
   {
    "duration": 312,
    "start_time": "2023-09-30T09:59:44.393Z"
   },
   {
    "duration": 16,
    "start_time": "2023-09-30T10:01:23.350Z"
   },
   {
    "duration": 4984,
    "start_time": "2023-09-30T10:01:27.329Z"
   },
   {
    "duration": 19,
    "start_time": "2023-09-30T10:02:15.057Z"
   },
   {
    "duration": 505351,
    "start_time": "2023-09-30T10:05:47.599Z"
   },
   {
    "duration": 312519,
    "start_time": "2023-09-30T10:14:54.933Z"
   },
   {
    "duration": 18251,
    "start_time": "2023-09-30T10:23:21.796Z"
   },
   {
    "duration": 1695,
    "start_time": "2023-09-30T10:23:40.050Z"
   },
   {
    "duration": 56971,
    "start_time": "2023-09-30T10:26:30.189Z"
   },
   {
    "duration": 85723,
    "start_time": "2023-09-30T10:28:52.042Z"
   },
   {
    "duration": 1398,
    "start_time": "2023-09-30T10:30:17.845Z"
   },
   {
    "duration": 2517,
    "start_time": "2023-09-30T10:34:41.514Z"
   },
   {
    "duration": 1372,
    "start_time": "2023-09-30T10:34:44.034Z"
   },
   {
    "duration": 834,
    "start_time": "2023-09-30T10:34:45.407Z"
   },
   {
    "duration": 5,
    "start_time": "2023-09-30T10:34:46.243Z"
   },
   {
    "duration": 394,
    "start_time": "2023-09-30T10:34:46.249Z"
   },
   {
    "duration": 271,
    "start_time": "2023-09-30T10:34:46.645Z"
   },
   {
    "duration": 135,
    "start_time": "2023-09-30T10:34:46.918Z"
   },
   {
    "duration": 608,
    "start_time": "2023-09-30T10:34:47.055Z"
   },
   {
    "duration": 99,
    "start_time": "2023-09-30T10:34:47.664Z"
   },
   {
    "duration": 87,
    "start_time": "2023-09-30T10:34:47.765Z"
   },
   {
    "duration": 45,
    "start_time": "2023-09-30T10:34:47.854Z"
   },
   {
    "duration": 43,
    "start_time": "2023-09-30T10:34:47.901Z"
   },
   {
    "duration": 261,
    "start_time": "2023-09-30T10:34:47.945Z"
   },
   {
    "duration": 288,
    "start_time": "2023-09-30T10:34:48.287Z"
   },
   {
    "duration": 23,
    "start_time": "2023-09-30T10:34:48.576Z"
   },
   {
    "duration": 143,
    "start_time": "2023-09-30T10:34:48.601Z"
   },
   {
    "duration": 146,
    "start_time": "2023-09-30T10:34:48.745Z"
   },
   {
    "duration": 773,
    "start_time": "2023-09-30T10:34:48.893Z"
   },
   {
    "duration": 55,
    "start_time": "2023-09-30T10:34:49.668Z"
   },
   {
    "duration": 19,
    "start_time": "2023-09-30T10:34:49.725Z"
   },
   {
    "duration": 241,
    "start_time": "2023-09-30T10:34:49.746Z"
   },
   {
    "duration": 84,
    "start_time": "2023-09-30T10:34:49.988Z"
   },
   {
    "duration": 10,
    "start_time": "2023-09-30T10:34:50.074Z"
   },
   {
    "duration": 0,
    "start_time": "2023-09-30T10:34:50.085Z"
   },
   {
    "duration": 0,
    "start_time": "2023-09-30T10:34:50.086Z"
   },
   {
    "duration": 0,
    "start_time": "2023-09-30T10:34:50.087Z"
   },
   {
    "duration": 0,
    "start_time": "2023-09-30T10:34:50.088Z"
   },
   {
    "duration": 0,
    "start_time": "2023-09-30T10:34:50.089Z"
   },
   {
    "duration": 0,
    "start_time": "2023-09-30T10:34:50.090Z"
   },
   {
    "duration": 0,
    "start_time": "2023-09-30T10:34:50.091Z"
   },
   {
    "duration": 0,
    "start_time": "2023-09-30T10:34:50.092Z"
   },
   {
    "duration": 0,
    "start_time": "2023-09-30T10:34:50.093Z"
   },
   {
    "duration": 0,
    "start_time": "2023-09-30T10:34:50.094Z"
   },
   {
    "duration": 0,
    "start_time": "2023-09-30T10:34:50.094Z"
   },
   {
    "duration": 2582,
    "start_time": "2023-09-30T10:38:39.088Z"
   },
   {
    "duration": 1258,
    "start_time": "2023-09-30T10:38:41.673Z"
   },
   {
    "duration": 890,
    "start_time": "2023-09-30T10:38:42.932Z"
   },
   {
    "duration": 6,
    "start_time": "2023-09-30T10:38:43.825Z"
   },
   {
    "duration": 411,
    "start_time": "2023-09-30T10:38:43.834Z"
   },
   {
    "duration": 351,
    "start_time": "2023-09-30T10:38:44.246Z"
   },
   {
    "duration": 173,
    "start_time": "2023-09-30T10:38:44.599Z"
   },
   {
    "duration": 677,
    "start_time": "2023-09-30T10:38:44.774Z"
   },
   {
    "duration": 103,
    "start_time": "2023-09-30T10:38:45.453Z"
   },
   {
    "duration": 89,
    "start_time": "2023-09-30T10:38:45.558Z"
   },
   {
    "duration": 46,
    "start_time": "2023-09-30T10:38:45.649Z"
   },
   {
    "duration": 47,
    "start_time": "2023-09-30T10:38:45.697Z"
   },
   {
    "duration": 256,
    "start_time": "2023-09-30T10:38:45.746Z"
   },
   {
    "duration": 317,
    "start_time": "2023-09-30T10:38:46.080Z"
   },
   {
    "duration": 26,
    "start_time": "2023-09-30T10:38:46.399Z"
   },
   {
    "duration": 155,
    "start_time": "2023-09-30T10:38:46.427Z"
   },
   {
    "duration": 163,
    "start_time": "2023-09-30T10:38:46.584Z"
   },
   {
    "duration": 816,
    "start_time": "2023-09-30T10:38:46.749Z"
   },
   {
    "duration": 63,
    "start_time": "2023-09-30T10:38:47.567Z"
   },
   {
    "duration": 6,
    "start_time": "2023-09-30T10:38:47.643Z"
   },
   {
    "duration": 39094,
    "start_time": "2023-09-30T10:38:47.651Z"
   },
   {
    "duration": 513,
    "start_time": "2023-09-30T10:39:26.747Z"
   },
   {
    "duration": 133,
    "start_time": "2023-09-30T10:39:27.262Z"
   },
   {
    "duration": 0,
    "start_time": "2023-09-30T10:39:27.396Z"
   },
   {
    "duration": 0,
    "start_time": "2023-09-30T10:39:27.397Z"
   },
   {
    "duration": 0,
    "start_time": "2023-09-30T10:39:27.399Z"
   },
   {
    "duration": 0,
    "start_time": "2023-09-30T10:39:27.400Z"
   },
   {
    "duration": 0,
    "start_time": "2023-09-30T10:39:27.401Z"
   },
   {
    "duration": 0,
    "start_time": "2023-09-30T10:39:27.403Z"
   },
   {
    "duration": 0,
    "start_time": "2023-09-30T10:39:27.404Z"
   },
   {
    "duration": 0,
    "start_time": "2023-09-30T10:39:27.406Z"
   },
   {
    "duration": 0,
    "start_time": "2023-09-30T10:39:27.407Z"
   },
   {
    "duration": 0,
    "start_time": "2023-09-30T10:39:27.409Z"
   },
   {
    "duration": 0,
    "start_time": "2023-09-30T10:39:27.410Z"
   },
   {
    "duration": 2669,
    "start_time": "2023-09-30T10:40:24.954Z"
   },
   {
    "duration": 1340,
    "start_time": "2023-09-30T10:40:27.626Z"
   },
   {
    "duration": 854,
    "start_time": "2023-09-30T10:40:28.968Z"
   },
   {
    "duration": 6,
    "start_time": "2023-09-30T10:40:29.824Z"
   },
   {
    "duration": 388,
    "start_time": "2023-09-30T10:40:29.843Z"
   },
   {
    "duration": 273,
    "start_time": "2023-09-30T10:40:30.233Z"
   },
   {
    "duration": 137,
    "start_time": "2023-09-30T10:40:30.507Z"
   },
   {
    "duration": 616,
    "start_time": "2023-09-30T10:40:30.646Z"
   },
   {
    "duration": 105,
    "start_time": "2023-09-30T10:40:31.264Z"
   },
   {
    "duration": 200,
    "start_time": "2023-09-30T10:40:31.371Z"
   },
   {
    "duration": 67,
    "start_time": "2023-09-30T10:40:31.573Z"
   },
   {
    "duration": 57,
    "start_time": "2023-09-30T10:40:31.642Z"
   },
   {
    "duration": 352,
    "start_time": "2023-09-30T10:40:31.701Z"
   },
   {
    "duration": 381,
    "start_time": "2023-09-30T10:40:32.132Z"
   },
   {
    "duration": 29,
    "start_time": "2023-09-30T10:40:32.515Z"
   },
   {
    "duration": 148,
    "start_time": "2023-09-30T10:40:32.546Z"
   },
   {
    "duration": 155,
    "start_time": "2023-09-30T10:40:32.696Z"
   },
   {
    "duration": 786,
    "start_time": "2023-09-30T10:40:32.853Z"
   },
   {
    "duration": 64,
    "start_time": "2023-09-30T10:40:33.641Z"
   },
   {
    "duration": 9,
    "start_time": "2023-09-30T10:40:33.706Z"
   },
   {
    "duration": 41132,
    "start_time": "2023-09-30T10:40:33.717Z"
   },
   {
    "duration": 511,
    "start_time": "2023-09-30T10:41:14.853Z"
   },
   {
    "duration": 174657,
    "start_time": "2023-09-30T10:41:15.366Z"
   },
   {
    "duration": 27,
    "start_time": "2023-09-30T10:44:10.025Z"
   },
   {
    "duration": 5429,
    "start_time": "2023-09-30T10:44:10.054Z"
   },
   {
    "duration": 595,
    "start_time": "2023-09-30T10:44:15.485Z"
   },
   {
    "duration": 250,
    "start_time": "2023-09-30T10:44:16.082Z"
   },
   {
    "duration": 94,
    "start_time": "2023-09-30T10:44:16.335Z"
   },
   {
    "duration": 0,
    "start_time": "2023-09-30T10:44:16.431Z"
   },
   {
    "duration": 0,
    "start_time": "2023-09-30T10:44:16.432Z"
   },
   {
    "duration": 0,
    "start_time": "2023-09-30T10:44:16.433Z"
   },
   {
    "duration": 0,
    "start_time": "2023-09-30T10:44:16.434Z"
   },
   {
    "duration": 0,
    "start_time": "2023-09-30T10:44:16.436Z"
   },
   {
    "duration": 0,
    "start_time": "2023-09-30T10:44:16.437Z"
   },
   {
    "duration": 27,
    "start_time": "2023-09-30T10:45:02.818Z"
   },
   {
    "duration": 1963460,
    "start_time": "2023-09-30T10:45:07.985Z"
   },
   {
    "duration": 37915,
    "start_time": "2023-09-30T11:17:51.447Z"
   },
   {
    "duration": 1789,
    "start_time": "2023-09-30T11:18:29.363Z"
   },
   {
    "duration": 30090,
    "start_time": "2023-09-30T11:18:31.154Z"
   },
   {
    "duration": 1487,
    "start_time": "2023-09-30T11:19:01.246Z"
   }
  ],
  "kernelspec": {
   "display_name": "Python 3 (ipykernel)",
   "language": "python",
   "name": "python3"
  },
  "language_info": {
   "codemirror_mode": {
    "name": "ipython",
    "version": 3
   },
   "file_extension": ".py",
   "mimetype": "text/x-python",
   "name": "python",
   "nbconvert_exporter": "python",
   "pygments_lexer": "ipython3",
   "version": "3.11.3"
  },
  "toc": {
   "base_numbering": 1,
   "nav_menu": {},
   "number_sections": true,
   "sideBar": true,
   "skip_h1_title": true,
   "title_cell": "Table of Contents",
   "title_sidebar": "Contents",
   "toc_cell": false,
   "toc_position": {},
   "toc_section_display": true,
   "toc_window_display": false
  }
 },
 "nbformat": 4,
 "nbformat_minor": 2
}
