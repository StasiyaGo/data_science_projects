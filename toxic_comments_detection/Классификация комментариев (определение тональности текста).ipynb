{
 "cells": [
  {
   "cell_type": "markdown",
   "metadata": {
    "toc": true
   },
   "source": [
    "<h1>Содержание<span class=\"tocSkip\"></span></h1>\n",
    "<div class=\"toc\"><ul class=\"toc-item\"><li><span><a href=\"#Подготовка\" data-toc-modified-id=\"Подготовка-1\"><span class=\"toc-item-num\">1&nbsp;&nbsp;</span>Подготовка</a></span></li><li><span><a href=\"#Обучение\" data-toc-modified-id=\"Обучение-2\"><span class=\"toc-item-num\">2&nbsp;&nbsp;</span>Обучение</a></span><ul class=\"toc-item\"><li><span><a href=\"#Логистическая-регрессия.\" data-toc-modified-id=\"Логистическая-регрессия.-2.1\"><span class=\"toc-item-num\">2.1&nbsp;&nbsp;</span>Логистическая регрессия.</a></span></li><li><span><a href=\"#LGBMClassifier\" data-toc-modified-id=\"LGBMClassifier-2.2\"><span class=\"toc-item-num\">2.2&nbsp;&nbsp;</span>LGBMClassifier</a></span></li><li><span><a href=\"#Метод-опорных-векторов\" data-toc-modified-id=\"Метод-опорных-векторов-2.3\"><span class=\"toc-item-num\">2.3&nbsp;&nbsp;</span>Метод опорных векторов</a></span></li><li><span><a href=\"#Проверка-на-тестовой-выборке\" data-toc-modified-id=\"Проверка-на-тестовой-выборке-2.4\"><span class=\"toc-item-num\">2.4&nbsp;&nbsp;</span>Проверка на тестовой выборке</a></span></li></ul></li><li><span><a href=\"#Выводы\" data-toc-modified-id=\"Выводы-3\"><span class=\"toc-item-num\">3&nbsp;&nbsp;</span>Выводы</a></span></li><li><span><a href=\"#Чек-лист-проверки\" data-toc-modified-id=\"Чек-лист-проверки-4\"><span class=\"toc-item-num\">4&nbsp;&nbsp;</span>Чек-лист проверки</a></span></li></ul></div>"
   ]
  },
  {
   "cell_type": "markdown",
   "metadata": {},
   "source": [
    "# Проект для «Викишоп»"
   ]
  },
  {
   "cell_type": "markdown",
   "metadata": {},
   "source": [
    "В данном проекте стоит задача создания инструмента, который будет искать токсичные комментарии и отправлять их на модерацию для интернет-магазина \"Викишоп\".\n",
    "\n",
    "Необходимо обучить модель классифицировать комментарии на позитивные и негативные. В распоряжении есть набор данных с разметкой о токсичности правок.\n",
    "\n",
    "Значение метрики качества *F1* построенно модели должно быть не меньше 0.75. \n",
    "\n",
    "**Описание данных**\n",
    "\n",
    "Данные находятся в файле `toxic_comments.csv`. Столбец *text* в нём содержит текст комментария, а *toxic* — целевой признак."
   ]
  },
  {
   "cell_type": "markdown",
   "metadata": {},
   "source": [
    "## Подготовка"
   ]
  },
  {
   "cell_type": "markdown",
   "metadata": {},
   "source": [
    "Загрузим необходимые библиотеки и модули."
   ]
  },
  {
   "cell_type": "code",
   "execution_count": 1,
   "metadata": {},
   "outputs": [
    {
     "name": "stderr",
     "output_type": "stream",
     "text": [
      "[nltk_data] Downloading package averaged_perceptron_tagger to\n",
      "[nltk_data]     /home/jovyan/nltk_data...\n",
      "[nltk_data]   Package averaged_perceptron_tagger is already up-to-\n",
      "[nltk_data]       date!\n"
     ]
    }
   ],
   "source": [
    "import numpy as np\n",
    "import pandas as pd\n",
    "import re\n",
    "import nltk\n",
    "from nltk.stem.wordnet import WordNetLemmatizer\n",
    "from nltk.corpus import stopwords as nltk_stopwords\n",
    "from nltk.corpus import wordnet\n",
    "nltk.download('averaged_perceptron_tagger')\n",
    "from tqdm.notebook import tqdm\n",
    "from sklearn.pipeline import Pipeline\n",
    "from sklearn.feature_extraction.text import TfidfVectorizer, CountVectorizer, TfidfTransformer\n",
    "from sklearn.linear_model import LogisticRegression\n",
    "from lightgbm import LGBMClassifier\n",
    "from sklearn.svm import SVC\n",
    "from sklearn.model_selection import cross_val_score\n",
    "from sklearn.model_selection import train_test_split\n",
    "from sklearn.metrics import f1_score\n",
    "import warnings\n",
    "warnings.filterwarnings(\"ignore\")"
   ]
  },
  {
   "cell_type": "code",
   "execution_count": 2,
   "metadata": {},
   "outputs": [
    {
     "data": {
      "text/html": [
       "<div>\n",
       "<style scoped>\n",
       "    .dataframe tbody tr th:only-of-type {\n",
       "        vertical-align: middle;\n",
       "    }\n",
       "\n",
       "    .dataframe tbody tr th {\n",
       "        vertical-align: top;\n",
       "    }\n",
       "\n",
       "    .dataframe thead th {\n",
       "        text-align: right;\n",
       "    }\n",
       "</style>\n",
       "<table border=\"1\" class=\"dataframe\">\n",
       "  <thead>\n",
       "    <tr style=\"text-align: right;\">\n",
       "      <th></th>\n",
       "      <th>text</th>\n",
       "      <th>toxic</th>\n",
       "    </tr>\n",
       "  </thead>\n",
       "  <tbody>\n",
       "    <tr>\n",
       "      <th>0</th>\n",
       "      <td>Explanation\\nWhy the edits made under my usern...</td>\n",
       "      <td>0</td>\n",
       "    </tr>\n",
       "    <tr>\n",
       "      <th>1</th>\n",
       "      <td>D'aww! He matches this background colour I'm s...</td>\n",
       "      <td>0</td>\n",
       "    </tr>\n",
       "    <tr>\n",
       "      <th>2</th>\n",
       "      <td>Hey man, I'm really not trying to edit war. It...</td>\n",
       "      <td>0</td>\n",
       "    </tr>\n",
       "    <tr>\n",
       "      <th>3</th>\n",
       "      <td>\"\\nMore\\nI can't make any real suggestions on ...</td>\n",
       "      <td>0</td>\n",
       "    </tr>\n",
       "    <tr>\n",
       "      <th>4</th>\n",
       "      <td>You, sir, are my hero. Any chance you remember...</td>\n",
       "      <td>0</td>\n",
       "    </tr>\n",
       "  </tbody>\n",
       "</table>\n",
       "</div>"
      ],
      "text/plain": [
       "                                                text  toxic\n",
       "0  Explanation\\nWhy the edits made under my usern...      0\n",
       "1  D'aww! He matches this background colour I'm s...      0\n",
       "2  Hey man, I'm really not trying to edit war. It...      0\n",
       "3  \"\\nMore\\nI can't make any real suggestions on ...      0\n",
       "4  You, sir, are my hero. Any chance you remember...      0"
      ]
     },
     "execution_count": 2,
     "metadata": {},
     "output_type": "execute_result"
    }
   ],
   "source": [
    "# откроем файл и посмотрим на содержимое\n",
    "df = pd.read_csv('/datasets/toxic_comments.csv', index_col=[0])\n",
    "df.head()"
   ]
  },
  {
   "cell_type": "code",
   "execution_count": 3,
   "metadata": {
    "scrolled": true
   },
   "outputs": [
    {
     "name": "stdout",
     "output_type": "stream",
     "text": [
      "<class 'pandas.core.frame.DataFrame'>\n",
      "Int64Index: 159292 entries, 0 to 159450\n",
      "Data columns (total 2 columns):\n",
      " #   Column  Non-Null Count   Dtype \n",
      "---  ------  --------------   ----- \n",
      " 0   text    159292 non-null  object\n",
      " 1   toxic   159292 non-null  int64 \n",
      "dtypes: int64(1), object(1)\n",
      "memory usage: 3.6+ MB\n"
     ]
    }
   ],
   "source": [
    "df.info()"
   ]
  },
  {
   "cell_type": "code",
   "execution_count": 4,
   "metadata": {},
   "outputs": [
    {
     "data": {
      "text/plain": [
       "RangeIndex(start=0, stop=159292, step=1)"
      ]
     },
     "execution_count": 4,
     "metadata": {},
     "output_type": "execute_result"
    }
   ],
   "source": [
    "# поправим индексы\n",
    "df = df.reset_index(drop=True)\n",
    "df.index"
   ]
  },
  {
   "cell_type": "code",
   "execution_count": 5,
   "metadata": {},
   "outputs": [
    {
     "data": {
      "text/plain": [
       "0    0.898388\n",
       "1    0.101612\n",
       "Name: toxic, dtype: float64"
      ]
     },
     "execution_count": 5,
     "metadata": {},
     "output_type": "execute_result"
    }
   ],
   "source": [
    "# посмотрим на распределение классов в целевой перемнной\n",
    "df['toxic'].value_counts(normalize=True)"
   ]
  },
  {
   "cell_type": "markdown",
   "metadata": {},
   "source": [
    "Есть дисбаланс классов, \"токсичных\" значений почти в 9 раз меньше. Это надо учесть при обучении моделей."
   ]
  },
  {
   "cell_type": "code",
   "execution_count": 6,
   "metadata": {},
   "outputs": [
    {
     "data": {
      "application/vnd.jupyter.widget-view+json": {
       "model_id": "b7756f2e7354485e8f9f4fd2cd8573cc",
       "version_major": 2,
       "version_minor": 0
      },
      "text/plain": [
       "  0%|          | 0/159292 [00:00<?, ?it/s]"
      ]
     },
     "metadata": {},
     "output_type": "display_data"
    }
   ],
   "source": [
    "# создадим корпус\n",
    "corpus = df['text'].values\n",
    "\n",
    "# инициализируем лемматизатор\n",
    "lemmatizer = WordNetLemmatizer()\n",
    "\n",
    "# функция для определния part_of_speech-тагов, чтобы корректно лемматизировать каждое слово\n",
    "def nltk_pos_tagger(nltk_tag):\n",
    "    if nltk_tag.startswith('J'):\n",
    "        return wordnet.ADJ\n",
    "    elif nltk_tag.startswith('V'):\n",
    "        return wordnet.VERB\n",
    "    elif nltk_tag.startswith('N'):\n",
    "        return wordnet.NOUN\n",
    "    elif nltk_tag.startswith('R'):\n",
    "        return wordnet.ADV\n",
    "    else:          \n",
    "        return None\n",
    "\n",
    "# функция лемматизации и очистки текста от лишних символов\n",
    "def preproc_text(text):\n",
    "    text = re.sub(r\"[^a-zA-Z' ]\", \" \", text)\n",
    "    text = ' '.join(text.split()).lower()\n",
    "    tagged = nltk.pos_tag(nltk.word_tokenize(text)) \n",
    "    tagged = map(lambda x: (x[0], nltk_pos_tagger(x[1])), tagged)\n",
    "    lemmatized =[]\n",
    "    for word, tag in tagged:\n",
    "        if tag is None:\n",
    "            lemmatized.append(word)\n",
    "        else:        \n",
    "            lemmatized.append(lemmatizer.lemmatize(word, tag))\n",
    "    return ' '.join(lemmatized)\n",
    "\n",
    "tqdm.pandas()\n",
    "\n",
    "df['lemm_text'] = df['text'].progress_apply(preproc_text)"
   ]
  },
  {
   "cell_type": "code",
   "execution_count": 7,
   "metadata": {},
   "outputs": [
    {
     "data": {
      "text/plain": [
       "'the striped bat be hang on their foot for best'"
      ]
     },
     "execution_count": 7,
     "metadata": {},
     "output_type": "execute_result"
    }
   ],
   "source": [
    "# проверим, что функция работает и каждое слово лемматизируется правильно.\n",
    "\n",
    "sentence = \"The striped bats are hanging on their feet for best\"\n",
    "preproc_text(sentence)"
   ]
  },
  {
   "cell_type": "code",
   "execution_count": 8,
   "metadata": {},
   "outputs": [
    {
     "data": {
      "text/plain": [
       "((143362,), (15930,), (143362,), (15930,))"
      ]
     },
     "execution_count": 8,
     "metadata": {},
     "output_type": "execute_result"
    }
   ],
   "source": [
    "# обработанные тексты - признаки, целевой признак - метка токситчный комментарий или нет\n",
    "X = df['lemm_text']\n",
    "y = df['toxic']\n",
    "\n",
    "# выделяем обучающую и тестовую выборки, параметр stratify=y для балансировки классов\n",
    "X_train, X_test, y_train, y_test = train_test_split(X, y, test_size=0.1, random_state=123, stratify=y)\n",
    "X_train.shape,  X_test.shape, y_train.shape, y_test.shape"
   ]
  },
  {
   "cell_type": "code",
   "execution_count": 9,
   "metadata": {},
   "outputs": [
    {
     "data": {
      "text/plain": [
       "(143362, 5953)"
      ]
     },
     "execution_count": 9,
     "metadata": {},
     "output_type": "execute_result"
    }
   ],
   "source": [
    "# инициализируем стоп-слова\n",
    "stopwords = set(nltk_stopwords.words('english'))\n",
    "\n",
    "# для преобразования текстов используем TfidfVectorizer\n",
    "vectorizer = TfidfVectorizer(stop_words=list(stopwords), min_df=50)\n",
    "\n",
    "# посмотрим на размер будущей матрицы, но трансформирование к выборкам применим в пайплайне вместе с моделью\n",
    "vectorizer.fit_transform(X_train).shape"
   ]
  },
  {
   "cell_type": "markdown",
   "metadata": {},
   "source": [
    "## Обучение"
   ]
  },
  {
   "cell_type": "markdown",
   "metadata": {},
   "source": [
    "Обучим несколько моделей, проверим их метрикой f1 на кросс-валидации, затем протестируем модель с наибольшим значением метрики на тестовой выборке."
   ]
  },
  {
   "cell_type": "markdown",
   "metadata": {},
   "source": [
    "### Логистическая регрессия."
   ]
  },
  {
   "cell_type": "code",
   "execution_count": 10,
   "metadata": {
    "scrolled": false
   },
   "outputs": [
    {
     "name": "stdout",
     "output_type": "stream",
     "text": [
      "Значение f1 при обучении логистической регрессии на кросс-валидации: 0.7658\n",
      "CPU times: user 44.8 s, sys: 202 ms, total: 45 s\n",
      "Wall time: 45.1 s\n"
     ]
    }
   ],
   "source": [
    "%%time\n",
    "# сoздадим пайплайн из векторайзера и модели\n",
    "pipe_log_reg = Pipeline([('vectorizer', vectorizer),\n",
    "                        ('clf', LogisticRegression(C=10, random_state=123))])\n",
    "\n",
    "# метрика f1 на кросс-валидации\n",
    "f1_log_reg = cross_val_score(pipe_log_reg, X_train, y_train, cv=5, scoring='f1').mean()\n",
    "\n",
    "print('Значение f1 при обучении логистической регрессии на кросс-валидации:', round(f1_log_reg, 4))"
   ]
  },
  {
   "cell_type": "markdown",
   "metadata": {},
   "source": [
    "### LGBMClassifier"
   ]
  },
  {
   "cell_type": "code",
   "execution_count": 11,
   "metadata": {},
   "outputs": [
    {
     "name": "stdout",
     "output_type": "stream",
     "text": [
      "Значение f1 LGBMClassifierf на кросс-валидации: 0.74\n",
      "CPU times: user 20min 27s, sys: 17.1 s, total: 20min 44s\n",
      "Wall time: 20min 51s\n"
     ]
    }
   ],
   "source": [
    "%%time\n",
    "# пайплайн из векторайзера и модели\n",
    "pipe_lgbm_clf = Pipeline([('vectorizer', vectorizer),\n",
    "                        ('clf', LGBMClassifier(random_state=123))])\n",
    "\n",
    "f1_lgbm = cross_val_score(pipe_lgbm_clf, X_train, y_train, cv=3, scoring='f1').mean()\n",
    "\n",
    "print('Значение f1 LGBMClassifierf на кросс-валидации:', round(f1_lgbm, 3))"
   ]
  },
  {
   "cell_type": "markdown",
   "metadata": {},
   "source": [
    "### Метод опорных векторов"
   ]
  },
  {
   "cell_type": "code",
   "execution_count": 12,
   "metadata": {},
   "outputs": [
    {
     "name": "stdout",
     "output_type": "stream",
     "text": [
      "Значение f1 SVC на кросс-валидации: 0.741\n",
      "CPU times: user 1h 32min 58s, sys: 5.62 s, total: 1h 33min 3s\n",
      "Wall time: 1h 33min 7s\n"
     ]
    }
   ],
   "source": [
    "%%time\n",
    "# используем гиперпараметры по умолчанию\n",
    "pipe_svc = Pipeline([('vectorizer', vectorizer),\n",
    "                ('clf', SVC(random_state=123))])\n",
    "\n",
    "f1_svc = cross_val_score(pipe_svc, X_train, y_train, cv=3, scoring='f1').mean()\n",
    "\n",
    "print('Значение f1 SVC на кросс-валидации:', round(f1_svc, 3))"
   ]
  },
  {
   "cell_type": "code",
   "execution_count": 13,
   "metadata": {},
   "outputs": [
    {
     "data": {
      "text/html": [
       "<div>\n",
       "<style scoped>\n",
       "    .dataframe tbody tr th:only-of-type {\n",
       "        vertical-align: middle;\n",
       "    }\n",
       "\n",
       "    .dataframe tbody tr th {\n",
       "        vertical-align: top;\n",
       "    }\n",
       "\n",
       "    .dataframe thead th {\n",
       "        text-align: right;\n",
       "    }\n",
       "</style>\n",
       "<table border=\"1\" class=\"dataframe\">\n",
       "  <thead>\n",
       "    <tr style=\"text-align: right;\">\n",
       "      <th></th>\n",
       "      <th>модель</th>\n",
       "      <th>f1</th>\n",
       "    </tr>\n",
       "  </thead>\n",
       "  <tbody>\n",
       "    <tr>\n",
       "      <th>0</th>\n",
       "      <td>LogisticRegression</td>\n",
       "      <td>0.765795</td>\n",
       "    </tr>\n",
       "    <tr>\n",
       "      <th>1</th>\n",
       "      <td>SVC</td>\n",
       "      <td>0.740157</td>\n",
       "    </tr>\n",
       "    <tr>\n",
       "      <th>2</th>\n",
       "      <td>LGBMClassifier</td>\n",
       "      <td>0.740948</td>\n",
       "    </tr>\n",
       "  </tbody>\n",
       "</table>\n",
       "</div>"
      ],
      "text/plain": [
       "               модель        f1\n",
       "0  LogisticRegression  0.765795\n",
       "1                 SVC  0.740157\n",
       "2      LGBMClassifier  0.740948"
      ]
     },
     "execution_count": 13,
     "metadata": {},
     "output_type": "execute_result"
    }
   ],
   "source": [
    "# сравним метрики моделей на кросс-валидации\n",
    "f1_all = pd.DataFrame({'модель': ['LogisticRegression', 'SVC', 'LGBMClassifier'],\n",
    "                     'f1': [f1_log_reg, f1_lgbm, f1_svc]})\n",
    "f1_all"
   ]
  },
  {
   "cell_type": "markdown",
   "metadata": {},
   "source": [
    "Как видим, логистическая регрессия дала наибольшее значение f1 на кросс-валидации при наименьшей скорости. Проверим ее на тестовой выборке. "
   ]
  },
  {
   "cell_type": "markdown",
   "metadata": {},
   "source": [
    "### Проверка на тестовой выборке"
   ]
  },
  {
   "cell_type": "code",
   "execution_count": 15,
   "metadata": {},
   "outputs": [
    {
     "name": "stdout",
     "output_type": "stream",
     "text": [
      "Значение f1 модели логистической регрессии на тестовой выборке: 0.772\n",
      "CPU times: user 9.95 s, sys: 68 ms, total: 10 s\n",
      "Wall time: 10 s\n"
     ]
    }
   ],
   "source": [
    "%%time\n",
    "best_model = Pipeline([('vectorizer', vectorizer),\n",
    "                        ('clf', LogisticRegression(C=10, random_state=123))])\n",
    "\n",
    "best_model.fit(X_train, y_train)\n",
    "pred = best_model.predict(X_test)\n",
    "\n",
    "f1_final = f1_score(y_test, pred)\n",
    "\n",
    "print('Значение f1 модели логистической регрессии на тестовой выборке:', round(f1_final, 3))"
   ]
  },
  {
   "cell_type": "markdown",
   "metadata": {},
   "source": [
    "## Выводы"
   ]
  },
  {
   "cell_type": "markdown",
   "metadata": {},
   "source": [
    "В целях определения тональности комментариев тексты были лемматизированы и очищены от лишних символов. Далее они были преобразованы в признаки с помощью TfidfVectorizer.\n",
    "\n",
    "На этапе обучения моделей лучший результат метрики f1 показала модель логистической регрессии (f1 составило 0.7603) при наименьшей скорости. Модели SVC и LGBMClassifier показали примерно одинаковый результат метрики (примерно 0.73), также они значительно проигрывают по скорости. \n",
    "\n",
    "  Значение f1 модели на тестовой выборке составило 0.772."
   ]
  }
 ],
 "metadata": {
  "ExecuteTimeLog": [
   {
    "duration": 2587,
    "start_time": "2023-10-12T14:23:09.343Z"
   },
   {
    "duration": 229,
    "start_time": "2023-10-12T14:23:54.218Z"
   },
   {
    "duration": 50,
    "start_time": "2023-10-12T14:24:03.340Z"
   },
   {
    "duration": 67,
    "start_time": "2023-10-12T14:24:12.813Z"
   },
   {
    "duration": 3711,
    "start_time": "2023-10-12T14:24:45.347Z"
   },
   {
    "duration": 2526,
    "start_time": "2023-10-14T10:14:02.446Z"
   },
   {
    "duration": 2378,
    "start_time": "2023-10-14T10:14:04.974Z"
   },
   {
    "duration": 863,
    "start_time": "2023-10-14T10:14:10.858Z"
   },
   {
    "duration": 838,
    "start_time": "2023-10-14T10:14:33.280Z"
   },
   {
    "duration": 835,
    "start_time": "2023-10-14T10:14:42.028Z"
   },
   {
    "duration": 30,
    "start_time": "2023-10-14T10:14:49.252Z"
   },
   {
    "duration": 882,
    "start_time": "2023-10-14T10:15:02.271Z"
   },
   {
    "duration": 34,
    "start_time": "2023-10-14T10:15:05.609Z"
   },
   {
    "duration": 5,
    "start_time": "2023-10-14T10:23:15.708Z"
   },
   {
    "duration": 3,
    "start_time": "2023-10-14T10:25:32.538Z"
   },
   {
    "duration": 2278,
    "start_time": "2023-10-14T10:28:26.584Z"
   },
   {
    "duration": 912,
    "start_time": "2023-10-14T10:28:28.864Z"
   },
   {
    "duration": 30,
    "start_time": "2023-10-14T10:28:29.777Z"
   },
   {
    "duration": 2321,
    "start_time": "2023-10-14T10:30:47.764Z"
   },
   {
    "duration": 924,
    "start_time": "2023-10-14T10:30:50.089Z"
   },
   {
    "duration": 31,
    "start_time": "2023-10-14T10:30:51.400Z"
   },
   {
    "duration": 141,
    "start_time": "2023-10-14T10:31:45.813Z"
   },
   {
    "duration": 6,
    "start_time": "2023-10-14T10:32:01.705Z"
   },
   {
    "duration": 704,
    "start_time": "2023-10-14T10:32:26.820Z"
   },
   {
    "duration": 2667,
    "start_time": "2023-10-14T10:33:46.070Z"
   },
   {
    "duration": 2526,
    "start_time": "2023-10-14T10:34:20.442Z"
   },
   {
    "duration": 2396,
    "start_time": "2023-10-14T10:34:22.970Z"
   },
   {
    "duration": 31,
    "start_time": "2023-10-14T10:34:25.367Z"
   },
   {
    "duration": 3009,
    "start_time": "2023-10-14T10:34:25.400Z"
   },
   {
    "duration": 2861,
    "start_time": "2023-10-14T10:35:15.752Z"
   },
   {
    "duration": 2807,
    "start_time": "2023-10-14T10:36:45.892Z"
   },
   {
    "duration": 2213,
    "start_time": "2023-10-14T10:37:48.674Z"
   },
   {
    "duration": 2364,
    "start_time": "2023-10-14T10:37:50.889Z"
   },
   {
    "duration": 28,
    "start_time": "2023-10-14T10:37:53.255Z"
   },
   {
    "duration": 3007,
    "start_time": "2023-10-14T10:37:53.284Z"
   },
   {
    "duration": 2897,
    "start_time": "2023-10-14T10:38:43.514Z"
   },
   {
    "duration": 2459,
    "start_time": "2023-10-14T10:38:46.413Z"
   },
   {
    "duration": 38,
    "start_time": "2023-10-14T10:38:48.874Z"
   },
   {
    "duration": 3019,
    "start_time": "2023-10-14T10:38:48.915Z"
   },
   {
    "duration": 2428,
    "start_time": "2023-10-14T10:41:20.233Z"
   },
   {
    "duration": 2658,
    "start_time": "2023-10-14T10:41:22.663Z"
   },
   {
    "duration": 35,
    "start_time": "2023-10-14T10:41:25.323Z"
   },
   {
    "duration": 3318,
    "start_time": "2023-10-14T10:41:49.138Z"
   },
   {
    "duration": 2321,
    "start_time": "2023-10-14T10:42:19.266Z"
   },
   {
    "duration": 2652,
    "start_time": "2023-10-14T10:42:21.589Z"
   },
   {
    "duration": 34,
    "start_time": "2023-10-14T10:42:24.243Z"
   },
   {
    "duration": 3255,
    "start_time": "2023-10-14T10:42:24.279Z"
   },
   {
    "duration": 2383,
    "start_time": "2023-10-14T10:43:02.912Z"
   },
   {
    "duration": 2627,
    "start_time": "2023-10-14T10:43:05.297Z"
   },
   {
    "duration": 39,
    "start_time": "2023-10-14T10:43:07.926Z"
   },
   {
    "duration": 3148,
    "start_time": "2023-10-14T10:43:07.967Z"
   },
   {
    "duration": 2905,
    "start_time": "2023-10-14T11:00:29.019Z"
   },
   {
    "duration": 2740,
    "start_time": "2023-10-14T11:00:31.926Z"
   },
   {
    "duration": 37,
    "start_time": "2023-10-14T11:00:34.668Z"
   },
   {
    "duration": 3175,
    "start_time": "2023-10-14T11:00:34.707Z"
   },
   {
    "duration": 2420,
    "start_time": "2023-10-14T11:02:05.259Z"
   },
   {
    "duration": 2395,
    "start_time": "2023-10-14T11:02:07.681Z"
   },
   {
    "duration": 31,
    "start_time": "2023-10-14T11:02:10.078Z"
   },
   {
    "duration": 2001,
    "start_time": "2023-10-14T11:02:10.111Z"
   },
   {
    "duration": 2562,
    "start_time": "2023-10-14T11:03:12.560Z"
   },
   {
    "duration": 2457,
    "start_time": "2023-10-14T11:03:15.125Z"
   },
   {
    "duration": 32,
    "start_time": "2023-10-14T11:03:17.586Z"
   },
   {
    "duration": 94100,
    "start_time": "2023-10-14T11:03:17.621Z"
   },
   {
    "duration": 12,
    "start_time": "2023-10-14T11:06:14.298Z"
   },
   {
    "duration": 51,
    "start_time": "2023-10-14T11:06:54.270Z"
   },
   {
    "duration": 2872,
    "start_time": "2023-10-14T11:07:02.036Z"
   },
   {
    "duration": 3353,
    "start_time": "2023-10-14T11:07:04.910Z"
   },
   {
    "duration": 36,
    "start_time": "2023-10-14T11:07:08.273Z"
   },
   {
    "duration": 128,
    "start_time": "2023-10-14T11:12:04.799Z"
   },
   {
    "duration": 3197,
    "start_time": "2023-10-14T11:12:14.504Z"
   },
   {
    "duration": 3,
    "start_time": "2023-10-14T11:12:20.135Z"
   },
   {
    "duration": 3270,
    "start_time": "2023-10-14T11:12:20.720Z"
   },
   {
    "duration": 31,
    "start_time": "2023-10-14T11:12:23.992Z"
   },
   {
    "duration": 3408,
    "start_time": "2023-10-14T11:12:27.192Z"
   },
   {
    "duration": 54,
    "start_time": "2023-10-14T11:13:29.876Z"
   },
   {
    "duration": 3193,
    "start_time": "2023-10-14T11:13:38.334Z"
   },
   {
    "duration": 3472,
    "start_time": "2023-10-14T11:13:41.529Z"
   },
   {
    "duration": 37,
    "start_time": "2023-10-14T11:13:45.003Z"
   },
   {
    "duration": 1024,
    "start_time": "2023-10-14T11:13:45.041Z"
   },
   {
    "duration": 0,
    "start_time": "2023-10-14T11:13:46.067Z"
   },
   {
    "duration": 617,
    "start_time": "2023-10-14T11:13:50.465Z"
   },
   {
    "duration": 11,
    "start_time": "2023-10-14T11:14:23.885Z"
   },
   {
    "duration": 2905,
    "start_time": "2023-10-14T11:14:37.717Z"
   },
   {
    "duration": 1029,
    "start_time": "2023-10-14T11:14:40.624Z"
   },
   {
    "duration": 40,
    "start_time": "2023-10-14T11:14:41.655Z"
   },
   {
    "duration": 195,
    "start_time": "2023-10-14T11:14:41.697Z"
   },
   {
    "duration": 0,
    "start_time": "2023-10-14T11:14:41.894Z"
   },
   {
    "duration": 4,
    "start_time": "2023-10-14T11:15:19.937Z"
   },
   {
    "duration": 1068,
    "start_time": "2023-10-14T11:15:20.774Z"
   },
   {
    "duration": 49,
    "start_time": "2023-10-14T11:15:21.844Z"
   },
   {
    "duration": 2424,
    "start_time": "2023-10-14T11:15:21.896Z"
   },
   {
    "duration": 13,
    "start_time": "2023-10-14T11:15:25.588Z"
   },
   {
    "duration": 578,
    "start_time": "2023-10-14T11:16:20.084Z"
   },
   {
    "duration": 18,
    "start_time": "2023-10-14T11:16:20.664Z"
   },
   {
    "duration": 4,
    "start_time": "2023-10-14T11:22:29.008Z"
   },
   {
    "duration": 4,
    "start_time": "2023-10-14T11:22:52.635Z"
   },
   {
    "duration": 4,
    "start_time": "2023-10-14T11:22:59.972Z"
   },
   {
    "duration": 5,
    "start_time": "2023-10-14T11:23:05.808Z"
   },
   {
    "duration": 4,
    "start_time": "2023-10-14T11:23:10.270Z"
   },
   {
    "duration": 3,
    "start_time": "2023-10-14T11:23:19.434Z"
   },
   {
    "duration": 13,
    "start_time": "2023-10-14T11:23:31.952Z"
   },
   {
    "duration": 4,
    "start_time": "2023-10-14T11:23:36.326Z"
   },
   {
    "duration": 164617,
    "start_time": "2023-10-14T11:32:32.278Z"
   },
   {
    "duration": 12,
    "start_time": "2023-10-14T11:35:16.897Z"
   },
   {
    "duration": 12,
    "start_time": "2023-10-14T11:36:45.275Z"
   },
   {
    "duration": 16,
    "start_time": "2023-10-14T11:36:50.072Z"
   },
   {
    "duration": 8,
    "start_time": "2023-10-14T11:36:52.974Z"
   },
   {
    "duration": 15,
    "start_time": "2023-10-14T11:37:59.033Z"
   },
   {
    "duration": 12,
    "start_time": "2023-10-14T11:38:04.341Z"
   },
   {
    "duration": 7,
    "start_time": "2023-10-14T11:38:59.461Z"
   },
   {
    "duration": 4,
    "start_time": "2023-10-14T11:39:19.269Z"
   },
   {
    "duration": 12,
    "start_time": "2023-10-14T11:39:33.258Z"
   },
   {
    "duration": 9,
    "start_time": "2023-10-14T11:40:06.142Z"
   },
   {
    "duration": 9,
    "start_time": "2023-10-14T11:40:13.464Z"
   },
   {
    "duration": 7,
    "start_time": "2023-10-14T11:40:57.221Z"
   },
   {
    "duration": 5,
    "start_time": "2023-10-14T11:41:50.179Z"
   },
   {
    "duration": 6,
    "start_time": "2023-10-14T11:41:57.170Z"
   },
   {
    "duration": 4,
    "start_time": "2023-10-14T11:42:43.528Z"
   },
   {
    "duration": 6,
    "start_time": "2023-10-14T11:42:51.898Z"
   },
   {
    "duration": 7,
    "start_time": "2023-10-14T11:43:27.791Z"
   },
   {
    "duration": 6,
    "start_time": "2023-10-14T11:43:57.830Z"
   },
   {
    "duration": 80,
    "start_time": "2023-10-14T11:44:08.774Z"
   },
   {
    "duration": 6,
    "start_time": "2023-10-14T11:44:16.125Z"
   },
   {
    "duration": 7,
    "start_time": "2023-10-14T11:44:37.534Z"
   },
   {
    "duration": 13,
    "start_time": "2023-10-14T11:45:02.248Z"
   },
   {
    "duration": 12,
    "start_time": "2023-10-14T11:45:10.144Z"
   },
   {
    "duration": 5,
    "start_time": "2023-10-14T11:45:15.408Z"
   },
   {
    "duration": 9,
    "start_time": "2023-10-14T11:45:25.449Z"
   },
   {
    "duration": 6,
    "start_time": "2023-10-14T11:45:32.871Z"
   },
   {
    "duration": 6,
    "start_time": "2023-10-14T11:46:03.363Z"
   },
   {
    "duration": 7,
    "start_time": "2023-10-14T11:46:16.266Z"
   },
   {
    "duration": 5,
    "start_time": "2023-10-14T11:47:22.528Z"
   },
   {
    "duration": 5,
    "start_time": "2023-10-14T11:48:18.096Z"
   },
   {
    "duration": 6,
    "start_time": "2023-10-14T11:50:12.975Z"
   },
   {
    "duration": 11,
    "start_time": "2023-10-14T11:50:53.803Z"
   },
   {
    "duration": 5,
    "start_time": "2023-10-14T11:51:06.054Z"
   },
   {
    "duration": 5,
    "start_time": "2023-10-14T11:51:17.934Z"
   },
   {
    "duration": 6,
    "start_time": "2023-10-14T11:52:35.208Z"
   },
   {
    "duration": 7,
    "start_time": "2023-10-14T11:52:54.146Z"
   },
   {
    "duration": 6,
    "start_time": "2023-10-14T11:53:22.318Z"
   },
   {
    "duration": 2562,
    "start_time": "2023-10-14T11:53:32.991Z"
   },
   {
    "duration": 902,
    "start_time": "2023-10-14T11:53:35.554Z"
   },
   {
    "duration": 33,
    "start_time": "2023-10-14T11:53:36.457Z"
   },
   {
    "duration": 1252,
    "start_time": "2023-10-14T11:53:36.492Z"
   },
   {
    "duration": 6,
    "start_time": "2023-10-14T11:54:27.466Z"
   },
   {
    "duration": 7,
    "start_time": "2023-10-14T11:54:45.989Z"
   },
   {
    "duration": 168,
    "start_time": "2023-10-14T11:55:19.750Z"
   },
   {
    "duration": 18,
    "start_time": "2023-10-14T11:55:31.587Z"
   },
   {
    "duration": 2730,
    "start_time": "2023-10-14T11:55:53.240Z"
   },
   {
    "duration": 885,
    "start_time": "2023-10-14T11:55:55.972Z"
   },
   {
    "duration": 31,
    "start_time": "2023-10-14T11:55:56.859Z"
   },
   {
    "duration": 1428,
    "start_time": "2023-10-14T11:55:56.892Z"
   },
   {
    "duration": 7,
    "start_time": "2023-10-14T11:56:31.556Z"
   },
   {
    "duration": 17,
    "start_time": "2023-10-14T11:58:00.310Z"
   },
   {
    "duration": 7,
    "start_time": "2023-10-14T11:58:15.740Z"
   },
   {
    "duration": 6,
    "start_time": "2023-10-14T11:58:38.860Z"
   },
   {
    "duration": 25,
    "start_time": "2023-10-14T12:01:58.682Z"
   },
   {
    "duration": 7,
    "start_time": "2023-10-14T12:02:06.257Z"
   },
   {
    "duration": 6,
    "start_time": "2023-10-14T12:05:43.425Z"
   },
   {
    "duration": 6,
    "start_time": "2023-10-14T12:08:50.271Z"
   },
   {
    "duration": 35,
    "start_time": "2023-10-14T12:09:04.992Z"
   },
   {
    "duration": 6,
    "start_time": "2023-10-14T12:09:16.095Z"
   },
   {
    "duration": 4,
    "start_time": "2023-10-14T12:09:32.744Z"
   },
   {
    "duration": 6,
    "start_time": "2023-10-14T12:09:36.821Z"
   },
   {
    "duration": 80,
    "start_time": "2023-10-14T12:09:50.225Z"
   },
   {
    "duration": 6,
    "start_time": "2023-10-14T12:10:03.947Z"
   },
   {
    "duration": 7,
    "start_time": "2023-10-14T12:10:25.256Z"
   },
   {
    "duration": 2554,
    "start_time": "2023-10-14T12:13:02.423Z"
   },
   {
    "duration": 895,
    "start_time": "2023-10-14T12:13:04.979Z"
   },
   {
    "duration": 32,
    "start_time": "2023-10-14T12:13:05.876Z"
   },
   {
    "duration": 135764,
    "start_time": "2023-10-14T12:13:05.911Z"
   },
   {
    "duration": 14,
    "start_time": "2023-10-14T12:15:21.677Z"
   },
   {
    "duration": 137841,
    "start_time": "2023-10-14T12:20:18.266Z"
   },
   {
    "duration": 12,
    "start_time": "2023-10-14T12:22:36.109Z"
   },
   {
    "duration": 51,
    "start_time": "2023-10-14T14:02:52.702Z"
   },
   {
    "duration": 6,
    "start_time": "2023-10-14T14:02:53.154Z"
   },
   {
    "duration": 2605,
    "start_time": "2023-10-14T14:03:00.896Z"
   },
   {
    "duration": 2442,
    "start_time": "2023-10-14T14:03:03.504Z"
   },
   {
    "duration": 32,
    "start_time": "2023-10-14T14:03:05.948Z"
   },
   {
    "duration": 12,
    "start_time": "2023-10-14T14:05:29.745Z"
   },
   {
    "duration": 15,
    "start_time": "2023-10-14T14:05:29.759Z"
   },
   {
    "duration": 973,
    "start_time": "2023-10-14T14:05:29.776Z"
   },
   {
    "duration": 33,
    "start_time": "2023-10-14T14:05:30.751Z"
   },
   {
    "duration": 2579,
    "start_time": "2023-10-14T14:06:19.733Z"
   },
   {
    "duration": 930,
    "start_time": "2023-10-14T14:06:22.314Z"
   },
   {
    "duration": 32,
    "start_time": "2023-10-14T14:06:23.248Z"
   },
   {
    "duration": 142178,
    "start_time": "2023-10-14T14:06:23.283Z"
   },
   {
    "duration": 12402,
    "start_time": "2023-10-14T14:08:45.462Z"
   },
   {
    "duration": 5,
    "start_time": "2023-10-14T14:09:20.575Z"
   },
   {
    "duration": 4,
    "start_time": "2023-10-14T14:09:32.082Z"
   },
   {
    "duration": 64,
    "start_time": "2023-10-14T14:11:56.042Z"
   },
   {
    "duration": 60,
    "start_time": "2023-10-14T14:12:34.842Z"
   },
   {
    "duration": 79,
    "start_time": "2023-10-14T14:13:31.762Z"
   },
   {
    "duration": 167,
    "start_time": "2023-10-14T14:15:58.673Z"
   },
   {
    "duration": 2921,
    "start_time": "2023-10-15T11:49:20.385Z"
   },
   {
    "duration": 2543,
    "start_time": "2023-10-15T11:49:23.308Z"
   },
   {
    "duration": 41,
    "start_time": "2023-10-15T11:49:25.854Z"
   },
   {
    "duration": 162232,
    "start_time": "2023-10-15T11:49:25.897Z"
   },
   {
    "duration": 13837,
    "start_time": "2023-10-15T11:52:08.131Z"
   },
   {
    "duration": 5,
    "start_time": "2023-10-15T11:52:21.971Z"
   },
   {
    "duration": 63,
    "start_time": "2023-10-15T11:52:21.978Z"
   },
   {
    "duration": 167413,
    "start_time": "2023-10-15T11:52:22.043Z"
   },
   {
    "duration": 5,
    "start_time": "2023-10-15T12:00:52.302Z"
   },
   {
    "duration": 4,
    "start_time": "2023-10-15T12:01:17.625Z"
   },
   {
    "duration": 218,
    "start_time": "2023-10-15T12:03:53.947Z"
   },
   {
    "duration": 0,
    "start_time": "2023-10-15T12:05:49.568Z"
   },
   {
    "duration": 53587,
    "start_time": "2023-10-15T12:06:56.071Z"
   },
   {
    "duration": 4,
    "start_time": "2023-10-15T12:08:03.442Z"
   },
   {
    "duration": 3116,
    "start_time": "2023-10-15T12:08:11.826Z"
   },
   {
    "duration": 1134,
    "start_time": "2023-10-15T12:08:14.944Z"
   },
   {
    "duration": 41,
    "start_time": "2023-10-15T12:08:16.079Z"
   },
   {
    "duration": 169492,
    "start_time": "2023-10-15T12:08:16.122Z"
   },
   {
    "duration": 13541,
    "start_time": "2023-10-15T12:11:05.617Z"
   },
   {
    "duration": 6,
    "start_time": "2023-10-15T12:11:19.160Z"
   },
   {
    "duration": 53,
    "start_time": "2023-10-15T12:11:19.168Z"
   },
   {
    "duration": 184635,
    "start_time": "2023-10-15T12:11:19.223Z"
   },
   {
    "duration": 87,
    "start_time": "2023-10-15T12:14:23.862Z"
   },
   {
    "duration": 54726,
    "start_time": "2023-10-15T12:14:23.952Z"
   },
   {
    "duration": 6,
    "start_time": "2023-10-15T12:26:47.725Z"
   },
   {
    "duration": 4,
    "start_time": "2023-10-15T12:27:12.399Z"
   },
   {
    "duration": 5,
    "start_time": "2023-10-15T12:27:23.068Z"
   },
   {
    "duration": 182,
    "start_time": "2023-10-15T12:27:48.645Z"
   },
   {
    "duration": 14,
    "start_time": "2023-10-15T12:29:55.746Z"
   },
   {
    "duration": 684,
    "start_time": "2023-10-15T12:30:25.300Z"
   },
   {
    "duration": 29,
    "start_time": "2023-10-15T12:30:28.629Z"
   },
   {
    "duration": 3170,
    "start_time": "2023-10-15T12:30:40.208Z"
   },
   {
    "duration": 1001,
    "start_time": "2023-10-15T12:30:43.383Z"
   },
   {
    "duration": 37,
    "start_time": "2023-10-15T12:30:44.386Z"
   },
   {
    "duration": 1664,
    "start_time": "2023-10-15T12:32:11.716Z"
   },
   {
    "duration": 1077,
    "start_time": "2023-10-15T12:32:13.382Z"
   },
   {
    "duration": 36,
    "start_time": "2023-10-15T12:32:15.755Z"
   },
   {
    "duration": 7,
    "start_time": "2023-10-15T12:32:16.858Z"
   },
   {
    "duration": 49,
    "start_time": "2023-10-15T12:34:18.038Z"
   },
   {
    "duration": 138,
    "start_time": "2023-10-15T12:34:53.033Z"
   },
   {
    "duration": 5,
    "start_time": "2023-10-15T12:35:51.741Z"
   },
   {
    "duration": 5,
    "start_time": "2023-10-15T12:38:03.646Z"
   },
   {
    "duration": 154625,
    "start_time": "2023-10-15T12:38:31.154Z"
   },
   {
    "duration": 124,
    "start_time": "2023-10-15T13:29:17.527Z"
   },
   {
    "duration": 79,
    "start_time": "2023-10-15T13:29:24.972Z"
   },
   {
    "duration": 5,
    "start_time": "2023-10-15T13:30:10.356Z"
   },
   {
    "duration": 10,
    "start_time": "2023-10-15T13:30:22.297Z"
   },
   {
    "duration": 5,
    "start_time": "2023-10-15T13:30:30.097Z"
   },
   {
    "duration": 10,
    "start_time": "2023-10-15T13:30:32.819Z"
   },
   {
    "duration": 3,
    "start_time": "2023-10-15T13:31:13.030Z"
   },
   {
    "duration": 10,
    "start_time": "2023-10-15T13:34:48.051Z"
   },
   {
    "duration": 4,
    "start_time": "2023-10-15T13:35:30.990Z"
   },
   {
    "duration": 30,
    "start_time": "2023-10-15T13:36:24.319Z"
   },
   {
    "duration": 4,
    "start_time": "2023-10-15T13:45:52.179Z"
   },
   {
    "duration": 1234,
    "start_time": "2023-10-15T13:47:34.848Z"
   },
   {
    "duration": 86998,
    "start_time": "2023-10-15T13:47:52.815Z"
   },
   {
    "duration": 8,
    "start_time": "2023-10-15T13:49:25.746Z"
   },
   {
    "duration": 1881,
    "start_time": "2023-10-15T13:50:01.928Z"
   },
   {
    "duration": 2549,
    "start_time": "2023-10-15T13:50:03.811Z"
   },
   {
    "duration": 35,
    "start_time": "2023-10-15T13:50:06.362Z"
   },
   {
    "duration": 27,
    "start_time": "2023-10-15T13:50:06.399Z"
   },
   {
    "duration": 44,
    "start_time": "2023-10-15T13:50:06.429Z"
   },
   {
    "duration": 2161,
    "start_time": "2023-10-15T13:50:06.475Z"
   },
   {
    "duration": 14,
    "start_time": "2023-10-15T13:50:08.637Z"
   },
   {
    "duration": 1684,
    "start_time": "2023-10-15T13:50:36.291Z"
   },
   {
    "duration": 2488,
    "start_time": "2023-10-15T13:50:37.977Z"
   },
   {
    "duration": 33,
    "start_time": "2023-10-15T13:50:40.467Z"
   },
   {
    "duration": 38,
    "start_time": "2023-10-15T13:50:40.502Z"
   },
   {
    "duration": 64,
    "start_time": "2023-10-15T13:50:40.542Z"
   },
   {
    "duration": 4,
    "start_time": "2023-10-15T13:50:40.608Z"
   },
   {
    "duration": 88945,
    "start_time": "2023-10-15T13:50:40.614Z"
   },
   {
    "duration": 5,
    "start_time": "2023-10-15T13:52:09.561Z"
   },
   {
    "duration": 2002,
    "start_time": "2023-10-15T13:52:09.568Z"
   },
   {
    "duration": 0,
    "start_time": "2023-10-15T13:52:11.572Z"
   },
   {
    "duration": 0,
    "start_time": "2023-10-15T13:52:11.574Z"
   },
   {
    "duration": 0,
    "start_time": "2023-10-15T13:52:11.575Z"
   },
   {
    "duration": 0,
    "start_time": "2023-10-15T13:52:11.577Z"
   },
   {
    "duration": 0,
    "start_time": "2023-10-15T13:52:11.578Z"
   },
   {
    "duration": 104783,
    "start_time": "2023-10-15T13:56:10.335Z"
   },
   {
    "duration": 187491,
    "start_time": "2023-10-15T13:58:22.251Z"
   },
   {
    "duration": 6,
    "start_time": "2023-10-15T14:03:19.651Z"
   },
   {
    "duration": 17,
    "start_time": "2023-10-15T14:03:50.776Z"
   },
   {
    "duration": 9,
    "start_time": "2023-10-15T14:04:19.560Z"
   },
   {
    "duration": 9,
    "start_time": "2023-10-15T14:04:55.821Z"
   },
   {
    "duration": 44,
    "start_time": "2023-10-15T14:06:36.131Z"
   },
   {
    "duration": 32,
    "start_time": "2023-10-15T14:08:29.507Z"
   },
   {
    "duration": 4,
    "start_time": "2023-10-15T14:10:52.594Z"
   },
   {
    "duration": 1135,
    "start_time": "2023-10-15T14:18:30.853Z"
   },
   {
    "duration": 11,
    "start_time": "2023-10-15T14:19:05.700Z"
   },
   {
    "duration": 6,
    "start_time": "2023-10-15T14:19:14.883Z"
   },
   {
    "duration": 72,
    "start_time": "2023-10-15T14:20:35.187Z"
   },
   {
    "duration": 1594,
    "start_time": "2023-10-15T14:20:42.588Z"
   },
   {
    "duration": 2496,
    "start_time": "2023-10-15T14:20:44.184Z"
   },
   {
    "duration": 37,
    "start_time": "2023-10-15T14:20:46.682Z"
   },
   {
    "duration": 10,
    "start_time": "2023-10-15T14:20:46.721Z"
   },
   {
    "duration": 21,
    "start_time": "2023-10-15T14:20:46.733Z"
   },
   {
    "duration": 58,
    "start_time": "2023-10-15T14:20:46.756Z"
   },
   {
    "duration": 5,
    "start_time": "2023-10-15T14:20:46.816Z"
   },
   {
    "duration": 88058,
    "start_time": "2023-10-15T14:20:46.823Z"
   },
   {
    "duration": 5,
    "start_time": "2023-10-15T14:22:14.883Z"
   },
   {
    "duration": 195927,
    "start_time": "2023-10-15T14:22:14.890Z"
   },
   {
    "duration": 1673,
    "start_time": "2023-10-16T07:49:07.953Z"
   },
   {
    "duration": 2390,
    "start_time": "2023-10-16T07:49:09.628Z"
   },
   {
    "duration": 34,
    "start_time": "2023-10-16T07:49:12.020Z"
   },
   {
    "duration": 25,
    "start_time": "2023-10-16T07:49:12.056Z"
   },
   {
    "duration": 160,
    "start_time": "2023-10-16T07:49:12.083Z"
   },
   {
    "duration": 38,
    "start_time": "2023-10-16T07:49:14.357Z"
   },
   {
    "duration": 4,
    "start_time": "2023-10-16T07:49:15.559Z"
   },
   {
    "duration": 73011,
    "start_time": "2023-10-16T07:49:19.045Z"
   },
   {
    "duration": 4,
    "start_time": "2023-10-16T07:56:27.342Z"
   },
   {
    "duration": 4,
    "start_time": "2023-10-16T07:57:32.984Z"
   },
   {
    "duration": 1256,
    "start_time": "2023-10-16T07:57:32.989Z"
   },
   {
    "duration": 3,
    "start_time": "2023-10-16T07:58:38.172Z"
   },
   {
    "duration": 1069,
    "start_time": "2023-10-16T07:58:41.342Z"
   },
   {
    "duration": 3,
    "start_time": "2023-10-16T07:58:50.996Z"
   },
   {
    "duration": 1556,
    "start_time": "2023-10-16T07:59:02.177Z"
   },
   {
    "duration": 2426,
    "start_time": "2023-10-16T07:59:03.736Z"
   },
   {
    "duration": 35,
    "start_time": "2023-10-16T07:59:06.163Z"
   },
   {
    "duration": 46,
    "start_time": "2023-10-16T07:59:06.199Z"
   },
   {
    "duration": 30,
    "start_time": "2023-10-16T07:59:06.248Z"
   },
   {
    "duration": 67,
    "start_time": "2023-10-16T07:59:06.280Z"
   },
   {
    "duration": 17,
    "start_time": "2023-10-16T07:59:06.349Z"
   },
   {
    "duration": 185380,
    "start_time": "2023-10-16T08:00:20.034Z"
   },
   {
    "duration": 4591,
    "start_time": "2023-10-16T08:16:40.115Z"
   },
   {
    "duration": 960,
    "start_time": "2023-10-16T08:16:58.925Z"
   },
   {
    "duration": 42,
    "start_time": "2023-10-16T08:17:00.929Z"
   },
   {
    "duration": 8,
    "start_time": "2023-10-16T08:17:03.529Z"
   },
   {
    "duration": 9,
    "start_time": "2023-10-16T08:17:05.703Z"
   },
   {
    "duration": 40,
    "start_time": "2023-10-16T08:17:11.061Z"
   },
   {
    "duration": 166,
    "start_time": "2023-10-16T08:20:41.014Z"
   },
   {
    "duration": 4,
    "start_time": "2023-10-16T08:20:48.593Z"
   },
   {
    "duration": 558,
    "start_time": "2023-10-16T08:20:50.902Z"
   },
   {
    "duration": 4509,
    "start_time": "2023-10-16T08:22:09.405Z"
   },
   {
    "duration": 1043,
    "start_time": "2023-10-16T08:22:13.916Z"
   },
   {
    "duration": 32,
    "start_time": "2023-10-16T08:22:14.961Z"
   },
   {
    "duration": 40,
    "start_time": "2023-10-16T08:22:14.995Z"
   },
   {
    "duration": 67,
    "start_time": "2023-10-16T08:22:15.038Z"
   },
   {
    "duration": 104,
    "start_time": "2023-10-16T08:22:15.107Z"
   },
   {
    "duration": 106,
    "start_time": "2023-10-16T08:22:15.213Z"
   },
   {
    "duration": 0,
    "start_time": "2023-10-16T08:22:15.320Z"
   },
   {
    "duration": 0,
    "start_time": "2023-10-16T08:22:15.322Z"
   },
   {
    "duration": 0,
    "start_time": "2023-10-16T08:22:15.323Z"
   },
   {
    "duration": 0,
    "start_time": "2023-10-16T08:22:15.324Z"
   },
   {
    "duration": 0,
    "start_time": "2023-10-16T08:22:15.325Z"
   },
   {
    "duration": 5,
    "start_time": "2023-10-16T08:22:25.568Z"
   },
   {
    "duration": 3,
    "start_time": "2023-10-16T08:22:26.771Z"
   },
   {
    "duration": 3,
    "start_time": "2023-10-16T08:22:27.531Z"
   },
   {
    "duration": 334,
    "start_time": "2023-10-16T08:22:28.692Z"
   },
   {
    "duration": 169995,
    "start_time": "2023-10-16T08:22:34.365Z"
   },
   {
    "duration": 0,
    "start_time": "2023-10-16T08:25:24.362Z"
   },
   {
    "duration": 1031,
    "start_time": "2023-10-16T08:27:41.988Z"
   },
   {
    "duration": 4368,
    "start_time": "2023-10-16T08:30:52.968Z"
   },
   {
    "duration": 2485,
    "start_time": "2023-10-16T08:30:57.338Z"
   },
   {
    "duration": 40,
    "start_time": "2023-10-16T08:30:59.824Z"
   },
   {
    "duration": 8,
    "start_time": "2023-10-16T08:30:59.866Z"
   },
   {
    "duration": 15,
    "start_time": "2023-10-16T08:30:59.876Z"
   },
   {
    "duration": 45,
    "start_time": "2023-10-16T08:30:59.893Z"
   },
   {
    "duration": 11,
    "start_time": "2023-10-16T08:30:59.940Z"
   },
   {
    "duration": 17,
    "start_time": "2023-10-16T08:30:59.959Z"
   },
   {
    "duration": 1939,
    "start_time": "2023-10-16T08:30:59.978Z"
   },
   {
    "duration": 123,
    "start_time": "2023-10-16T08:31:29.293Z"
   },
   {
    "duration": 1640,
    "start_time": "2023-10-16T08:31:35.864Z"
   },
   {
    "duration": 1584,
    "start_time": "2023-10-16T08:32:48.914Z"
   },
   {
    "duration": 1101,
    "start_time": "2023-10-16T08:33:10.006Z"
   },
   {
    "duration": 4465,
    "start_time": "2023-10-16T08:33:41.646Z"
   },
   {
    "duration": 972,
    "start_time": "2023-10-16T08:33:46.113Z"
   },
   {
    "duration": 31,
    "start_time": "2023-10-16T08:33:47.087Z"
   },
   {
    "duration": 38,
    "start_time": "2023-10-16T08:33:47.120Z"
   },
   {
    "duration": 20,
    "start_time": "2023-10-16T08:33:47.160Z"
   },
   {
    "duration": 37,
    "start_time": "2023-10-16T08:33:47.182Z"
   },
   {
    "duration": 3,
    "start_time": "2023-10-16T08:33:47.230Z"
   },
   {
    "duration": 2,
    "start_time": "2023-10-16T08:33:54.298Z"
   },
   {
    "duration": 1709,
    "start_time": "2023-10-16T08:33:55.019Z"
   },
   {
    "duration": 3,
    "start_time": "2023-10-16T08:33:56.730Z"
   },
   {
    "duration": 1130,
    "start_time": "2023-10-16T08:33:57.830Z"
   },
   {
    "duration": 345,
    "start_time": "2023-10-16T08:34:00.412Z"
   },
   {
    "duration": 21,
    "start_time": "2023-10-16T08:35:12.039Z"
   },
   {
    "duration": 20,
    "start_time": "2023-10-16T08:35:23.461Z"
   },
   {
    "duration": 18,
    "start_time": "2023-10-16T08:35:32.567Z"
   },
   {
    "duration": 4359,
    "start_time": "2023-10-16T08:35:52.949Z"
   },
   {
    "duration": 926,
    "start_time": "2023-10-16T08:35:57.310Z"
   },
   {
    "duration": 37,
    "start_time": "2023-10-16T08:35:58.238Z"
   },
   {
    "duration": 8,
    "start_time": "2023-10-16T08:35:58.278Z"
   },
   {
    "duration": 39,
    "start_time": "2023-10-16T08:35:58.288Z"
   },
   {
    "duration": 72,
    "start_time": "2023-10-16T08:35:58.328Z"
   },
   {
    "duration": 4,
    "start_time": "2023-10-16T08:35:58.402Z"
   },
   {
    "duration": 4,
    "start_time": "2023-10-16T08:36:00.258Z"
   },
   {
    "duration": 1745,
    "start_time": "2023-10-16T08:36:01.356Z"
   },
   {
    "duration": 4,
    "start_time": "2023-10-16T08:36:04.784Z"
   },
   {
    "duration": 1121,
    "start_time": "2023-10-16T08:36:06.289Z"
   },
   {
    "duration": 355,
    "start_time": "2023-10-16T08:36:36.018Z"
   },
   {
    "duration": 4,
    "start_time": "2023-10-16T08:39:00.060Z"
   },
   {
    "duration": 17,
    "start_time": "2023-10-16T08:39:20.780Z"
   },
   {
    "duration": 19,
    "start_time": "2023-10-16T08:39:27.384Z"
   },
   {
    "duration": 2029,
    "start_time": "2023-10-16T08:39:33.141Z"
   },
   {
    "duration": 6,
    "start_time": "2023-10-16T08:40:28.767Z"
   },
   {
    "duration": 18,
    "start_time": "2023-10-16T08:40:47.455Z"
   },
   {
    "duration": 19,
    "start_time": "2023-10-16T08:41:09.788Z"
   },
   {
    "duration": 9,
    "start_time": "2023-10-16T08:41:28.099Z"
   },
   {
    "duration": 4,
    "start_time": "2023-10-16T08:41:43.966Z"
   },
   {
    "duration": 18,
    "start_time": "2023-10-16T08:42:40.110Z"
   },
   {
    "duration": 4436,
    "start_time": "2023-10-16T08:42:54.184Z"
   },
   {
    "duration": 906,
    "start_time": "2023-10-16T08:42:58.621Z"
   },
   {
    "duration": 37,
    "start_time": "2023-10-16T08:42:59.529Z"
   },
   {
    "duration": 22,
    "start_time": "2023-10-16T08:42:59.568Z"
   },
   {
    "duration": 12,
    "start_time": "2023-10-16T08:42:59.592Z"
   },
   {
    "duration": 33,
    "start_time": "2023-10-16T08:42:59.605Z"
   },
   {
    "duration": 13,
    "start_time": "2023-10-16T08:42:59.640Z"
   },
   {
    "duration": 3,
    "start_time": "2023-10-16T08:43:00.814Z"
   },
   {
    "duration": 4,
    "start_time": "2023-10-16T08:43:01.591Z"
   },
   {
    "duration": 5,
    "start_time": "2023-10-16T08:43:10.409Z"
   },
   {
    "duration": 4668,
    "start_time": "2023-10-16T08:43:46.013Z"
   },
   {
    "duration": 892,
    "start_time": "2023-10-16T08:43:50.683Z"
   },
   {
    "duration": 31,
    "start_time": "2023-10-16T08:43:51.576Z"
   },
   {
    "duration": 25,
    "start_time": "2023-10-16T08:43:51.610Z"
   },
   {
    "duration": 27,
    "start_time": "2023-10-16T08:43:51.636Z"
   },
   {
    "duration": 40,
    "start_time": "2023-10-16T08:43:51.665Z"
   },
   {
    "duration": 4,
    "start_time": "2023-10-16T08:43:51.706Z"
   },
   {
    "duration": 31,
    "start_time": "2023-10-16T08:43:51.712Z"
   },
   {
    "duration": 4311,
    "start_time": "2023-10-16T08:45:37.645Z"
   },
   {
    "duration": 954,
    "start_time": "2023-10-16T08:45:41.958Z"
   },
   {
    "duration": 38,
    "start_time": "2023-10-16T08:45:42.914Z"
   },
   {
    "duration": 26,
    "start_time": "2023-10-16T08:45:42.954Z"
   },
   {
    "duration": 14,
    "start_time": "2023-10-16T08:45:42.982Z"
   },
   {
    "duration": 38,
    "start_time": "2023-10-16T08:45:42.997Z"
   },
   {
    "duration": 4,
    "start_time": "2023-10-16T08:45:43.037Z"
   },
   {
    "duration": 165830,
    "start_time": "2023-10-16T08:45:43.042Z"
   },
   {
    "duration": 0,
    "start_time": "2023-10-16T08:48:28.873Z"
   },
   {
    "duration": 0,
    "start_time": "2023-10-16T08:48:28.874Z"
   },
   {
    "duration": 1124,
    "start_time": "2023-10-16T08:52:04.670Z"
   },
   {
    "duration": 10,
    "start_time": "2023-10-16T08:53:51.267Z"
   },
   {
    "duration": 511,
    "start_time": "2023-10-16T08:55:47.411Z"
   },
   {
    "duration": 522,
    "start_time": "2023-10-16T08:55:57.158Z"
   },
   {
    "duration": 1523,
    "start_time": "2023-10-16T08:56:10.032Z"
   },
   {
    "duration": 3,
    "start_time": "2023-10-16T08:57:37.786Z"
   },
   {
    "duration": 4714,
    "start_time": "2023-10-16T08:58:02.405Z"
   },
   {
    "duration": 2604,
    "start_time": "2023-10-16T08:58:07.121Z"
   },
   {
    "duration": 42,
    "start_time": "2023-10-16T08:58:09.727Z"
   },
   {
    "duration": 16,
    "start_time": "2023-10-16T08:58:09.772Z"
   },
   {
    "duration": 28,
    "start_time": "2023-10-16T08:58:09.790Z"
   },
   {
    "duration": 50,
    "start_time": "2023-10-16T08:58:09.820Z"
   },
   {
    "duration": 6,
    "start_time": "2023-10-16T08:58:19.551Z"
   },
   {
    "duration": 1972,
    "start_time": "2023-10-16T08:58:20.331Z"
   },
   {
    "duration": 4,
    "start_time": "2023-10-16T08:58:43.967Z"
   },
   {
    "duration": 1582,
    "start_time": "2023-10-16T08:58:44.341Z"
   },
   {
    "duration": 4,
    "start_time": "2023-10-16T08:59:10.772Z"
   },
   {
    "duration": 537,
    "start_time": "2023-10-16T08:59:11.172Z"
   },
   {
    "duration": 932,
    "start_time": "2023-10-16T09:00:28.220Z"
   },
   {
    "duration": 4,
    "start_time": "2023-10-16T09:00:44.620Z"
   },
   {
    "duration": 520,
    "start_time": "2023-10-16T09:00:45.142Z"
   },
   {
    "duration": 8936,
    "start_time": "2023-10-16T09:09:25.128Z"
   },
   {
    "duration": 1397,
    "start_time": "2023-10-16T09:09:34.067Z"
   },
   {
    "duration": 32,
    "start_time": "2023-10-16T09:09:35.465Z"
   },
   {
    "duration": 17,
    "start_time": "2023-10-16T09:09:35.499Z"
   },
   {
    "duration": 45,
    "start_time": "2023-10-16T09:09:35.518Z"
   },
   {
    "duration": 34,
    "start_time": "2023-10-16T09:09:40.880Z"
   },
   {
    "duration": 4405,
    "start_time": "2023-10-16T09:10:48.878Z"
   },
   {
    "duration": 979,
    "start_time": "2023-10-16T09:10:53.285Z"
   },
   {
    "duration": 37,
    "start_time": "2023-10-16T09:10:54.266Z"
   },
   {
    "duration": 16,
    "start_time": "2023-10-16T09:10:54.305Z"
   },
   {
    "duration": 15,
    "start_time": "2023-10-16T09:10:54.322Z"
   },
   {
    "duration": 50,
    "start_time": "2023-10-16T09:10:54.339Z"
   },
   {
    "duration": 4,
    "start_time": "2023-10-16T09:10:54.391Z"
   },
   {
    "duration": 25,
    "start_time": "2023-10-16T09:10:54.396Z"
   },
   {
    "duration": 160557,
    "start_time": "2023-10-16T09:10:54.422Z"
   },
   {
    "duration": 0,
    "start_time": "2023-10-16T09:13:34.980Z"
   },
   {
    "duration": 4,
    "start_time": "2023-10-16T09:32:54.799Z"
   },
   {
    "duration": 4,
    "start_time": "2023-10-16T09:33:05.884Z"
   },
   {
    "duration": 17,
    "start_time": "2023-10-16T09:33:15.791Z"
   },
   {
    "duration": 26,
    "start_time": "2023-10-16T09:33:19.540Z"
   },
   {
    "duration": 46,
    "start_time": "2023-10-16T09:35:04.687Z"
   },
   {
    "duration": 5218,
    "start_time": "2023-10-16T09:35:15.279Z"
   },
   {
    "duration": 2326,
    "start_time": "2023-10-16T09:35:20.499Z"
   },
   {
    "duration": 30,
    "start_time": "2023-10-16T09:35:22.827Z"
   },
   {
    "duration": 16,
    "start_time": "2023-10-16T09:35:22.859Z"
   },
   {
    "duration": 28,
    "start_time": "2023-10-16T09:35:22.876Z"
   },
   {
    "duration": 47,
    "start_time": "2023-10-16T09:35:22.906Z"
   },
   {
    "duration": 7,
    "start_time": "2023-10-16T09:35:22.954Z"
   },
   {
    "duration": 854,
    "start_time": "2023-10-16T09:35:25.268Z"
   },
   {
    "duration": 466,
    "start_time": "2023-10-16T09:35:40.566Z"
   },
   {
    "duration": 2507,
    "start_time": "2023-10-16T09:35:50.182Z"
   },
   {
    "duration": 5201,
    "start_time": "2023-10-16T09:36:12.284Z"
   },
   {
    "duration": 2292,
    "start_time": "2023-10-16T09:36:17.488Z"
   },
   {
    "duration": 32,
    "start_time": "2023-10-16T09:36:19.781Z"
   },
   {
    "duration": 93,
    "start_time": "2023-10-16T09:36:19.815Z"
   },
   {
    "duration": 25,
    "start_time": "2023-10-16T09:36:19.910Z"
   },
   {
    "duration": 46,
    "start_time": "2023-10-16T09:36:19.937Z"
   },
   {
    "duration": 3,
    "start_time": "2023-10-16T09:36:19.985Z"
   },
   {
    "duration": 2804,
    "start_time": "2023-10-16T09:36:19.990Z"
   },
   {
    "duration": 4115,
    "start_time": "2023-10-16T09:42:35.592Z"
   },
   {
    "duration": 867,
    "start_time": "2023-10-16T09:42:39.709Z"
   },
   {
    "duration": 32,
    "start_time": "2023-10-16T09:42:40.578Z"
   },
   {
    "duration": 14,
    "start_time": "2023-10-16T09:42:40.612Z"
   },
   {
    "duration": 22,
    "start_time": "2023-10-16T09:42:40.628Z"
   },
   {
    "duration": 314,
    "start_time": "2023-10-16T09:43:58.311Z"
   },
   {
    "duration": 4389,
    "start_time": "2023-10-16T09:44:13.303Z"
   },
   {
    "duration": 885,
    "start_time": "2023-10-16T09:44:17.694Z"
   },
   {
    "duration": 32,
    "start_time": "2023-10-16T09:44:18.580Z"
   },
   {
    "duration": 16,
    "start_time": "2023-10-16T09:44:18.615Z"
   },
   {
    "duration": 30,
    "start_time": "2023-10-16T09:44:18.633Z"
   },
   {
    "duration": 4,
    "start_time": "2023-10-16T09:44:18.665Z"
   },
   {
    "duration": 4352,
    "start_time": "2023-10-16T09:58:41.386Z"
   },
   {
    "duration": 897,
    "start_time": "2023-10-16T09:58:45.741Z"
   },
   {
    "duration": 31,
    "start_time": "2023-10-16T09:58:46.639Z"
   },
   {
    "duration": 12,
    "start_time": "2023-10-16T09:58:46.672Z"
   },
   {
    "duration": 12,
    "start_time": "2023-10-16T09:58:46.686Z"
   },
   {
    "duration": 3,
    "start_time": "2023-10-16T09:58:46.700Z"
   },
   {
    "duration": 1954,
    "start_time": "2023-10-16T09:58:46.971Z"
   },
   {
    "duration": 5276,
    "start_time": "2023-10-16T09:59:54.503Z"
   },
   {
    "duration": 2442,
    "start_time": "2023-10-16T09:59:59.781Z"
   },
   {
    "duration": 35,
    "start_time": "2023-10-16T10:00:02.225Z"
   },
   {
    "duration": 40,
    "start_time": "2023-10-16T10:00:02.264Z"
   },
   {
    "duration": 68,
    "start_time": "2023-10-16T10:00:02.306Z"
   },
   {
    "duration": 31,
    "start_time": "2023-10-16T10:00:02.376Z"
   },
   {
    "duration": 2490,
    "start_time": "2023-10-16T10:00:02.409Z"
   },
   {
    "duration": 5279,
    "start_time": "2023-10-16T10:00:38.351Z"
   },
   {
    "duration": 2438,
    "start_time": "2023-10-16T10:00:43.632Z"
   },
   {
    "duration": 34,
    "start_time": "2023-10-16T10:00:46.072Z"
   },
   {
    "duration": 17,
    "start_time": "2023-10-16T10:00:46.109Z"
   },
   {
    "duration": 36,
    "start_time": "2023-10-16T10:00:46.128Z"
   },
   {
    "duration": 5,
    "start_time": "2023-10-16T10:00:46.166Z"
   },
   {
    "duration": 2799,
    "start_time": "2023-10-16T10:00:46.173Z"
   },
   {
    "duration": 4333,
    "start_time": "2023-10-16T10:01:13.681Z"
   },
   {
    "duration": 891,
    "start_time": "2023-10-16T10:01:18.017Z"
   },
   {
    "duration": 36,
    "start_time": "2023-10-16T10:01:18.912Z"
   },
   {
    "duration": 32,
    "start_time": "2023-10-16T10:01:18.950Z"
   },
   {
    "duration": 57,
    "start_time": "2023-10-16T10:01:18.985Z"
   },
   {
    "duration": 40,
    "start_time": "2023-10-16T10:01:19.044Z"
   },
   {
    "duration": 5251,
    "start_time": "2023-10-16T10:01:35.559Z"
   },
   {
    "duration": 2399,
    "start_time": "2023-10-16T10:01:40.813Z"
   },
   {
    "duration": 33,
    "start_time": "2023-10-16T10:01:43.213Z"
   },
   {
    "duration": 10,
    "start_time": "2023-10-16T10:01:43.250Z"
   },
   {
    "duration": 9,
    "start_time": "2023-10-16T10:01:43.262Z"
   },
   {
    "duration": 19,
    "start_time": "2023-10-16T10:01:43.273Z"
   },
   {
    "duration": 47,
    "start_time": "2023-10-16T10:04:06.222Z"
   },
   {
    "duration": 4697,
    "start_time": "2023-10-16T10:04:45.483Z"
   },
   {
    "duration": 2301,
    "start_time": "2023-10-16T10:04:50.181Z"
   },
   {
    "duration": 39,
    "start_time": "2023-10-16T10:04:52.484Z"
   },
   {
    "duration": 62,
    "start_time": "2023-10-16T10:04:52.525Z"
   },
   {
    "duration": 180,
    "start_time": "2023-10-16T10:04:52.588Z"
   },
   {
    "duration": 15,
    "start_time": "2023-10-16T10:04:55.880Z"
   },
   {
    "duration": 21,
    "start_time": "2023-10-16T10:05:01.974Z"
   },
   {
    "duration": 9,
    "start_time": "2023-10-16T10:05:10.303Z"
   },
   {
    "duration": 4,
    "start_time": "2023-10-16T10:05:23.875Z"
   },
   {
    "duration": 1950,
    "start_time": "2023-10-16T10:05:37.598Z"
   },
   {
    "duration": 3,
    "start_time": "2023-10-16T10:05:58.554Z"
   },
   {
    "duration": 820,
    "start_time": "2023-10-16T10:05:59.041Z"
   },
   {
    "duration": 19,
    "start_time": "2023-10-16T10:06:11.640Z"
   },
   {
    "duration": 4,
    "start_time": "2023-10-16T10:06:13.442Z"
   },
   {
    "duration": 517,
    "start_time": "2023-10-16T10:06:14.081Z"
   },
   {
    "duration": 3,
    "start_time": "2023-10-16T10:08:55.196Z"
   },
   {
    "duration": 2,
    "start_time": "2023-10-16T10:09:08.569Z"
   },
   {
    "duration": 19,
    "start_time": "2023-10-16T10:10:49.013Z"
   },
   {
    "duration": 4,
    "start_time": "2023-10-16T10:11:26.190Z"
   },
   {
    "duration": 885,
    "start_time": "2023-10-16T10:11:27.848Z"
   },
   {
    "duration": 30,
    "start_time": "2023-10-16T10:11:28.735Z"
   },
   {
    "duration": 24,
    "start_time": "2023-10-16T10:11:28.767Z"
   },
   {
    "duration": 7,
    "start_time": "2023-10-16T10:11:29.753Z"
   },
   {
    "duration": 25,
    "start_time": "2023-10-16T10:11:30.460Z"
   },
   {
    "duration": 21,
    "start_time": "2023-10-16T10:12:23.685Z"
   },
   {
    "duration": 1562,
    "start_time": "2023-10-16T10:13:50.189Z"
   },
   {
    "duration": 914,
    "start_time": "2023-10-16T10:13:51.753Z"
   },
   {
    "duration": 29,
    "start_time": "2023-10-16T10:13:52.669Z"
   },
   {
    "duration": 15,
    "start_time": "2023-10-16T10:13:52.699Z"
   },
   {
    "duration": 20,
    "start_time": "2023-10-16T10:13:52.716Z"
   },
   {
    "duration": 129,
    "start_time": "2023-10-16T10:13:52.737Z"
   },
   {
    "duration": 0,
    "start_time": "2023-10-16T10:13:52.868Z"
   },
   {
    "duration": 0,
    "start_time": "2023-10-16T10:13:52.869Z"
   },
   {
    "duration": 0,
    "start_time": "2023-10-16T10:13:52.870Z"
   },
   {
    "duration": 0,
    "start_time": "2023-10-16T10:13:52.871Z"
   },
   {
    "duration": 0,
    "start_time": "2023-10-16T10:13:52.872Z"
   },
   {
    "duration": 0,
    "start_time": "2023-10-16T10:13:52.873Z"
   },
   {
    "duration": 4,
    "start_time": "2023-10-16T10:14:41.045Z"
   },
   {
    "duration": 1598,
    "start_time": "2023-10-16T10:14:47.754Z"
   },
   {
    "duration": 917,
    "start_time": "2023-10-16T10:14:49.354Z"
   },
   {
    "duration": 28,
    "start_time": "2023-10-16T10:14:50.272Z"
   },
   {
    "duration": 58,
    "start_time": "2023-10-16T10:14:50.302Z"
   },
   {
    "duration": 46,
    "start_time": "2023-10-16T10:14:50.362Z"
   },
   {
    "duration": 87305,
    "start_time": "2023-10-16T10:14:50.410Z"
   },
   {
    "duration": 12,
    "start_time": "2023-10-16T10:16:26.092Z"
   },
   {
    "duration": 3,
    "start_time": "2023-10-16T10:18:05.173Z"
   },
   {
    "duration": 32,
    "start_time": "2023-10-16T10:18:47.528Z"
   },
   {
    "duration": 4,
    "start_time": "2023-10-16T10:20:31.047Z"
   },
   {
    "duration": 9,
    "start_time": "2023-10-16T10:21:13.705Z"
   },
   {
    "duration": 121,
    "start_time": "2023-10-16T10:22:29.596Z"
   },
   {
    "duration": 10,
    "start_time": "2023-10-16T10:23:13.084Z"
   },
   {
    "duration": 11,
    "start_time": "2023-10-16T10:23:29.532Z"
   },
   {
    "duration": 10,
    "start_time": "2023-10-16T10:24:06.665Z"
   },
   {
    "duration": 4,
    "start_time": "2023-10-16T10:25:06.864Z"
   },
   {
    "duration": 12,
    "start_time": "2023-10-16T10:25:10.435Z"
   },
   {
    "duration": 5,
    "start_time": "2023-10-16T10:26:14.525Z"
   },
   {
    "duration": 3,
    "start_time": "2023-10-16T10:26:18.067Z"
   },
   {
    "duration": 11305,
    "start_time": "2023-10-16T10:26:25.909Z"
   },
   {
    "duration": 8224,
    "start_time": "2023-10-16T10:27:06.128Z"
   },
   {
    "duration": 12,
    "start_time": "2023-10-16T10:29:01.318Z"
   },
   {
    "duration": 12,
    "start_time": "2023-10-16T10:29:39.100Z"
   },
   {
    "duration": 64,
    "start_time": "2023-10-16T10:29:54.009Z"
   },
   {
    "duration": 3,
    "start_time": "2023-10-16T10:29:55.231Z"
   },
   {
    "duration": 11,
    "start_time": "2023-10-16T10:29:56.424Z"
   },
   {
    "duration": 7965,
    "start_time": "2023-10-16T10:30:12.602Z"
   },
   {
    "duration": 1279,
    "start_time": "2023-10-16T10:30:48.015Z"
   },
   {
    "duration": 1591,
    "start_time": "2023-10-16T10:35:37.736Z"
   },
   {
    "duration": 946,
    "start_time": "2023-10-16T10:35:39.329Z"
   },
   {
    "duration": 33,
    "start_time": "2023-10-16T10:35:40.276Z"
   },
   {
    "duration": 9,
    "start_time": "2023-10-16T10:35:40.311Z"
   },
   {
    "duration": 26,
    "start_time": "2023-10-16T10:35:40.321Z"
   },
   {
    "duration": 86759,
    "start_time": "2023-10-16T10:35:40.349Z"
   },
   {
    "duration": 78,
    "start_time": "2023-10-16T10:37:07.110Z"
   },
   {
    "duration": 4,
    "start_time": "2023-10-16T10:37:07.190Z"
   },
   {
    "duration": 8710,
    "start_time": "2023-10-16T10:37:07.195Z"
   },
   {
    "duration": 9,
    "start_time": "2023-10-16T10:37:15.907Z"
   },
   {
    "duration": 542551,
    "start_time": "2023-10-16T10:37:15.917Z"
   },
   {
    "duration": 1152260,
    "start_time": "2023-10-16T10:47:37.883Z"
   },
   {
    "duration": 0,
    "start_time": "2023-10-16T11:30:56.986Z"
   },
   {
    "duration": 1917559,
    "start_time": "2023-10-16T11:37:45.707Z"
   },
   {
    "duration": 7,
    "start_time": "2023-10-16T12:36:40.347Z"
   },
   {
    "duration": 212989,
    "start_time": "2023-10-16T12:37:38.293Z"
   },
   {
    "duration": 9940,
    "start_time": "2023-10-16T13:00:52.432Z"
   },
   {
    "duration": 516695,
    "start_time": "2023-10-16T13:01:13.875Z"
   },
   {
    "duration": 10617,
    "start_time": "2023-10-16T13:09:50.572Z"
   },
   {
    "duration": 1656,
    "start_time": "2023-10-16T14:04:49.940Z"
   },
   {
    "duration": 961,
    "start_time": "2023-10-16T14:04:51.598Z"
   },
   {
    "duration": 34,
    "start_time": "2023-10-16T14:04:52.560Z"
   },
   {
    "duration": 17,
    "start_time": "2023-10-16T14:04:52.596Z"
   },
   {
    "duration": 16,
    "start_time": "2023-10-16T14:04:52.615Z"
   },
   {
    "duration": 100178,
    "start_time": "2023-10-16T14:04:52.633Z"
   },
   {
    "duration": 87,
    "start_time": "2023-10-16T14:06:32.813Z"
   },
   {
    "duration": 4,
    "start_time": "2023-10-16T14:06:32.902Z"
   },
   {
    "duration": 9206,
    "start_time": "2023-10-16T14:06:32.907Z"
   },
   {
    "duration": 570678,
    "start_time": "2023-10-16T14:06:42.115Z"
   },
   {
    "duration": 9939,
    "start_time": "2023-10-16T14:16:12.795Z"
   },
   {
    "duration": 6,
    "start_time": "2023-10-16T14:16:22.737Z"
   },
   {
    "duration": 178,
    "start_time": "2023-10-16T14:37:55.165Z"
   },
   {
    "duration": 16049,
    "start_time": "2023-10-16T14:38:30.652Z"
   },
   {
    "duration": 1690,
    "start_time": "2023-10-17T07:59:07.593Z"
   },
   {
    "duration": 3331,
    "start_time": "2023-10-17T07:59:11.385Z"
   },
   {
    "duration": 30,
    "start_time": "2023-10-17T07:59:14.717Z"
   },
   {
    "duration": 7,
    "start_time": "2023-10-17T07:59:17.668Z"
   },
   {
    "duration": 9,
    "start_time": "2023-10-17T07:59:18.503Z"
   },
   {
    "duration": 95519,
    "start_time": "2023-10-17T07:59:28.204Z"
   },
   {
    "duration": 79,
    "start_time": "2023-10-17T08:01:03.725Z"
   },
   {
    "duration": 65,
    "start_time": "2023-10-17T08:05:18.080Z"
   },
   {
    "duration": 124,
    "start_time": "2023-10-17T08:05:19.432Z"
   },
   {
    "duration": 4,
    "start_time": "2023-10-17T08:05:45.979Z"
   },
   {
    "duration": 153,
    "start_time": "2023-10-17T08:10:10.893Z"
   },
   {
    "duration": 93,
    "start_time": "2023-10-17T08:10:20.751Z"
   },
   {
    "duration": 135,
    "start_time": "2023-10-17T08:10:45.521Z"
   },
   {
    "duration": 145,
    "start_time": "2023-10-17T08:11:51.344Z"
   },
   {
    "duration": 3,
    "start_time": "2023-10-17T08:13:15.900Z"
   },
   {
    "duration": 11,
    "start_time": "2023-10-17T08:14:07.287Z"
   },
   {
    "duration": 4,
    "start_time": "2023-10-17T08:14:11.775Z"
   },
   {
    "duration": 11,
    "start_time": "2023-10-17T08:14:12.625Z"
   },
   {
    "duration": 14,
    "start_time": "2023-10-17T08:14:23.448Z"
   },
   {
    "duration": 1536,
    "start_time": "2023-10-17T08:15:07.505Z"
   },
   {
    "duration": 3287,
    "start_time": "2023-10-17T08:15:09.043Z"
   },
   {
    "duration": 31,
    "start_time": "2023-10-17T08:15:12.332Z"
   },
   {
    "duration": 59,
    "start_time": "2023-10-17T08:15:12.365Z"
   },
   {
    "duration": 29,
    "start_time": "2023-10-17T08:15:12.426Z"
   },
   {
    "duration": 96192,
    "start_time": "2023-10-17T08:15:12.457Z"
   },
   {
    "duration": 64,
    "start_time": "2023-10-17T08:16:48.651Z"
   },
   {
    "duration": 5,
    "start_time": "2023-10-17T08:16:48.717Z"
   },
   {
    "duration": 1590,
    "start_time": "2023-10-17T08:21:28.791Z"
   },
   {
    "duration": 3317,
    "start_time": "2023-10-17T08:21:30.383Z"
   },
   {
    "duration": 33,
    "start_time": "2023-10-17T08:21:33.701Z"
   },
   {
    "duration": 22,
    "start_time": "2023-10-17T08:21:33.736Z"
   },
   {
    "duration": 24,
    "start_time": "2023-10-17T08:21:33.761Z"
   },
   {
    "duration": 97946,
    "start_time": "2023-10-17T08:21:33.787Z"
   },
   {
    "duration": 81,
    "start_time": "2023-10-17T08:23:11.735Z"
   },
   {
    "duration": 161,
    "start_time": "2023-10-17T08:23:11.818Z"
   },
   {
    "duration": 0,
    "start_time": "2023-10-17T08:23:11.981Z"
   },
   {
    "duration": 0,
    "start_time": "2023-10-17T08:23:11.983Z"
   },
   {
    "duration": 0,
    "start_time": "2023-10-17T08:23:11.984Z"
   },
   {
    "duration": 0,
    "start_time": "2023-10-17T08:23:11.986Z"
   },
   {
    "duration": 10,
    "start_time": "2023-10-17T08:24:40.129Z"
   },
   {
    "duration": 4,
    "start_time": "2023-10-17T08:25:01.618Z"
   },
   {
    "duration": 4,
    "start_time": "2023-10-17T08:25:07.984Z"
   },
   {
    "duration": 49,
    "start_time": "2023-10-17T08:28:46.001Z"
   },
   {
    "duration": 1621,
    "start_time": "2023-10-17T08:28:53.704Z"
   },
   {
    "duration": 3277,
    "start_time": "2023-10-17T08:28:55.327Z"
   },
   {
    "duration": 29,
    "start_time": "2023-10-17T08:28:58.606Z"
   },
   {
    "duration": 7,
    "start_time": "2023-10-17T08:28:58.637Z"
   },
   {
    "duration": 8,
    "start_time": "2023-10-17T08:28:58.646Z"
   },
   {
    "duration": 88034,
    "start_time": "2023-10-17T08:28:58.655Z"
   },
   {
    "duration": 79,
    "start_time": "2023-10-17T08:30:26.691Z"
   },
   {
    "duration": 129,
    "start_time": "2023-10-17T08:30:26.772Z"
   },
   {
    "duration": 0,
    "start_time": "2023-10-17T08:30:26.903Z"
   },
   {
    "duration": 0,
    "start_time": "2023-10-17T08:30:26.904Z"
   },
   {
    "duration": 0,
    "start_time": "2023-10-17T08:30:26.905Z"
   },
   {
    "duration": 7803,
    "start_time": "2023-10-17T08:34:08.497Z"
   },
   {
    "duration": 10,
    "start_time": "2023-10-17T08:34:20.925Z"
   },
   {
    "duration": 11,
    "start_time": "2023-10-17T08:36:38.530Z"
   },
   {
    "duration": 40,
    "start_time": "2023-10-17T08:36:46.074Z"
   },
   {
    "duration": 16,
    "start_time": "2023-10-17T08:37:27.042Z"
   },
   {
    "duration": 15,
    "start_time": "2023-10-17T08:40:17.091Z"
   },
   {
    "duration": 56,
    "start_time": "2023-10-17T08:40:34.024Z"
   },
   {
    "duration": 5,
    "start_time": "2023-10-17T08:40:55.880Z"
   },
   {
    "duration": 576284,
    "start_time": "2023-10-17T08:42:01.586Z"
   },
   {
    "duration": 11,
    "start_time": "2023-10-17T08:57:20.258Z"
   },
   {
    "duration": 1680,
    "start_time": "2023-10-17T09:58:13.094Z"
   },
   {
    "duration": 941,
    "start_time": "2023-10-17T09:58:14.776Z"
   },
   {
    "duration": 40,
    "start_time": "2023-10-17T09:58:15.719Z"
   },
   {
    "duration": 10,
    "start_time": "2023-10-17T09:58:15.761Z"
   },
   {
    "duration": 14,
    "start_time": "2023-10-17T09:58:15.773Z"
   },
   {
    "duration": 103184,
    "start_time": "2023-10-17T09:58:15.788Z"
   },
   {
    "duration": 97,
    "start_time": "2023-10-17T09:59:58.974Z"
   },
   {
    "duration": 102,
    "start_time": "2023-10-17T09:59:59.073Z"
   },
   {
    "duration": 0,
    "start_time": "2023-10-17T09:59:59.178Z"
   },
   {
    "duration": 0,
    "start_time": "2023-10-17T09:59:59.180Z"
   },
   {
    "duration": 34455,
    "start_time": "2023-10-17T10:03:34.983Z"
   },
   {
    "duration": 0,
    "start_time": "2023-10-17T10:04:09.445Z"
   },
   {
    "duration": 0,
    "start_time": "2023-10-17T10:04:09.447Z"
   },
   {
    "duration": 43813,
    "start_time": "2023-10-17T10:04:48.282Z"
   },
   {
    "duration": 46367,
    "start_time": "2023-10-17T10:06:15.630Z"
   },
   {
    "duration": 401356,
    "start_time": "2023-10-17T10:09:56.059Z"
   },
   {
    "duration": 1906,
    "start_time": "2023-10-17T11:39:36.683Z"
   },
   {
    "duration": 1231,
    "start_time": "2023-10-17T11:39:38.591Z"
   },
   {
    "duration": 34,
    "start_time": "2023-10-17T11:39:39.824Z"
   },
   {
    "duration": 13,
    "start_time": "2023-10-17T11:39:39.861Z"
   },
   {
    "duration": 36,
    "start_time": "2023-10-17T11:39:39.877Z"
   },
   {
    "duration": 2103,
    "start_time": "2023-10-17T11:39:39.915Z"
   },
   {
    "duration": 0,
    "start_time": "2023-10-17T11:39:42.019Z"
   },
   {
    "duration": 0,
    "start_time": "2023-10-17T11:39:42.021Z"
   },
   {
    "duration": 0,
    "start_time": "2023-10-17T11:39:42.022Z"
   },
   {
    "duration": 0,
    "start_time": "2023-10-17T11:39:42.022Z"
   },
   {
    "duration": 682,
    "start_time": "2023-10-17T11:39:59.344Z"
   },
   {
    "duration": 1777,
    "start_time": "2023-10-17T11:40:06.930Z"
   },
   {
    "duration": 899,
    "start_time": "2023-10-17T11:40:08.709Z"
   },
   {
    "duration": 37,
    "start_time": "2023-10-17T11:40:09.610Z"
   },
   {
    "duration": 25,
    "start_time": "2023-10-17T11:40:09.649Z"
   },
   {
    "duration": 43,
    "start_time": "2023-10-17T11:40:09.676Z"
   },
   {
    "duration": 2311,
    "start_time": "2023-10-17T11:40:09.721Z"
   },
   {
    "duration": 0,
    "start_time": "2023-10-17T11:40:12.033Z"
   },
   {
    "duration": 0,
    "start_time": "2023-10-17T11:40:12.034Z"
   },
   {
    "duration": 0,
    "start_time": "2023-10-17T11:40:12.035Z"
   },
   {
    "duration": 0,
    "start_time": "2023-10-17T11:40:12.044Z"
   },
   {
    "duration": 6,
    "start_time": "2023-10-17T11:40:38.271Z"
   },
   {
    "duration": 813,
    "start_time": "2023-10-17T11:40:38.728Z"
   },
   {
    "duration": 28,
    "start_time": "2023-10-17T11:40:39.545Z"
   },
   {
    "duration": 8,
    "start_time": "2023-10-17T11:40:39.599Z"
   },
   {
    "duration": 7,
    "start_time": "2023-10-17T11:40:39.994Z"
   },
   {
    "duration": 2242,
    "start_time": "2023-10-17T11:40:49.720Z"
   },
   {
    "duration": 3391,
    "start_time": "2023-10-17T11:40:51.965Z"
   },
   {
    "duration": 33,
    "start_time": "2023-10-17T11:40:55.357Z"
   },
   {
    "duration": 22,
    "start_time": "2023-10-17T11:40:55.392Z"
   },
   {
    "duration": 14,
    "start_time": "2023-10-17T11:40:55.416Z"
   },
   {
    "duration": 1267372,
    "start_time": "2023-10-17T11:40:55.432Z"
   },
   {
    "duration": 2355,
    "start_time": "2023-10-17T12:02:02.806Z"
   },
   {
    "duration": 0,
    "start_time": "2023-10-17T12:02:05.163Z"
   },
   {
    "duration": 0,
    "start_time": "2023-10-17T12:02:05.164Z"
   },
   {
    "duration": 0,
    "start_time": "2023-10-17T12:02:05.166Z"
   },
   {
    "duration": 114,
    "start_time": "2023-10-17T12:02:51.879Z"
   },
   {
    "duration": 39368,
    "start_time": "2023-10-17T12:02:56.122Z"
   },
   {
    "duration": 349542,
    "start_time": "2023-10-17T12:03:35.492Z"
   },
   {
    "duration": 9538644,
    "start_time": "2023-10-17T12:09:25.036Z"
   },
   {
    "duration": 92,
    "start_time": "2023-10-17T14:58:19.937Z"
   },
   {
    "duration": 158,
    "start_time": "2023-10-17T14:59:18.808Z"
   },
   {
    "duration": 2258,
    "start_time": "2023-10-18T07:50:53.794Z"
   },
   {
    "duration": 2288,
    "start_time": "2023-10-18T07:50:56.093Z"
   },
   {
    "duration": 33,
    "start_time": "2023-10-18T07:51:09.400Z"
   },
   {
    "duration": 2977,
    "start_time": "2023-10-18T07:55:03.414Z"
   },
   {
    "duration": 1813,
    "start_time": "2023-10-18T07:56:04.309Z"
   },
   {
    "duration": 2227,
    "start_time": "2023-10-18T07:56:06.123Z"
   },
   {
    "duration": 31,
    "start_time": "2023-10-18T07:56:08.352Z"
   },
   {
    "duration": 33,
    "start_time": "2023-10-18T07:56:08.385Z"
   },
   {
    "duration": 15,
    "start_time": "2023-10-18T07:56:08.420Z"
   },
   {
    "duration": 506345,
    "start_time": "2023-10-18T07:56:08.436Z"
   },
   {
    "duration": 110,
    "start_time": "2023-10-18T08:04:49.817Z"
   },
   {
    "duration": 36896,
    "start_time": "2023-10-18T08:04:52.740Z"
   },
   {
    "duration": 336380,
    "start_time": "2023-10-18T08:05:29.638Z"
   },
   {
    "duration": 135,
    "start_time": "2023-10-18T08:11:06.020Z"
   },
   {
    "duration": 10335,
    "start_time": "2023-10-18T08:11:40.048Z"
   },
   {
    "duration": 138918,
    "start_time": "2023-10-18T08:12:01.619Z"
   },
   {
    "duration": 6,
    "start_time": "2023-10-18T08:20:05.895Z"
   },
   {
    "duration": 1812,
    "start_time": "2023-10-18T08:24:13.633Z"
   },
   {
    "duration": 2305,
    "start_time": "2023-10-18T08:24:15.447Z"
   },
   {
    "duration": 31,
    "start_time": "2023-10-18T08:24:17.754Z"
   },
   {
    "duration": 11,
    "start_time": "2023-10-18T08:24:17.787Z"
   },
   {
    "duration": 20,
    "start_time": "2023-10-18T08:24:17.802Z"
   },
   {
    "duration": 573406,
    "start_time": "2023-10-18T08:24:17.823Z"
   },
   {
    "duration": 4,
    "start_time": "2023-10-18T08:33:51.231Z"
   },
   {
    "duration": 191,
    "start_time": "2023-10-18T08:33:51.236Z"
   },
   {
    "duration": 40332,
    "start_time": "2023-10-18T08:33:51.429Z"
   },
   {
    "duration": 383403,
    "start_time": "2023-10-18T08:34:31.763Z"
   },
   {
    "duration": 13236,
    "start_time": "2023-10-18T08:40:55.168Z"
   },
   {
    "duration": 11,
    "start_time": "2023-10-18T08:41:08.408Z"
   },
   {
    "duration": 6,
    "start_time": "2023-10-18T08:41:08.429Z"
   },
   {
    "duration": 2032,
    "start_time": "2023-10-18T08:53:48.586Z"
   },
   {
    "duration": 1826,
    "start_time": "2023-10-18T08:57:12.966Z"
   },
   {
    "duration": 2758,
    "start_time": "2023-10-18T08:57:14.795Z"
   },
   {
    "duration": 34,
    "start_time": "2023-10-18T08:57:17.554Z"
   },
   {
    "duration": 7,
    "start_time": "2023-10-18T08:57:17.590Z"
   },
   {
    "duration": 38,
    "start_time": "2023-10-18T08:57:17.599Z"
   },
   {
    "duration": 649196,
    "start_time": "2023-10-18T08:57:17.638Z"
   },
   {
    "duration": 131,
    "start_time": "2023-10-18T09:08:06.836Z"
   },
   {
    "duration": 42189,
    "start_time": "2023-10-18T09:08:06.969Z"
   },
   {
    "duration": 376040,
    "start_time": "2023-10-18T09:08:49.161Z"
   },
   {
    "duration": 11843,
    "start_time": "2023-10-18T09:15:05.207Z"
   },
   {
    "duration": 1177783,
    "start_time": "2023-10-18T09:15:17.051Z"
   },
   {
    "duration": 1917,
    "start_time": "2023-10-18T09:52:04.847Z"
   },
   {
    "duration": 1168,
    "start_time": "2023-10-18T09:52:06.811Z"
   },
   {
    "duration": 37,
    "start_time": "2023-10-18T09:52:09.369Z"
   },
   {
    "duration": 9,
    "start_time": "2023-10-18T09:52:10.179Z"
   },
   {
    "duration": 10,
    "start_time": "2023-10-18T09:52:10.873Z"
   },
   {
    "duration": 123782,
    "start_time": "2023-10-18T09:52:12.772Z"
   },
   {
    "duration": 210,
    "start_time": "2023-10-18T09:54:16.557Z"
   },
   {
    "duration": 49919,
    "start_time": "2023-10-18T09:54:16.768Z"
   },
   {
    "duration": 59,
    "start_time": "2023-10-18T09:55:38.331Z"
   },
   {
    "duration": 2110,
    "start_time": "2023-10-18T09:55:57.667Z"
   },
   {
    "duration": 2722,
    "start_time": "2023-10-18T09:55:59.779Z"
   },
   {
    "duration": 2041,
    "start_time": "2023-10-18T09:56:21.454Z"
   },
   {
    "duration": 1070,
    "start_time": "2023-10-18T09:56:23.497Z"
   },
   {
    "duration": 46,
    "start_time": "2023-10-18T09:56:24.569Z"
   },
   {
    "duration": 14,
    "start_time": "2023-10-18T09:56:24.618Z"
   },
   {
    "duration": 15,
    "start_time": "2023-10-18T09:56:24.637Z"
   },
   {
    "duration": 123162,
    "start_time": "2023-10-18T09:56:24.655Z"
   },
   {
    "duration": 164,
    "start_time": "2023-10-18T09:58:27.819Z"
   },
   {
    "duration": 50101,
    "start_time": "2023-10-18T09:58:27.984Z"
   },
   {
    "duration": 1656,
    "start_time": "2023-10-18T10:02:49.922Z"
   },
   {
    "duration": 998,
    "start_time": "2023-10-18T10:02:51.581Z"
   },
   {
    "duration": 51,
    "start_time": "2023-10-18T10:02:52.584Z"
   },
   {
    "duration": 35,
    "start_time": "2023-10-18T10:02:52.638Z"
   },
   {
    "duration": 21,
    "start_time": "2023-10-18T10:02:52.675Z"
   },
   {
    "duration": 109075,
    "start_time": "2023-10-18T10:02:52.698Z"
   },
   {
    "duration": 147,
    "start_time": "2023-10-18T10:04:41.775Z"
   },
   {
    "duration": 45060,
    "start_time": "2023-10-18T10:04:41.923Z"
   },
   {
    "duration": 408139,
    "start_time": "2023-10-18T10:05:26.986Z"
   },
   {
    "duration": 12598,
    "start_time": "2023-10-18T10:12:15.126Z"
   },
   {
    "duration": 10186688,
    "start_time": "2023-10-18T10:12:27.730Z"
   },
   {
    "duration": 1785,
    "start_time": "2023-10-18T13:07:53.897Z"
   },
   {
    "duration": 2329,
    "start_time": "2023-10-18T13:07:55.684Z"
   },
   {
    "duration": 32,
    "start_time": "2023-10-18T13:07:58.014Z"
   },
   {
    "duration": 27,
    "start_time": "2023-10-18T13:07:58.048Z"
   },
   {
    "duration": 32,
    "start_time": "2023-10-18T13:07:58.077Z"
   },
   {
    "duration": 92542,
    "start_time": "2023-10-18T13:07:58.271Z"
   },
   {
    "duration": 130,
    "start_time": "2023-10-18T13:09:30.816Z"
   },
   {
    "duration": 4,
    "start_time": "2023-10-18T13:19:47.793Z"
   },
   {
    "duration": 4,
    "start_time": "2023-10-18T13:20:33.379Z"
   },
   {
    "duration": 1634,
    "start_time": "2023-10-18T13:21:44.562Z"
   },
   {
    "duration": 2344,
    "start_time": "2023-10-18T13:21:46.199Z"
   },
   {
    "duration": 38,
    "start_time": "2023-10-18T13:21:48.544Z"
   },
   {
    "duration": 31,
    "start_time": "2023-10-18T13:21:48.584Z"
   },
   {
    "duration": 27,
    "start_time": "2023-10-18T13:21:48.617Z"
   },
   {
    "duration": 93321,
    "start_time": "2023-10-18T13:21:48.646Z"
   },
   {
    "duration": 114,
    "start_time": "2023-10-18T13:23:21.969Z"
   },
   {
    "duration": 1787,
    "start_time": "2023-10-18T13:24:29.845Z"
   },
   {
    "duration": 2246,
    "start_time": "2023-10-18T13:24:31.634Z"
   },
   {
    "duration": 33,
    "start_time": "2023-10-18T13:24:33.882Z"
   },
   {
    "duration": 49,
    "start_time": "2023-10-18T13:24:33.917Z"
   },
   {
    "duration": 36,
    "start_time": "2023-10-18T13:24:33.967Z"
   },
   {
    "duration": 94970,
    "start_time": "2023-10-18T13:24:34.005Z"
   },
   {
    "duration": 114,
    "start_time": "2023-10-18T13:26:08.977Z"
   },
   {
    "duration": 4943,
    "start_time": "2023-10-18T13:26:09.093Z"
   },
   {
    "duration": 137,
    "start_time": "2023-10-18T13:27:07.681Z"
   },
   {
    "duration": 17,
    "start_time": "2023-10-18T13:27:27.372Z"
   },
   {
    "duration": 1742,
    "start_time": "2023-10-18T13:28:07.992Z"
   },
   {
    "duration": 917,
    "start_time": "2023-10-18T13:28:09.736Z"
   },
   {
    "duration": 34,
    "start_time": "2023-10-18T13:28:10.654Z"
   },
   {
    "duration": 19,
    "start_time": "2023-10-18T13:28:10.690Z"
   },
   {
    "duration": 8,
    "start_time": "2023-10-18T13:28:10.710Z"
   },
   {
    "duration": 92264,
    "start_time": "2023-10-18T13:28:10.918Z"
   },
   {
    "duration": 116,
    "start_time": "2023-10-18T13:29:43.183Z"
   },
   {
    "duration": 5260,
    "start_time": "2023-10-18T13:29:43.306Z"
   },
   {
    "duration": 1560,
    "start_time": "2023-10-18T13:29:59.133Z"
   },
   {
    "duration": 166,
    "start_time": "2023-10-18T13:30:14.293Z"
   },
   {
    "duration": 1626,
    "start_time": "2023-10-18T13:31:13.925Z"
   },
   {
    "duration": 1011,
    "start_time": "2023-10-18T13:31:15.553Z"
   },
   {
    "duration": 42,
    "start_time": "2023-10-18T13:31:16.565Z"
   },
   {
    "duration": 12,
    "start_time": "2023-10-18T13:31:16.609Z"
   },
   {
    "duration": 9,
    "start_time": "2023-10-18T13:31:16.635Z"
   },
   {
    "duration": 93568,
    "start_time": "2023-10-18T13:31:18.070Z"
   },
   {
    "duration": 123,
    "start_time": "2023-10-18T13:32:51.641Z"
   },
   {
    "duration": 5008,
    "start_time": "2023-10-18T13:32:51.766Z"
   },
   {
    "duration": 1536,
    "start_time": "2023-10-18T13:32:56.775Z"
   },
   {
    "duration": 8076,
    "start_time": "2023-10-18T13:33:26.929Z"
   },
   {
    "duration": 141,
    "start_time": "2023-10-18T13:34:33.626Z"
   },
   {
    "duration": 71308,
    "start_time": "2023-10-18T13:35:08.392Z"
   },
   {
    "duration": 29,
    "start_time": "2023-10-18T13:36:48.074Z"
   },
   {
    "duration": 1609,
    "start_time": "2023-10-18T13:36:58.359Z"
   },
   {
    "duration": 953,
    "start_time": "2023-10-18T13:36:59.970Z"
   },
   {
    "duration": 36,
    "start_time": "2023-10-18T13:37:00.925Z"
   },
   {
    "duration": 133,
    "start_time": "2023-10-18T13:37:00.963Z"
   },
   {
    "duration": 121,
    "start_time": "2023-10-18T13:37:01.097Z"
   },
   {
    "duration": 93922,
    "start_time": "2023-10-18T13:37:01.419Z"
   },
   {
    "duration": 122,
    "start_time": "2023-10-18T13:38:35.343Z"
   },
   {
    "duration": 51,
    "start_time": "2023-10-18T13:40:59.321Z"
   },
   {
    "duration": 1922,
    "start_time": "2023-10-18T13:41:15.697Z"
   },
   {
    "duration": 2283,
    "start_time": "2023-10-18T13:41:17.621Z"
   },
   {
    "duration": 35,
    "start_time": "2023-10-18T13:41:19.906Z"
   },
   {
    "duration": 9,
    "start_time": "2023-10-18T13:41:19.943Z"
   },
   {
    "duration": 17,
    "start_time": "2023-10-18T13:41:19.953Z"
   },
   {
    "duration": 93856,
    "start_time": "2023-10-18T13:41:19.972Z"
   },
   {
    "duration": 135,
    "start_time": "2023-10-18T13:42:53.829Z"
   },
   {
    "duration": 4939,
    "start_time": "2023-10-18T13:42:53.965Z"
   },
   {
    "duration": 1593,
    "start_time": "2023-10-18T13:42:58.908Z"
   },
   {
    "duration": 131,
    "start_time": "2023-10-18T13:43:00.503Z"
   },
   {
    "duration": 118850,
    "start_time": "2023-10-18T13:43:07.372Z"
   },
   {
    "duration": 74206,
    "start_time": "2023-10-18T13:45:06.225Z"
   },
   {
    "duration": 30,
    "start_time": "2023-10-18T13:47:21.355Z"
   },
   {
    "duration": 57,
    "start_time": "2023-10-18T13:50:57.488Z"
   },
   {
    "duration": 1641,
    "start_time": "2023-10-18T13:59:53.716Z"
   },
   {
    "duration": 1044,
    "start_time": "2023-10-18T13:59:55.359Z"
   },
   {
    "duration": 35,
    "start_time": "2023-10-18T13:59:56.407Z"
   },
   {
    "duration": 25,
    "start_time": "2023-10-18T13:59:56.444Z"
   },
   {
    "duration": 10,
    "start_time": "2023-10-18T13:59:56.775Z"
   },
   {
    "duration": 96093,
    "start_time": "2023-10-18T13:59:58.387Z"
   },
   {
    "duration": 127,
    "start_time": "2023-10-18T14:01:34.482Z"
   },
   {
    "duration": 5233,
    "start_time": "2023-10-18T14:01:34.611Z"
   },
   {
    "duration": 1563,
    "start_time": "2023-10-18T14:01:39.846Z"
   },
   {
    "duration": 8448,
    "start_time": "2023-10-18T14:01:53.536Z"
   },
   {
    "duration": 1625,
    "start_time": "2023-10-18T14:18:12.763Z"
   },
   {
    "duration": 1010,
    "start_time": "2023-10-18T14:18:14.390Z"
   },
   {
    "duration": 33,
    "start_time": "2023-10-18T14:18:15.407Z"
   },
   {
    "duration": 28,
    "start_time": "2023-10-18T14:18:15.442Z"
   },
   {
    "duration": 43,
    "start_time": "2023-10-18T14:18:15.472Z"
   },
   {
    "duration": 93333,
    "start_time": "2023-10-18T14:18:15.517Z"
   },
   {
    "duration": 124,
    "start_time": "2023-10-18T14:19:48.851Z"
   },
   {
    "duration": 5035,
    "start_time": "2023-10-18T14:19:48.976Z"
   },
   {
    "duration": 1579,
    "start_time": "2023-10-18T14:19:54.012Z"
   },
   {
    "duration": 8223,
    "start_time": "2023-10-18T14:19:55.593Z"
   },
   {
    "duration": 1738,
    "start_time": "2023-10-18T14:28:44.473Z"
   },
   {
    "duration": 1015,
    "start_time": "2023-10-18T14:28:46.216Z"
   },
   {
    "duration": 38,
    "start_time": "2023-10-18T14:28:47.232Z"
   },
   {
    "duration": 8,
    "start_time": "2023-10-18T14:28:47.272Z"
   },
   {
    "duration": 29,
    "start_time": "2023-10-18T14:28:47.282Z"
   },
   {
    "duration": 91838,
    "start_time": "2023-10-18T14:28:47.313Z"
   },
   {
    "duration": 122,
    "start_time": "2023-10-18T14:30:19.153Z"
   },
   {
    "duration": 4927,
    "start_time": "2023-10-18T14:30:19.276Z"
   },
   {
    "duration": 1480,
    "start_time": "2023-10-18T14:30:24.205Z"
   },
   {
    "duration": 6873,
    "start_time": "2023-10-18T14:30:25.687Z"
   },
   {
    "duration": 720179,
    "start_time": "2023-10-18T14:30:32.562Z"
   },
   {
    "duration": 1846,
    "start_time": "2023-10-18T14:44:49.043Z"
   },
   {
    "duration": 2454,
    "start_time": "2023-10-18T14:44:50.891Z"
   },
   {
    "duration": 34,
    "start_time": "2023-10-18T14:44:53.347Z"
   },
   {
    "duration": 27,
    "start_time": "2023-10-18T14:44:53.382Z"
   },
   {
    "duration": 37,
    "start_time": "2023-10-18T14:44:53.411Z"
   },
   {
    "duration": 100084,
    "start_time": "2023-10-18T14:44:53.450Z"
   },
   {
    "duration": 135,
    "start_time": "2023-10-18T14:46:33.536Z"
   },
   {
    "duration": 5468,
    "start_time": "2023-10-18T14:46:33.673Z"
   },
   {
    "duration": 1693,
    "start_time": "2023-10-18T14:46:39.143Z"
   },
   {
    "duration": 7241,
    "start_time": "2023-10-18T14:46:40.837Z"
   },
   {
    "duration": 730563,
    "start_time": "2023-10-18T14:46:48.081Z"
   },
   {
    "duration": 1988,
    "start_time": "2023-10-18T15:01:12.688Z"
   },
   {
    "duration": 2569,
    "start_time": "2023-10-18T15:01:14.678Z"
   },
   {
    "duration": 37,
    "start_time": "2023-10-18T15:01:17.249Z"
   },
   {
    "duration": 17,
    "start_time": "2023-10-18T15:01:17.288Z"
   },
   {
    "duration": 32,
    "start_time": "2023-10-18T15:01:17.314Z"
   },
   {
    "duration": 105143,
    "start_time": "2023-10-18T15:01:17.348Z"
   },
   {
    "duration": 165,
    "start_time": "2023-10-18T15:03:02.493Z"
   },
   {
    "duration": 6030,
    "start_time": "2023-10-18T15:03:02.660Z"
   },
   {
    "duration": 1943,
    "start_time": "2023-10-18T15:03:08.692Z"
   },
   {
    "duration": 7952,
    "start_time": "2023-10-18T15:03:10.637Z"
   },
   {
    "duration": 1848,
    "start_time": "2023-10-18T15:05:44.937Z"
   },
   {
    "duration": 1642,
    "start_time": "2023-10-18T15:07:22.297Z"
   },
   {
    "duration": 2499,
    "start_time": "2023-10-18T15:07:23.941Z"
   },
   {
    "duration": 33,
    "start_time": "2023-10-18T15:07:26.442Z"
   },
   {
    "duration": 22,
    "start_time": "2023-10-18T15:07:26.478Z"
   },
   {
    "duration": 22,
    "start_time": "2023-10-18T15:07:26.503Z"
   },
   {
    "duration": 101659,
    "start_time": "2023-10-18T15:07:26.527Z"
   },
   {
    "duration": 146,
    "start_time": "2023-10-18T15:09:08.188Z"
   },
   {
    "duration": 5623,
    "start_time": "2023-10-18T15:09:08.336Z"
   },
   {
    "duration": 1660,
    "start_time": "2023-10-18T15:09:13.961Z"
   },
   {
    "duration": 9086,
    "start_time": "2023-10-18T15:09:15.626Z"
   },
   {
    "duration": 2596075,
    "start_time": "2023-10-18T15:09:24.715Z"
   },
   {
    "duration": 845039,
    "start_time": "2023-10-18T15:52:40.793Z"
   },
   {
    "duration": 3,
    "start_time": "2023-10-18T16:06:45.834Z"
   },
   {
    "duration": 19,
    "start_time": "2023-10-18T16:15:34.291Z"
   },
   {
    "duration": 19,
    "start_time": "2023-10-18T16:15:50.701Z"
   },
   {
    "duration": 8522,
    "start_time": "2023-10-18T17:02:54.618Z"
   },
   {
    "duration": 8463,
    "start_time": "2023-10-18T17:03:07.405Z"
   },
   {
    "duration": 141,
    "start_time": "2023-10-18T17:07:23.046Z"
   },
   {
    "duration": 125,
    "start_time": "2023-10-18T17:07:31.587Z"
   },
   {
    "duration": 104,
    "start_time": "2023-10-18T17:07:45.981Z"
   },
   {
    "duration": 135,
    "start_time": "2023-10-18T17:08:02.868Z"
   },
   {
    "duration": 1817,
    "start_time": "2023-10-18T17:10:44.084Z"
   },
   {
    "duration": 2516,
    "start_time": "2023-10-18T17:10:45.903Z"
   },
   {
    "duration": 32,
    "start_time": "2023-10-18T17:10:48.421Z"
   },
   {
    "duration": 8,
    "start_time": "2023-10-18T17:10:48.455Z"
   },
   {
    "duration": 11,
    "start_time": "2023-10-18T17:10:48.465Z"
   },
   {
    "duration": 96247,
    "start_time": "2023-10-18T17:10:48.478Z"
   },
   {
    "duration": 126,
    "start_time": "2023-10-18T17:12:24.727Z"
   },
   {
    "duration": 6599,
    "start_time": "2023-10-18T17:12:24.855Z"
   },
   {
    "duration": 8319,
    "start_time": "2023-10-18T17:12:31.456Z"
   },
   {
    "duration": 4499944,
    "start_time": "2023-10-18T17:12:39.777Z"
   },
   {
    "duration": 1571,
    "start_time": "2023-10-18T18:37:11.448Z"
   },
   {
    "duration": 2379,
    "start_time": "2023-10-18T18:37:13.021Z"
   },
   {
    "duration": 31,
    "start_time": "2023-10-18T18:37:15.401Z"
   },
   {
    "duration": 20,
    "start_time": "2023-10-18T18:37:15.434Z"
   },
   {
    "duration": 19,
    "start_time": "2023-10-18T18:37:15.456Z"
   },
   {
    "duration": 90037,
    "start_time": "2023-10-18T18:37:15.476Z"
   },
   {
    "duration": 117,
    "start_time": "2023-10-18T18:38:45.515Z"
   },
   {
    "duration": 6644,
    "start_time": "2023-10-18T18:38:45.634Z"
   },
   {
    "duration": 8398,
    "start_time": "2023-10-18T18:38:52.280Z"
   },
   {
    "duration": 212,
    "start_time": "2023-10-18T18:42:58.076Z"
   },
   {
    "duration": 78,
    "start_time": "2023-10-18T18:43:21.845Z"
   },
   {
    "duration": 117,
    "start_time": "2023-10-18T18:43:52.901Z"
   },
   {
    "duration": 1490,
    "start_time": "2023-10-18T18:44:08.090Z"
   },
   {
    "duration": 2331,
    "start_time": "2023-10-18T18:44:09.582Z"
   },
   {
    "duration": 31,
    "start_time": "2023-10-18T18:44:11.915Z"
   },
   {
    "duration": 7,
    "start_time": "2023-10-18T18:44:11.948Z"
   },
   {
    "duration": 11,
    "start_time": "2023-10-18T18:44:11.957Z"
   },
   {
    "duration": 88975,
    "start_time": "2023-10-18T18:44:11.970Z"
   },
   {
    "duration": 118,
    "start_time": "2023-10-18T18:45:40.946Z"
   },
   {
    "duration": 6507,
    "start_time": "2023-10-18T18:45:41.065Z"
   },
   {
    "duration": 7998,
    "start_time": "2023-10-18T18:45:47.573Z"
   },
   {
    "duration": 157617,
    "start_time": "2023-10-18T18:45:55.573Z"
   },
   {
    "duration": 1548,
    "start_time": "2023-10-18T19:00:28.305Z"
   },
   {
    "duration": 2402,
    "start_time": "2023-10-18T19:00:29.856Z"
   },
   {
    "duration": 33,
    "start_time": "2023-10-18T19:00:32.259Z"
   },
   {
    "duration": 51,
    "start_time": "2023-10-18T19:00:32.294Z"
   },
   {
    "duration": 11,
    "start_time": "2023-10-18T19:00:32.347Z"
   },
   {
    "duration": 90029,
    "start_time": "2023-10-18T19:00:32.361Z"
   },
   {
    "duration": 129,
    "start_time": "2023-10-18T19:02:02.391Z"
   },
   {
    "duration": 6721,
    "start_time": "2023-10-18T19:02:02.522Z"
   },
   {
    "duration": 7873,
    "start_time": "2023-10-18T19:02:09.245Z"
   },
   {
    "duration": 172409,
    "start_time": "2023-10-18T19:02:17.119Z"
   },
   {
    "duration": 1663,
    "start_time": "2023-10-18T19:06:06.356Z"
   },
   {
    "duration": 2366,
    "start_time": "2023-10-18T19:06:08.021Z"
   },
   {
    "duration": 33,
    "start_time": "2023-10-18T19:06:10.388Z"
   },
   {
    "duration": 15,
    "start_time": "2023-10-18T19:06:10.423Z"
   },
   {
    "duration": 8,
    "start_time": "2023-10-18T19:06:10.440Z"
   },
   {
    "duration": 90112,
    "start_time": "2023-10-18T19:06:10.449Z"
   },
   {
    "duration": 106,
    "start_time": "2023-10-18T19:07:40.562Z"
   },
   {
    "duration": 6275,
    "start_time": "2023-10-18T19:07:40.670Z"
   },
   {
    "duration": 7879,
    "start_time": "2023-10-18T19:07:46.947Z"
   },
   {
    "duration": 1633,
    "start_time": "2023-10-19T07:19:31.914Z"
   },
   {
    "duration": 2210,
    "start_time": "2023-10-19T07:19:33.550Z"
   },
   {
    "duration": 23,
    "start_time": "2023-10-19T07:19:35.762Z"
   },
   {
    "duration": 13,
    "start_time": "2023-10-19T07:19:35.787Z"
   },
   {
    "duration": 10,
    "start_time": "2023-10-19T07:19:35.801Z"
   },
   {
    "duration": 85662,
    "start_time": "2023-10-19T07:19:36.778Z"
   },
   {
    "duration": 81,
    "start_time": "2023-10-19T07:21:18.448Z"
   },
   {
    "duration": 6145,
    "start_time": "2023-10-19T07:21:21.540Z"
   },
   {
    "duration": 7784,
    "start_time": "2023-10-19T07:21:27.687Z"
   },
   {
    "duration": 121,
    "start_time": "2023-10-19T07:22:07.585Z"
   },
   {
    "duration": 1454,
    "start_time": "2023-10-19T07:22:19.635Z"
   },
   {
    "duration": 880,
    "start_time": "2023-10-19T07:22:21.091Z"
   },
   {
    "duration": 25,
    "start_time": "2023-10-19T07:22:21.973Z"
   },
   {
    "duration": 29,
    "start_time": "2023-10-19T07:22:22.000Z"
   },
   {
    "duration": 17,
    "start_time": "2023-10-19T07:22:22.031Z"
   },
   {
    "duration": 88738,
    "start_time": "2023-10-19T07:22:22.050Z"
   },
   {
    "duration": 91,
    "start_time": "2023-10-19T07:23:50.789Z"
   },
   {
    "duration": 6017,
    "start_time": "2023-10-19T07:23:50.882Z"
   },
   {
    "duration": 8663,
    "start_time": "2023-10-19T07:23:56.900Z"
   },
   {
    "duration": 8363,
    "start_time": "2023-10-19T07:27:30.007Z"
   },
   {
    "duration": 8165,
    "start_time": "2023-10-19T07:27:48.303Z"
   },
   {
    "duration": 8182,
    "start_time": "2023-10-19T07:28:02.577Z"
   },
   {
    "duration": 8183,
    "start_time": "2023-10-19T07:28:16.776Z"
   },
   {
    "duration": 8196,
    "start_time": "2023-10-19T07:28:33.152Z"
   },
   {
    "duration": 127,
    "start_time": "2023-10-19T07:29:15.862Z"
   },
   {
    "duration": 1427,
    "start_time": "2023-10-19T07:29:23.123Z"
   },
   {
    "duration": 871,
    "start_time": "2023-10-19T07:29:24.551Z"
   },
   {
    "duration": 23,
    "start_time": "2023-10-19T07:29:25.423Z"
   },
   {
    "duration": 6,
    "start_time": "2023-10-19T07:29:25.447Z"
   },
   {
    "duration": 19,
    "start_time": "2023-10-19T07:29:25.455Z"
   },
   {
    "duration": 88083,
    "start_time": "2023-10-19T07:29:25.476Z"
   },
   {
    "duration": 91,
    "start_time": "2023-10-19T07:30:53.561Z"
   },
   {
    "duration": 6462,
    "start_time": "2023-10-19T07:30:53.654Z"
   },
   {
    "duration": 8354,
    "start_time": "2023-10-19T07:31:00.118Z"
   },
   {
    "duration": 1140284,
    "start_time": "2023-10-19T07:31:08.473Z"
   },
   {
    "duration": 2462533,
    "start_time": "2023-10-19T07:50:08.762Z"
   },
   {
    "duration": 3,
    "start_time": "2023-10-19T08:31:11.297Z"
   },
   {
    "duration": 11,
    "start_time": "2023-10-19T08:32:14.941Z"
   },
   {
    "duration": 137,
    "start_time": "2023-10-19T08:33:45.038Z"
   },
   {
    "duration": 999,
    "start_time": "2023-10-19T08:34:23.681Z"
   },
   {
    "duration": 133,
    "start_time": "2023-10-19T08:35:25.770Z"
   },
   {
    "duration": 192,
    "start_time": "2023-10-19T08:35:32.332Z"
   },
   {
    "duration": 10,
    "start_time": "2023-10-19T08:36:23.913Z"
   },
   {
    "duration": 208,
    "start_time": "2023-10-19T08:36:40.409Z"
   },
   {
    "duration": 200,
    "start_time": "2023-10-19T08:38:49.587Z"
   },
   {
    "duration": 1282,
    "start_time": "2023-10-19T08:39:19.005Z"
   },
   {
    "duration": 1306,
    "start_time": "2023-10-19T08:39:46.194Z"
   },
   {
    "duration": 1288,
    "start_time": "2023-10-19T08:39:50.919Z"
   },
   {
    "duration": 151,
    "start_time": "2023-10-19T08:40:11.858Z"
   },
   {
    "duration": 124,
    "start_time": "2023-10-19T08:40:33.292Z"
   },
   {
    "duration": 217,
    "start_time": "2023-10-19T08:41:39.355Z"
   },
   {
    "duration": 188,
    "start_time": "2023-10-19T08:41:59.865Z"
   },
   {
    "duration": 166,
    "start_time": "2023-10-19T08:43:03.863Z"
   },
   {
    "duration": 172,
    "start_time": "2023-10-19T08:43:26.549Z"
   },
   {
    "duration": 130,
    "start_time": "2023-10-19T08:45:59.594Z"
   },
   {
    "duration": 211,
    "start_time": "2023-10-19T08:46:13.576Z"
   },
   {
    "duration": 192,
    "start_time": "2023-10-19T08:46:49.866Z"
   },
   {
    "duration": 203,
    "start_time": "2023-10-19T08:47:03.324Z"
   },
   {
    "duration": 124,
    "start_time": "2023-10-19T08:49:15.901Z"
   },
   {
    "duration": 228,
    "start_time": "2023-10-19T08:49:26.450Z"
   },
   {
    "duration": 203,
    "start_time": "2023-10-19T08:49:44.161Z"
   },
   {
    "duration": 10,
    "start_time": "2023-10-19T08:50:00.079Z"
   },
   {
    "duration": 198,
    "start_time": "2023-10-19T08:50:08.231Z"
   },
   {
    "duration": 755,
    "start_time": "2023-10-19T08:50:30.507Z"
   },
   {
    "duration": 507,
    "start_time": "2023-10-19T08:51:27.877Z"
   },
   {
    "duration": 214,
    "start_time": "2023-10-19T08:52:02.699Z"
   },
   {
    "duration": 11,
    "start_time": "2023-10-19T08:53:57.690Z"
   },
   {
    "duration": 126,
    "start_time": "2023-10-19T08:54:04.197Z"
   },
   {
    "duration": 154,
    "start_time": "2023-10-19T15:01:10.182Z"
   },
   {
    "duration": 1758,
    "start_time": "2023-10-19T15:29:02.646Z"
   },
   {
    "duration": 5,
    "start_time": "2023-10-19T15:29:11.222Z"
   },
   {
    "duration": 87,
    "start_time": "2023-10-19T15:46:27.319Z"
   },
   {
    "duration": 1544,
    "start_time": "2023-10-19T15:46:38.676Z"
   },
   {
    "duration": 2399,
    "start_time": "2023-10-19T15:46:40.222Z"
   },
   {
    "duration": 32,
    "start_time": "2023-10-19T15:46:42.623Z"
   },
   {
    "duration": 9,
    "start_time": "2023-10-19T15:46:42.657Z"
   },
   {
    "duration": 11,
    "start_time": "2023-10-19T15:46:42.668Z"
   },
   {
    "duration": 112,
    "start_time": "2023-10-19T15:46:44.676Z"
   },
   {
    "duration": 14,
    "start_time": "2023-10-19T15:46:54.638Z"
   },
   {
    "duration": 27,
    "start_time": "2023-10-19T15:47:11.635Z"
   },
   {
    "duration": 489,
    "start_time": "2023-10-19T15:47:55.190Z"
   },
   {
    "duration": 504839,
    "start_time": "2023-10-19T15:48:00.336Z"
   },
   {
    "duration": 12,
    "start_time": "2023-10-19T16:03:44.571Z"
   },
   {
    "duration": 6,
    "start_time": "2023-10-19T16:03:52.329Z"
   },
   {
    "duration": 46,
    "start_time": "2023-10-19T16:08:11.782Z"
   },
   {
    "duration": 14,
    "start_time": "2023-10-19T16:09:08.355Z"
   },
   {
    "duration": 16,
    "start_time": "2023-10-19T16:10:57.376Z"
   },
   {
    "duration": 11,
    "start_time": "2023-10-19T16:11:04.434Z"
   },
   {
    "duration": 5,
    "start_time": "2023-10-19T16:11:09.366Z"
   },
   {
    "duration": 13,
    "start_time": "2023-10-19T16:11:14.316Z"
   },
   {
    "duration": 13,
    "start_time": "2023-10-19T16:15:02.874Z"
   },
   {
    "duration": 12,
    "start_time": "2023-10-19T16:17:42.467Z"
   },
   {
    "duration": 12,
    "start_time": "2023-10-19T16:18:07.840Z"
   },
   {
    "duration": 1620,
    "start_time": "2023-10-19T16:22:31.500Z"
   },
   {
    "duration": 988,
    "start_time": "2023-10-19T16:22:33.122Z"
   },
   {
    "duration": 31,
    "start_time": "2023-10-19T16:22:34.112Z"
   },
   {
    "duration": 7,
    "start_time": "2023-10-19T16:22:34.375Z"
   },
   {
    "duration": 8,
    "start_time": "2023-10-19T16:22:34.912Z"
   },
   {
    "duration": 116,
    "start_time": "2023-10-19T16:22:36.712Z"
   },
   {
    "duration": 1619,
    "start_time": "2023-10-19T16:26:07.519Z"
   },
   {
    "duration": 964,
    "start_time": "2023-10-19T16:26:09.140Z"
   },
   {
    "duration": 35,
    "start_time": "2023-10-19T16:26:10.106Z"
   },
   {
    "duration": 8,
    "start_time": "2023-10-19T16:26:10.443Z"
   },
   {
    "duration": 8,
    "start_time": "2023-10-19T16:26:11.083Z"
   },
   {
    "duration": 1550,
    "start_time": "2023-10-19T16:27:31.962Z"
   },
   {
    "duration": 913,
    "start_time": "2023-10-19T16:27:33.514Z"
   },
   {
    "duration": 31,
    "start_time": "2023-10-19T16:27:34.429Z"
   },
   {
    "duration": 7,
    "start_time": "2023-10-19T16:27:34.613Z"
   },
   {
    "duration": 8,
    "start_time": "2023-10-19T16:27:35.129Z"
   },
   {
    "duration": 153,
    "start_time": "2023-10-19T16:27:36.921Z"
   },
   {
    "duration": 32,
    "start_time": "2023-10-19T16:28:18.695Z"
   },
   {
    "duration": 4,
    "start_time": "2023-10-19T16:28:41.907Z"
   },
   {
    "duration": 31,
    "start_time": "2023-10-19T16:29:36.137Z"
   },
   {
    "duration": 1595,
    "start_time": "2023-10-19T16:31:25.015Z"
   },
   {
    "duration": 930,
    "start_time": "2023-10-19T16:31:26.612Z"
   },
   {
    "duration": 32,
    "start_time": "2023-10-19T16:31:27.544Z"
   },
   {
    "duration": 16,
    "start_time": "2023-10-19T16:31:27.578Z"
   },
   {
    "duration": 8,
    "start_time": "2023-10-19T16:31:27.956Z"
   },
   {
    "duration": 1676,
    "start_time": "2023-10-19T16:33:30.983Z"
   },
   {
    "duration": 922,
    "start_time": "2023-10-19T16:33:32.661Z"
   },
   {
    "duration": 33,
    "start_time": "2023-10-19T16:33:33.584Z"
   },
   {
    "duration": 7,
    "start_time": "2023-10-19T16:33:33.793Z"
   },
   {
    "duration": 8,
    "start_time": "2023-10-19T16:33:34.564Z"
   },
   {
    "duration": 113,
    "start_time": "2023-10-19T16:33:36.667Z"
   },
   {
    "duration": 2676,
    "start_time": "2023-10-19T18:14:37.498Z"
   },
   {
    "duration": 2613,
    "start_time": "2023-10-19T18:14:40.175Z"
   },
   {
    "duration": 31,
    "start_time": "2023-10-19T18:14:43.556Z"
   },
   {
    "duration": 8,
    "start_time": "2023-10-19T18:14:44.896Z"
   },
   {
    "duration": 8,
    "start_time": "2023-10-19T18:14:45.530Z"
   },
   {
    "duration": 650446,
    "start_time": "2023-10-19T18:14:47.360Z"
   },
   {
    "duration": 141,
    "start_time": "2023-10-19T18:25:37.808Z"
   },
   {
    "duration": 0,
    "start_time": "2023-10-19T18:25:37.959Z"
   },
   {
    "duration": 0,
    "start_time": "2023-10-19T18:25:37.960Z"
   },
   {
    "duration": 0,
    "start_time": "2023-10-19T18:25:37.961Z"
   },
   {
    "duration": 9,
    "start_time": "2023-10-19T18:27:34.252Z"
   },
   {
    "duration": 1743,
    "start_time": "2023-10-19T18:28:35.656Z"
   },
   {
    "duration": 1010,
    "start_time": "2023-10-19T18:28:37.402Z"
   },
   {
    "duration": 38,
    "start_time": "2023-10-19T18:28:38.414Z"
   },
   {
    "duration": 13,
    "start_time": "2023-10-19T18:28:38.456Z"
   },
   {
    "duration": 24,
    "start_time": "2023-10-19T18:28:38.472Z"
   },
   {
    "duration": 1742,
    "start_time": "2023-10-19T18:32:00.727Z"
   },
   {
    "duration": 1040,
    "start_time": "2023-10-19T18:32:02.471Z"
   },
   {
    "duration": 49,
    "start_time": "2023-10-19T18:32:03.513Z"
   },
   {
    "duration": 13,
    "start_time": "2023-10-19T18:32:03.568Z"
   },
   {
    "duration": 48,
    "start_time": "2023-10-19T18:32:03.583Z"
   },
   {
    "duration": 617732,
    "start_time": "2023-10-19T18:32:03.633Z"
   },
   {
    "duration": 5,
    "start_time": "2023-10-19T18:42:21.367Z"
   },
   {
    "duration": 1838,
    "start_time": "2023-10-19T18:46:05.940Z"
   },
   {
    "duration": 1063,
    "start_time": "2023-10-19T18:46:07.779Z"
   },
   {
    "duration": 45,
    "start_time": "2023-10-19T18:46:08.845Z"
   },
   {
    "duration": 16,
    "start_time": "2023-10-19T18:46:08.892Z"
   },
   {
    "duration": 14,
    "start_time": "2023-10-19T18:46:08.911Z"
   },
   {
    "duration": 1606,
    "start_time": "2023-10-19T18:47:09.372Z"
   },
   {
    "duration": 1001,
    "start_time": "2023-10-19T18:47:10.980Z"
   },
   {
    "duration": 32,
    "start_time": "2023-10-19T18:47:11.983Z"
   },
   {
    "duration": 27,
    "start_time": "2023-10-19T18:47:12.017Z"
   },
   {
    "duration": 23,
    "start_time": "2023-10-19T18:47:12.047Z"
   },
   {
    "duration": 597680,
    "start_time": "2023-10-19T18:47:12.072Z"
   },
   {
    "duration": 7,
    "start_time": "2023-10-19T18:57:09.756Z"
   },
   {
    "duration": 94,
    "start_time": "2023-10-19T18:57:09.765Z"
   },
   {
    "duration": 277,
    "start_time": "2023-10-19T18:57:09.861Z"
   },
   {
    "duration": 0,
    "start_time": "2023-10-19T18:57:10.141Z"
   },
   {
    "duration": 0,
    "start_time": "2023-10-19T18:57:10.142Z"
   },
   {
    "duration": 0,
    "start_time": "2023-10-19T18:57:10.144Z"
   },
   {
    "duration": 0,
    "start_time": "2023-10-19T18:57:10.149Z"
   },
   {
    "duration": 0,
    "start_time": "2023-10-19T18:57:10.150Z"
   },
   {
    "duration": 7,
    "start_time": "2023-10-19T18:59:07.010Z"
   },
   {
    "duration": 7,
    "start_time": "2023-10-19T18:59:24.160Z"
   },
   {
    "duration": 14,
    "start_time": "2023-10-19T18:59:31.942Z"
   },
   {
    "duration": 7,
    "start_time": "2023-10-19T19:00:36.156Z"
   },
   {
    "duration": 9,
    "start_time": "2023-10-19T19:01:13.763Z"
   },
   {
    "duration": 10,
    "start_time": "2023-10-19T19:02:46.243Z"
   },
   {
    "duration": 7,
    "start_time": "2023-10-19T19:02:59.008Z"
   },
   {
    "duration": 13,
    "start_time": "2023-10-19T19:03:40.445Z"
   },
   {
    "duration": 6,
    "start_time": "2023-10-19T19:04:01.668Z"
   },
   {
    "duration": 7,
    "start_time": "2023-10-19T19:04:39.420Z"
   },
   {
    "duration": 8,
    "start_time": "2023-10-19T19:05:08.025Z"
   },
   {
    "duration": 7,
    "start_time": "2023-10-19T19:05:23.515Z"
   },
   {
    "duration": 8,
    "start_time": "2023-10-19T19:06:07.562Z"
   },
   {
    "duration": 8,
    "start_time": "2023-10-19T19:06:39.081Z"
   },
   {
    "duration": 11,
    "start_time": "2023-10-19T19:07:04.767Z"
   },
   {
    "duration": 13,
    "start_time": "2023-10-19T19:07:24.779Z"
   },
   {
    "duration": 11,
    "start_time": "2023-10-19T19:09:30.913Z"
   },
   {
    "duration": 11,
    "start_time": "2023-10-19T19:09:36.895Z"
   },
   {
    "duration": 2072,
    "start_time": "2023-10-20T10:47:41.699Z"
   },
   {
    "duration": 3565,
    "start_time": "2023-10-20T10:47:43.773Z"
   },
   {
    "duration": 37,
    "start_time": "2023-10-20T10:47:47.340Z"
   },
   {
    "duration": 8,
    "start_time": "2023-10-20T10:47:47.379Z"
   },
   {
    "duration": 8,
    "start_time": "2023-10-20T10:47:47.389Z"
   },
   {
    "duration": 1620,
    "start_time": "2023-10-20T10:47:56.763Z"
   },
   {
    "duration": 7,
    "start_time": "2023-10-20T10:48:09.143Z"
   },
   {
    "duration": 6,
    "start_time": "2023-10-20T10:49:31.086Z"
   },
   {
    "duration": 6,
    "start_time": "2023-10-20T10:49:32.509Z"
   },
   {
    "duration": 6,
    "start_time": "2023-10-20T10:49:40.469Z"
   },
   {
    "duration": 5,
    "start_time": "2023-10-20T10:49:41.907Z"
   },
   {
    "duration": 6,
    "start_time": "2023-10-20T10:50:14.959Z"
   },
   {
    "duration": 5,
    "start_time": "2023-10-20T10:50:15.450Z"
   },
   {
    "duration": 6,
    "start_time": "2023-10-20T10:50:28.881Z"
   },
   {
    "duration": 6,
    "start_time": "2023-10-20T10:50:46.393Z"
   },
   {
    "duration": 6,
    "start_time": "2023-10-20T10:50:50.567Z"
   },
   {
    "duration": 5,
    "start_time": "2023-10-20T10:52:06.675Z"
   },
   {
    "duration": 5,
    "start_time": "2023-10-20T10:52:18.494Z"
   },
   {
    "duration": 6,
    "start_time": "2023-10-20T10:52:20.066Z"
   },
   {
    "duration": 6,
    "start_time": "2023-10-20T10:53:19.575Z"
   },
   {
    "duration": 5,
    "start_time": "2023-10-20T10:53:20.076Z"
   },
   {
    "duration": 6,
    "start_time": "2023-10-20T10:53:43.968Z"
   },
   {
    "duration": 5,
    "start_time": "2023-10-20T10:53:44.282Z"
   },
   {
    "duration": 7,
    "start_time": "2023-10-20T10:54:06.224Z"
   },
   {
    "duration": 133,
    "start_time": "2023-10-20T10:54:06.698Z"
   },
   {
    "duration": 6,
    "start_time": "2023-10-20T10:54:21.679Z"
   },
   {
    "duration": 16,
    "start_time": "2023-10-20T10:54:21.987Z"
   },
   {
    "duration": 6,
    "start_time": "2023-10-20T10:55:32.138Z"
   },
   {
    "duration": 5,
    "start_time": "2023-10-20T10:55:32.737Z"
   },
   {
    "duration": 6,
    "start_time": "2023-10-20T10:55:56.693Z"
   },
   {
    "duration": 6,
    "start_time": "2023-10-20T10:55:57.043Z"
   },
   {
    "duration": 6,
    "start_time": "2023-10-20T10:57:38.778Z"
   },
   {
    "duration": 5,
    "start_time": "2023-10-20T10:57:39.104Z"
   },
   {
    "duration": 6,
    "start_time": "2023-10-20T10:59:37.820Z"
   },
   {
    "duration": 5,
    "start_time": "2023-10-20T10:59:38.186Z"
   },
   {
    "duration": 6,
    "start_time": "2023-10-20T10:59:45.576Z"
   },
   {
    "duration": 6,
    "start_time": "2023-10-20T10:59:45.941Z"
   },
   {
    "duration": 6,
    "start_time": "2023-10-20T11:00:53.505Z"
   },
   {
    "duration": 5,
    "start_time": "2023-10-20T11:00:53.857Z"
   },
   {
    "duration": 7,
    "start_time": "2023-10-20T11:00:57.966Z"
   },
   {
    "duration": 6,
    "start_time": "2023-10-20T11:00:58.319Z"
   },
   {
    "duration": 6,
    "start_time": "2023-10-20T11:02:38.580Z"
   },
   {
    "duration": 6,
    "start_time": "2023-10-20T11:02:39.010Z"
   },
   {
    "duration": 6,
    "start_time": "2023-10-20T11:02:47.613Z"
   },
   {
    "duration": 5,
    "start_time": "2023-10-20T11:02:48.088Z"
   },
   {
    "duration": 8,
    "start_time": "2023-10-20T11:03:40.808Z"
   },
   {
    "duration": 79,
    "start_time": "2023-10-20T11:13:19.231Z"
   },
   {
    "duration": 1911,
    "start_time": "2023-10-20T11:13:40.328Z"
   },
   {
    "duration": 1134,
    "start_time": "2023-10-20T11:13:42.242Z"
   },
   {
    "duration": 39,
    "start_time": "2023-10-20T11:13:43.378Z"
   },
   {
    "duration": 9,
    "start_time": "2023-10-20T11:13:43.420Z"
   },
   {
    "duration": 35,
    "start_time": "2023-10-20T11:13:43.432Z"
   },
   {
    "duration": 619768,
    "start_time": "2023-10-20T11:13:43.469Z"
   },
   {
    "duration": 20,
    "start_time": "2023-10-20T11:24:03.240Z"
   },
   {
    "duration": 97,
    "start_time": "2023-10-20T11:24:03.262Z"
   },
   {
    "duration": 5351,
    "start_time": "2023-10-20T11:24:03.361Z"
   },
   {
    "duration": 69,
    "start_time": "2023-10-20T11:24:08.714Z"
   },
   {
    "duration": 0,
    "start_time": "2023-10-20T11:24:08.785Z"
   },
   {
    "duration": 0,
    "start_time": "2023-10-20T11:24:08.786Z"
   },
   {
    "duration": 0,
    "start_time": "2023-10-20T11:24:08.787Z"
   },
   {
    "duration": 216,
    "start_time": "2023-10-20T11:24:42.689Z"
   },
   {
    "duration": 151,
    "start_time": "2023-10-20T11:25:23.882Z"
   },
   {
    "duration": 5427,
    "start_time": "2023-10-20T11:26:04.618Z"
   },
   {
    "duration": 126,
    "start_time": "2023-10-20T11:26:10.048Z"
   },
   {
    "duration": 1833,
    "start_time": "2023-10-20T11:28:11.717Z"
   },
   {
    "duration": 1155,
    "start_time": "2023-10-20T11:28:13.553Z"
   },
   {
    "duration": 55,
    "start_time": "2023-10-20T11:28:14.710Z"
   },
   {
    "duration": 13,
    "start_time": "2023-10-20T11:28:14.767Z"
   },
   {
    "duration": 15,
    "start_time": "2023-10-20T11:28:14.784Z"
   },
   {
    "duration": 620429,
    "start_time": "2023-10-20T11:28:14.801Z"
   },
   {
    "duration": 6,
    "start_time": "2023-10-20T11:38:35.232Z"
   },
   {
    "duration": 127,
    "start_time": "2023-10-20T11:38:35.256Z"
   },
   {
    "duration": 5374,
    "start_time": "2023-10-20T11:38:35.385Z"
   },
   {
    "duration": 224,
    "start_time": "2023-10-20T11:38:40.761Z"
   },
   {
    "duration": 56,
    "start_time": "2023-10-20T11:38:40.987Z"
   },
   {
    "duration": 0,
    "start_time": "2023-10-20T11:38:41.045Z"
   },
   {
    "duration": 0,
    "start_time": "2023-10-20T11:38:41.046Z"
   },
   {
    "duration": 105,
    "start_time": "2023-10-20T11:45:24.384Z"
   },
   {
    "duration": 85,
    "start_time": "2023-10-20T11:45:28.296Z"
   },
   {
    "duration": 93,
    "start_time": "2023-10-20T11:45:32.702Z"
   },
   {
    "duration": 7517,
    "start_time": "2023-10-20T11:46:39.130Z"
   },
   {
    "duration": 34124,
    "start_time": "2023-10-20T11:46:50.198Z"
   },
   {
    "duration": 52,
    "start_time": "2023-10-20T11:47:32.848Z"
   },
   {
    "duration": 391885,
    "start_time": "2023-10-20T11:47:47.818Z"
   },
   {
    "duration": 48,
    "start_time": "2023-10-20T11:55:54.829Z"
   },
   {
    "duration": 1865,
    "start_time": "2023-10-20T12:21:03.980Z"
   },
   {
    "duration": 1123,
    "start_time": "2023-10-20T12:21:05.848Z"
   },
   {
    "duration": 42,
    "start_time": "2023-10-20T12:21:06.973Z"
   },
   {
    "duration": 77,
    "start_time": "2023-10-20T12:21:07.018Z"
   },
   {
    "duration": 25,
    "start_time": "2023-10-20T12:21:07.097Z"
   },
   {
    "duration": 628533,
    "start_time": "2023-10-20T12:21:07.124Z"
   },
   {
    "duration": 5,
    "start_time": "2023-10-20T12:31:35.660Z"
   },
   {
    "duration": 96,
    "start_time": "2023-10-20T12:31:35.667Z"
   },
   {
    "duration": 5374,
    "start_time": "2023-10-20T12:31:35.765Z"
   },
   {
    "duration": 34274,
    "start_time": "2023-10-20T12:31:41.142Z"
   },
   {
    "duration": 1837913,
    "start_time": "2023-10-20T12:32:15.418Z"
   },
   {
    "duration": 4602740,
    "start_time": "2023-10-20T13:02:53.333Z"
   },
   {
    "duration": 12,
    "start_time": "2023-10-20T14:19:36.075Z"
   },
   {
    "duration": 10,
    "start_time": "2023-10-20T14:27:43.880Z"
   },
   {
    "duration": 144,
    "start_time": "2023-10-20T14:31:27.814Z"
   },
   {
    "duration": 21,
    "start_time": "2023-10-20T14:31:37.085Z"
   },
   {
    "duration": 0,
    "start_time": "2023-10-20T14:39:49.335Z"
   },
   {
    "duration": 65,
    "start_time": "2023-10-20T14:40:46.742Z"
   },
   {
    "duration": 1815,
    "start_time": "2023-10-20T14:41:37.004Z"
   },
   {
    "duration": 1202,
    "start_time": "2023-10-20T14:41:38.822Z"
   },
   {
    "duration": 52,
    "start_time": "2023-10-20T14:41:40.026Z"
   },
   {
    "duration": 38,
    "start_time": "2023-10-20T14:41:40.080Z"
   },
   {
    "duration": 16,
    "start_time": "2023-10-20T14:41:40.120Z"
   },
   {
    "duration": 665197,
    "start_time": "2023-10-20T14:41:40.138Z"
   },
   {
    "duration": 31,
    "start_time": "2023-10-20T14:52:45.337Z"
   },
   {
    "duration": 118,
    "start_time": "2023-10-20T14:52:45.373Z"
   },
   {
    "duration": 7021,
    "start_time": "2023-10-20T14:52:45.493Z"
   },
   {
    "duration": 45138,
    "start_time": "2023-10-20T14:52:52.516Z"
   },
   {
    "duration": 1251306,
    "start_time": "2023-10-20T14:53:37.657Z"
   },
   {
    "duration": 5587445,
    "start_time": "2023-10-20T15:14:28.966Z"
   },
   {
    "duration": 11,
    "start_time": "2023-10-20T16:47:36.412Z"
   },
   {
    "duration": 497246,
    "start_time": "2023-10-20T16:47:36.426Z"
   },
   {
    "duration": 10024,
    "start_time": "2023-10-20T16:56:04.095Z"
   }
  ],
  "kernelspec": {
   "display_name": "Python 3 (ipykernel)",
   "language": "python",
   "name": "python3"
  },
  "language_info": {
   "codemirror_mode": {
    "name": "ipython",
    "version": 3
   },
   "file_extension": ".py",
   "mimetype": "text/x-python",
   "name": "python",
   "nbconvert_exporter": "python",
   "pygments_lexer": "ipython3",
   "version": "3.11.3"
  },
  "toc": {
   "base_numbering": 1,
   "nav_menu": {},
   "number_sections": true,
   "sideBar": true,
   "skip_h1_title": true,
   "title_cell": "Содержание",
   "title_sidebar": "Contents",
   "toc_cell": true,
   "toc_position": {
    "height": "calc(100% - 180px)",
    "left": "10px",
    "top": "150px",
    "width": "302.391px"
   },
   "toc_section_display": true,
   "toc_window_display": false
  }
 },
 "nbformat": 4,
 "nbformat_minor": 2
}
